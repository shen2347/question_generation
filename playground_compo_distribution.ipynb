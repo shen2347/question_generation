{
 "cells": [
  {
   "cell_type": "code",
   "execution_count": 1,
   "metadata": {},
   "outputs": [],
   "source": [
    "import json\n",
    "import pickle\n",
    "import pandas as pd\n"
   ]
  },
  {
   "cell_type": "code",
   "execution_count": 2,
   "metadata": {},
   "outputs": [],
   "source": [
    "with open('../data/stsgs/test_stsgs.pkl', 'rb') as f:\n",
    "    test_stsgs = pickle.load(f)\n",
    "    \n",
    "with open('../data/stsgs/train_stsgs.pkl', 'rb') as f:\n",
    "    train_stsgs = pickle.load(f)"
   ]
  },
  {
   "cell_type": "markdown",
   "metadata": {},
   "source": [
    "# Ok i need to take a break. Here are the problems \n",
    "1. Getting different numbers from the emailer, not sure how they got theirs\n",
    "2. It seems like i didnt re upload the compo thign!\n",
    "3. Both the compo on the website and on my computer have keys that are not in the test set, even though the one on my computer was updated on the 29th. Plus they are a largey different set of keys which is weird"
   ]
  },
  {
   "cell_type": "code",
   "execution_count": 8,
   "metadata": {},
   "outputs": [],
   "source": [
    "# 6 is camera ready results\n",
    "# 7 is current online version there\n",
    "\n",
    "with open('../../../Downloads/AGQA_balanced 6/test_balanced.txt', 'rb') as f:\n",
    "    arxiv_test = json.load(f)\n",
    "    \n",
    "with open('../../../Downloads/AGQA_balanced 7/test_balanced.txt', 'rb') as f:\n",
    "    drive_test = json.load(f)\n",
    "    \n",
    "drive_csv = pd.read_csv('../../../Downloads/novel compositions/test-balanced-tgif-compo.csv')\n",
    "keys_csv = drive_csv['key'].values\n"
   ]
  },
  {
   "cell_type": "code",
   "execution_count": 80,
   "metadata": {},
   "outputs": [],
   "source": [
    "local_csv = pd.read_csv('../exports/dataset_fixed/other_formats/compo/test-balanced-tgif-compo.csv')\n",
    "\n",
    "keys_local = local_csv['key'].values"
   ]
  },
  {
   "cell_type": "code",
   "execution_count": 57,
   "metadata": {},
   "outputs": [],
   "source": [
    "def getCompoCounts(test, keys=None):\n",
    "    cnts = {\n",
    "     'novel_comp': 0,\n",
    "     'nc_seq': 0,\n",
    "     'nc_sup': 0,\n",
    "     'nc_dur': 0,\n",
    "     'nc_objrel': 0,}\n",
    "    \n",
    "    if keys == None:\n",
    "        for i in test:\n",
    "            q = test[i]\n",
    "            for j in cnts:\n",
    "                cnts[j] += q[j]\n",
    "    else:\n",
    "        for k in test:\n",
    "            if k in keys:\n",
    "                q = keys[k]\n",
    "                for j in cnts:\n",
    "                    cnts[j] += q[j]\n",
    "    return cnts\n",
    "\n",
    "def getMissing(thing1, thing2):\n",
    "    missing = []\n",
    "    not_missing = []\n",
    "    for i in thing1:\n",
    "        if i not in thing2:\n",
    "            missing.append(i)\n",
    "        else:\n",
    "            not_missing.append(i)\n",
    "            \n",
    "    return missing, not_missing"
   ]
  },
  {
   "cell_type": "code",
   "execution_count": 58,
   "metadata": {},
   "outputs": [],
   "source": [
    "arxiv_counts = getCompoCounts(arxiv_test)\n",
    "drive_counts = getCompoCounts(drive_test)\n",
    "csv_counts = getCompoCounts(keys_csv, keys=arxiv_test)\n",
    "local_counts = getCompoCounts(keys_local, keys=arxiv_test)"
   ]
  },
  {
   "cell_type": "code",
   "execution_count": 60,
   "metadata": {},
   "outputs": [
    {
     "ename": "KeyboardInterrupt",
     "evalue": "",
     "output_type": "error",
     "traceback": [
      "\u001b[0;31m---------------------------------------------------------------------------\u001b[0m",
      "\u001b[0;31mKeyboardInterrupt\u001b[0m                         Traceback (most recent call last)",
      "\u001b[0;32m<ipython-input-60-8c6110213bfa>\u001b[0m in \u001b[0;36m<module>\u001b[0;34m\u001b[0m\n\u001b[1;32m      2\u001b[0m \u001b[0mm_cd\u001b[0m\u001b[0;34m,\u001b[0m \u001b[0mnm_cd\u001b[0m \u001b[0;34m=\u001b[0m \u001b[0mgetMissing\u001b[0m\u001b[0;34m(\u001b[0m\u001b[0mkeys_csv\u001b[0m\u001b[0;34m,\u001b[0m \u001b[0mdrive_test\u001b[0m\u001b[0;34m)\u001b[0m\u001b[0;34m\u001b[0m\u001b[0;34m\u001b[0m\u001b[0m\n\u001b[1;32m      3\u001b[0m \u001b[0mm_da\u001b[0m\u001b[0;34m,\u001b[0m \u001b[0mnm_da\u001b[0m \u001b[0;34m=\u001b[0m \u001b[0mgetMissing\u001b[0m\u001b[0;34m(\u001b[0m\u001b[0mdrive_test\u001b[0m\u001b[0;34m,\u001b[0m \u001b[0marxiv_test\u001b[0m\u001b[0;34m)\u001b[0m\u001b[0;34m\u001b[0m\u001b[0;34m\u001b[0m\u001b[0m\n\u001b[0;32m----> 4\u001b[0;31m \u001b[0mm_dc\u001b[0m\u001b[0;34m,\u001b[0m \u001b[0mnm_dc\u001b[0m \u001b[0;34m=\u001b[0m \u001b[0mgetMissing\u001b[0m\u001b[0;34m(\u001b[0m\u001b[0mdrive_test\u001b[0m\u001b[0;34m,\u001b[0m \u001b[0mkeys_csv\u001b[0m\u001b[0;34m)\u001b[0m\u001b[0;34m\u001b[0m\u001b[0;34m\u001b[0m\u001b[0m\n\u001b[0m\u001b[1;32m      5\u001b[0m \u001b[0mm_ad\u001b[0m\u001b[0;34m,\u001b[0m \u001b[0mnm_ad\u001b[0m \u001b[0;34m=\u001b[0m \u001b[0mgetMissing\u001b[0m\u001b[0;34m(\u001b[0m\u001b[0marxiv_counts\u001b[0m\u001b[0;34m,\u001b[0m \u001b[0mdrive_test\u001b[0m\u001b[0;34m)\u001b[0m\u001b[0;34m\u001b[0m\u001b[0;34m\u001b[0m\u001b[0m\n\u001b[1;32m      6\u001b[0m \u001b[0mm_ac\u001b[0m\u001b[0;34m,\u001b[0m \u001b[0mnm_dc\u001b[0m \u001b[0;34m=\u001b[0m \u001b[0mgetMissing\u001b[0m\u001b[0;34m(\u001b[0m\u001b[0marxiv_counts\u001b[0m\u001b[0;34m,\u001b[0m \u001b[0mkeys_csv\u001b[0m\u001b[0;34m)\u001b[0m\u001b[0;34m\u001b[0m\u001b[0;34m\u001b[0m\u001b[0m\n",
      "\u001b[0;32m<ipython-input-57-4e24c8914537>\u001b[0m in \u001b[0;36mgetMissing\u001b[0;34m(thing1, thing2)\u001b[0m\n\u001b[1;32m     24\u001b[0m     \u001b[0mnot_missing\u001b[0m \u001b[0;34m=\u001b[0m \u001b[0;34m[\u001b[0m\u001b[0;34m]\u001b[0m\u001b[0;34m\u001b[0m\u001b[0;34m\u001b[0m\u001b[0m\n\u001b[1;32m     25\u001b[0m     \u001b[0;32mfor\u001b[0m \u001b[0mi\u001b[0m \u001b[0;32min\u001b[0m \u001b[0mthing1\u001b[0m\u001b[0;34m:\u001b[0m\u001b[0;34m\u001b[0m\u001b[0;34m\u001b[0m\u001b[0m\n\u001b[0;32m---> 26\u001b[0;31m         \u001b[0;32mif\u001b[0m \u001b[0mi\u001b[0m \u001b[0;32mnot\u001b[0m \u001b[0;32min\u001b[0m \u001b[0mthing2\u001b[0m\u001b[0;34m:\u001b[0m\u001b[0;34m\u001b[0m\u001b[0;34m\u001b[0m\u001b[0m\n\u001b[0m\u001b[1;32m     27\u001b[0m             \u001b[0mmissing\u001b[0m\u001b[0;34m.\u001b[0m\u001b[0mappend\u001b[0m\u001b[0;34m(\u001b[0m\u001b[0mi\u001b[0m\u001b[0;34m)\u001b[0m\u001b[0;34m\u001b[0m\u001b[0;34m\u001b[0m\u001b[0m\n\u001b[1;32m     28\u001b[0m         \u001b[0;32melse\u001b[0m\u001b[0;34m:\u001b[0m\u001b[0;34m\u001b[0m\u001b[0;34m\u001b[0m\u001b[0m\n",
      "\u001b[0;31mKeyboardInterrupt\u001b[0m: "
     ]
    }
   ],
   "source": [
    "m_ca, nm_ca = getMissing(keys_csv, arxiv_test)\n",
    "m_cd, nm_cd = getMissing(keys_csv, drive_test)\n",
    "m_da, nm_da = getMissing(drive_test, arxiv_test)\n",
    "m_dc, nm_dc = getMissing(drive_test, keys_csv)\n",
    "m_ad, nm_ad = getMissing(arxiv_counts, drive_test)\n",
    "m_ac, nm_dc = getMissing(arxiv_counts, keys_csv)\n",
    "\n",
    "\n"
   ]
  },
  {
   "cell_type": "code",
   "execution_count": null,
   "metadata": {},
   "outputs": [],
   "source": [
    "# is it the same between arxiv and drive?\n",
    "\n",
    "print(\"%s in drive missing from arxiv\" % len(m_da))\n",
    "print(\"%s in arxiv missing from drive\" % len(m_ad))\n",
    "\n",
    "# what is missing from the csv. is that totally off?\n",
    "\n",
    "print(\"%s in arxiv missing from csv\" % len(m_ac))\n",
    "print(\"%s in drive missing from csv\" % len(m_dc))\n",
    "print(\"%s in csv missing from arxiv\" % len(m_ca))\n",
    "print(\"%s in csv missing from drive\" % len(m_cd))\n",
    "\n"
   ]
  },
  {
   "cell_type": "code",
   "execution_count": 61,
   "metadata": {},
   "outputs": [
    {
     "data": {
      "text/plain": [
       "(31769, 935903)"
      ]
     },
     "execution_count": 61,
     "metadata": {},
     "output_type": "execute_result"
    }
   ],
   "source": [
    "len(m_cd), len(m_da)"
   ]
  },
  {
   "cell_type": "code",
   "execution_count": 62,
   "metadata": {},
   "outputs": [
    {
     "name": "stdout",
     "output_type": "stream",
     "text": [
      "{'question': 'Were they touching a blanket?', 'answer': 'yes', 'video_id': 'YSKX3', 'global': ['exists'], 'local': 'yes-no-o4', 'ans_type': 'binary', 'steps': 1, 'semantic': 'object', 'structural': 'verify', 'novel_comp': 0, 'more_steps': 0, 'program': 'Exists(blanket, Iterate(video, Filter(frame, [objects])))', 'sg_grounding': {'19-28': ['o4/000209', 'o4/000105', 'o4/000224', 'o4/000134', 'o4/000223', 'o4/000163', 'o4/000192'], '27-27': ['000105', '000134', '000163', '000192', '000205', '000209', '000221', '000223', '000224', '000235', '000237', '000239', '000247', '000252', '000254', '000258', '000268', '000269', '000270']}, 'nc_seq': 0, 'nc_sup': 0, 'nc_dur': 0, 'nc_objrel': 0, 'indirect': 0, 'i_obj': 0, 'i_rel': 0, 'i_act': 0, 'i_temp': 0, 'direct_equiv': 'YSKX3-9'}\n"
     ]
    }
   ],
   "source": [
    "for i in drive_test:\n",
    "    print(drive_test[i])\n",
    "    break"
   ]
  },
  {
   "cell_type": "markdown",
   "metadata": {},
   "source": [
    "# TODO: \n",
    "\n",
    "- get balanced csv and see if it matches the txt files ow we have a problem....\n",
    "- check steps same thing\n"
   ]
  },
  {
   "cell_type": "code",
   "execution_count": 63,
   "metadata": {},
   "outputs": [],
   "source": [
    "    \n",
    "bal_csv = pd.read_csv('../../../Downloads/balanced 5/test-balanced-tgif.csv')"
   ]
  },
  {
   "cell_type": "code",
   "execution_count": 64,
   "metadata": {},
   "outputs": [],
   "source": [
    "keys_bal_csv = bal_csv['key'].values"
   ]
  },
  {
   "cell_type": "code",
   "execution_count": 65,
   "metadata": {},
   "outputs": [],
   "source": [
    "m_bal, nm_bal = getMissing(keys_bal_csv, drive_test)"
   ]
  },
  {
   "cell_type": "markdown",
   "metadata": {},
   "source": []
  },
  {
   "cell_type": "code",
   "execution_count": 67,
   "metadata": {},
   "outputs": [
    {
     "data": {
      "text/plain": [
       "1042311"
      ]
     },
     "execution_count": 67,
     "metadata": {},
     "output_type": "execute_result"
    }
   ],
   "source": [
    "len(nm_bal)"
   ]
  },
  {
   "cell_type": "code",
   "execution_count": 68,
   "metadata": {},
   "outputs": [],
   "source": [
    "    \n",
    "steps_csv = pd.read_csv('../../../Downloads/more compositional steps/test-balanced-tgif-steps_templ.csv')"
   ]
  },
  {
   "cell_type": "code",
   "execution_count": 69,
   "metadata": {},
   "outputs": [],
   "source": [
    "keys_steps_csv = bal_csv['key'].values"
   ]
  },
  {
   "cell_type": "code",
   "execution_count": 70,
   "metadata": {},
   "outputs": [],
   "source": [
    "m_step, nm_step = getMissing(keys_steps_csv, drive_test)"
   ]
  },
  {
   "cell_type": "code",
   "execution_count": 72,
   "metadata": {},
   "outputs": [
    {
     "data": {
      "text/plain": [
       "0"
      ]
     },
     "execution_count": 72,
     "metadata": {},
     "output_type": "execute_result"
    }
   ],
   "source": [
    "len(m_step)"
   ]
  },
  {
   "cell_type": "code",
   "execution_count": 74,
   "metadata": {},
   "outputs": [],
   "source": [
    "compo_csv = pd.read_csv('../../../Downloads/novel compositions/test-balanced-tgif-compo.csv')\n",
    "keys_compo_csv = drive_csv['key'].values\n"
   ]
  },
  {
   "cell_type": "code",
   "execution_count": 75,
   "metadata": {},
   "outputs": [],
   "source": [
    "m_compo, nm_compo = getMissing(keys_compo_csv, drive_test)"
   ]
  },
  {
   "cell_type": "code",
   "execution_count": 76,
   "metadata": {},
   "outputs": [
    {
     "data": {
      "text/plain": [
       "31769"
      ]
     },
     "execution_count": 76,
     "metadata": {},
     "output_type": "execute_result"
    }
   ],
   "source": [
    "len(m_compo)"
   ]
  },
  {
   "cell_type": "code",
   "execution_count": 87,
   "metadata": {},
   "outputs": [
    {
     "data": {
      "text/html": [
       "<div>\n",
       "<style scoped>\n",
       "    .dataframe tbody tr th:only-of-type {\n",
       "        vertical-align: middle;\n",
       "    }\n",
       "\n",
       "    .dataframe tbody tr th {\n",
       "        vertical-align: top;\n",
       "    }\n",
       "\n",
       "    .dataframe thead th {\n",
       "        text-align: right;\n",
       "    }\n",
       "</style>\n",
       "<table border=\"1\" class=\"dataframe\">\n",
       "  <thead>\n",
       "    <tr style=\"text-align: right;\">\n",
       "      <th></th>\n",
       "      <th>question</th>\n",
       "      <th>answer</th>\n",
       "      <th>id</th>\n",
       "      <th>vid_id</th>\n",
       "      <th>gif_name</th>\n",
       "      <th>key</th>\n",
       "      <th>description</th>\n",
       "    </tr>\n",
       "  </thead>\n",
       "  <tbody>\n",
       "    <tr>\n",
       "      <th>0</th>\n",
       "      <td>Is there a window the person contacts before s...</td>\n",
       "      <td>Yes</td>\n",
       "      <td>T5ECU-33</td>\n",
       "      <td>T5ECU</td>\n",
       "      <td>T5ECU</td>\n",
       "      <td>T5ECU-33</td>\n",
       "      <td>none</td>\n",
       "    </tr>\n",
       "    <tr>\n",
       "      <th>1</th>\n",
       "      <td>Did they hold the object they were on the side...</td>\n",
       "      <td>No</td>\n",
       "      <td>T5ECU-1301</td>\n",
       "      <td>T5ECU</td>\n",
       "      <td>T5ECU</td>\n",
       "      <td>T5ECU-1301</td>\n",
       "      <td>none</td>\n",
       "    </tr>\n",
       "    <tr>\n",
       "      <th>2</th>\n",
       "      <td>Was the person touching the object they were o...</td>\n",
       "      <td>Yes</td>\n",
       "      <td>T5ECU-1802</td>\n",
       "      <td>T5ECU</td>\n",
       "      <td>T5ECU</td>\n",
       "      <td>T5ECU-1802</td>\n",
       "      <td>none</td>\n",
       "    </tr>\n",
       "    <tr>\n",
       "      <th>3</th>\n",
       "      <td>Did they lean on a chair?</td>\n",
       "      <td>No</td>\n",
       "      <td>T5ECU-2209</td>\n",
       "      <td>T5ECU</td>\n",
       "      <td>T5ECU</td>\n",
       "      <td>T5ECU-2209</td>\n",
       "      <td>none</td>\n",
       "    </tr>\n",
       "    <tr>\n",
       "      <th>4</th>\n",
       "      <td>While going from standing to sitting, did they...</td>\n",
       "      <td>Yes</td>\n",
       "      <td>T5ECU-2242</td>\n",
       "      <td>T5ECU</td>\n",
       "      <td>T5ECU</td>\n",
       "      <td>T5ECU-2242</td>\n",
       "      <td>none</td>\n",
       "    </tr>\n",
       "    <tr>\n",
       "      <th>...</th>\n",
       "      <td>...</td>\n",
       "      <td>...</td>\n",
       "      <td>...</td>\n",
       "      <td>...</td>\n",
       "      <td>...</td>\n",
       "      <td>...</td>\n",
       "      <td>...</td>\n",
       "    </tr>\n",
       "    <tr>\n",
       "      <th>168382</th>\n",
       "      <td>Was the person walking through a doorway befor...</td>\n",
       "      <td>after</td>\n",
       "      <td>LSKA2-3</td>\n",
       "      <td>LSKA2</td>\n",
       "      <td>LSKA2</td>\n",
       "      <td>LSKA2-5391</td>\n",
       "      <td>none</td>\n",
       "    </tr>\n",
       "    <tr>\n",
       "      <th>168383</th>\n",
       "      <td>Were they walking through a doorway before or ...</td>\n",
       "      <td>after</td>\n",
       "      <td>LSKA2-4</td>\n",
       "      <td>LSKA2</td>\n",
       "      <td>LSKA2</td>\n",
       "      <td>LSKA2-5394</td>\n",
       "      <td>none</td>\n",
       "    </tr>\n",
       "    <tr>\n",
       "      <th>168384</th>\n",
       "      <td>Were they walking through a doorway before or ...</td>\n",
       "      <td>after</td>\n",
       "      <td>LSKA2-5</td>\n",
       "      <td>LSKA2</td>\n",
       "      <td>LSKA2</td>\n",
       "      <td>LSKA2-5395</td>\n",
       "      <td>none</td>\n",
       "    </tr>\n",
       "    <tr>\n",
       "      <th>168385</th>\n",
       "      <td>Was the person walking through a doorway befor...</td>\n",
       "      <td>after</td>\n",
       "      <td>LSKA2-3</td>\n",
       "      <td>LSKA2</td>\n",
       "      <td>LSKA2</td>\n",
       "      <td>LSKA2-5393</td>\n",
       "      <td>none</td>\n",
       "    </tr>\n",
       "    <tr>\n",
       "      <th>168386</th>\n",
       "      <td>Were they walking through a doorway before or ...</td>\n",
       "      <td>after</td>\n",
       "      <td>LSKA2-4</td>\n",
       "      <td>LSKA2</td>\n",
       "      <td>LSKA2</td>\n",
       "      <td>LSKA2-5392</td>\n",
       "      <td>none</td>\n",
       "    </tr>\n",
       "  </tbody>\n",
       "</table>\n",
       "<p>168387 rows × 7 columns</p>\n",
       "</div>"
      ],
      "text/plain": [
       "                                                 question answer          id  \\\n",
       "0       Is there a window the person contacts before s...    Yes    T5ECU-33   \n",
       "1       Did they hold the object they were on the side...     No  T5ECU-1301   \n",
       "2       Was the person touching the object they were o...    Yes  T5ECU-1802   \n",
       "3                               Did they lean on a chair?     No  T5ECU-2209   \n",
       "4       While going from standing to sitting, did they...    Yes  T5ECU-2242   \n",
       "...                                                   ...    ...         ...   \n",
       "168382  Was the person walking through a doorway befor...  after     LSKA2-3   \n",
       "168383  Were they walking through a doorway before or ...  after     LSKA2-4   \n",
       "168384  Were they walking through a doorway before or ...  after     LSKA2-5   \n",
       "168385  Was the person walking through a doorway befor...  after     LSKA2-3   \n",
       "168386  Were they walking through a doorway before or ...  after     LSKA2-4   \n",
       "\n",
       "       vid_id gif_name         key description  \n",
       "0       T5ECU    T5ECU    T5ECU-33        none  \n",
       "1       T5ECU    T5ECU  T5ECU-1301        none  \n",
       "2       T5ECU    T5ECU  T5ECU-1802        none  \n",
       "3       T5ECU    T5ECU  T5ECU-2209        none  \n",
       "4       T5ECU    T5ECU  T5ECU-2242        none  \n",
       "...       ...      ...         ...         ...  \n",
       "168382  LSKA2    LSKA2  LSKA2-5391        none  \n",
       "168383  LSKA2    LSKA2  LSKA2-5394        none  \n",
       "168384  LSKA2    LSKA2  LSKA2-5395        none  \n",
       "168385  LSKA2    LSKA2  LSKA2-5393        none  \n",
       "168386  LSKA2    LSKA2  LSKA2-5392        none  \n",
       "\n",
       "[168387 rows x 7 columns]"
      ]
     },
     "execution_count": 87,
     "metadata": {},
     "output_type": "execute_result"
    }
   ],
   "source": [
    "local_csv"
   ]
  },
  {
   "cell_type": "code",
   "execution_count": 81,
   "metadata": {},
   "outputs": [],
   "source": [
    "m_loc_compo, nm_loc_compo = getMissing(keys_local, drive_test)"
   ]
  },
  {
   "cell_type": "code",
   "execution_count": 82,
   "metadata": {},
   "outputs": [
    {
     "data": {
      "text/plain": [
       "0"
      ]
     },
     "execution_count": 82,
     "metadata": {},
     "output_type": "execute_result"
    }
   ],
   "source": [
    "len(m_loc_compo)"
   ]
  },
  {
   "cell_type": "markdown",
   "metadata": {},
   "source": [
    "# Ok -- so. I have the right thing on my local but i didnt upload. my b. try to find translation between keys?\n"
   ]
  },
  {
   "cell_type": "code",
   "execution_count": 86,
   "metadata": {},
   "outputs": [],
   "source": [
    "local_qs = list(local_csv['question'].values)\n",
    "drive_qs = list(compo_csv['question'].values)\n"
   ]
  },
  {
   "cell_type": "code",
   "execution_count": 85,
   "metadata": {},
   "outputs": [
    {
     "ename": "KeyboardInterrupt",
     "evalue": "",
     "output_type": "error",
     "traceback": [
      "\u001b[0;31m---------------------------------------------------------------------------\u001b[0m",
      "\u001b[0;31mKeyboardInterrupt\u001b[0m                         Traceback (most recent call last)",
      "\u001b[0;32m<ipython-input-85-d0359ab2cbe5>\u001b[0m in \u001b[0;36m<module>\u001b[0;34m\u001b[0m\n\u001b[1;32m      1\u001b[0m \u001b[0;32mfor\u001b[0m \u001b[0mq\u001b[0m \u001b[0;32min\u001b[0m \u001b[0mlocal_qs\u001b[0m\u001b[0;34m:\u001b[0m\u001b[0;34m\u001b[0m\u001b[0;34m\u001b[0m\u001b[0m\n\u001b[0;32m----> 2\u001b[0;31m     \u001b[0;32mif\u001b[0m \u001b[0mq\u001b[0m \u001b[0;32mnot\u001b[0m \u001b[0;32min\u001b[0m \u001b[0mdrive_qs\u001b[0m\u001b[0;34m:\u001b[0m\u001b[0;34m\u001b[0m\u001b[0;34m\u001b[0m\u001b[0m\n\u001b[0m\u001b[1;32m      3\u001b[0m         \u001b[0mprint\u001b[0m\u001b[0;34m(\u001b[0m\u001b[0;34m'wwew'\u001b[0m\u001b[0;34m)\u001b[0m\u001b[0;34m\u001b[0m\u001b[0;34m\u001b[0m\u001b[0m\n\u001b[1;32m      4\u001b[0m         \u001b[0;32mbreak\u001b[0m\u001b[0;34m\u001b[0m\u001b[0;34m\u001b[0m\u001b[0m\n",
      "\u001b[0;31mKeyboardInterrupt\u001b[0m: "
     ]
    }
   ],
   "source": [
    "not_in = []\n",
    "for q in local_qs:\n",
    "    if q not in drive_qs:\n",
    "        not_in.append(q)"
   ]
  },
  {
   "cell_type": "code",
   "execution_count": 88,
   "metadata": {},
   "outputs": [],
   "source": [
    "\n",
    "local_key = list(local_csv['key'].values)\n",
    "local_id = list(local_csv['id'].values)\n",
    "compo_key = list(compo_csv['key'].values)"
   ]
  },
  {
   "cell_type": "code",
   "execution_count": 89,
   "metadata": {},
   "outputs": [],
   "source": [
    "m_idkey, nm_idkey = getMissing(local_id, compo_key)"
   ]
  },
  {
   "cell_type": "code",
   "execution_count": 90,
   "metadata": {},
   "outputs": [
    {
     "data": {
      "text/plain": [
       "0"
      ]
     },
     "execution_count": 90,
     "metadata": {},
     "output_type": "execute_result"
    }
   ],
   "source": [
    "len(m_idkey)"
   ]
  },
  {
   "cell_type": "code",
   "execution_count": null,
   "metadata": {},
   "outputs": [],
   "source": []
  }
 ],
 "metadata": {
  "kernelspec": {
   "display_name": "Python 3",
   "language": "python",
   "name": "python3"
  },
  "language_info": {
   "codemirror_mode": {
    "name": "ipython",
    "version": 3
   },
   "file_extension": ".py",
   "mimetype": "text/x-python",
   "name": "python",
   "nbconvert_exporter": "python",
   "pygments_lexer": "ipython3",
   "version": "3.7.6"
  }
 },
 "nbformat": 4,
 "nbformat_minor": 4
}
