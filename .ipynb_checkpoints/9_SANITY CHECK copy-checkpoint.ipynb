{
 "cells": [
  {
   "cell_type": "markdown",
   "metadata": {},
   "source": [
    "# Sanity Check\n",
    "\n",
    "This is to ensure that everything is running smoothly\n",
    "\n",
    "\n",
    "Want to print distributions for:\n",
    "- ans_type\n",
    "- structural\n",
    "- semantic\n",
    "- template\n",
    "- answer distribution\n",
    "- Number in each novel composition metric\n",
    "- number in more / compo step\n",
    "- number in each metric for indirect references\n",
    "\n",
    "\n",
    "Want to check: \n",
    "- No negative scene graph indices\n",
    "- programs count ( == count )\n",
    "- answer distributions by local are decent"
   ]
  },
  {
   "cell_type": "code",
   "execution_count": 1,
   "metadata": {},
   "outputs": [],
   "source": [
    "import json\n",
    "import pickle\n",
    "import matplotlib.pyplot as plt\n",
    "import seaborn as sns\n",
    "import pandas as pd"
   ]
  },
  {
   "cell_type": "markdown",
   "metadata": {},
   "source": [
    "# Data formats"
   ]
  },
  {
   "cell_type": "code",
   "execution_count": 2,
   "metadata": {},
   "outputs": [],
   "source": [
    "def getAnsDict():\n",
    "    ans_type = {'binary': 0, 'open': 0}\n",
    "    return ans_type\n",
    "\n",
    "def getSemDict():\n",
    "    sem = {'object': 0, 'relation': 0, 'action': 0}\n",
    "    return sem\n",
    "    \n",
    "def getGloDict():\n",
    "    glob = {'obj-rel': 0,\n",
    "             'superlative': 0,\n",
    "             'exists': 0,\n",
    "             'duration-comparison': 0,\n",
    "             'obj-act': 0,\n",
    "             'rel-act': 0,\n",
    "             'sequencing': 0,\n",
    "             'action-recognition': 0}\n",
    "    return glob\n",
    "    \n",
    "def getStructDict():\n",
    "    struct = {'query': 0, 'compare': 0, 'choose': 0, 'verify': 0, 'logic': 0}\n",
    "    return struct\n",
    "\n",
    "def getTemplDict():\n",
    "    templ = {'objExists': 0, 'objRelExists': 0, 'relExists': 0, 'actExists': 0,\n",
    "             'andObjRelExists': 0, 'xorObjRelExists': 0, 'objWhatGeneral': 0,\n",
    "             'objWhat': 0, 'objWhatChoose': 0, 'actWhatAfterAll': 0, 'actWhatBefore': 0,\n",
    "             'objFirst': 0, 'objFirstChoose': 0, 'objFirstVerify': 0, 'relFirst': 0, 'actFirst': 0,\n",
    "             'objLast': 0, 'objLastChoose': 0, 'objLastVerify': 0, 'relLast': 0, 'actLast': 0,\n",
    "             'actLengthLongerChoose': 0, 'actLengthShorterChoose': 0, 'actLengthLongerVerify': 0, 'actLengthShorterVerify': 0,\n",
    "             'actLongest': 0, 'actShortest': 0,\n",
    "             'actTime': 0, 'relTime': 0, 'objTime': 0}\n",
    "    \n",
    "    return templ"
   ]
  },
  {
   "cell_type": "code",
   "execution_count": 5,
   "metadata": {},
   "outputs": [],
   "source": [
    "\n",
    "\n",
    "infile = open('../data/stsgs/train_stsgs.pkl', 'rb')\n",
    "train_stsgs = pickle.load(infile)\n",
    "infile.close()\n",
    "\n",
    "\n",
    "infile = open('../data/stsgs/test_stsgs.pkl', 'rb')\n",
    "test_stsgs = pickle.load(infile)\n",
    "infile.close()\n"
   ]
  },
  {
   "cell_type": "markdown",
   "metadata": {},
   "source": [
    "# Upload Data"
   ]
  },
  {
   "cell_type": "code",
   "execution_count": 6,
   "metadata": {},
   "outputs": [],
   "source": [
    "d_path = 'dataset'"
   ]
  },
  {
   "cell_type": "code",
   "execution_count": 84,
   "metadata": {},
   "outputs": [],
   "source": [
    "with open('../exports/%s/json_format_balanced_combined/test-0-1814.txt' % (d_path), 'rb') as f:\n",
    "    test = json.load(f)\n",
    "    \n",
    "with open('../exports/%s/json_format_balanced_combined/train-0-7787.txt' % (d_path), 'rb') as f:\n",
    "    train = json.load(f)\n",
    "    "
   ]
  },
  {
   "cell_type": "code",
   "execution_count": 91,
   "metadata": {},
   "outputs": [],
   "source": [
    "total = {}\n",
    "total.update(test)\n",
    "#total.update(train)"
   ]
  },
  {
   "cell_type": "code",
   "execution_count": 75,
   "metadata": {},
   "outputs": [
    {
     "data": {
      "text/plain": [
       "10"
      ]
     },
     "execution_count": 75,
     "metadata": {},
     "output_type": "execute_result"
    }
   ],
   "source": []
  },
  {
   "cell_type": "code",
   "execution_count": 92,
   "metadata": {},
   "outputs": [],
   "source": [
    "all_data = {}\n",
    "\n",
    "for q_id in total:\n",
    "    q = total[q_id]\n",
    "    for i in q:\n",
    "        if i in ['question', 'program', 'sg_grounding', 'direct_equiv']:\n",
    "            continue\n",
    "        all_data[i] = {}\n",
    "        \n",
    "    break"
   ]
  },
  {
   "cell_type": "code",
   "execution_count": 93,
   "metadata": {},
   "outputs": [],
   "source": [
    "def add(dic, item):\n",
    "    if item not in dic:\n",
    "        dic[item] = 0\n",
    "        \n",
    "    dic[item] += 1\n",
    "    "
   ]
  },
  {
   "cell_type": "code",
   "execution_count": 94,
   "metadata": {},
   "outputs": [
    {
     "name": "stdout",
     "output_type": "stream",
     "text": [
      "need to go through 619348 questions\n",
      "0\n",
      "500000\n"
     ]
    }
   ],
   "source": [
    "#ans = getAnsDict()\n",
    "#sem = getSemDict()\n",
    "#glo = getGloDict()\n",
    "#stu = getStructDict()\n",
    "#tem = getTemplDict()\n",
    "#loc = {}\n",
    "\n",
    "print(\"need to go through %s questions\" % len(total))\n",
    "\n",
    "for cnt, q_id in enumerate(list(total)):\n",
    "    if cnt % 500000 == 0:\n",
    "        print(cnt)\n",
    "    q = total[q_id]\n",
    "    \n",
    "    for i in q:\n",
    "        if i in ['question', 'program', 'sg_grounding', 'direct_equiv']:\n",
    "            continue\n",
    "            \n",
    "        \n",
    "        dic = all_data[i]\n",
    "        \n",
    "        if i == 'global':\n",
    "            for g in q[i]:\n",
    "                add(dic, g)\n",
    "        else:\n",
    "            add(dic, q[i])\n",
    "        \n",
    "    \n",
    "    continue\n",
    "    ans[q['ans_type']] += 1\n",
    "    sem[q['semantic']] += 1\n",
    "    stu[q['structural']] += 1\n",
    "    glo[q['global']] += 1\n",
    "    \n",
    "    l = q['local']\n",
    "    if l not in loc:\n",
    "        loc[l] = 0\n",
    "        \n",
    "    loc[l] += 1\n",
    "    \n",
    "    "
   ]
  },
  {
   "cell_type": "markdown",
   "metadata": {},
   "source": [
    "b,bhbjh\n",
    "all_data = {}\n",
    "\n",
    "\n",
    "for cnt, v_id in enumerate(list(test_stsgs)):\n",
    "    \n",
    "    with open('../exports/dataset/all/test/%s.txt'% v_id, 'rb') as f:\n",
    "        QA = json.load(f)\n",
    "    if cnt == 0:\n",
    "        # set up data struct\n",
    "        for q_id in QA:\n",
    "            q = QA[q_id]\n",
    "            for i in q:\n",
    "                if i in ['question', 'program', 'sg_grounding', 'direct_equiv']:\n",
    "                    continue\n",
    "                    \n",
    "                if type(q[i]) == dict:\n",
    "                    for j in q[i]:\n",
    "                        all_data[j] = {}\n",
    "                else:\n",
    "                    all_data[i] = {}\n",
    "                    \n",
    "            break\n",
    "            \n",
    "    if cnt % 100 == 0:\n",
    "        print(cnt)\n",
    "    \n",
    "        \n",
    "    for q_id in QA:\n",
    "        q = QA[q_id]\n",
    "        for i in q:\n",
    "            if i in ['question', 'program', 'sg_grounding', 'direct_equiv']:\n",
    "                continue\n",
    "                \n",
    "            if type(q[i]) == dict:\n",
    "                for j in q[i]:\n",
    "                    dic = all_data[j]\n",
    "                    if type(q[i][j]) != str:\n",
    "                        continue\n",
    "                    add(dic, q[i][j])\n",
    "\n",
    "\n",
    "            else:\n",
    "                dic = all_data[i]\n",
    "\n",
    "                if i == 'global':\n",
    "                    for g in q[i]:\n",
    "                        add(dic, g)\n",
    "                else:\n",
    "                    add(dic, q[i])\n"
   ]
  },
  {
   "cell_type": "markdown",
   "metadata": {},
   "source": [
    "# Print distributions"
   ]
  },
  {
   "cell_type": "markdown",
   "metadata": {},
   "source": [
    "## Answer type"
   ]
  },
  {
   "cell_type": "code",
   "execution_count": 95,
   "metadata": {
    "scrolled": false
   },
   "outputs": [
    {
     "name": "stdout",
     "output_type": "stream",
     "text": [
      "                global     num\n",
      "0               exists   97362\n",
      "1              obj-rel  514375\n",
      "2          superlative   95957\n",
      "3   action-recognition    1087\n",
      "4              obj-act   44836\n",
      "5           sequencing   45233\n",
      "6  duration-comparison   13255\n"
     ]
    },
    {
     "data": {
      "image/png": "[encoded data removed]",
      "text/plain": [
       "<Figure size 432x288 with 1 Axes>"
      ]
     },
     "metadata": {
      "needs_background": "light"
     },
     "output_type": "display_data"
    },
    {
     "name": "stdout",
     "output_type": "stream",
     "text": [
      "  ans_type     num\n",
      "0   binary  282286\n",
      "1     open  337062\n"
     ]
    },
    {
     "data": {
      "image/png": "[encoded data removed]",
      "text/plain": [
       "<Figure size 432x288 with 1 Axes>"
      ]
     },
     "metadata": {
      "needs_background": "light"
     },
     "output_type": "display_data"
    },
    {
     "name": "stdout",
     "output_type": "stream",
     "text": [
      "   steps     num\n",
      "0      3   35905\n",
      "1      1    9944\n",
      "2      2   17374\n",
      "3      4  156686\n",
      "4      5  268432\n",
      "5      6   88859\n",
      "6      7   39019\n",
      "7      8    3129\n"
     ]
    },
    {
     "data": {
      "image/png": "[encoded data removed]",
      "text/plain": [
       "<Figure size 432x288 with 1 Axes>"
      ]
     },
     "metadata": {
      "needs_background": "light"
     },
     "output_type": "display_data"
    },
    {
     "name": "stdout",
     "output_type": "stream",
     "text": [
      "   semantic     num\n",
      "0    object  529170\n",
      "1  relation   75836\n",
      "2    action   14342\n"
     ]
    },
    {
     "data": {
      "image/png": "[encoded data removed]",
      "text/plain": [
       "<Figure size 432x288 with 1 Axes>"
      ]
     },
     "metadata": {
      "needs_background": "light"
     },
     "output_type": "display_data"
    },
    {
     "name": "stdout",
     "output_type": "stream",
     "text": [
      "  structural     num\n",
      "0     verify  106486\n",
      "1      logic   34152\n",
      "2      query  337062\n",
      "3     choose   83862\n",
      "4    compare   57786\n"
     ]
    },
    {
     "data": {
      "image/png": "[encoded data removed]",
      "text/plain": [
       "<Figure size 432x288 with 1 Axes>"
      ]
     },
     "metadata": {
      "needs_background": "light"
     },
     "output_type": "display_data"
    },
    {
     "name": "stdout",
     "output_type": "stream",
     "text": [
      "   novel_comp     num\n",
      "0           0  538344\n",
      "1           1   81004\n"
     ]
    },
    {
     "data": {
      "image/png": "[encoded data removed]",
      "text/plain": [
       "<Figure size 432x288 with 1 Axes>"
      ]
     },
     "metadata": {
      "needs_background": "light"
     },
     "output_type": "display_data"
    },
    {
     "name": "stdout",
     "output_type": "stream",
     "text": [
      "   more_steps     num\n",
      "0           0  545976\n",
      "1           1   73372\n"
     ]
    },
    {
     "data": {
      "image/png": "[encoded data removed]",
      "text/plain": [
       "<Figure size 432x288 with 1 Axes>"
      ]
     },
     "metadata": {
      "needs_background": "light"
     },
     "output_type": "display_data"
    },
    {
     "name": "stdout",
     "output_type": "stream",
     "text": [
      "   nc_seq     num\n",
      "0       0  592449\n",
      "1       1   26899\n"
     ]
    },
    {
     "data": {
      "image/png": "[encoded data removed]",
      "text/plain": [
       "<Figure size 432x288 with 1 Axes>"
      ]
     },
     "metadata": {
      "needs_background": "light"
     },
     "output_type": "display_data"
    },
    {
     "name": "stdout",
     "output_type": "stream",
     "text": [
      "   nc_sup     num\n",
      "0       0  581765\n",
      "1       1   37583\n"
     ]
    },
    {
     "data": {
      "image/png": "[encoded data removed]",
      "text/plain": [
       "<Figure size 432x288 with 1 Axes>"
      ]
     },
     "metadata": {
      "needs_background": "light"
     },
     "output_type": "display_data"
    },
    {
     "name": "stdout",
     "output_type": "stream",
     "text": [
      "   nc_dur     num\n",
      "0       0  614598\n",
      "1       1    4750\n"
     ]
    },
    {
     "data": {
      "image/png": "[encoded data removed]",
      "text/plain": [
       "<Figure size 432x288 with 1 Axes>"
      ]
     },
     "metadata": {
      "needs_background": "light"
     },
     "output_type": "display_data"
    },
    {
     "name": "stdout",
     "output_type": "stream",
     "text": [
      "   nc_objrel     num\n",
      "0          0  602771\n",
      "1          1   16577\n"
     ]
    },
    {
     "data": {
      "image/png": "[encoded data removed]",
      "text/plain": [
       "<Figure size 432x288 with 1 Axes>"
      ]
     },
     "metadata": {
      "needs_background": "light"
     },
     "output_type": "display_data"
    },
    {
     "name": "stdout",
     "output_type": "stream",
     "text": [
      "   indirect     num\n",
      "0         1  559462\n",
      "1         0   59886\n"
     ]
    },
    {
     "data": {
      "image/png": "[encoded data removed]",
      "text/plain": [
       "<Figure size 432x288 with 1 Axes>"
      ]
     },
     "metadata": {
      "needs_background": "light"
     },
     "output_type": "display_data"
    },
    {
     "name": "stdout",
     "output_type": "stream",
     "text": [
      "   i_obj     num\n",
      "0      0  349106\n",
      "1      1  270242\n"
     ]
    },
    {
     "data": {
      "image/png": "[encoded data removed]",
      "text/plain": [
       "<Figure size 432x288 with 1 Axes>"
      ]
     },
     "metadata": {
      "needs_background": "light"
     },
     "output_type": "display_data"
    },
    {
     "name": "stdout",
     "output_type": "stream",
     "text": [
      "   i_rel     num\n",
      "0      0  619348\n"
     ]
    },
    {
     "data": {
      "image/png": "[encoded data removed]",
      "text/plain": [
       "<Figure size 432x288 with 1 Axes>"
      ]
     },
     "metadata": {
      "needs_background": "light"
     },
     "output_type": "display_data"
    },
    {
     "name": "stdout",
     "output_type": "stream",
     "text": [
      "   i_act     num\n",
      "0      0  614453\n",
      "1      1    4895\n"
     ]
    },
    {
     "data": {
      "image/png": "[encoded data removed]",
      "text/plain": [
       "<Figure size 432x288 with 1 Axes>"
      ]
     },
     "metadata": {
      "needs_background": "light"
     },
     "output_type": "display_data"
    },
    {
     "name": "stdout",
     "output_type": "stream",
     "text": [
      "   i_temp     num\n",
      "0       1  508928\n",
      "1       0  110420\n"
     ]
    },
    {
     "data": {
      "image/png": "[encoded data removed]",
      "text/plain": [
       "<Figure size 432x288 with 1 Axes>"
      ]
     },
     "metadata": {
      "needs_background": "light"
     },
     "output_type": "display_data"
    },
    {
     "data": {
      "text/plain": [
       "<Figure size 432x288 with 0 Axes>"
      ]
     },
     "metadata": {},
     "output_type": "display_data"
    }
   ],
   "source": [
    "for i in all_data:\n",
    "    if i in ['local', 'answer','video_id']: \n",
    "        continue\n",
    "        \n",
    "    data = all_data[i]\n",
    "    \n",
    "    \n",
    "    frame = [{i: key, 'num': num} for key, num in data.items()]\n",
    "    df = pd.DataFrame(frame)\n",
    "        \n",
    "        \n",
    "    print(df)\n",
    "    plt.title(i)\n",
    "    sns.barplot(x=i, y='num', data=df)\n",
    "    plt.show()\n",
    "    plt.clf()"
   ]
  },
  {
   "cell_type": "code",
   "execution_count": null,
   "metadata": {},
   "outputs": [],
   "source": []
  },
  {
   "cell_type": "code",
   "execution_count": 1,
   "metadata": {},
   "outputs": [],
   "source": [
    "x = {'logic': 17531902, 'verify': 11168463, 'choose': 1086442, 'query': 427527, 'compare': 128250}\n",
    "     "
   ]
  },
  {
   "cell_type": "code",
   "execution_count": 2,
   "metadata": {},
   "outputs": [
    {
     "data": {
      "text/plain": [
       "30342584"
      ]
     },
     "execution_count": 2,
     "metadata": {},
     "output_type": "execute_result"
    }
   ],
   "source": [
    "tot = 0\n",
    "\n",
    "for i in x:\n",
    "    tot += x[i]\n",
    "    \n",
    "tot\n"
   ]
  },
  {
   "cell_type": "markdown",
   "metadata": {},
   "source": [
    "# Enough per steps"
   ]
  },
  {
   "cell_type": "code",
   "execution_count": 78,
   "metadata": {},
   "outputs": [
    {
     "name": "stdout",
     "output_type": "stream",
     "text": [
      "0\n",
      "100\n",
      "200\n",
      "300\n",
      "400\n",
      "500\n",
      "600\n",
      "700\n",
      "800\n",
      "900\n",
      "1000\n",
      "1100\n",
      "1200\n",
      "1300\n",
      "1400\n",
      "1500\n",
      "1600\n",
      "1700\n",
      "1800\n",
      "1900\n",
      "2000\n",
      "2100\n",
      "2200\n",
      "2300\n",
      "2400\n",
      "2500\n",
      "2600\n",
      "2700\n",
      "2800\n",
      "2900\n",
      "3000\n",
      "3100\n",
      "3200\n",
      "3300\n",
      "3400\n",
      "3500\n",
      "3600\n",
      "3700\n",
      "3800\n",
      "3900\n",
      "4000\n",
      "4100\n",
      "4200\n",
      "4300\n",
      "4400\n",
      "4500\n",
      "4600\n",
      "4700\n",
      "4800\n",
      "4900\n",
      "5000\n",
      "5100\n",
      "5200\n",
      "5300\n",
      "5400\n",
      "5500\n",
      "5600\n",
      "5700\n",
      "5800\n",
      "5900\n",
      "6000\n",
      "6100\n",
      "6200\n",
      "6300\n",
      "6400\n",
      "6500\n",
      "6600\n",
      "6700\n",
      "6800\n",
      "6900\n",
      "7000\n",
      "7100\n",
      "7200\n",
      "7300\n",
      "7400\n",
      "7500\n",
      "7600\n",
      "7700\n"
     ]
    }
   ],
   "source": [
    "all_qs = []\n",
    "\n",
    "\n",
    "for cnt, v_id in enumerate(list(train_stsgs)):\n",
    "\n",
    "    with open('../exports/dataset/balanced/train/%s.txt'% v_id, 'rb') as f:\n",
    "        QA = json.load(f)\n",
    "    if cnt == 0:\n",
    "        # set up data struct\n",
    "        for q_id in QA:\n",
    "            q = QA[q_id]\n",
    "            for i in q:\n",
    "                if i in ['question', 'program', 'sg_grounding', 'direct_equiv']:\n",
    "                    continue\n",
    "                    \n",
    "                if type(q[i]) == dict:\n",
    "                    for j in q[i]:\n",
    "                        all_data[j] = {}\n",
    "                else:\n",
    "                    all_data[i] = {}\n",
    "                    \n",
    "            break\n",
    "            \n",
    "    if cnt % 100 == 0:\n",
    "        print(cnt)\n",
    "    \n",
    "        \n",
    "    for q_id in QA:\n",
    "        q = QA[q_id]\n",
    "        for t in q['attributes']:\n",
    "            q[t] = q['attributes'][t]\n",
    "        all_qs.append(q)\n",
    "        "
   ]
  },
  {
   "cell_type": "code",
   "execution_count": 79,
   "metadata": {},
   "outputs": [],
   "source": [
    "df = pd.DataFrame(all_qs)"
   ]
  },
  {
   "cell_type": "code",
   "execution_count": 80,
   "metadata": {},
   "outputs": [],
   "source": [
    "x = df#[df['steps'] == 6]\n",
    "grouped = x.groupby(['type']).count()\n",
    "grouped = grouped.reset_index().sort_values('question')"
   ]
  },
  {
   "cell_type": "code",
   "execution_count": 81,
   "metadata": {},
   "outputs": [
    {
     "data": {
      "text/plain": [
       "<matplotlib.axes._subplots.AxesSubplot at 0x7feccbcfe950>"
      ]
     },
     "execution_count": 81,
     "metadata": {},
     "output_type": "execute_result"
    },
    {
     "data": {
      "image/png": "[encoded data removed]",
      "text/plain": [
       "<Figure size 432x288 with 1 Axes>"
      ]
     },
     "metadata": {
      "needs_background": "light"
     },
     "output_type": "display_data"
    }
   ],
   "source": [
    "sns.barplot(data=grouped, y='type', x='question')"
   ]
  },
  {
   "cell_type": "code",
   "execution_count": 83,
   "metadata": {},
   "outputs": [
    {
     "data": {
      "text/html": [
       "<div>\n",
       "<style scoped>\n",
       "    .dataframe tbody tr th:only-of-type {\n",
       "        vertical-align: middle;\n",
       "    }\n",
       "\n",
       "    .dataframe tbody tr th {\n",
       "        vertical-align: top;\n",
       "    }\n",
       "\n",
       "    .dataframe thead th {\n",
       "        text-align: right;\n",
       "    }\n",
       "</style>\n",
       "<table border=\"1\" class=\"dataframe\">\n",
       "  <thead>\n",
       "    <tr style=\"text-align: right;\">\n",
       "      <th></th>\n",
       "      <th>question</th>\n",
       "      <th>attributes</th>\n",
       "      <th>global</th>\n",
       "      <th>local</th>\n",
       "      <th>steps</th>\n",
       "      <th>id</th>\n",
       "      <th>metrics</th>\n",
       "      <th>program</th>\n",
       "      <th>sg_grounding</th>\n",
       "      <th>type</th>\n",
       "      <th>structural</th>\n",
       "      <th>semantic</th>\n",
       "      <th>ans_type</th>\n",
       "      <th>video_id</th>\n",
       "    </tr>\n",
       "    <tr>\n",
       "      <th>answer</th>\n",
       "      <th></th>\n",
       "      <th></th>\n",
       "      <th></th>\n",
       "      <th></th>\n",
       "      <th></th>\n",
       "      <th></th>\n",
       "      <th></th>\n",
       "      <th></th>\n",
       "      <th></th>\n",
       "      <th></th>\n",
       "      <th></th>\n",
       "      <th></th>\n",
       "      <th></th>\n",
       "      <th></th>\n",
       "    </tr>\n",
       "  </thead>\n",
       "  <tbody>\n",
       "    <tr>\n",
       "      <th>No</th>\n",
       "      <td>188481</td>\n",
       "      <td>188481</td>\n",
       "      <td>188481</td>\n",
       "      <td>188481</td>\n",
       "      <td>188481</td>\n",
       "      <td>188481</td>\n",
       "      <td>188481</td>\n",
       "      <td>188481</td>\n",
       "      <td>188481</td>\n",
       "      <td>188481</td>\n",
       "      <td>188481</td>\n",
       "      <td>188481</td>\n",
       "      <td>188481</td>\n",
       "      <td>188481</td>\n",
       "    </tr>\n",
       "    <tr>\n",
       "      <th>Yes</th>\n",
       "      <td>188481</td>\n",
       "      <td>188481</td>\n",
       "      <td>188481</td>\n",
       "      <td>188481</td>\n",
       "      <td>188481</td>\n",
       "      <td>188481</td>\n",
       "      <td>188481</td>\n",
       "      <td>188481</td>\n",
       "      <td>188481</td>\n",
       "      <td>188481</td>\n",
       "      <td>188481</td>\n",
       "      <td>188481</td>\n",
       "      <td>188481</td>\n",
       "      <td>188481</td>\n",
       "    </tr>\n",
       "    <tr>\n",
       "      <th>after</th>\n",
       "      <td>82074</td>\n",
       "      <td>82074</td>\n",
       "      <td>82074</td>\n",
       "      <td>82074</td>\n",
       "      <td>82074</td>\n",
       "      <td>82074</td>\n",
       "      <td>82074</td>\n",
       "      <td>82074</td>\n",
       "      <td>82074</td>\n",
       "      <td>82074</td>\n",
       "      <td>82074</td>\n",
       "      <td>82074</td>\n",
       "      <td>82074</td>\n",
       "      <td>82074</td>\n",
       "    </tr>\n",
       "    <tr>\n",
       "      <th>awakening in bed</th>\n",
       "      <td>190</td>\n",
       "      <td>190</td>\n",
       "      <td>190</td>\n",
       "      <td>190</td>\n",
       "      <td>190</td>\n",
       "      <td>190</td>\n",
       "      <td>190</td>\n",
       "      <td>190</td>\n",
       "      <td>190</td>\n",
       "      <td>190</td>\n",
       "      <td>190</td>\n",
       "      <td>190</td>\n",
       "      <td>190</td>\n",
       "      <td>190</td>\n",
       "    </tr>\n",
       "    <tr>\n",
       "      <th>bag</th>\n",
       "      <td>32452</td>\n",
       "      <td>32452</td>\n",
       "      <td>32452</td>\n",
       "      <td>32452</td>\n",
       "      <td>32452</td>\n",
       "      <td>32452</td>\n",
       "      <td>32452</td>\n",
       "      <td>32452</td>\n",
       "      <td>32452</td>\n",
       "      <td>32452</td>\n",
       "      <td>32452</td>\n",
       "      <td>32452</td>\n",
       "      <td>32452</td>\n",
       "      <td>32452</td>\n",
       "    </tr>\n",
       "    <tr>\n",
       "      <th>...</th>\n",
       "      <td>...</td>\n",
       "      <td>...</td>\n",
       "      <td>...</td>\n",
       "      <td>...</td>\n",
       "      <td>...</td>\n",
       "      <td>...</td>\n",
       "      <td>...</td>\n",
       "      <td>...</td>\n",
       "      <td>...</td>\n",
       "      <td>...</td>\n",
       "      <td>...</td>\n",
       "      <td>...</td>\n",
       "      <td>...</td>\n",
       "      <td>...</td>\n",
       "    </tr>\n",
       "    <tr>\n",
       "      <th>watching something in a mirror</th>\n",
       "      <td>420</td>\n",
       "      <td>420</td>\n",
       "      <td>420</td>\n",
       "      <td>420</td>\n",
       "      <td>420</td>\n",
       "      <td>420</td>\n",
       "      <td>420</td>\n",
       "      <td>420</td>\n",
       "      <td>420</td>\n",
       "      <td>420</td>\n",
       "      <td>420</td>\n",
       "      <td>420</td>\n",
       "      <td>420</td>\n",
       "      <td>420</td>\n",
       "    </tr>\n",
       "    <tr>\n",
       "      <th>watching television</th>\n",
       "      <td>375</td>\n",
       "      <td>375</td>\n",
       "      <td>375</td>\n",
       "      <td>375</td>\n",
       "      <td>375</td>\n",
       "      <td>375</td>\n",
       "      <td>375</td>\n",
       "      <td>375</td>\n",
       "      <td>375</td>\n",
       "      <td>375</td>\n",
       "      <td>375</td>\n",
       "      <td>375</td>\n",
       "      <td>375</td>\n",
       "      <td>375</td>\n",
       "    </tr>\n",
       "    <tr>\n",
       "      <th>window</th>\n",
       "      <td>13992</td>\n",
       "      <td>13992</td>\n",
       "      <td>13992</td>\n",
       "      <td>13992</td>\n",
       "      <td>13992</td>\n",
       "      <td>13992</td>\n",
       "      <td>13992</td>\n",
       "      <td>13992</td>\n",
       "      <td>13992</td>\n",
       "      <td>13992</td>\n",
       "      <td>13992</td>\n",
       "      <td>13992</td>\n",
       "      <td>13992</td>\n",
       "      <td>13992</td>\n",
       "    </tr>\n",
       "    <tr>\n",
       "      <th>working at a table</th>\n",
       "      <td>138</td>\n",
       "      <td>138</td>\n",
       "      <td>138</td>\n",
       "      <td>138</td>\n",
       "      <td>138</td>\n",
       "      <td>138</td>\n",
       "      <td>138</td>\n",
       "      <td>138</td>\n",
       "      <td>138</td>\n",
       "      <td>138</td>\n",
       "      <td>138</td>\n",
       "      <td>138</td>\n",
       "      <td>138</td>\n",
       "      <td>138</td>\n",
       "    </tr>\n",
       "    <tr>\n",
       "      <th>working on a book</th>\n",
       "      <td>130</td>\n",
       "      <td>130</td>\n",
       "      <td>130</td>\n",
       "      <td>130</td>\n",
       "      <td>130</td>\n",
       "      <td>130</td>\n",
       "      <td>130</td>\n",
       "      <td>130</td>\n",
       "      <td>130</td>\n",
       "      <td>130</td>\n",
       "      <td>130</td>\n",
       "      <td>130</td>\n",
       "      <td>130</td>\n",
       "      <td>130</td>\n",
       "    </tr>\n",
       "  </tbody>\n",
       "</table>\n",
       "<p>171 rows × 14 columns</p>\n",
       "</div>"
      ],
      "text/plain": [
       "                                question  attributes  global   local   steps  \\\n",
       "answer                                                                         \n",
       "No                                188481      188481  188481  188481  188481   \n",
       "Yes                               188481      188481  188481  188481  188481   \n",
       "after                              82074       82074   82074   82074   82074   \n",
       "awakening in bed                     190         190     190     190     190   \n",
       "bag                                32452       32452   32452   32452   32452   \n",
       "...                                  ...         ...     ...     ...     ...   \n",
       "watching something in a mirror       420         420     420     420     420   \n",
       "watching television                  375         375     375     375     375   \n",
       "window                             13992       13992   13992   13992   13992   \n",
       "working at a table                   138         138     138     138     138   \n",
       "working on a book                    130         130     130     130     130   \n",
       "\n",
       "                                    id  metrics  program  sg_grounding  \\\n",
       "answer                                                                   \n",
       "No                              188481   188481   188481        188481   \n",
       "Yes                             188481   188481   188481        188481   \n",
       "after                            82074    82074    82074         82074   \n",
       "awakening in bed                   190      190      190           190   \n",
       "bag                              32452    32452    32452         32452   \n",
       "...                                ...      ...      ...           ...   \n",
       "watching something in a mirror     420      420      420           420   \n",
       "watching television                375      375      375           375   \n",
       "window                           13992    13992    13992         13992   \n",
       "working at a table                 138      138      138           138   \n",
       "working on a book                  130      130      130           130   \n",
       "\n",
       "                                  type  structural  semantic  ans_type  \\\n",
       "answer                                                                   \n",
       "No                              188481      188481    188481    188481   \n",
       "Yes                             188481      188481    188481    188481   \n",
       "after                            82074       82074     82074     82074   \n",
       "awakening in bed                   190         190       190       190   \n",
       "bag                              32452       32452     32452     32452   \n",
       "...                                ...         ...       ...       ...   \n",
       "watching something in a mirror     420         420       420       420   \n",
       "watching television                375         375       375       375   \n",
       "window                           13992       13992     13992     13992   \n",
       "working at a table                 138         138       138       138   \n",
       "working on a book                  130         130       130       130   \n",
       "\n",
       "                                video_id  \n",
       "answer                                    \n",
       "No                                188481  \n",
       "Yes                               188481  \n",
       "after                              82074  \n",
       "awakening in bed                     190  \n",
       "bag                                32452  \n",
       "...                                  ...  \n",
       "watching something in a mirror       420  \n",
       "watching television                  375  \n",
       "window                             13992  \n",
       "working at a table                   138  \n",
       "working on a book                    130  \n",
       "\n",
       "[171 rows x 14 columns]"
      ]
     },
     "execution_count": 83,
     "metadata": {},
     "output_type": "execute_result"
    }
   ],
   "source": [
    "x = df#[df['steps'] == 1]\n",
    "x.groupby(['answer']).count().sort_values('question')"
   ]
  },
  {
   "cell_type": "code",
   "execution_count": null,
   "metadata": {},
   "outputs": [],
   "source": []
  },
  {
   "cell_type": "markdown",
   "metadata": {},
   "source": [
    "# todo\n",
    "\n",
    "- check enough of each template\n",
    "- check no negative scene graphs\n",
    "- programs have right number of \"(\" as \")\"\n",
    "- local distributions are decent\n",
    "\n",
    "\n",
    "- ensure everything works for just test set as well! YUP :)"
   ]
  },
  {
   "cell_type": "code",
   "execution_count": 15,
   "metadata": {},
   "outputs": [
    {
     "name": "stdout",
     "output_type": "stream",
     "text": [
      "0\n",
      "500000\n"
     ]
    }
   ],
   "source": [
    "ls = {}\n",
    "\n",
    "\n",
    "for cnt, q_id in enumerate(list(total)):\n",
    "    if cnt % 500000 == 0:\n",
    "        print(cnt)\n",
    "    q = total[q_id]\n",
    "    l = q['local']#getBinaryCat(q)\n",
    "    a = q['answer']\n",
    "    \n",
    "    if l not in ls:\n",
    "        ls[l] = {}\n",
    "        \n",
    "    if a not in ls[l]:\n",
    "        ls[l][a] = 0\n",
    "    ls[l][a] += 1"
   ]
  },
  {
   "cell_type": "code",
   "execution_count": 16,
   "metadata": {},
   "outputs": [],
   "source": [
    "for l in ls:\n",
    "    if len(ls[l]) ==1:\n",
    "        print(l, ls[l])"
   ]
  },
  {
   "cell_type": "code",
   "execution_count": 5,
   "metadata": {
    "scrolled": true
   },
   "outputs": [
    {
     "name": "stdout",
     "output_type": "stream",
     "text": [
      "0\n"
     ]
    },
    {
     "ename": "FileNotFoundError",
     "evalue": "[Errno 2] No such file or directory: '../exports/dataset/balanced_fixed/train/46GP8.txt'",
     "output_type": "error",
     "traceback": [
      "\u001b[0;31m---------------------------------------------------------------------------\u001b[0m",
      "\u001b[0;31mFileNotFoundError\u001b[0m                         Traceback (most recent call last)",
      "\u001b[0;32m<ipython-input-5-be011ed889f7>\u001b[0m in \u001b[0;36m<module>\u001b[0;34m\u001b[0m\n\u001b[1;32m      4\u001b[0m         \u001b[0mprint\u001b[0m\u001b[0;34m(\u001b[0m\u001b[0mcnt\u001b[0m\u001b[0;34m)\u001b[0m\u001b[0;34m\u001b[0m\u001b[0;34m\u001b[0m\u001b[0m\n\u001b[1;32m      5\u001b[0m \u001b[0;34m\u001b[0m\u001b[0m\n\u001b[0;32m----> 6\u001b[0;31m     \u001b[0;32mwith\u001b[0m \u001b[0mopen\u001b[0m\u001b[0;34m(\u001b[0m\u001b[0;34m'../exports/dataset/balanced_fixed/train/%s.txt'\u001b[0m\u001b[0;34m%\u001b[0m \u001b[0mv_id\u001b[0m\u001b[0;34m,\u001b[0m \u001b[0;34m'rb'\u001b[0m\u001b[0;34m)\u001b[0m \u001b[0;32mas\u001b[0m \u001b[0mf\u001b[0m\u001b[0;34m:\u001b[0m\u001b[0;34m\u001b[0m\u001b[0;34m\u001b[0m\u001b[0m\n\u001b[0m\u001b[1;32m      7\u001b[0m         \u001b[0mQA\u001b[0m \u001b[0;34m=\u001b[0m \u001b[0mjson\u001b[0m\u001b[0;34m.\u001b[0m\u001b[0mload\u001b[0m\u001b[0;34m(\u001b[0m\u001b[0mf\u001b[0m\u001b[0;34m)\u001b[0m\u001b[0;34m\u001b[0m\u001b[0;34m\u001b[0m\u001b[0m\n\u001b[1;32m      8\u001b[0m     \u001b[0;32mfor\u001b[0m \u001b[0mq_id\u001b[0m \u001b[0;32min\u001b[0m \u001b[0mQA\u001b[0m\u001b[0;34m:\u001b[0m\u001b[0;34m\u001b[0m\u001b[0;34m\u001b[0m\u001b[0m\n",
      "\u001b[0;31mFileNotFoundError\u001b[0m: [Errno 2] No such file or directory: '../exports/dataset/balanced_fixed/train/46GP8.txt'"
     ]
    }
   ],
   "source": [
    "templs = getTemplDict()\n",
    "for cnt, v_id in enumerate(list(train_stsgs)):\n",
    "    if cnt % 500 == 0:\n",
    "        print(cnt)\n",
    "    \n",
    "    with open('../exports/dataset/balanced_fixed/train/%s.txt'% v_id, 'rb') as f:\n",
    "        QA = json.load(f)\n",
    "    for q_id in QA:\n",
    "        q = QA[q_id]\n",
    "        t = q['attributes']['type']\n",
    "\n",
    "        templs[t] += 1"
   ]
  },
  {
   "cell_type": "markdown",
   "metadata": {},
   "source": []
  },
  {
   "cell_type": "code",
   "execution_count": null,
   "metadata": {},
   "outputs": [],
   "source": [
    "templs"
   ]
  },
  {
   "cell_type": "code",
   "execution_count": 58,
   "metadata": {},
   "outputs": [
    {
     "name": "stdout",
     "output_type": "stream",
     "text": [
      "0\n",
      "500000\n",
      "1000000\n",
      "1500000\n",
      "2000000\n",
      "2500000\n",
      "3000000\n",
      "3500000\n"
     ]
    }
   ],
   "source": [
    "\n",
    "for cnt, q_id in enumerate(list(total)):\n",
    "    if cnt % 500000 == 0:\n",
    "        print(cnt)\n",
    "    q = total[q_id]\n",
    "    \n",
    "    p = q['program']\n",
    "    \n",
    "    forw = p.count('(')\n",
    "    back = p.count(')')\n",
    "    \n",
    "    if forw != back:\n",
    "        print(p)"
   ]
  },
  {
   "cell_type": "code",
   "execution_count": 60,
   "metadata": {},
   "outputs": [
    {
     "name": "stdout",
     "output_type": "stream",
     "text": [
      "0\n",
      "500000\n",
      "1000000\n",
      "1500000\n",
      "2000000\n",
      "2500000\n",
      "3000000\n",
      "3500000\n"
     ]
    }
   ],
   "source": [
    "\n",
    "for cnt, q_id in enumerate(list(total)):\n",
    "    if cnt % 500000 == 0:\n",
    "        print(cnt)\n",
    "    q = total[q_id]\n",
    "    \n",
    "    \n",
    "    sg = q['sg_grounding']\n",
    "    for key in sg:\n",
    "        if len(key.split('-')) > 2:\n",
    "            print(key)"
   ]
  },
  {
   "cell_type": "markdown",
   "metadata": {},
   "source": [
    "# check locals"
   ]
  },
  {
   "cell_type": "code",
   "execution_count": 13,
   "metadata": {},
   "outputs": [],
   "source": [
    "df = pd.DataFrame(all_data)"
   ]
  },
  {
   "cell_type": "code",
   "execution_count": 24,
   "metadata": {},
   "outputs": [
    {
     "data": {
      "text/plain": [
       "{'pillow': 8054,\n",
       " 'blanket': 27673,\n",
       " 'yes': 67519,\n",
       " 'tidying up a blanket': 43,\n",
       " 'before': 39822,\n",
       " 'after': 39822,\n",
       " 'dish': 30023,\n",
       " 'window': 5111,\n",
       " 'chair': 28542,\n",
       " 'vacuum': 1725,\n",
       " 'no': 67519,\n",
       " 'smiling at something': 332,\n",
       " 'sitting in a chair': 210,\n",
       " 'holding a dish': 279,\n",
       " 'laughing at something': 199,\n",
       " 'holding a cup of something': 361,\n",
       " 'holding a vacuum': 41,\n",
       " 'watching outside of a window': 77,\n",
       " 'standing up': 326,\n",
       " 'clothes': 24178,\n",
       " 'mirror': 7336,\n",
       " 'phone': 8752,\n",
       " 'food': 28048,\n",
       " 'table': 27136,\n",
       " 'paper': 22016,\n",
       " 'holding some food': 405,\n",
       " 'holding a book': 197,\n",
       " 'making some food': 93,\n",
       " 'doorway': 14876,\n",
       " 'closet': 17572,\n",
       " 'light': 2464,\n",
       " 'door': 9948,\n",
       " 'closing a door': 8,\n",
       " 'watching something in a mirror': 105,\n",
       " 'tidying up a closet': 67,\n",
       " 'washing something with a blanket': 84,\n",
       " 'holding a blanket': 326,\n",
       " 'floor': 20529,\n",
       " 'sitting on the floor': 134,\n",
       " 'working on a book': 39,\n",
       " 'laptop': 9813,\n",
       " 'holding a laptop': 75,\n",
       " 'undressing themselves': 77,\n",
       " 'doorknob': 9876,\n",
       " 'bed': 45006,\n",
       " 'shoe': 12127,\n",
       " 'holding some clothes': 224,\n",
       " 'awakening in bed': 48,\n",
       " 'lying on a bed': 166,\n",
       " 'holding a phone': 259,\n",
       " 'playing with a phone': 153,\n",
       " 'putting a dish somewhere': 5,\n",
       " 'bag': 11782,\n",
       " 'picture': 3792,\n",
       " 'sitting in a bed': 338,\n",
       " 'television': 4922,\n",
       " 'eating some food': 226,\n",
       " 'watching television': 129,\n",
       " 'running somewhere': 28,\n",
       " 'drinking from a cup': 126,\n",
       " 'laughing at a television': 8,\n",
       " 'going from standing to sitting': 63,\n",
       " 'watching a laptop or something on a laptop': 81,\n",
       " 'washing their hands': 27,\n",
       " 'washing a dish': 26,\n",
       " 'turning off a light': 23,\n",
       " 'broom': 4831,\n",
       " 'tidying something on the floor': 118,\n",
       " 'refrigerator': 4503,\n",
       " 'box': 9976,\n",
       " 'holding a paper': 151,\n",
       " 'snuggling with a blanket': 126,\n",
       " 'lying on the floor': 42,\n",
       " 'holding a bag': 157,\n",
       " 'medicine': 2935,\n",
       " 'holding some medicine': 52,\n",
       " 'sneezing somewhere': 52,\n",
       " 'holding a box': 98,\n",
       " 'tidying up a table': 137,\n",
       " 'holding a broom': 97,\n",
       " 'fixing a door': 13,\n",
       " 'fixing their hair': 36,\n",
       " 'holding a picture': 42,\n",
       " 'putting a broom somewhere': 12,\n",
       " 'taking off some shoes': 19,\n",
       " 'dressing themselves': 140,\n",
       " 'holding a mirror': 7,\n",
       " 'sitting at a table': 96,\n",
       " 'washing a table': 2,\n",
       " 'holding a shoe': 60,\n",
       " 'putting on a shoe': 28,\n",
       " 'opening a door': 8,\n",
       " 'watching a book': 121,\n",
       " 'laughing at a picture': 10,\n",
       " 'walking through a doorway': 142,\n",
       " 'smiling in a mirror': 8,\n",
       " 'holding a pillow': 102,\n",
       " 'grasping onto a doorknob': 81,\n",
       " 'snuggling with a pillow': 55,\n",
       " 'consuming some medicine': 24,\n",
       " 'putting something on a table': 11,\n",
       " 'closing a laptop': 1,\n",
       " 'washing some clothes': 18,\n",
       " 'putting a blanket somewhere': 26,\n",
       " 'putting a picture somewhere': 1,\n",
       " 'reaching for and grabbing a picture': 1,\n",
       " 'watching a picture': 46,\n",
       " 'smiling at a book': 24,\n",
       " 'throwing something on the floor': 5,\n",
       " 'closing a closet': 33,\n",
       " 'turning on a light': 10,\n",
       " 'throwing a pillow somewhere': 2,\n",
       " 'working at a table': 26,\n",
       " 'opening a bag': 8,\n",
       " 'pouring something into a cup': 17,\n",
       " 'taking some clothes from somewhere': 7,\n",
       " 'throwing clothes somewhere': 30,\n",
       " 'opening a closet': 25,\n",
       " 'washing a cup': 15,\n",
       " 'putting some food somewhere': 6,\n",
       " 'sitting on a table': 4,\n",
       " 'taking food from somewhere': 20,\n",
       " 'fixing a doorknob': 12,\n",
       " 'putting clothes somewhere': 29,\n",
       " 'opening a refrigerator': 22,\n",
       " 'throwing a blanket somewhere': 10,\n",
       " 'talking on a phone': 42,\n",
       " 'tidying some clothes': 22,\n",
       " 'taking a picture of something': 16,\n",
       " 'taking a bag from somewhere': 17,\n",
       " 'opening a window': 10,\n",
       " 'taking paper from somewhere': 1,\n",
       " 'putting a phone somewhere': 12,\n",
       " 'putting a cup somewhere': 18,\n",
       " 'fixing a light': 3,\n",
       " 'taking a broom from somewhere': 4,\n",
       " 'taking a blanket from somewhere': 1,\n",
       " 'taking a phone from somewhere': 5,\n",
       " 'closing a book': 2,\n",
       " 'throwing a box somewhere': 1,\n",
       " 'putting a laptop somewhere': 6,\n",
       " 'standing on a chair': 1,\n",
       " 'opening a box': 12,\n",
       " 'closing a refrigerator': 2,\n",
       " 'taking a cup from somewhere': 3,\n",
       " 'putting a bag somewhere': 1,\n",
       " 'closing a box': 1,\n",
       " 'taking shoes from somewhere': 3,\n",
       " 'taking a pillow from somewhere': 4,\n",
       " 'putting a box somewhere': 11,\n",
       " 'opening a laptop': 1,\n",
       " 'taking a laptop from somewhere': 1,\n",
       " 'taking something from a box': 2,\n",
       " 'putting shoes somewhere': 1}"
      ]
     },
     "execution_count": 24,
     "metadata": {},
     "output_type": "execute_result"
    }
   ],
   "source": [
    "ans = all_data['answer']\n",
    "\n",
    "ans"
   ]
  },
  {
   "cell_type": "code",
   "execution_count": 40,
   "metadata": {},
   "outputs": [
    {
     "data": {
      "text/plain": [
       "1024871"
      ]
     },
     "execution_count": 40,
     "metadata": {},
     "output_type": "execute_result"
    }
   ],
   "source": [
    "len(test)"
   ]
  },
  {
   "cell_type": "code",
   "execution_count": 41,
   "metadata": {},
   "outputs": [
    {
     "data": {
      "text/plain": [
       "2483144"
      ]
     },
     "execution_count": 41,
     "metadata": {},
     "output_type": "execute_result"
    }
   ],
   "source": [
    "len(train)"
   ]
  },
  {
   "cell_type": "code",
   "execution_count": 12,
   "metadata": {},
   "outputs": [
    {
     "name": "stdout",
     "output_type": "stream",
     "text": [
      "{'question': 'Were they touching a blanket?', 'answer': 'yes', 'video_id': 'YSKX3', 'global': ['exists'], 'local': 'yes-no-o4', 'ans_type': 'binary', 'steps': 1, 'semantic': 'object', 'structural': 'verify', 'novel_comp': 0, 'more_steps': 0, 'program': 'Exists(blanket, Iterate(video, Filter(frame, [objects])))', 'sg_grounding': {'19-28': ['o4/000209', 'o4/000105', 'o4/000224', 'o4/000134', 'o4/000223', 'o4/000163', 'o4/000192'], '27-27': ['000105', '000134', '000163', '000192', '000205', '000209', '000221', '000223', '000224', '000235', '000237', '000239', '000247', '000252', '000254', '000258', '000268', '000269', '000270']}, 'nc_seq': 0, 'nc_sup': 0, 'nc_dur': 0, 'nc_objrel': 0, 'indirect': 0, 'i_obj': 0, 'i_rel': 0, 'i_act': 0, 'i_temp': 0, 'direct_equiv': 'YSKX3-9'}\n"
     ]
    }
   ],
   "source": [
    "for i in total:\n",
    "    print(total[i])\n",
    "    break"
   ]
  },
  {
   "cell_type": "markdown",
   "metadata": {},
   "source": [
    "# Problems\n",
    "- Novel compositions obj-rel!!!\n",
    "     - check if they're both in scene graphs!!!\n",
    "     - actually programs\n",
    "     - but an issue -- because might be in separate parts. also because if indirect ref refers to an object, then it won't be in. so we'll also have to look at args?\n",
    "     - and there's still a problem for generating new ones...\n",
    "     \n",
    "     \n",
    "     1- if it's in the args (+ answer), then objrel\n",
    "     2- if they're both in program, then objrel\n",
    "         - \n",
    "     \n",
    "     \n",
    "- too small\n",
    "    - we're going to replace the existing balancing!!!\n",
    "    - NO NOT DIFFERENT ALL oh this is good\n",
    "    - ok so we replace all actTime with new balanced actTime, and add balanced logic\n",
    "    - and then delete any between in balanced with negative scene graphs!!\n",
    "    \n",
    "    \n",
    "- and i havent actually fixed what's the problem in struct"
   ]
  },
  {
   "cell_type": "code",
   "execution_count": null,
   "metadata": {},
   "outputs": [],
   "source": [
    "Exists(blanket, Iterate(video, Filter(frame, [objects])))"
   ]
  },
  {
   "cell_type": "code",
   "execution_count": null,
   "metadata": {},
   "outputs": [],
   "source": []
  },
  {
   "cell_type": "code",
   "execution_count": 15,
   "metadata": {},
   "outputs": [
    {
     "name": "stdout",
     "output_type": "stream",
     "text": [
      "0\n"
     ]
    },
    {
     "data": {
      "text/plain": [
       "{0: 1611348, 1: 44334}"
      ]
     },
     "execution_count": 15,
     "metadata": {},
     "output_type": "execute_result"
    }
   ],
   "source": [
    "nc = {\n",
    "    0: 0,\n",
    "    1: 0,\n",
    "}\n",
    "\n",
    "\n",
    "\n",
    "for cnt, v_id in enumerate(list(test_stsgs)[:50]):\n",
    "    \n",
    "    with open('../exports/dataset/all/test/%s.txt'% v_id, 'rb') as f:\n",
    "        QA = json.load(f)\n",
    "    if cnt % 10 == 0:\n",
    "        print(cnt)\n",
    "        \n",
    "    for q_id in QA:\n",
    "        q = QA[q_id]\n",
    "        m = q['metrics']['novel_comp'][-1]\n",
    "        nc[m] += 1\n",
    "        \n",
    "nc\n"
   ]
  },
  {
   "cell_type": "code",
   "execution_count": 29,
   "metadata": {
    "scrolled": true
   },
   "outputs": [
    {
     "name": "stdout",
     "output_type": "stream",
     "text": [
      "0\n",
      "500\n",
      "1000\n",
      "1500\n",
      "2000\n",
      "2500\n",
      "3000\n",
      "3500\n",
      "4000\n",
      "4500\n",
      "5000\n",
      "5500\n",
      "6000\n",
      "6500\n",
      "7000\n",
      "7500\n"
     ]
    },
    {
     "data": {
      "text/plain": [
       "100178"
      ]
     },
     "execution_count": 29,
     "metadata": {},
     "output_type": "execute_result"
    }
   ],
   "source": [
    "nc = {\n",
    "    0: 0,\n",
    "    1: 0,\n",
    "}\n",
    "\n",
    "to_del = set()\n",
    "\n",
    "for cnt, v_id in enumerate(list(train_stsgs)):\n",
    "    \n",
    "    with open('../exports/dataset/balanced_copy/train/%s.txt'% v_id, 'rb') as f:\n",
    "        QA = json.load(f)\n",
    "    if cnt % 500 == 0:\n",
    "        print(cnt)\n",
    "        \n",
    "    for q_id in QA:\n",
    "        q = QA[q_id]\n",
    "        \n",
    "        #if q['attributes']['type'] in ['xorObjRelExists', 'andObjRelExists']:\n",
    "        if q['attributes']['type'] in ['actTime']:\n",
    "            to_del.add(q_id)\n",
    "            \n",
    "            continue\n",
    "        \n",
    "        #sg = q['sg_grounding']\n",
    "        #for key in sg:\n",
    "        #    if len(key.split('-')) > 2:\n",
    "        #        to_del.add(key)\n",
    "\n",
    "    \n",
    "len(to_del)\n"
   ]
  },
  {
   "cell_type": "markdown",
   "metadata": {},
   "source": [
    "# train\n",
    ">>> new\n",
    "2016295\n",
    ">>> fixed\n",
    "2203065\n",
    ">>> deleted\n",
    "1970207\n",
    ">>> old\n",
    "2483144\n",
    ">>> old - deleted\n",
    "512937\n",
    "\n"
   ]
  },
  {
   "cell_type": "markdown",
   "metadata": {},
   "source": [
    "# i will probs need to add in between!!"
   ]
  },
  {
   "cell_type": "code",
   "execution_count": null,
   "metadata": {},
   "outputs": [],
   "source": []
  },
  {
   "cell_type": "code",
   "execution_count": 34,
   "metadata": {},
   "outputs": [
    {
     "name": "stdout",
     "output_type": "stream",
     "text": [
      "0\n",
      "500\n",
      "1000\n",
      "1500\n"
     ]
    }
   ],
   "source": [
    "# what's in copy but not in balanced fixed\n",
    "\n",
    "\n",
    "nc = {\n",
    "    0: 0,\n",
    "    1: 0,\n",
    "}\n",
    "\n",
    "not_in_fix = []\n",
    "\n",
    "for cnt, v_id in enumerate(list(test_stsgs)):\n",
    "    with open('../exports/dataset/balanced_/test/%s.txt'% v_id, 'rb') as f:\n",
    "        QA_copy = json.load(f)\n",
    "    with open('../exports/dataset/balanced_fixed/test/%s.txt'% v_id, 'rb') as f:\n",
    "        QA_fixed = json.load(f)\n",
    "    if cnt % 500 == 0:\n",
    "        print(cnt)\n",
    "        \n",
    "    for q_id in QA_copy:\n",
    "        \n",
    "        if q_id not in QA_fixed:\n",
    "            not_in_fix.append(q_id)\n"
   ]
  },
  {
   "cell_type": "code",
   "execution_count": 31,
   "metadata": {},
   "outputs": [
    {
     "data": {
      "text/plain": [
       "293151"
      ]
     },
     "execution_count": 31,
     "metadata": {},
     "output_type": "execute_result"
    }
   ],
   "source": [
    "len(not_in_fix)"
   ]
  },
  {
   "cell_type": "code",
   "execution_count": 35,
   "metadata": {},
   "outputs": [
    {
     "data": {
      "text/plain": [
       "132940"
      ]
     },
     "execution_count": 35,
     "metadata": {},
     "output_type": "execute_result"
    }
   ],
   "source": [
    "len(not_in_fix) # test"
   ]
  },
  {
   "cell_type": "code",
   "execution_count": 11,
   "metadata": {},
   "outputs": [
    {
     "ename": "NameError",
     "evalue": "name 'not_in_fix' is not defined",
     "output_type": "error",
     "traceback": [
      "\u001b[0;31m---------------------------------------------------------------------------\u001b[0m",
      "\u001b[0;31mNameError\u001b[0m                                 Traceback (most recent call last)",
      "\u001b[0;32m<ipython-input-11-f7e164548db9>\u001b[0m in \u001b[0;36m<module>\u001b[0;34m\u001b[0m\n\u001b[1;32m      1\u001b[0m \u001b[0mby_vid\u001b[0m \u001b[0;34m=\u001b[0m \u001b[0;34m{\u001b[0m\u001b[0;34m}\u001b[0m\u001b[0;34m\u001b[0m\u001b[0;34m\u001b[0m\u001b[0m\n\u001b[1;32m      2\u001b[0m \u001b[0;34m\u001b[0m\u001b[0m\n\u001b[0;32m----> 3\u001b[0;31m \u001b[0;32mfor\u001b[0m \u001b[0mq_id\u001b[0m \u001b[0;32min\u001b[0m \u001b[0mnot_in_fix\u001b[0m\u001b[0;34m:\u001b[0m\u001b[0;34m\u001b[0m\u001b[0;34m\u001b[0m\u001b[0m\n\u001b[0m\u001b[1;32m      4\u001b[0m     \u001b[0mv_id\u001b[0m \u001b[0;34m=\u001b[0m \u001b[0mq_id\u001b[0m\u001b[0;34m[\u001b[0m\u001b[0;34m:\u001b[0m\u001b[0;36m5\u001b[0m\u001b[0;34m]\u001b[0m\u001b[0;34m\u001b[0m\u001b[0;34m\u001b[0m\u001b[0m\n\u001b[1;32m      5\u001b[0m     \u001b[0;32mif\u001b[0m \u001b[0mv_id\u001b[0m \u001b[0;32mnot\u001b[0m \u001b[0;32min\u001b[0m \u001b[0mby_vid\u001b[0m\u001b[0;34m:\u001b[0m\u001b[0;34m\u001b[0m\u001b[0;34m\u001b[0m\u001b[0m\n",
      "\u001b[0;31mNameError\u001b[0m: name 'not_in_fix' is not defined"
     ]
    }
   ],
   "source": [
    "by_vid = {}\n",
    "\n",
    "for q_id in not_in_fix:\n",
    "    v_id = q_id[:5]\n",
    "    if v_id not in by_vid:\n",
    "        by_vid[v_id] = []\n",
    "        \n",
    "    by_vid[v_id].append(q_id)\n",
    "    \n",
    "    \n",
    "for v_id in by_vid:\n",
    "    by_vid[v_id] = list(set(by_vid[v_id]))"
   ]
  },
  {
   "cell_type": "code",
   "execution_count": 14,
   "metadata": {},
   "outputs": [
    {
     "name": "stdout",
     "output_type": "stream",
     "text": [
      "0\n",
      "500\n",
      "1000\n",
      "1500\n",
      "2000\n",
      "2500\n",
      "3000\n",
      "3500\n",
      "4000\n",
      "4500\n",
      "5000\n",
      "5500\n",
      "6000\n",
      "6500\n",
      "7000\n",
      "7500\n"
     ]
    }
   ],
   "source": [
    "templs = {}\n",
    "neg_sg = {\n",
    "    0: 0,\n",
    "    1: 0\n",
    "}\n",
    "for cnt, v_id in enumerate(list(train_stsgs)):\n",
    "    if cnt % 500 == 0:\n",
    "        print(cnt)\n",
    "    with open('../exports/dataset/balanced/train/%s.txt'% v_id, 'rb') as f:\n",
    "        QA = json.load(f)\n",
    "        \n",
    "    #if v_id not in by_vid:\n",
    "    #    continue\n",
    "    for q_id in QA:\n",
    "        q = QA[q_id]\n",
    "        t = q['attributes']['type']\n",
    "        \n",
    "        \n",
    "        \n",
    "        sg = q['sg_grounding']\n",
    "        neg_key = False\n",
    "        for key in sg:\n",
    "            if len(key.split('-')) > 2:\n",
    "                neg_key = True\n",
    "                break\n",
    "        if neg_key:\n",
    "            neg_sg[1] += 1\n",
    "        else:\n",
    "            neg_sg[0] += 1\n",
    "            if t not in templs:\n",
    "                templs[t] = 0\n",
    "\n",
    "            templs[t] += 1\n",
    "                "
   ]
  },
  {
   "cell_type": "code",
   "execution_count": 22,
   "metadata": {},
   "outputs": [
    {
     "data": {
      "text/plain": [
       "{'objRelExists': 39584,\n",
       " 'objWhatGeneral': 14576,\n",
       " 'objWhat': 619224,\n",
       " 'actWhatBefore': 1618,\n",
       " 'objFirst': 53870,\n",
       " 'actFirst': 4892,\n",
       " 'objLast': 85232,\n",
       " 'objLastChoose': 78692,\n",
       " 'actLast': 1029,\n",
       " 'relTime': 99352,\n",
       " 'objLastVerify': 43562,\n",
       " 'objWhatChoose': 93854,\n",
       " 'objFirstChoose': 78616,\n",
       " 'objFirstVerify': 46912,\n",
       " 'actTime': 100408,\n",
       " 'actLengthLongerChoose': 9350,\n",
       " 'actLengthShorterChoose': 9350,\n",
       " 'actLengthLongerVerify': 9350,\n",
       " 'actLengthShorterVerify': 9350,\n",
       " 'actWhatAfterAll': 3285,\n",
       " 'actShortest': 418,\n",
       " 'actLongest': 1981,\n",
       " 'objExists': 39306,\n",
       " 'objTime': 418,\n",
       " 'andObjRelExists': 39306,\n",
       " 'relExists': 39306,\n",
       " 'xorObjRelExists': 39306,\n",
       " 'actExists': 39306}"
      ]
     },
     "execution_count": 22,
     "metadata": {},
     "output_type": "execute_result"
    }
   ],
   "source": [
    "templs"
   ]
  },
  {
   "cell_type": "code",
   "execution_count": 15,
   "metadata": {},
   "outputs": [
    {
     "data": {
      "text/plain": [
       "{'objWhatGeneral': 14175,\n",
       " 'objWhat': 599777,\n",
       " 'actWhatBefore': 1513,\n",
       " 'objFirst': 52296,\n",
       " 'actFirst': 4673,\n",
       " 'objLast': 81199,\n",
       " 'objLastChoose': 76470,\n",
       " 'objLastVerify': 40966,\n",
       " 'actLast': 1018,\n",
       " 'relTime': 95176,\n",
       " 'objWhatChoose': 93770,\n",
       " 'objFirstChoose': 75568,\n",
       " 'objFirstVerify': 46912,\n",
       " 'actTime': 95128,\n",
       " 'actLengthLongerChoose': 9350,\n",
       " 'actLengthShorterChoose': 9350,\n",
       " 'actLengthLongerVerify': 9350,\n",
       " 'actLengthShorterVerify': 9350,\n",
       " 'actWhatAfterAll': 3109,\n",
       " 'actShortest': 418,\n",
       " 'actLongest': 1981,\n",
       " 'objRelExists': 38008,\n",
       " 'objTime': 396,\n",
       " 'objExists': 38008,\n",
       " 'andObjRelExists': 38008,\n",
       " 'relExists': 38008,\n",
       " 'xorObjRelExists': 38008,\n",
       " 'actExists': 38008}"
      ]
     },
     "execution_count": 15,
     "metadata": {},
     "output_type": "execute_result"
    }
   ],
   "source": [
    "templs"
   ]
  },
  {
   "cell_type": "code",
   "execution_count": 16,
   "metadata": {},
   "outputs": [
    {
     "data": {
      "text/plain": [
       "{0: 1549993, 1: 0}"
      ]
     },
     "execution_count": 16,
     "metadata": {},
     "output_type": "execute_result"
    }
   ],
   "source": [
    "neg_sg"
   ]
  },
  {
   "cell_type": "markdown",
   "metadata": {},
   "source": [
    "# No repeating programs in a video"
   ]
  },
  {
   "cell_type": "code",
   "execution_count": 18,
   "metadata": {},
   "outputs": [
    {
     "data": {
      "text/plain": [
       "(0, 606407)"
      ]
     },
     "execution_count": 18,
     "metadata": {},
     "output_type": "execute_result"
    }
   ],
   "source": [
    "cnt = 0\n",
    "cnt_good = 0\n",
    "repetition = {}\n",
    "for v_id in list(test_stsgs):\n",
    "    with open('../exports/dataset/balanced/test/%s.txt' % v_id, 'rb') as f:\n",
    "        QA = json.load(f)\n",
    "\n",
    "    progs = {}\n",
    "    repetition[v_id] = {}\n",
    "    for q_id in QA:\n",
    "        q = QA[q_id]\n",
    "        p = q['program']\n",
    "        t = q['attributes']['type']\n",
    "        \n",
    "        if p not in repetition[v_id]:\n",
    "            repetition[v_id][p] = {}\n",
    "            cnt_good += 1\n",
    "        else:\n",
    "            cnt += 1\n",
    "            \n",
    "        if t not in repetition[v_id][p]:\n",
    "            repetition[v_id][p][t] = 0\n",
    "        repetition[v_id][p][t] += 1#.append((q['question'], q_id, q['attributes']['type']))\n",
    "\n",
    "cnt, cnt_good"
   ]
  },
  {
   "cell_type": "code",
   "execution_count": 6,
   "metadata": {},
   "outputs": [],
   "source": [
    "if False:\n",
    "    for v_id in repetition:\n",
    "        for p in repetition[v_id]:\n",
    "            qs = repetition[v_id][p]\n",
    "\n",
    "            if len(qs) > 1:\n",
    "                print()\n",
    "                print(v_id)\n",
    "                print(p)\n",
    "                for q in qs:\n",
    "                    print(' '*4, q)"
   ]
  },
  {
   "cell_type": "code",
   "execution_count": 38,
   "metadata": {},
   "outputs": [
    {
     "data": {
      "text/plain": [
       "0.020995267322812015"
      ]
     },
     "execution_count": 38,
     "metadata": {},
     "output_type": "execute_result"
    }
   ],
   "source": [
    "13149 / (13149 + 613135)"
   ]
  },
  {
   "cell_type": "code",
   "execution_count": 5,
   "metadata": {},
   "outputs": [],
   "source": [
    "if False:\n",
    "    for v_id in repetition:\n",
    "        for p in repetition[v_id]:\n",
    "            qs = repetition[v_id][p]\n",
    "\n",
    "            if len(qs) > 1:\n",
    "                print()\n",
    "                print(v_id)\n",
    "                print(p)\n",
    "                for q in qs:\n",
    "                    print(' '*4, q, qs)"
   ]
  },
  {
   "cell_type": "code",
   "execution_count": 11,
   "metadata": {},
   "outputs": [
    {
     "data": {
      "text/plain": [
       "(0, 606407)"
      ]
     },
     "execution_count": 11,
     "metadata": {},
     "output_type": "execute_result"
    }
   ],
   "source": [
    "cnt = 0\n",
    "cnt_good = 0\n",
    "templs = {}\n",
    "repetition = {}\n",
    "for v_id in list(test_stsgs):\n",
    "    with open('../exports/dataset/balanced/test/%s.txt' % v_id, 'rb') as f:\n",
    "        QA = json.load(f)\n",
    "\n",
    "    progs = {}\n",
    "    repetition[v_id] = {}\n",
    "    for q_id in QA:\n",
    "        q = QA[q_id]\n",
    "        p = q['program']\n",
    "        t = q['attributes']['type']\n",
    "        a = q['answer']\n",
    "        \n",
    "        if p not in repetition[v_id]:\n",
    "            cnt_good += 1\n",
    "        else:\n",
    "            cnt += 1\n",
    "            if t not in templs:\n",
    "                templs[t] = {}\n",
    "            if a not in templs[t]:\n",
    "                templs[t][a] = 0\n",
    "            templs[t][a] += 1\n",
    "            \n",
    "        repetition[v_id][p] = 0\n",
    "\n",
    "cnt, cnt_good"
   ]
  },
  {
   "cell_type": "code",
   "execution_count": 12,
   "metadata": {},
   "outputs": [
    {
     "data": {
      "text/plain": [
       "{}"
      ]
     },
     "execution_count": 12,
     "metadata": {},
     "output_type": "execute_result"
    }
   ],
   "source": [
    "templs"
   ]
  },
  {
   "cell_type": "code",
   "execution_count": 14,
   "metadata": {},
   "outputs": [
    {
     "data": {
      "text/plain": [
       "19877"
      ]
     },
     "execution_count": 14,
     "metadata": {},
     "output_type": "execute_result"
    }
   ],
   "source": [
    "626284 - 606407"
   ]
  },
  {
   "cell_type": "code",
   "execution_count": null,
   "metadata": {},
   "outputs": [],
   "source": [
    "(0, 192923)\n",
    "(6895, 192923)"
   ]
  }
 ],
 "metadata": {
  "kernelspec": {
   "display_name": "Python 3",
   "language": "python",
   "name": "python3"
  },
  "language_info": {
   "codemirror_mode": {
    "name": "ipython",
    "version": 3
   },
   "file_extension": ".py",
   "mimetype": "text/x-python",
   "name": "python",
   "nbconvert_exporter": "python",
   "pygments_lexer": "ipython3",
   "version": "3.7.6"
  }
 },
 "nbformat": 4,
 "nbformat_minor": 4
}
