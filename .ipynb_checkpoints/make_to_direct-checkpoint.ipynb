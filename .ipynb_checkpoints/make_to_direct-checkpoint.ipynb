{
 "cells": [
  {
   "cell_type": "code",
   "execution_count": 1,
   "metadata": {},
   "outputs": [],
   "source": [
    "import json\n",
    "import pickle"
   ]
  },
  {
   "cell_type": "code",
   "execution_count": 2,
   "metadata": {},
   "outputs": [],
   "source": [
    "#infile = open('../data/test_videos_stsg.pkl', 'rb')\n",
    "infile = open('../data/testing_camera_ready_stsgs.pkl', 'rb')\n",
    "test_stsgs = pickle.load(infile)\n",
    "infile.close()"
   ]
  },
  {
   "cell_type": "code",
   "execution_count": 3,
   "metadata": {},
   "outputs": [],
   "source": [
    "#infile = open('../data/test_videos_stsg.pkl', 'rb')\n",
    "infile = open('../data/training_camera_ready_stsgs.pkl', 'rb')\n",
    "train_stsgs = pickle.load(infile)\n",
    "infile.close()"
   ]
  },
  {
   "cell_type": "code",
   "execution_count": 4,
   "metadata": {},
   "outputs": [
    {
     "data": {
      "text/plain": [
       "True"
      ]
     },
     "execution_count": 4,
     "metadata": {},
     "output_type": "execute_result"
    }
   ],
   "source": [
    "'LSKA2' in list(test_stsgs)"
   ]
  },
  {
   "cell_type": "code",
   "execution_count": 5,
   "metadata": {},
   "outputs": [
    {
     "name": "stdout",
     "output_type": "stream",
     "text": [
      "0 0\n",
      "100 1574645\n",
      "200 2795164\n",
      "300 4356244\n",
      "400 5983693\n",
      "500 8249120\n",
      "600 9826933\n",
      "700 11531257\n",
      "800 13036245\n",
      "900 14530257\n",
      "1000 15762973\n",
      "1100 17146975\n",
      "1200 18324753\n",
      "1300 19927767\n",
      "1400 21477588\n",
      "1500 23019788\n",
      "1600 24445202\n",
      "1700 25422075\n",
      "1800 26851291\n"
     ]
    }
   ],
   "source": [
    "to_direct = {}\n",
    "total = 0\n",
    "\n",
    "for i, v_id in enumerate(test_stsgs):\n",
    "    if i % 100 == 0:\n",
    "        print(i, len(to_direct))\n",
    "        \n",
    "    # get video\n",
    "    \n",
    "    by_local = {}\n",
    "    \n",
    "    # get questions\n",
    "    with open('../exports/dataset/all/test/%s.txt' % v_id, 'rb') as f:\n",
    "        QA = json.load(f)\n",
    "        \n",
    "        \n",
    "    total += len(QA)\n",
    "    \n",
    "    # for every question\n",
    "    for q_id in QA:\n",
    "        q = QA[q_id]\n",
    "        \n",
    "        loc = q['local'] + '-' + q['attributes']['type'] + '-' + q['metrics']['direct_args']\n",
    "        \n",
    "        if loc not in by_local:\n",
    "            by_local[loc] = {\n",
    "                'direct': [],\n",
    "                'indirect': [],\n",
    "            }\n",
    "    \n",
    "        indirects = q['metrics']['indirects'].count(True)\n",
    "        \n",
    "        if indirects == 0:\n",
    "            if len(by_local[loc]['direct']) > 0:\n",
    "                print()\n",
    "                print(\"double direct!\")\n",
    "                print(loc)\n",
    "                print(q['question'])\n",
    "                print(by_local[loc]['direct'][0]['question'])\n",
    "            by_local[loc]['direct'].append(q_id)\n",
    "            \n",
    "        else:\n",
    "            by_local[loc]['indirect'].append(q_id)\n",
    "    \n",
    "    this_to_direct = {}\n",
    "    \n",
    "    \n",
    "    \n",
    "    for loc in by_local:\n",
    "        if len(by_local[loc]['direct']) == 0:\n",
    "            continue\n",
    "        d = by_local[loc]['direct'][0]\n",
    "        this_to_direct[d] = d\n",
    "        \n",
    "        indirs = by_local[loc]['indirect']\n",
    "        \n",
    "        for i in indirs:\n",
    "            this_to_direct[i] = d\n",
    "    \n",
    "    to_direct.update(this_to_direct)"
   ]
  },
  {
   "cell_type": "code",
   "execution_count": 6,
   "metadata": {},
   "outputs": [],
   "source": [
    "with open('../exports/dataset/to_direct.txt', 'w+') as f:\n",
    "    json.dump(to_direct, f)"
   ]
  },
  {
   "cell_type": "code",
   "execution_count": null,
   "metadata": {},
   "outputs": [],
   "source": []
  }
 ],
 "metadata": {
  "kernelspec": {
   "display_name": "Python 3",
   "language": "python",
   "name": "python3"
  },
  "language_info": {
   "codemirror_mode": {
    "name": "ipython",
    "version": 3
   },
   "file_extension": ".py",
   "mimetype": "text/x-python",
   "name": "python",
   "nbconvert_exporter": "python",
   "pygments_lexer": "ipython3",
   "version": "3.8.3"
  }
 },
 "nbformat": 4,
 "nbformat_minor": 4
}
