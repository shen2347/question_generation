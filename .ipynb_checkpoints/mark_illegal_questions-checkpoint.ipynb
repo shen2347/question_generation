{
 "cells": [
  {
   "cell_type": "code",
   "execution_count": 2,
   "metadata": {},
   "outputs": [],
   "source": [
    "import json\n",
    "import pickle\n",
    "import random\n",
    "import pandas as pd\n",
    "import os\n",
    "import math\n",
    "import grammar\n",
    "import shutil\n",
    "import subprocess"
   ]
  },
  {
   "cell_type": "code",
   "execution_count": 21,
   "metadata": {},
   "outputs": [],
   "source": [
    "#infile = open('../data/test_videos_stsg.pkl', 'rb')\n",
    "infile = open('../data/testing_camera_ready_stsgs.pkl', 'rb')\n",
    "test_stsgs = pickle.load(infile)\n",
    "infile.close()\n",
    "\n",
    "#infile = open('../data/test_videos_stsg.pkl', 'rb')\n",
    "infile = open('../data/training_camera_ready_stsgs.pkl', 'rb')\n",
    "train_stsgs = pickle.load(infile)\n",
    "infile.close()\n"
   ]
  },
  {
   "cell_type": "code",
   "execution_count": 35,
   "metadata": {},
   "outputs": [],
   "source": [
    "path_folder = '../../../Desktop/final_balanced-11-13/%s.json'\n",
    "\n",
    "banned_folder = '../../../Desktop/final_balanced-11-13_banned/%s.json'"
   ]
  },
  {
   "cell_type": "code",
   "execution_count": 61,
   "metadata": {},
   "outputs": [],
   "source": [
    "banned = ['Indirect Action', 'Object', 'Shorter Action',\n",
    "         'Choose', 'Indirect Object', 'Equals', 'Conjunction', 'Temporal Localization']\n",
    "\n",
    "#banned = ['Exists Temporal Localization']\n",
    "maybe = 'Temporal Localization'"
   ]
  },
  {
   "cell_type": "code",
   "execution_count": 62,
   "metadata": {},
   "outputs": [],
   "source": [
    "no_path = []\n",
    "path = []\n",
    "num_banned = 0\n",
    "num_not_banned = 0\n",
    "\n",
    "for v_id in train_stsgs:\n",
    "    try:\n",
    "        with open(path_folder % v_id, 'rb') as f:\n",
    "            QA = json.load(f)\n",
    "    except:\n",
    "        no_path.append(v_id)\n",
    "        continue\n",
    "        \n",
    "    path.append(v_id)\n",
    "    \n",
    "    for q_id in QA:\n",
    "        q = QA[q_id]\n",
    "        tp = q['type']\n",
    "        \n",
    "        if tp in banned:\n",
    "            num_banned += 1\n",
    "            q['banned'] = True\n",
    "            \n",
    "        else:\n",
    "            q['banned'] = False\n",
    "            num_not_banned += 1\n",
    "        \n",
    "    with open(banned_folder % v_id, 'w+') as f:\n",
    "        json.dump(QA, f)\n",
    "        "
   ]
  },
  {
   "cell_type": "code",
   "execution_count": 63,
   "metadata": {},
   "outputs": [
    {
     "data": {
      "text/plain": [
       "(1370, 6417)"
      ]
     },
     "execution_count": 63,
     "metadata": {},
     "output_type": "execute_result"
    }
   ],
   "source": [
    "len(no_path), len(path)"
   ]
  },
  {
   "cell_type": "code",
   "execution_count": 64,
   "metadata": {},
   "outputs": [
    {
     "data": {
      "text/plain": [
       "(621107, 1708945)"
      ]
     },
     "execution_count": 64,
     "metadata": {},
     "output_type": "execute_result"
    }
   ],
   "source": [
    "num_banned, num_not_banned"
   ]
  },
  {
   "cell_type": "code",
   "execution_count": 65,
   "metadata": {},
   "outputs": [],
   "source": [
    "total = num_banned + num_not_banned"
   ]
  },
  {
   "cell_type": "code",
   "execution_count": 66,
   "metadata": {},
   "outputs": [
    {
     "data": {
      "text/plain": [
       "2330052"
      ]
     },
     "execution_count": 66,
     "metadata": {},
     "output_type": "execute_result"
    }
   ],
   "source": [
    "total"
   ]
  },
  {
   "cell_type": "code",
   "execution_count": 67,
   "metadata": {},
   "outputs": [
    {
     "data": {
      "text/plain": [
       "0.26656357883858384"
      ]
     },
     "execution_count": 67,
     "metadata": {},
     "output_type": "execute_result"
    }
   ],
   "source": [
    "num_banned / total"
   ]
  },
  {
   "cell_type": "markdown",
   "metadata": {},
   "source": [
    "When exists temporal localization was a part of it: 0.7699493401863993\n",
    "\n",
    "Current without temporal localization: 0.20277873626854678\n",
    "\n",
    "Current with temporal localization: 0.26656357883858384\n",
    "\n",
    "Ok 56% of questions are Exists Temporal Localization (though this is before adding \"no\" and \"nothing' and rebalancing\n",
    "\n",
    "New accuracy is 0.8529411764705882 though so that's good"
   ]
  }
 ],
 "metadata": {
  "kernelspec": {
   "display_name": "Python 3",
   "language": "python",
   "name": "python3"
  },
  "language_info": {
   "codemirror_mode": {
    "name": "ipython",
    "version": 3
   },
   "file_extension": ".py",
   "mimetype": "text/x-python",
   "name": "python",
   "nbconvert_exporter": "python",
   "pygments_lexer": "ipython3",
   "version": "3.7.6"
  }
 },
 "nbformat": 4,
 "nbformat_minor": 4
}
