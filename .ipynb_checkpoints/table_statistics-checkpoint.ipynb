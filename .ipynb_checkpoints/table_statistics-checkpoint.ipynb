{
 "cells": [
  {
   "cell_type": "code",
   "execution_count": 1,
   "metadata": {},
   "outputs": [],
   "source": [
    "import json\n",
    "\n",
    "from os import listdir\n",
    "from os.path import isfile, join"
   ]
  },
  {
   "cell_type": "code",
   "execution_count": 83,
   "metadata": {},
   "outputs": [],
   "source": [
    "with open('../data/templ2global.txt', 'r') as f:\n",
    "    templ2global = json.load(f)\n",
    "    \n",
    "with open('../data/templ2semantic.txt', 'r') as f:\n",
    "    templ2sem = json.load(f)\n",
    "    \n",
    "with open('../data/templ2structural.txt', 'r') as f:\n",
    "    templ2struct = json.load(f)"
   ]
  },
  {
   "cell_type": "code",
   "execution_count": 84,
   "metadata": {},
   "outputs": [],
   "source": [
    "for t in [templ2global, templ2sem, templ2struct]:\n",
    "    del t['relFirst']\n",
    "    del t['actExists']"
   ]
  },
  {
   "cell_type": "code",
   "execution_count": 72,
   "metadata": {},
   "outputs": [],
   "source": [
    "bal = 'all'"
   ]
  },
  {
   "cell_type": "code",
   "execution_count": 73,
   "metadata": {},
   "outputs": [],
   "source": [
    "templs_path = '../code/templ_counts/%s/' % bal\n",
    "\n",
    "templs_data = [f for f in listdir(templs_path) if isfile(join(templs_path, f))]"
   ]
  },
  {
   "cell_type": "code",
   "execution_count": 74,
   "metadata": {},
   "outputs": [
    {
     "data": {
      "text/plain": [
       "['train-5550-6660.txt',\n",
       " '.DS_Store',\n",
       " 'test-555-807.txt',\n",
       " 'test-1311-1563.txt',\n",
       " 'train-3330-4440.txt',\n",
       " 'train-0-1110.txt',\n",
       " 'train-4440-5550.txt',\n",
       " 'train-1110-2220.txt',\n",
       " 'train-6660-7787.txt',\n",
       " 'test-303-555.txt',\n",
       " 'test-807-1059.txt',\n",
       " 'test-1563-1814.txt',\n",
       " 'train-2220-3330.txt',\n",
       " 'test-0-303.txt',\n",
       " 'test-1059-1311.txt']"
      ]
     },
     "execution_count": 74,
     "metadata": {},
     "output_type": "execute_result"
    }
   ],
   "source": [
    "templs_data\n"
   ]
  },
  {
   "cell_type": "code",
   "execution_count": 78,
   "metadata": {},
   "outputs": [],
   "source": [
    "t_cnts = {i:0 for i in list(templ2global.keys())}\n",
    "\n",
    "for file in templs_data:\n",
    "    if file == '.DS_Store':\n",
    "        continue\n",
    "    path = templs_path + file\n",
    "    \n",
    "    with open(path) as f:\n",
    "        data = json.load(f)\n",
    "        \n",
    "    for t in data:\n",
    "        t_cnts[t] += data[t]\n"
   ]
  },
  {
   "cell_type": "markdown",
   "metadata": {},
   "source": [
    "# Get statistics"
   ]
  },
  {
   "cell_type": "code",
   "execution_count": 79,
   "metadata": {},
   "outputs": [],
   "source": [
    "if bal == 'balanced':\n",
    "    div = 1000\n",
    "elif bal == 'all':\n",
    "    div = 1000\n",
    "else:\n",
    "    print(\"weird bal %s\" % bal)"
   ]
  },
  {
   "cell_type": "code",
   "execution_count": 80,
   "metadata": {},
   "outputs": [],
   "source": [
    "def printCounts(translation):\n",
    "    names = set()\n",
    "    for i in translation:\n",
    "        c = translation[i]\n",
    "        if type(c) == list:\n",
    "            for n in c:\n",
    "                names.add(n)\n",
    "        else:\n",
    "            names.add(c)\n",
    "\n",
    "    cnts = {i:0 for i in list(names)}\n",
    "    \n",
    "    for t in t_cnts:\n",
    "        cat = translation[t]\n",
    "        \n",
    "        \n",
    "        if type(cat) == list:\n",
    "            # This is if its a global\n",
    "            for i in cat:\n",
    "                cnts[i] += t_cnts[t]\n",
    "        else:\n",
    "            cnts[cat] += t_cnts[t]\n",
    "            \n",
    "    \n",
    "    for i in cnts:\n",
    "        p(i, cnts)\n",
    "    return cnts\n",
    "    \n",
    "    "
   ]
  },
  {
   "cell_type": "code",
   "execution_count": 81,
   "metadata": {},
   "outputs": [],
   "source": [
    "def p(i, dic):\n",
    "    print(i, round((dic[i] / div), 2))"
   ]
  },
  {
   "cell_type": "markdown",
   "metadata": {},
   "source": [
    "### Total number of questions (sanity check)"
   ]
  },
  {
   "cell_type": "code",
   "execution_count": 82,
   "metadata": {},
   "outputs": [
    {
     "name": "stdout",
     "output_type": "stream",
     "text": [
      "Total questions: 96854843\n"
     ]
    }
   ],
   "source": [
    "tot = 0\n",
    "\n",
    "for t in t_cnts:\n",
    "    tot += t_cnts[t]\n",
    "    \n",
    "print('Total questions: %s' % tot)"
   ]
  },
  {
   "cell_type": "markdown",
   "metadata": {},
   "source": [
    "### by template"
   ]
  },
  {
   "cell_type": "code",
   "execution_count": 64,
   "metadata": {},
   "outputs": [
    {
     "name": "stdout",
     "output_type": "stream",
     "text": [
      "objExists 72.72\n",
      "objRelExists 71.3\n",
      "relExists 74.82\n",
      "actExists 0.0\n",
      "andObjRelExists 60.23\n",
      "xorObjRelExists 59.87\n",
      "objWhatGeneral 16.7\n",
      "objWhat 1044.02\n",
      "objWhatChoose 313.72\n",
      "actWhatAfterAll 3.08\n",
      "actWhatBefore 1.6\n",
      "objFirst 43.67\n",
      "objFirstChoose 13.68\n",
      "objFirstVerify 82.35\n",
      "relFirst 0.0\n",
      "actFirst 5.01\n",
      "objLast 69.44\n",
      "objLastChoose 18.24\n",
      "objLastVerify 77.86\n",
      "actLast 1.1\n",
      "actLengthLongerChoose 12.61\n",
      "actLengthShorterChoose 12.61\n",
      "actLengthLongerVerify 12.61\n",
      "actLengthShorterVerify 12.28\n",
      "actLongest 1.87\n",
      "actShortest 0.13\n",
      "actTime 32.66\n",
      "relTime 37.9\n",
      "objTime 118.03\n"
     ]
    }
   ],
   "source": [
    "for t in t_cnts:\n",
    "    p(t, t_cnts)"
   ]
  },
  {
   "cell_type": "markdown",
   "metadata": {},
   "source": [
    "### by global"
   ]
  },
  {
   "cell_type": "code",
   "execution_count": 34,
   "metadata": {},
   "outputs": [
    {
     "name": "stdout",
     "output_type": "stream",
     "text": [
      "sequencing 1170.92\n",
      "exists 86405.17\n",
      "obj-rel 73326.85\n",
      "superlative 4853.85\n",
      "duration-comparison 158.45\n",
      "action-recognition 11.84\n",
      "obj-act 328.44\n",
      "rel-act 239.43\n"
     ]
    }
   ],
   "source": [
    "glob_cnts = printCounts(templ2global)\n",
    "         "
   ]
  },
  {
   "cell_type": "markdown",
   "metadata": {},
   "source": [
    "### By semantic"
   ]
  },
  {
   "cell_type": "code",
   "execution_count": 35,
   "metadata": {},
   "outputs": [
    {
     "name": "stdout",
     "output_type": "stream",
     "text": [
      "relation 75261.02\n",
      "action 768.25\n",
      "object 20825.57\n"
     ]
    }
   ],
   "source": [
    "sem_cnts = printCounts(templ2sem)\n",
    "         "
   ]
  },
  {
   "cell_type": "markdown",
   "metadata": {},
   "source": [
    "### By structural"
   ]
  },
  {
   "cell_type": "code",
   "execution_count": 36,
   "metadata": {},
   "outputs": [
    {
     "name": "stdout",
     "output_type": "stream",
     "text": [
      "choose 3265.73\n",
      "logic 50247.96\n",
      "verify 40483.66\n",
      "compare 1322.26\n",
      "query 1535.23\n"
     ]
    }
   ],
   "source": [
    "struct_cnts = printCounts(templ2struct)"
   ]
  },
  {
   "cell_type": "markdown",
   "metadata": {},
   "source": [
    "# Num templates per"
   ]
  },
  {
   "cell_type": "code",
   "execution_count": 37,
   "metadata": {},
   "outputs": [],
   "source": [
    "def templPerCat(trans):\n",
    "    names = set()\n",
    "    for i in trans:\n",
    "        c = trans[i]\n",
    "        if type(c) == list:\n",
    "            for n in c:\n",
    "                names.add(n)\n",
    "        else:\n",
    "            names.add(c)\n",
    "\n",
    "    \n",
    "    cnts = {i:0 for i in list(names)}\n",
    "    \n",
    "    for t in trans:\n",
    "        cat = trans[t]\n",
    "        \n",
    "        if type(cat) == list:\n",
    "            for i in cat:\n",
    "                cnts[i] += 1\n",
    "        else:\n",
    "            cnts[cat] += 1\n",
    "        \n",
    "    for c in cnts:\n",
    "        print(c, cnts[c])\n",
    "        \n",
    "    return cnts"
   ]
  },
  {
   "cell_type": "code",
   "execution_count": 68,
   "metadata": {},
   "outputs": [
    {
     "name": "stdout",
     "output_type": "stream",
     "text": [
      "sequencing 5\n",
      "exists 5\n",
      "obj-rel 11\n",
      "superlative 10\n",
      "duration-comparison 6\n",
      "action-recognition 4\n",
      "obj-act 1\n",
      "rel-act 1\n"
     ]
    },
    {
     "data": {
      "text/plain": [
       "{'sequencing': 5,\n",
       " 'exists': 5,\n",
       " 'obj-rel': 11,\n",
       " 'superlative': 10,\n",
       " 'duration-comparison': 6,\n",
       " 'action-recognition': 4,\n",
       " 'obj-act': 1,\n",
       " 'rel-act': 1}"
      ]
     },
     "execution_count": 68,
     "metadata": {},
     "output_type": "execute_result"
    }
   ],
   "source": [
    "templPerCat(templ2global)"
   ]
  },
  {
   "cell_type": "code",
   "execution_count": 69,
   "metadata": {},
   "outputs": [
    {
     "name": "stdout",
     "output_type": "stream",
     "text": [
      "choose 3\n",
      "logic 2\n",
      "verify 5\n",
      "compare 7\n",
      "query 10\n"
     ]
    },
    {
     "data": {
      "text/plain": [
       "{'choose': 3, 'logic': 2, 'verify': 5, 'compare': 7, 'query': 10}"
      ]
     },
     "execution_count": 69,
     "metadata": {},
     "output_type": "execute_result"
    }
   ],
   "source": [
    "templPerCat(templ2struct)"
   ]
  },
  {
   "cell_type": "code",
   "execution_count": 70,
   "metadata": {},
   "outputs": [
    {
     "name": "stdout",
     "output_type": "stream",
     "text": [
      "relation 5\n",
      "action 11\n",
      "object 11\n"
     ]
    },
    {
     "data": {
      "text/plain": [
       "{'relation': 5, 'action': 11, 'object': 11}"
      ]
     },
     "execution_count": 70,
     "metadata": {},
     "output_type": "execute_result"
    }
   ],
   "source": [
    "templPerCat(templ2sem)"
   ]
  },
  {
   "cell_type": "markdown",
   "metadata": {},
   "source": [
    "# print templates"
   ]
  },
  {
   "cell_type": "code",
   "execution_count": 71,
   "metadata": {},
   "outputs": [
    {
     "name": "stdout",
     "output_type": "stream",
     "text": [
      "['exists']\n",
      "['exists', 'obj-rel']\n",
      "['exists']\n",
      "['exists', 'obj-rel']\n",
      "['exists', 'obj-rel']\n",
      "[]\n",
      "['obj-rel']\n",
      "['obj-rel']\n",
      "['sequencing', 'action-recognition']\n",
      "['sequencing', 'action-recognition']\n",
      "['superlative', 'obj-rel']\n",
      "['superlative', 'obj-rel']\n",
      "['superlative', 'obj-rel']\n",
      "['superlative', 'action-recognition']\n",
      "['superlative', 'obj-rel']\n",
      "['superlative', 'obj-rel']\n",
      "['superlative', 'obj-rel']\n",
      "['superlative', 'action-recognition']\n",
      "['duration-comparison']\n",
      "['duration-comparison']\n",
      "['duration-comparison']\n",
      "['duration-comparison']\n",
      "['superlative', 'duration-comparison']\n",
      "['superlative', 'duration-comparison']\n",
      "['sequencing']\n",
      "['rel-act', 'sequencing']\n",
      "['obj-act', 'sequencing']\n"
     ]
    }
   ],
   "source": [
    "for i in list(templ2global.values()):\n",
    "    print(i)"
   ]
  },
  {
   "cell_type": "code",
   "execution_count": 85,
   "metadata": {},
   "outputs": [
    {
     "data": {
      "text/plain": [
       "27"
      ]
     },
     "execution_count": 85,
     "metadata": {},
     "output_type": "execute_result"
    }
   ],
   "source": [
    "len(templ2global)"
   ]
  },
  {
   "cell_type": "code",
   "execution_count": 87,
   "metadata": {},
   "outputs": [],
   "source": [
    "x = [\n",
    "    'objExists', 'objRelExists', 'relExists',\n",
    "    'andObjRelExists', 'xorObjRelExists',\n",
    "    'objWhatGeneral', 'objWhat', 'objWhatChoose',\n",
    "    'actWhatAfterAll', 'actWhatBefore', 'objFirst',\n",
    "    'objFirstChoose', 'objFirstVerify', 'actFirst',\n",
    "    'objLast', 'objLastChoose', 'objLastVerify', 'actLast',\n",
    "    'actLengthLongerChoose', 'actLengthShorterChoose',\n",
    "    'actLengthLongerVerify', 'actLengthShorterVerify',\n",
    "    'actLongest', 'actShortest', 'actTime', 'relTime', 'objTime'\n",
    "]"
   ]
  },
  {
   "cell_type": "code",
   "execution_count": 88,
   "metadata": {},
   "outputs": [
    {
     "data": {
      "text/plain": [
       "27"
      ]
     },
     "execution_count": 88,
     "metadata": {},
     "output_type": "execute_result"
    }
   ],
   "source": [
    "len(x)"
   ]
  },
  {
   "cell_type": "code",
   "execution_count": null,
   "metadata": {},
   "outputs": [],
   "source": []
  }
 ],
 "metadata": {
  "kernelspec": {
   "display_name": "Python 3",
   "language": "python",
   "name": "python3"
  },
  "language_info": {
   "codemirror_mode": {
    "name": "ipython",
    "version": 3
   },
   "file_extension": ".py",
   "mimetype": "text/x-python",
   "name": "python",
   "nbconvert_exporter": "python",
   "pygments_lexer": "ipython3",
   "version": "3.7.6"
  }
 },
 "nbformat": 4,
 "nbformat_minor": 4
}
