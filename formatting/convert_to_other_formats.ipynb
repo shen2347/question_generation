{
 "cells": [
  {
   "cell_type": "code",
   "execution_count": 1,
   "metadata": {},
   "outputs": [],
   "source": [
    "import json\n",
    "import pickle\n",
    "import csv\n",
    "import pandas as pd"
   ]
  },
  {
   "cell_type": "code",
   "execution_count": 2,
   "metadata": {},
   "outputs": [],
   "source": [
    "def pickleLoad(path):\n",
    "    file = open(path, 'rb')\n",
    "    info = pickle.load(file)\n",
    "    file.close()\n",
    "    return info\n",
    "\n",
    "def pickleDump(var, destination):\n",
    "    f = open(destination,\"wb\")\n",
    "    pickle.dump(var,f)\n",
    "    f.close() \n",
    "\n",
    "def getQA(d_path, group, bal_txt, v_id):\n",
    "    path = '../../exports/%s/%s/%s/%s.txt' % (d_path, bal_txt, group, v_id)\n",
    "    try:\n",
    "        with open(path) as json_file: #CHANGED\n",
    "            QA = json.load(json_file)\n",
    "        return QA\n",
    "    except:\n",
    "        return {}"
   ]
  },
  {
   "cell_type": "code",
   "execution_count": 3,
   "metadata": {},
   "outputs": [],
   "source": [
    "with open('../../data/templ2global.txt', 'r') as f:\n",
    "    templ2global = json.load(f)"
   ]
  },
  {
   "cell_type": "code",
   "execution_count": 4,
   "metadata": {},
   "outputs": [],
   "source": [
    "train_stsgs = pickleLoad('../../data/stsgs/train_stsgs.pkl')\n",
    "test_stsgs = pickleLoad('../../data/stsgs/test_stsgs.pkl')"
   ]
  },
  {
   "cell_type": "code",
   "execution_count": 5,
   "metadata": {},
   "outputs": [],
   "source": [
    "# Testing to CSV\n",
    "#46GP8, N11GT, KRF68, MJO7C, S6MPZ\n",
    "\n",
    "def toDataframe(v_id, QA):\n",
    "    df = pd.DataFrame.from_dict(QA, orient=\"index\")\n",
    "    df['vid_id'] = v_id\n",
    "    #df.index = v_id\n",
    "    df['gif_name'] = v_id\n",
    "    df = df.drop(columns=['attributes', 'global', 'id', 'local', 'steps', 'metrics', 'program', 'sg_grounding'])\n",
    "    df = df.reset_index()\n",
    "    df = df.rename(columns={'index': 'key'})\n",
    "    df['description'] = \"none\"\n",
    "    return df\n",
    "\n",
    "\n",
    "def toTGIF(d_path, group, bal_txt):\n",
    "    dataframes = []\n",
    "    if group == 'train':\n",
    "        our_data = train_stsgs\n",
    "    if group == 'test':\n",
    "        our_data = test_stsgs\n",
    "        \n",
    "    cnt = 0\n",
    "    for v_id in our_data:\n",
    "        if cnt % 1000 == 0:\n",
    "            print(cnt)\n",
    "        cnt = cnt + 1\n",
    "        QA = getQA(d_path, group, bal_txt, v_id)\n",
    "        \n",
    "        # Add the following lines\n",
    "        for q_id in QA:\n",
    "            QA[q_id]['type'] = QA[q_id]['attributes']['type']\n",
    "        if len(QA) == 0: \n",
    "            continue\n",
    "        df = toDataframe(v_id, QA)\n",
    "        dataframes.append(df)\n",
    "    total = pd.concat(dataframes)\n",
    "    total.to_csv('../../exports/%s/other_formats/%s-%s-tgif.csv' % (d_path, group, bal_txt), index = None)\n",
    "    return total\n"
   ]
  },
  {
   "cell_type": "markdown",
   "metadata": {},
   "source": [
    "# Build CSV files"
   ]
  },
  {
   "cell_type": "code",
   "execution_count": 53,
   "metadata": {},
   "outputs": [],
   "source": [
    "d_path = 'dataset_separating for compo-steps'\n",
    "bal_txt = 'balanced - main dataset'"
   ]
  },
  {
   "cell_type": "code",
   "execution_count": 54,
   "metadata": {
    "scrolled": true
   },
   "outputs": [
    {
     "name": "stdout",
     "output_type": "stream",
     "text": [
      "0\n",
      "1000\n",
      "2000\n",
      "3000\n",
      "4000\n",
      "5000\n",
      "6000\n",
      "7000\n"
     ]
    }
   ],
   "source": [
    "train = toTGIF(d_path, 'train', bal_txt)"
   ]
  },
  {
   "cell_type": "code",
   "execution_count": 88,
   "metadata": {},
   "outputs": [
    {
     "name": "stdout",
     "output_type": "stream",
     "text": [
      "0\n",
      "1000\n"
     ]
    }
   ],
   "source": [
    "test = toTGIF(d_path, 'test', bal_txt)"
   ]
  },
  {
   "cell_type": "code",
   "execution_count": 89,
   "metadata": {},
   "outputs": [],
   "source": [
    "# load the pickles\n",
    "# drop other columns\n",
    "# attach together\n",
    "#training = pd.read_csv('../../exports/%s/other_formats/train-balanced-tgif.csv' % d_path)\n",
    "#testing = pd.read_csv('../../exports/%s/other_formats/test-balanced-tgif.csv' % d_path)"
   ]
  },
  {
   "cell_type": "code",
   "execution_count": 90,
   "metadata": {
    "scrolled": true
   },
   "outputs": [
    {
     "data": {
      "text/html": [
       "<div>\n",
       "<style scoped>\n",
       "    .dataframe tbody tr th:only-of-type {\n",
       "        vertical-align: middle;\n",
       "    }\n",
       "\n",
       "    .dataframe tbody tr th {\n",
       "        vertical-align: top;\n",
       "    }\n",
       "\n",
       "    .dataframe thead th {\n",
       "        text-align: right;\n",
       "    }\n",
       "</style>\n",
       "<table border=\"1\" class=\"dataframe\">\n",
       "  <thead>\n",
       "    <tr style=\"text-align: right;\">\n",
       "      <th></th>\n",
       "      <th>key</th>\n",
       "      <th>question</th>\n",
       "      <th>answer</th>\n",
       "      <th>type</th>\n",
       "      <th>vid_id</th>\n",
       "      <th>gif_name</th>\n",
       "      <th>description</th>\n",
       "    </tr>\n",
       "  </thead>\n",
       "  <tbody>\n",
       "    <tr>\n",
       "      <th>0</th>\n",
       "      <td>46GP8-5</td>\n",
       "      <td>In the video, did they interact with a window?</td>\n",
       "      <td>Yes</td>\n",
       "      <td>objExists</td>\n",
       "      <td>46GP8</td>\n",
       "      <td>46GP8</td>\n",
       "      <td>none</td>\n",
       "    </tr>\n",
       "    <tr>\n",
       "      <th>1</th>\n",
       "      <td>46GP8-40</td>\n",
       "      <td>Were they interacting with a table?</td>\n",
       "      <td>No</td>\n",
       "      <td>objExists</td>\n",
       "      <td>46GP8</td>\n",
       "      <td>46GP8</td>\n",
       "      <td>none</td>\n",
       "    </tr>\n",
       "    <tr>\n",
       "      <th>2</th>\n",
       "      <td>46GP8-388</td>\n",
       "      <td>Which object did the person interact with afte...</td>\n",
       "      <td>window</td>\n",
       "      <td>objWhatGeneral</td>\n",
       "      <td>46GP8</td>\n",
       "      <td>46GP8</td>\n",
       "      <td>none</td>\n",
       "    </tr>\n",
       "    <tr>\n",
       "      <th>3</th>\n",
       "      <td>46GP8-389</td>\n",
       "      <td>Before watching outside of a window, what was ...</td>\n",
       "      <td>food</td>\n",
       "      <td>objWhat</td>\n",
       "      <td>46GP8</td>\n",
       "      <td>46GP8</td>\n",
       "      <td>none</td>\n",
       "    </tr>\n",
       "    <tr>\n",
       "      <th>4</th>\n",
       "      <td>46GP8-390</td>\n",
       "      <td>In the video, which object were they holding?</td>\n",
       "      <td>food</td>\n",
       "      <td>objWhat</td>\n",
       "      <td>46GP8</td>\n",
       "      <td>46GP8</td>\n",
       "      <td>none</td>\n",
       "    </tr>\n",
       "    <tr>\n",
       "      <th>...</th>\n",
       "      <td>...</td>\n",
       "      <td>...</td>\n",
       "      <td>...</td>\n",
       "      <td>...</td>\n",
       "      <td>...</td>\n",
       "      <td>...</td>\n",
       "      <td>...</td>\n",
       "    </tr>\n",
       "    <tr>\n",
       "      <th>56</th>\n",
       "      <td>LSKA2-2100</td>\n",
       "      <td>What did the person do before holding the thin...</td>\n",
       "      <td>taking food from somewhere</td>\n",
       "      <td>actWhatBefore</td>\n",
       "      <td>LSKA2</td>\n",
       "      <td>LSKA2</td>\n",
       "      <td>none</td>\n",
       "    </tr>\n",
       "    <tr>\n",
       "      <th>57</th>\n",
       "      <td>LSKA2-2101</td>\n",
       "      <td>Before holding the object they were taking, wh...</td>\n",
       "      <td>taking food from somewhere</td>\n",
       "      <td>actWhatBefore</td>\n",
       "      <td>LSKA2</td>\n",
       "      <td>LSKA2</td>\n",
       "      <td>none</td>\n",
       "    </tr>\n",
       "    <tr>\n",
       "      <th>58</th>\n",
       "      <td>LSKA2-2191</td>\n",
       "      <td>In the video, which was the person behind firs...</td>\n",
       "      <td>food</td>\n",
       "      <td>objFirstChoose</td>\n",
       "      <td>LSKA2</td>\n",
       "      <td>LSKA2</td>\n",
       "      <td>none</td>\n",
       "    </tr>\n",
       "    <tr>\n",
       "      <th>59</th>\n",
       "      <td>LSKA2-2192</td>\n",
       "      <td>Of all the items they went on the side of, was...</td>\n",
       "      <td>food</td>\n",
       "      <td>objFirstChoose</td>\n",
       "      <td>LSKA2</td>\n",
       "      <td>LSKA2</td>\n",
       "      <td>none</td>\n",
       "    </tr>\n",
       "    <tr>\n",
       "      <th>60</th>\n",
       "      <td>LSKA2-2205</td>\n",
       "      <td>Was the person walking something before or aft...</td>\n",
       "      <td>after</td>\n",
       "      <td>relTime</td>\n",
       "      <td>LSKA2</td>\n",
       "      <td>LSKA2</td>\n",
       "      <td>none</td>\n",
       "    </tr>\n",
       "  </tbody>\n",
       "</table>\n",
       "<p>2387499 rows × 7 columns</p>\n",
       "</div>"
      ],
      "text/plain": [
       "           key                                           question  \\\n",
       "0      46GP8-5     In the video, did they interact with a window?   \n",
       "1     46GP8-40                Were they interacting with a table?   \n",
       "2    46GP8-388  Which object did the person interact with afte...   \n",
       "3    46GP8-389  Before watching outside of a window, what was ...   \n",
       "4    46GP8-390      In the video, which object were they holding?   \n",
       "..         ...                                                ...   \n",
       "56  LSKA2-2100  What did the person do before holding the thin...   \n",
       "57  LSKA2-2101  Before holding the object they were taking, wh...   \n",
       "58  LSKA2-2191  In the video, which was the person behind firs...   \n",
       "59  LSKA2-2192  Of all the items they went on the side of, was...   \n",
       "60  LSKA2-2205  Was the person walking something before or aft...   \n",
       "\n",
       "                        answer            type vid_id gif_name description  \n",
       "0                          Yes       objExists  46GP8    46GP8        none  \n",
       "1                           No       objExists  46GP8    46GP8        none  \n",
       "2                       window  objWhatGeneral  46GP8    46GP8        none  \n",
       "3                         food         objWhat  46GP8    46GP8        none  \n",
       "4                         food         objWhat  46GP8    46GP8        none  \n",
       "..                         ...             ...    ...      ...         ...  \n",
       "56  taking food from somewhere   actWhatBefore  LSKA2    LSKA2        none  \n",
       "57  taking food from somewhere   actWhatBefore  LSKA2    LSKA2        none  \n",
       "58                        food  objFirstChoose  LSKA2    LSKA2        none  \n",
       "59                        food  objFirstChoose  LSKA2    LSKA2        none  \n",
       "60                       after         relTime  LSKA2    LSKA2        none  \n",
       "\n",
       "[2387499 rows x 7 columns]"
      ]
     },
     "execution_count": 90,
     "metadata": {},
     "output_type": "execute_result"
    }
   ],
   "source": [
    "\n",
    "total = pd.concat([train, test])\n",
    "total"
   ]
  },
  {
   "cell_type": "code",
   "execution_count": 83,
   "metadata": {},
   "outputs": [],
   "source": [
    "total.to_csv('../../exports/%s/other_formats/Total-question.csv' % d_path, index = None)"
   ]
  },
  {
   "cell_type": "code",
   "execution_count": 66,
   "metadata": {},
   "outputs": [
    {
     "data": {
      "text/plain": [
       "(1718292, 1718292)"
      ]
     },
     "execution_count": 66,
     "metadata": {},
     "output_type": "execute_result"
    }
   ],
   "source": [
    "len(train['key'].values), len(set(list(train['key'].values)))"
   ]
  },
  {
   "cell_type": "code",
   "execution_count": 67,
   "metadata": {},
   "outputs": [
    {
     "data": {
      "text/plain": [
       "(1718292, 7)"
      ]
     },
     "execution_count": 67,
     "metadata": {},
     "output_type": "execute_result"
    }
   ],
   "source": [
    "train.shape"
   ]
  },
  {
   "cell_type": "code",
   "execution_count": 84,
   "metadata": {},
   "outputs": [
    {
     "data": {
      "text/plain": [
       "(54278, 7)"
      ]
     },
     "execution_count": 84,
     "metadata": {},
     "output_type": "execute_result"
    }
   ],
   "source": [
    "ba = train[(train['answer'] == 'before') | (train['answer'] == 'after')]\n",
    "ba.shape"
   ]
  },
  {
   "cell_type": "code",
   "execution_count": 69,
   "metadata": {},
   "outputs": [],
   "source": [
    "with open('../../exports/dataset/ids_to_del_obj.txt', 'rb') as f:\n",
    "    obj = json.load(f)\n",
    "with open('../../exports/dataset/ids_to_del_relact.txt', 'rb') as f:\n",
    "     relact = json.load(f)"
   ]
  },
  {
   "cell_type": "code",
   "execution_count": 72,
   "metadata": {},
   "outputs": [],
   "source": [
    "with open('../../exports/dataset/ids_to_del_everything.txt', 'rb') as f:\n",
    "     problematic_ids = json.load(f)\n"
   ]
  },
  {
   "cell_type": "code",
   "execution_count": 73,
   "metadata": {},
   "outputs": [
    {
     "name": "stderr",
     "output_type": "stream",
     "text": [
      "/opt/anaconda3/lib/python3.7/site-packages/pandas/core/frame.py:3997: SettingWithCopyWarning: \n",
      "A value is trying to be set on a copy of a slice from a DataFrame\n",
      "\n",
      "See the caveats in the documentation: https://pandas.pydata.org/pandas-docs/stable/user_guide/indexing.html#returning-a-view-versus-a-copy\n",
      "  errors=errors,\n"
     ]
    },
    {
     "ename": "AttributeError",
     "evalue": "'NoneType' object has no attribute 'shape'",
     "output_type": "error",
     "traceback": [
      "\u001b[0;31m---------------------------------------------------------------------------\u001b[0m",
      "\u001b[0;31mAttributeError\u001b[0m                            Traceback (most recent call last)",
      "\u001b[0;32m<ipython-input-73-21604a3e2933>\u001b[0m in \u001b[0;36m<module>\u001b[0;34m\u001b[0m\n\u001b[1;32m      1\u001b[0m \u001b[0mba_dropped\u001b[0m \u001b[0;34m=\u001b[0m \u001b[0mba\u001b[0m\u001b[0;34m.\u001b[0m\u001b[0mdrop\u001b[0m\u001b[0;34m(\u001b[0m\u001b[0mba\u001b[0m\u001b[0;34m[\u001b[0m\u001b[0mba\u001b[0m\u001b[0;34m.\u001b[0m\u001b[0mkey\u001b[0m\u001b[0;34m.\u001b[0m\u001b[0misin\u001b[0m\u001b[0;34m(\u001b[0m\u001b[0mproblematic_ids\u001b[0m\u001b[0;34m)\u001b[0m\u001b[0;34m]\u001b[0m\u001b[0;34m.\u001b[0m\u001b[0mindex\u001b[0m\u001b[0;34m,\u001b[0m \u001b[0minplace\u001b[0m\u001b[0;34m=\u001b[0m\u001b[0;32mTrue\u001b[0m\u001b[0;34m)\u001b[0m\u001b[0;34m\u001b[0m\u001b[0;34m\u001b[0m\u001b[0m\n\u001b[0;32m----> 2\u001b[0;31m \u001b[0mprint\u001b[0m\u001b[0;34m(\u001b[0m\u001b[0mba_dropped\u001b[0m\u001b[0;34m.\u001b[0m\u001b[0mshape\u001b[0m\u001b[0;34m[\u001b[0m\u001b[0;36m0\u001b[0m\u001b[0;34m]\u001b[0m\u001b[0;34m)\u001b[0m\u001b[0;34m\u001b[0m\u001b[0;34m\u001b[0m\u001b[0m\n\u001b[0m",
      "\u001b[0;31mAttributeError\u001b[0m: 'NoneType' object has no attribute 'shape'"
     ]
    }
   ],
   "source": [
    "ba_dropped = ba.drop(ba[ba.key.isin(problematic_ids)].index, inplace=True)\n",
    "print(ba_dropped.shape[0])"
   ]
  },
  {
   "cell_type": "code",
   "execution_count": 77,
   "metadata": {},
   "outputs": [
    {
     "data": {
      "text/plain": [
       "120410"
      ]
     },
     "execution_count": 77,
     "metadata": {},
     "output_type": "execute_result"
    }
   ],
   "source": [
    "len(ba['question'].unique())\n"
   ]
  },
  {
   "cell_type": "code",
   "execution_count": 85,
   "metadata": {},
   "outputs": [
    {
     "data": {
      "text/plain": [
       "27319"
      ]
     },
     "execution_count": 85,
     "metadata": {},
     "output_type": "execute_result"
    }
   ],
   "source": [
    "len(ba['question'].unique())\n"
   ]
  },
  {
   "cell_type": "code",
   "execution_count": 91,
   "metadata": {},
   "outputs": [
    {
     "data": {
      "text/plain": [
       "2270101"
      ]
     },
     "execution_count": 91,
     "metadata": {},
     "output_type": "execute_result"
    }
   ],
   "source": [
    "total.shape[0] - len(problematic_ids)"
   ]
  },
  {
   "cell_type": "markdown",
   "metadata": {},
   "source": [
    "# novel compo"
   ]
  },
  {
   "cell_type": "code",
   "execution_count": 6,
   "metadata": {
    "scrolled": true
   },
   "outputs": [],
   "source": [
    "train_novel_comp = pickleLoad('../../exports/dataset/metrics/balanced/train/illegal_comp.pkl')\n",
    "test_novel_comp = pickleLoad('../../exports/dataset/metrics/balanced/test/illegal_comp.pkl')"
   ]
  },
  {
   "cell_type": "code",
   "execution_count": 24,
   "metadata": {},
   "outputs": [
    {
     "name": "stdout",
     "output_type": "stream",
     "text": [
      "YSKX3 <class 'list'> ['YSKX3-8', 'YSKX3-9', 'YSKX3-11', 'YSKX3-13', 'YSKX3-461', 'YSKX3-524', 'YSKX3-561', 'YSKX3-632', 'YSKX3-640', 'YSKX3-719', 'YSKX3-871', 'YSKX3-896', 'YSKX3-1119', 'YSKX3-1129', 'YSKX3-1155', 'YSKX3-1179', 'YSKX3-1180', 'YSKX3-1181', 'YSKX3-1182', 'YSKX3-1183', 'YSKX3-1184', 'YSKX3-1185', 'YSKX3-1186', 'YSKX3-1187', 'YSKX3-1188', 'YSKX3-1189', 'YSKX3-1190', 'YSKX3-1191', 'YSKX3-1192', 'YSKX3-1193', 'YSKX3-1194', 'YSKX3-1195', 'YSKX3-1196', 'YSKX3-1197', 'YSKX3-1198', 'YSKX3-1200', 'YSKX3-1201', 'YSKX3-1202', 'YSKX3-1203', 'YSKX3-1204', 'YSKX3-1205', 'YSKX3-1207', 'YSKX3-1208', 'YSKX3-1209', 'YSKX3-1210', 'YSKX3-1211', 'YSKX3-1212', 'YSKX3-1213', 'YSKX3-1214', 'YSKX3-1215', 'YSKX3-1216', 'YSKX3-1217', 'YSKX3-1218', 'YSKX3-1219', 'YSKX3-1220', 'YSKX3-1221', 'YSKX3-1222', 'YSKX3-1251', 'YSKX3-1255', 'YSKX3-1280', 'YSKX3-1294', 'YSKX3-1299', 'YSKX3-1300', 'YSKX3-1690', 'YSKX3-2547', 'YSKX3-2826', 'YSKX3-2849', 'YSKX3-2876', 'YSKX3-3128', 'YSKX3-3129', 'YSKX3-3130', 'YSKX3-3131', 'YSKX3-3132', 'YSKX3-3133', 'YSKX3-3134', 'YSKX3-3135', 'YSKX3-3136', 'YSKX3-3137', 'YSKX3-3138', 'YSKX3-3139', 'YSKX3-3140', 'YSKX3-3141', 'YSKX3-3142', 'YSKX3-3143', 'YSKX3-3144', 'YSKX3-3145', 'YSKX3-3146', 'YSKX3-3147', 'YSKX3-3148', 'YSKX3-3149', 'YSKX3-3150', 'YSKX3-3151', 'YSKX3-3152', 'YSKX3-3153', 'YSKX3-3154', 'YSKX3-3155', 'YSKX3-3156', 'YSKX3-3157', 'YSKX3-3158', 'YSKX3-3159', 'YSKX3-3160', 'YSKX3-3161', 'YSKX3-3162', 'YSKX3-3163', 'YSKX3-3164', 'YSKX3-3166', 'YSKX3-3167', 'YSKX3-3168', 'YSKX3-3169', 'YSKX3-3170', 'YSKX3-3171', 'YSKX3-3172', 'YSKX3-3173', 'YSKX3-3174', 'YSKX3-3175', 'YSKX3-3176', 'YSKX3-3177', 'YSKX3-3178', 'YSKX3-3179', 'YSKX3-3180', 'YSKX3-3181', 'YSKX3-3182', 'YSKX3-3183', 'YSKX3-3184', 'YSKX3-3185', 'YSKX3-3186', 'YSKX3-3187', 'YSKX3-3188', 'YSKX3-3189', 'YSKX3-3190', 'YSKX3-3191', 'YSKX3-3192', 'YSKX3-3193', 'YSKX3-3194', 'YSKX3-3195', 'YSKX3-3295', 'YSKX3-3296', 'YSKX3-3297', 'YSKX3-3298', 'YSKX3-3299', 'YSKX3-3300', 'YSKX3-3301', 'YSKX3-3302', 'YSKX3-3304', 'YSKX3-3305', 'YSKX3-3311', 'YSKX3-3316']\n"
     ]
    }
   ],
   "source": [
    "# Fixing and getting rid of deleted keys\n"
   ]
  },
  {
   "cell_type": "code",
   "execution_count": 7,
   "metadata": {},
   "outputs": [],
   "source": [
    "# Testing to CSV\n",
    "#46GP8, N11GT, KRF68, MJO7C, S6MPZ\n",
    "\n",
    "def toDataframeCompo(v_id, QA, compo):\n",
    "    df = pd.DataFrame.from_dict(QA, orient=\"index\")\n",
    "    df['vid_id'] = v_id\n",
    "    #df.index = v_id\n",
    "    df['gif_name'] = v_id\n",
    "    #df = df.drop(columns=['attributes', 'global', 'local', 'steps', 'metrics'])\n",
    "    \n",
    "    # NEW!\n",
    "    #df = df.drop(columns=['attributes', 'global', 'id', 'local', 'steps', 'metrics', 'program', 'sg_grounding'])\n",
    "    #df = df.reset_index()\n",
    "    df['index'] = df.index\n",
    "    df = df.rename(columns={'index': 'key'})\n",
    "    #df = df.rename(columns={'id': 'key'})\n",
    "    \n",
    "    #df.set_index(\"key\", inplace=True)\n",
    "    # delete ones in compo\n",
    "    if v_id in compo:\n",
    "        to_del = list(set(compo[v_id]))\n",
    "        \n",
    "        \n",
    "        \n",
    "        df.drop(to_del, inplace=True, errors='ignore')\n",
    "        #for i in to_del:\n",
    "        #    print(i)\n",
    "        #    print('YSKX3-11210' in df.key.values)\n",
    "        #    df.drop(i, inplace=True)\n",
    "\n",
    "    #print()\n",
    "    #print(df.shape)\n",
    "    #print(len(to_del))\n",
    "    #print(df.shape)\n",
    "    #if (df.shape[0] > 0):\n",
    "    #    print(df.shape)\n",
    "    return df\n",
    "\n",
    "\n",
    "def toTGIFCompo(d_path, group, bal_txt):\n",
    "    dataframes = []\n",
    "    if group == 'train':\n",
    "        our_data = train_stsgs\n",
    "        compo = train_novel_comp\n",
    "    if group == 'test':\n",
    "        our_data = test_stsgs\n",
    "        compo = test_novel_comp\n",
    "        \n",
    "    cnt = 0\n",
    "    for v_id in our_data:\n",
    "        if cnt % 100 == 0:\n",
    "            print(cnt)\n",
    "        cnt = cnt + 1\n",
    "        QA = getQA(d_path, group, bal_txt, v_id)\n",
    "        #print('len QA', len(QA))\n",
    "        df = toDataframeCompo(v_id, QA, compo)\n",
    "        #print(df.columns)\n",
    "        # if it's empty continue\n",
    "        if 'attributes' not in df.columns:\n",
    "            continue\n",
    "        df = df.drop(columns=['attributes', 'global', 'local', 'steps', 'metrics', 'program', 'sg_grounding'])\n",
    "        df['description'] = \"none\"\n",
    "        dataframes.append(df)\n",
    "    total = pd.concat(dataframes)\n",
    "    print('saving to ', '../../exports/%s/other_formats/%s-%s-tgif-compo.csv' % (d_path, group, bal_txt))\n",
    "    total.to_csv('../../exports/%s/other_formats/%s-%s-tgif-compo.csv' % (d_path, group, bal_txt), index = None)\n",
    "    return total\n"
   ]
  },
  {
   "cell_type": "code",
   "execution_count": 8,
   "metadata": {},
   "outputs": [
    {
     "name": "stdout",
     "output_type": "stream",
     "text": [
      "0\n",
      "100\n",
      "200\n",
      "300\n",
      "400\n",
      "500\n",
      "600\n",
      "700\n",
      "800\n",
      "900\n",
      "1000\n",
      "1100\n",
      "1200\n",
      "1300\n",
      "1400\n",
      "1500\n",
      "1600\n",
      "1700\n",
      "1800\n",
      "1900\n",
      "2000\n",
      "2100\n",
      "2200\n",
      "2300\n",
      "2400\n",
      "2500\n",
      "2600\n",
      "2700\n",
      "2800\n",
      "2900\n",
      "3000\n",
      "3100\n",
      "3200\n",
      "3300\n",
      "3400\n",
      "3500\n",
      "3600\n",
      "3700\n",
      "3800\n",
      "3900\n",
      "4000\n",
      "4100\n",
      "4200\n",
      "4300\n",
      "4400\n",
      "4500\n",
      "4600\n",
      "4700\n",
      "4800\n",
      "4900\n",
      "5000\n",
      "5100\n",
      "5200\n",
      "5300\n",
      "5400\n",
      "5500\n",
      "5600\n",
      "5700\n",
      "5800\n",
      "5900\n",
      "6000\n",
      "6100\n",
      "6200\n",
      "6300\n",
      "6400\n",
      "6500\n",
      "6600\n",
      "6700\n",
      "6800\n",
      "6900\n",
      "7000\n",
      "7100\n",
      "7200\n",
      "7300\n",
      "7400\n",
      "7500\n",
      "7600\n",
      "7700\n",
      "saving to  ../../exports/dataset/other_formats/train-balanced-tgif-compo.csv\n"
     ]
    }
   ],
   "source": [
    "train_compo = toTGIFCompo('dataset', 'train', 'balanced')"
   ]
  },
  {
   "cell_type": "code",
   "execution_count": 12,
   "metadata": {},
   "outputs": [
    {
     "name": "stdout",
     "output_type": "stream",
     "text": [
      "0\n",
      "100\n",
      "200\n",
      "300\n",
      "400\n",
      "500\n",
      "600\n",
      "700\n",
      "800\n",
      "900\n",
      "1000\n",
      "1100\n",
      "1200\n",
      "1300\n",
      "1400\n",
      "1500\n",
      "1600\n",
      "1700\n",
      "1800\n",
      "saving to  ../../exports/dataset/other_formats/test-balanced-tgif-compo.csv\n"
     ]
    }
   ],
   "source": [
    "test_compo = toTGIFCompo('dataset', 'test', 'balanced')"
   ]
  },
  {
   "cell_type": "code",
   "execution_count": 13,
   "metadata": {},
   "outputs": [],
   "source": [
    "# load the pickles\n",
    "# drop other columns\n",
    "# attach together\n",
    "\n",
    "d_path = 'dataset'\n",
    "training = pd.read_csv('../../exports/%s/other_formats/train-balanced-tgif-compo.csv' % d_path)\n",
    "testing = pd.read_csv('../../exports/%s/other_formats/test-balanced-tgif-compo.csv' % d_path)"
   ]
  },
  {
   "cell_type": "code",
   "execution_count": 14,
   "metadata": {},
   "outputs": [
    {
     "data": {
      "text/html": [
       "<div>\n",
       "<style scoped>\n",
       "    .dataframe tbody tr th:only-of-type {\n",
       "        vertical-align: middle;\n",
       "    }\n",
       "\n",
       "    .dataframe tbody tr th {\n",
       "        vertical-align: top;\n",
       "    }\n",
       "\n",
       "    .dataframe thead th {\n",
       "        text-align: right;\n",
       "    }\n",
       "</style>\n",
       "<table border=\"1\" class=\"dataframe\">\n",
       "  <thead>\n",
       "    <tr style=\"text-align: right;\">\n",
       "      <th></th>\n",
       "      <th>question</th>\n",
       "      <th>answer</th>\n",
       "      <th>id</th>\n",
       "      <th>vid_id</th>\n",
       "      <th>gif_name</th>\n",
       "      <th>key</th>\n",
       "      <th>description</th>\n",
       "    </tr>\n",
       "  </thead>\n",
       "  <tbody>\n",
       "    <tr>\n",
       "      <th>0</th>\n",
       "      <td>Of all the items they touched, was the first o...</td>\n",
       "      <td>food</td>\n",
       "      <td>46GP8-893</td>\n",
       "      <td>46GP8</td>\n",
       "      <td>46GP8</td>\n",
       "      <td>46GP8-893</td>\n",
       "      <td>none</td>\n",
       "    </tr>\n",
       "    <tr>\n",
       "      <th>1</th>\n",
       "      <td>Which were they behind last, some food or a wi...</td>\n",
       "      <td>window</td>\n",
       "      <td>46GP8-898</td>\n",
       "      <td>46GP8</td>\n",
       "      <td>46GP8</td>\n",
       "      <td>46GP8-898</td>\n",
       "      <td>none</td>\n",
       "    </tr>\n",
       "    <tr>\n",
       "      <th>2</th>\n",
       "      <td>In the video, of all the items they went behin...</td>\n",
       "      <td>window</td>\n",
       "      <td>46GP8-899</td>\n",
       "      <td>46GP8</td>\n",
       "      <td>46GP8</td>\n",
       "      <td>46GP8-899</td>\n",
       "      <td>none</td>\n",
       "    </tr>\n",
       "    <tr>\n",
       "      <th>3</th>\n",
       "      <td>In the video, did they interact with a window?</td>\n",
       "      <td>Yes</td>\n",
       "      <td>46GP8-5</td>\n",
       "      <td>46GP8</td>\n",
       "      <td>46GP8</td>\n",
       "      <td>46GP8-5</td>\n",
       "      <td>none</td>\n",
       "    </tr>\n",
       "    <tr>\n",
       "      <th>4</th>\n",
       "      <td>Which object did the person interact with afte...</td>\n",
       "      <td>window</td>\n",
       "      <td>46GP8-388</td>\n",
       "      <td>46GP8</td>\n",
       "      <td>46GP8</td>\n",
       "      <td>46GP8-388</td>\n",
       "      <td>none</td>\n",
       "    </tr>\n",
       "    <tr>\n",
       "      <th>...</th>\n",
       "      <td>...</td>\n",
       "      <td>...</td>\n",
       "      <td>...</td>\n",
       "      <td>...</td>\n",
       "      <td>...</td>\n",
       "      <td>...</td>\n",
       "      <td>...</td>\n",
       "    </tr>\n",
       "    <tr>\n",
       "      <th>90936</th>\n",
       "      <td>Was the first thing they went on the side of t...</td>\n",
       "      <td>Yes</td>\n",
       "      <td>LSKA2-813</td>\n",
       "      <td>LSKA2</td>\n",
       "      <td>LSKA2</td>\n",
       "      <td>LSKA2-813</td>\n",
       "      <td>none</td>\n",
       "    </tr>\n",
       "    <tr>\n",
       "      <th>90937</th>\n",
       "      <td>In the video, was the object they were behind ...</td>\n",
       "      <td>Yes</td>\n",
       "      <td>LSKA2-832</td>\n",
       "      <td>LSKA2</td>\n",
       "      <td>LSKA2</td>\n",
       "      <td>LSKA2-832</td>\n",
       "      <td>none</td>\n",
       "    </tr>\n",
       "    <tr>\n",
       "      <th>90938</th>\n",
       "      <td>In the video, which was the person behind firs...</td>\n",
       "      <td>food</td>\n",
       "      <td>LSKA2-2191</td>\n",
       "      <td>LSKA2</td>\n",
       "      <td>LSKA2</td>\n",
       "      <td>LSKA2-2191</td>\n",
       "      <td>none</td>\n",
       "    </tr>\n",
       "    <tr>\n",
       "      <th>90939</th>\n",
       "      <td>Of all the items they went on the side of, was...</td>\n",
       "      <td>food</td>\n",
       "      <td>LSKA2-2192</td>\n",
       "      <td>LSKA2</td>\n",
       "      <td>LSKA2</td>\n",
       "      <td>LSKA2-2192</td>\n",
       "      <td>none</td>\n",
       "    </tr>\n",
       "    <tr>\n",
       "      <th>90940</th>\n",
       "      <td>Was the person walking something before or aft...</td>\n",
       "      <td>after</td>\n",
       "      <td>LSKA2-2205</td>\n",
       "      <td>LSKA2</td>\n",
       "      <td>LSKA2</td>\n",
       "      <td>LSKA2-2205</td>\n",
       "      <td>none</td>\n",
       "    </tr>\n",
       "  </tbody>\n",
       "</table>\n",
       "<p>1515139 rows × 7 columns</p>\n",
       "</div>"
      ],
      "text/plain": [
       "                                                question  answer          id  \\\n",
       "0      Of all the items they touched, was the first o...    food   46GP8-893   \n",
       "1      Which were they behind last, some food or a wi...  window   46GP8-898   \n",
       "2      In the video, of all the items they went behin...  window   46GP8-899   \n",
       "3         In the video, did they interact with a window?     Yes     46GP8-5   \n",
       "4      Which object did the person interact with afte...  window   46GP8-388   \n",
       "...                                                  ...     ...         ...   \n",
       "90936  Was the first thing they went on the side of t...     Yes   LSKA2-813   \n",
       "90937  In the video, was the object they were behind ...     Yes   LSKA2-832   \n",
       "90938  In the video, which was the person behind firs...    food  LSKA2-2191   \n",
       "90939  Of all the items they went on the side of, was...    food  LSKA2-2192   \n",
       "90940  Was the person walking something before or aft...   after  LSKA2-2205   \n",
       "\n",
       "      vid_id gif_name         key description  \n",
       "0      46GP8    46GP8   46GP8-893        none  \n",
       "1      46GP8    46GP8   46GP8-898        none  \n",
       "2      46GP8    46GP8   46GP8-899        none  \n",
       "3      46GP8    46GP8     46GP8-5        none  \n",
       "4      46GP8    46GP8   46GP8-388        none  \n",
       "...      ...      ...         ...         ...  \n",
       "90936  LSKA2    LSKA2   LSKA2-813        none  \n",
       "90937  LSKA2    LSKA2   LSKA2-832        none  \n",
       "90938  LSKA2    LSKA2  LSKA2-2191        none  \n",
       "90939  LSKA2    LSKA2  LSKA2-2192        none  \n",
       "90940  LSKA2    LSKA2  LSKA2-2205        none  \n",
       "\n",
       "[1515139 rows x 7 columns]"
      ]
     },
     "execution_count": 14,
     "metadata": {},
     "output_type": "execute_result"
    }
   ],
   "source": [
    "total = pd.concat([training, testing])\n",
    "total"
   ]
  },
  {
   "cell_type": "code",
   "execution_count": 15,
   "metadata": {},
   "outputs": [],
   "source": [
    "total.to_csv('../../exports/%s/other_formats/Total-question-compo.csv' % d_path, index = None)"
   ]
  },
  {
   "cell_type": "markdown",
   "metadata": {},
   "source": [
    "# By Compositional Steps"
   ]
  },
  {
   "cell_type": "code",
   "execution_count": 16,
   "metadata": {},
   "outputs": [],
   "source": [
    "# Testing to CSV\n",
    "#46GP8, N11GT, KRF68, MJO7C, S6MPZ\n",
    "\n",
    "def toDataframeSteps(v_id, QA, steps):\n",
    "    df = pd.DataFrame.from_dict(QA, orient=\"index\")\n",
    "    df['vid_id'] = v_id\n",
    "    #df.index = v_id\n",
    "    df['gif_name'] = v_id\n",
    "    #df = df.drop(columns=['attributes', 'global', 'local', 'steps', 'metrics'])\n",
    "    \n",
    "    # new!\n",
    "   # df = df.drop(columns=['attributes', 'global', 'id', 'local', 'steps', 'metrics', 'program', 'sg_grounding'])\n",
    "    df['index'] = df.index\n",
    "    df = df.rename(columns={'index': 'key'})\n",
    "    \n",
    "    #df = df.rename(columns={'id': 'key'})\n",
    "    df['description'] = \"none\"\n",
    "    \n",
    "    if v_id in steps:\n",
    "        to_del = list(set(steps[v_id]))\n",
    "        df.drop(to_del, inplace=True, errors='ignore')\n",
    "    \n",
    "    return df\n",
    "\n",
    "\n",
    "def toTGIFSteps(d_path, group, bal_txt, title, steps):\n",
    "    dataframes = []\n",
    "    if group == 'train':\n",
    "        our_data = train_stsgs\n",
    "    if group == 'test':\n",
    "        our_data = test_stsgs\n",
    "        \n",
    "    cnt = 0\n",
    "    for v_id in our_data:\n",
    "        if cnt % 1000 == 0:\n",
    "            print(cnt)\n",
    "        cnt = cnt + 1\n",
    "        QA = getQA(d_path, group, bal_txt, v_id)\n",
    "        #print('len QA', len(QA))\n",
    "        df = toDataframeSteps(v_id, QA, steps)\n",
    "        if 'attributes' not in df.columns:\n",
    "            continue\n",
    "        df = df.drop(columns=['attributes', 'global', 'local', 'steps', 'metrics', 'program', 'sg_grounding'])\n",
    "        dataframes.append(df)\n",
    "    total = pd.concat(dataframes)\n",
    "    total.to_csv('../../exports/%s/other_formats/%s-%s-tgif-%s.csv' % (d_path, group, bal_txt, title), index = None)\n",
    "    return total\n"
   ]
  },
  {
   "cell_type": "code",
   "execution_count": 17,
   "metadata": {},
   "outputs": [],
   "source": [
    "#train_steps_glob = pickleLoad('../exports/dataset/metrics/templ_balanced/train/steps_by_glob.pkl')\n",
    "#test_steps_glob = pickleLoad('../exports/dataset/metrics/balanced/test/steps_by_glob.pkl')\n",
    "train_steps_templ = pickleLoad('../../exports/dataset/metrics/balanced/train/steps_by_templ.pkl')\n",
    "test_steps_templ = pickleLoad('../../exports/dataset/metrics/balanced/test/steps_by_templ.pkl')"
   ]
  },
  {
   "cell_type": "code",
   "execution_count": null,
   "metadata": {},
   "outputs": [],
   "source": []
  },
  {
   "cell_type": "code",
   "execution_count": 18,
   "metadata": {},
   "outputs": [
    {
     "name": "stdout",
     "output_type": "stream",
     "text": [
      "less 7786\n",
      "46GP8\n",
      "46GP8-5\n",
      "more 6519\n",
      "46GP8\n",
      "46GP8-495\n"
     ]
    }
   ],
   "source": [
    "for i in train_steps_templ:\n",
    "    print(i, len(train_steps_templ[i]))\n",
    "    j = train_steps_templ[i]\n",
    "    for k in j:\n",
    "        print(k)\n",
    "        for l in j[k]:\n",
    "            print(l)\n",
    "            break\n",
    "        break"
   ]
  },
  {
   "cell_type": "code",
   "execution_count": null,
   "metadata": {},
   "outputs": [],
   "source": []
  },
  {
   "cell_type": "code",
   "execution_count": 19,
   "metadata": {},
   "outputs": [],
   "source": [
    "# so note to self - want to pass in the part of global to delete\n",
    "d_path = 'dataset'\n",
    "#glob_split_tr = toTGIFSteps(d_path, 'train', 'balanced', 'steps_glob', train_steps_glob['more'])\n"
   ]
  },
  {
   "cell_type": "code",
   "execution_count": 20,
   "metadata": {
    "scrolled": false
   },
   "outputs": [],
   "source": [
    "#glob_split_te = toTGIFSteps(d_path, 'test', 'balanced', 'steps_glob', test_steps_glob['less'])"
   ]
  },
  {
   "cell_type": "code",
   "execution_count": 21,
   "metadata": {},
   "outputs": [
    {
     "name": "stdout",
     "output_type": "stream",
     "text": [
      "less\n",
      "more\n"
     ]
    }
   ],
   "source": [
    "for i in train_steps_templ:\n",
    "    print(i)"
   ]
  },
  {
   "cell_type": "code",
   "execution_count": 22,
   "metadata": {},
   "outputs": [
    {
     "name": "stdout",
     "output_type": "stream",
     "text": [
      "0\n",
      "1000\n",
      "2000\n",
      "3000\n",
      "4000\n",
      "5000\n",
      "6000\n",
      "7000\n"
     ]
    },
    {
     "data": {
      "text/html": [
       "<div>\n",
       "<style scoped>\n",
       "    .dataframe tbody tr th:only-of-type {\n",
       "        vertical-align: middle;\n",
       "    }\n",
       "\n",
       "    .dataframe tbody tr th {\n",
       "        vertical-align: top;\n",
       "    }\n",
       "\n",
       "    .dataframe thead th {\n",
       "        text-align: right;\n",
       "    }\n",
       "</style>\n",
       "<table border=\"1\" class=\"dataframe\">\n",
       "  <thead>\n",
       "    <tr style=\"text-align: right;\">\n",
       "      <th></th>\n",
       "      <th>question</th>\n",
       "      <th>answer</th>\n",
       "      <th>id</th>\n",
       "      <th>vid_id</th>\n",
       "      <th>gif_name</th>\n",
       "      <th>key</th>\n",
       "      <th>description</th>\n",
       "    </tr>\n",
       "  </thead>\n",
       "  <tbody>\n",
       "    <tr>\n",
       "      <th>46GP8-893</th>\n",
       "      <td>Of all the items they touched, was the first o...</td>\n",
       "      <td>food</td>\n",
       "      <td>46GP8-893</td>\n",
       "      <td>46GP8</td>\n",
       "      <td>46GP8</td>\n",
       "      <td>46GP8-893</td>\n",
       "      <td>none</td>\n",
       "    </tr>\n",
       "    <tr>\n",
       "      <th>46GP8-898</th>\n",
       "      <td>Which were they behind last, some food or a wi...</td>\n",
       "      <td>window</td>\n",
       "      <td>46GP8-898</td>\n",
       "      <td>46GP8</td>\n",
       "      <td>46GP8</td>\n",
       "      <td>46GP8-898</td>\n",
       "      <td>none</td>\n",
       "    </tr>\n",
       "    <tr>\n",
       "      <th>46GP8-899</th>\n",
       "      <td>In the video, of all the items they went behin...</td>\n",
       "      <td>window</td>\n",
       "      <td>46GP8-899</td>\n",
       "      <td>46GP8</td>\n",
       "      <td>46GP8</td>\n",
       "      <td>46GP8-899</td>\n",
       "      <td>none</td>\n",
       "    </tr>\n",
       "    <tr>\n",
       "      <th>46GP8-5</th>\n",
       "      <td>In the video, did they interact with a window?</td>\n",
       "      <td>Yes</td>\n",
       "      <td>46GP8-5</td>\n",
       "      <td>46GP8</td>\n",
       "      <td>46GP8</td>\n",
       "      <td>46GP8-5</td>\n",
       "      <td>none</td>\n",
       "    </tr>\n",
       "    <tr>\n",
       "      <th>46GP8-388</th>\n",
       "      <td>Which object did the person interact with afte...</td>\n",
       "      <td>window</td>\n",
       "      <td>46GP8-388</td>\n",
       "      <td>46GP8</td>\n",
       "      <td>46GP8</td>\n",
       "      <td>46GP8-388</td>\n",
       "      <td>none</td>\n",
       "    </tr>\n",
       "    <tr>\n",
       "      <th>...</th>\n",
       "      <td>...</td>\n",
       "      <td>...</td>\n",
       "      <td>...</td>\n",
       "      <td>...</td>\n",
       "      <td>...</td>\n",
       "      <td>...</td>\n",
       "      <td>...</td>\n",
       "    </tr>\n",
       "    <tr>\n",
       "      <th>PG1ID-1791</th>\n",
       "      <td>What did they watch while holding the object t...</td>\n",
       "      <td>laptop</td>\n",
       "      <td>PG1ID-1791</td>\n",
       "      <td>PG1ID</td>\n",
       "      <td>PG1ID</td>\n",
       "      <td>PG1ID-1791</td>\n",
       "      <td>none</td>\n",
       "    </tr>\n",
       "    <tr>\n",
       "      <th>PG1ID-1790</th>\n",
       "      <td>What did they watch while holding the thing th...</td>\n",
       "      <td>laptop</td>\n",
       "      <td>PG1ID-1790</td>\n",
       "      <td>PG1ID</td>\n",
       "      <td>PG1ID</td>\n",
       "      <td>PG1ID-1790</td>\n",
       "      <td>none</td>\n",
       "    </tr>\n",
       "    <tr>\n",
       "      <th>PG1ID-972</th>\n",
       "      <td>While watching a laptop or something on a lapt...</td>\n",
       "      <td>Yes</td>\n",
       "      <td>PG1ID-972</td>\n",
       "      <td>PG1ID</td>\n",
       "      <td>PG1ID</td>\n",
       "      <td>PG1ID-972</td>\n",
       "      <td>none</td>\n",
       "    </tr>\n",
       "    <tr>\n",
       "      <th>PG1ID-1789</th>\n",
       "      <td>Which object did the person watch while taking...</td>\n",
       "      <td>laptop</td>\n",
       "      <td>PG1ID-1789</td>\n",
       "      <td>PG1ID</td>\n",
       "      <td>PG1ID</td>\n",
       "      <td>PG1ID-1789</td>\n",
       "      <td>none</td>\n",
       "    </tr>\n",
       "    <tr>\n",
       "      <th>PG1ID-1788</th>\n",
       "      <td>While taking the thing they went on the side o...</td>\n",
       "      <td>laptop</td>\n",
       "      <td>PG1ID-1788</td>\n",
       "      <td>PG1ID</td>\n",
       "      <td>PG1ID</td>\n",
       "      <td>PG1ID-1788</td>\n",
       "      <td>none</td>\n",
       "    </tr>\n",
       "  </tbody>\n",
       "</table>\n",
       "<p>1402387 rows × 7 columns</p>\n",
       "</div>"
      ],
      "text/plain": [
       "                                                     question  answer  \\\n",
       "46GP8-893   Of all the items they touched, was the first o...    food   \n",
       "46GP8-898   Which were they behind last, some food or a wi...  window   \n",
       "46GP8-899   In the video, of all the items they went behin...  window   \n",
       "46GP8-5        In the video, did they interact with a window?     Yes   \n",
       "46GP8-388   Which object did the person interact with afte...  window   \n",
       "...                                                       ...     ...   \n",
       "PG1ID-1791  What did they watch while holding the object t...  laptop   \n",
       "PG1ID-1790  What did they watch while holding the thing th...  laptop   \n",
       "PG1ID-972   While watching a laptop or something on a lapt...     Yes   \n",
       "PG1ID-1789  Which object did the person watch while taking...  laptop   \n",
       "PG1ID-1788  While taking the thing they went on the side o...  laptop   \n",
       "\n",
       "                    id vid_id gif_name         key description  \n",
       "46GP8-893    46GP8-893  46GP8    46GP8   46GP8-893        none  \n",
       "46GP8-898    46GP8-898  46GP8    46GP8   46GP8-898        none  \n",
       "46GP8-899    46GP8-899  46GP8    46GP8   46GP8-899        none  \n",
       "46GP8-5        46GP8-5  46GP8    46GP8     46GP8-5        none  \n",
       "46GP8-388    46GP8-388  46GP8    46GP8   46GP8-388        none  \n",
       "...                ...    ...      ...         ...         ...  \n",
       "PG1ID-1791  PG1ID-1791  PG1ID    PG1ID  PG1ID-1791        none  \n",
       "PG1ID-1790  PG1ID-1790  PG1ID    PG1ID  PG1ID-1790        none  \n",
       "PG1ID-972    PG1ID-972  PG1ID    PG1ID   PG1ID-972        none  \n",
       "PG1ID-1789  PG1ID-1789  PG1ID    PG1ID  PG1ID-1789        none  \n",
       "PG1ID-1788  PG1ID-1788  PG1ID    PG1ID  PG1ID-1788        none  \n",
       "\n",
       "[1402387 rows x 7 columns]"
      ]
     },
     "execution_count": 22,
     "metadata": {},
     "output_type": "execute_result"
    }
   ],
   "source": [
    "templ_split_tr = 0\n",
    "toTGIFSteps(d_path, 'train', 'balanced', 'steps_templ', train_steps_templ['more'])"
   ]
  },
  {
   "cell_type": "code",
   "execution_count": 23,
   "metadata": {
    "scrolled": true
   },
   "outputs": [
    {
     "name": "stdout",
     "output_type": "stream",
     "text": [
      "0\n",
      "1000\n"
     ]
    },
    {
     "data": {
      "text/html": [
       "<div>\n",
       "<style scoped>\n",
       "    .dataframe tbody tr th:only-of-type {\n",
       "        vertical-align: middle;\n",
       "    }\n",
       "\n",
       "    .dataframe tbody tr th {\n",
       "        vertical-align: top;\n",
       "    }\n",
       "\n",
       "    .dataframe thead th {\n",
       "        text-align: right;\n",
       "    }\n",
       "</style>\n",
       "<table border=\"1\" class=\"dataframe\">\n",
       "  <thead>\n",
       "    <tr style=\"text-align: right;\">\n",
       "      <th></th>\n",
       "      <th>question</th>\n",
       "      <th>answer</th>\n",
       "      <th>id</th>\n",
       "      <th>vid_id</th>\n",
       "      <th>gif_name</th>\n",
       "      <th>key</th>\n",
       "      <th>description</th>\n",
       "    </tr>\n",
       "  </thead>\n",
       "  <tbody>\n",
       "    <tr>\n",
       "      <th>YSKX3-1690</th>\n",
       "      <td>After tidying up the object they were in front...</td>\n",
       "      <td>No</td>\n",
       "      <td>YSKX3-1690</td>\n",
       "      <td>YSKX3</td>\n",
       "      <td>YSKX3</td>\n",
       "      <td>YSKX3-1690</td>\n",
       "      <td>none</td>\n",
       "    </tr>\n",
       "    <tr>\n",
       "      <th>YSKX3-2547</th>\n",
       "      <td>Was the person touching something while throwi...</td>\n",
       "      <td>Yes</td>\n",
       "      <td>YSKX3-2547</td>\n",
       "      <td>YSKX3</td>\n",
       "      <td>YSKX3</td>\n",
       "      <td>YSKX3-2547</td>\n",
       "      <td>none</td>\n",
       "    </tr>\n",
       "    <tr>\n",
       "      <th>YSKX3-2826</th>\n",
       "      <td>Did they tidy anything before taking the thing...</td>\n",
       "      <td>Yes</td>\n",
       "      <td>YSKX3-2826</td>\n",
       "      <td>YSKX3</td>\n",
       "      <td>YSKX3</td>\n",
       "      <td>YSKX3-2826</td>\n",
       "      <td>none</td>\n",
       "    </tr>\n",
       "    <tr>\n",
       "      <th>YSKX3-2849</th>\n",
       "      <td>Before holding the thing they put down, was th...</td>\n",
       "      <td>Yes</td>\n",
       "      <td>YSKX3-2849</td>\n",
       "      <td>YSKX3</td>\n",
       "      <td>YSKX3</td>\n",
       "      <td>YSKX3-2849</td>\n",
       "      <td>none</td>\n",
       "    </tr>\n",
       "    <tr>\n",
       "      <th>YSKX3-2876</th>\n",
       "      <td>While taking the thing they put down from some...</td>\n",
       "      <td>Yes</td>\n",
       "      <td>YSKX3-2876</td>\n",
       "      <td>YSKX3</td>\n",
       "      <td>YSKX3</td>\n",
       "      <td>YSKX3-2876</td>\n",
       "      <td>none</td>\n",
       "    </tr>\n",
       "    <tr>\n",
       "      <th>...</th>\n",
       "      <td>...</td>\n",
       "      <td>...</td>\n",
       "      <td>...</td>\n",
       "      <td>...</td>\n",
       "      <td>...</td>\n",
       "      <td>...</td>\n",
       "      <td>...</td>\n",
       "    </tr>\n",
       "    <tr>\n",
       "      <th>F1LTO-3352</th>\n",
       "      <td>Was the person closing something before or aft...</td>\n",
       "      <td>after</td>\n",
       "      <td>F1LTO-3352</td>\n",
       "      <td>F1LTO</td>\n",
       "      <td>F1LTO</td>\n",
       "      <td>F1LTO-3352</td>\n",
       "      <td>none</td>\n",
       "    </tr>\n",
       "    <tr>\n",
       "      <th>F1LTO-3379</th>\n",
       "      <td>Was the person closing the last thing they tou...</td>\n",
       "      <td>after</td>\n",
       "      <td>F1LTO-3379</td>\n",
       "      <td>F1LTO</td>\n",
       "      <td>F1LTO</td>\n",
       "      <td>F1LTO-3379</td>\n",
       "      <td>none</td>\n",
       "    </tr>\n",
       "    <tr>\n",
       "      <th>D8K7T-1383</th>\n",
       "      <td>Were they interacting with a pillow while thro...</td>\n",
       "      <td>No</td>\n",
       "      <td>D8K7T-1383</td>\n",
       "      <td>D8K7T</td>\n",
       "      <td>D8K7T</td>\n",
       "      <td>D8K7T-1383</td>\n",
       "      <td>none</td>\n",
       "    </tr>\n",
       "    <tr>\n",
       "      <th>D8K7T-1702</th>\n",
       "      <td>While throwing the object they were carrying s...</td>\n",
       "      <td>No</td>\n",
       "      <td>D8K7T-1702</td>\n",
       "      <td>D8K7T</td>\n",
       "      <td>D8K7T</td>\n",
       "      <td>D8K7T-1702</td>\n",
       "      <td>none</td>\n",
       "    </tr>\n",
       "    <tr>\n",
       "      <th>LSKA2-2205</th>\n",
       "      <td>Was the person walking something before or aft...</td>\n",
       "      <td>after</td>\n",
       "      <td>LSKA2-2205</td>\n",
       "      <td>LSKA2</td>\n",
       "      <td>LSKA2</td>\n",
       "      <td>LSKA2-2205</td>\n",
       "      <td>none</td>\n",
       "    </tr>\n",
       "  </tbody>\n",
       "</table>\n",
       "<p>89646 rows × 7 columns</p>\n",
       "</div>"
      ],
      "text/plain": [
       "                                                     question answer  \\\n",
       "YSKX3-1690  After tidying up the object they were in front...     No   \n",
       "YSKX3-2547  Was the person touching something while throwi...    Yes   \n",
       "YSKX3-2826  Did they tidy anything before taking the thing...    Yes   \n",
       "YSKX3-2849  Before holding the thing they put down, was th...    Yes   \n",
       "YSKX3-2876  While taking the thing they put down from some...    Yes   \n",
       "...                                                       ...    ...   \n",
       "F1LTO-3352  Was the person closing something before or aft...  after   \n",
       "F1LTO-3379  Was the person closing the last thing they tou...  after   \n",
       "D8K7T-1383  Were they interacting with a pillow while thro...     No   \n",
       "D8K7T-1702  While throwing the object they were carrying s...     No   \n",
       "LSKA2-2205  Was the person walking something before or aft...  after   \n",
       "\n",
       "                    id vid_id gif_name         key description  \n",
       "YSKX3-1690  YSKX3-1690  YSKX3    YSKX3  YSKX3-1690        none  \n",
       "YSKX3-2547  YSKX3-2547  YSKX3    YSKX3  YSKX3-2547        none  \n",
       "YSKX3-2826  YSKX3-2826  YSKX3    YSKX3  YSKX3-2826        none  \n",
       "YSKX3-2849  YSKX3-2849  YSKX3    YSKX3  YSKX3-2849        none  \n",
       "YSKX3-2876  YSKX3-2876  YSKX3    YSKX3  YSKX3-2876        none  \n",
       "...                ...    ...      ...         ...         ...  \n",
       "F1LTO-3352  F1LTO-3352  F1LTO    F1LTO  F1LTO-3352        none  \n",
       "F1LTO-3379  F1LTO-3379  F1LTO    F1LTO  F1LTO-3379        none  \n",
       "D8K7T-1383  D8K7T-1383  D8K7T    D8K7T  D8K7T-1383        none  \n",
       "D8K7T-1702  D8K7T-1702  D8K7T    D8K7T  D8K7T-1702        none  \n",
       "LSKA2-2205  LSKA2-2205  LSKA2    LSKA2  LSKA2-2205        none  \n",
       "\n",
       "[89646 rows x 7 columns]"
      ]
     },
     "execution_count": 23,
     "metadata": {},
     "output_type": "execute_result"
    }
   ],
   "source": [
    "templ_split_te = 0\n",
    "toTGIFSteps(d_path, 'test', 'balanced', 'steps_templ', test_steps_templ['less'])"
   ]
  },
  {
   "cell_type": "code",
   "execution_count": 24,
   "metadata": {},
   "outputs": [],
   "source": [
    "\n",
    "steps_tr = pd.read_csv('../../exports/%s/other_formats/train-balanced-tgif-steps_templ.csv' % d_path)"
   ]
  },
  {
   "cell_type": "code",
   "execution_count": 25,
   "metadata": {},
   "outputs": [
    {
     "data": {
      "text/plain": [
       "Index(['question', 'answer', 'id', 'vid_id', 'gif_name', 'key', 'description'], dtype='object')"
      ]
     },
     "execution_count": 25,
     "metadata": {},
     "output_type": "execute_result"
    }
   ],
   "source": [
    "steps_tr.columns"
   ]
  },
  {
   "cell_type": "code",
   "execution_count": 26,
   "metadata": {},
   "outputs": [],
   "source": [
    "x = steps_tr['key'].values"
   ]
  },
  {
   "cell_type": "code",
   "execution_count": 27,
   "metadata": {},
   "outputs": [],
   "source": [
    "\n",
    "training = pd.read_csv('../../exports/%s/other_formats/train-balanced-tgif-steps_templ.csv' % d_path)\n",
    "testing = pd.read_csv('../../exports/%s/other_formats/test-balanced-tgif-steps_templ.csv' % d_path)"
   ]
  },
  {
   "cell_type": "code",
   "execution_count": 28,
   "metadata": {},
   "outputs": [
    {
     "data": {
      "text/plain": [
       "7786"
      ]
     },
     "execution_count": 28,
     "metadata": {},
     "output_type": "execute_result"
    }
   ],
   "source": [
    "len(training['vid_id'].unique())"
   ]
  },
  {
   "cell_type": "code",
   "execution_count": 29,
   "metadata": {},
   "outputs": [
    {
     "data": {
      "text/html": [
       "<div>\n",
       "<style scoped>\n",
       "    .dataframe tbody tr th:only-of-type {\n",
       "        vertical-align: middle;\n",
       "    }\n",
       "\n",
       "    .dataframe tbody tr th {\n",
       "        vertical-align: top;\n",
       "    }\n",
       "\n",
       "    .dataframe thead th {\n",
       "        text-align: right;\n",
       "    }\n",
       "</style>\n",
       "<table border=\"1\" class=\"dataframe\">\n",
       "  <thead>\n",
       "    <tr style=\"text-align: right;\">\n",
       "      <th></th>\n",
       "      <th>question</th>\n",
       "      <th>answer</th>\n",
       "      <th>id</th>\n",
       "      <th>vid_id</th>\n",
       "      <th>gif_name</th>\n",
       "      <th>key</th>\n",
       "      <th>description</th>\n",
       "    </tr>\n",
       "  </thead>\n",
       "  <tbody>\n",
       "    <tr>\n",
       "      <th>0</th>\n",
       "      <td>Of all the items they touched, was the first o...</td>\n",
       "      <td>food</td>\n",
       "      <td>46GP8-893</td>\n",
       "      <td>46GP8</td>\n",
       "      <td>46GP8</td>\n",
       "      <td>46GP8-893</td>\n",
       "      <td>none</td>\n",
       "    </tr>\n",
       "    <tr>\n",
       "      <th>1</th>\n",
       "      <td>Which were they behind last, some food or a wi...</td>\n",
       "      <td>window</td>\n",
       "      <td>46GP8-898</td>\n",
       "      <td>46GP8</td>\n",
       "      <td>46GP8</td>\n",
       "      <td>46GP8-898</td>\n",
       "      <td>none</td>\n",
       "    </tr>\n",
       "    <tr>\n",
       "      <th>2</th>\n",
       "      <td>In the video, of all the items they went behin...</td>\n",
       "      <td>window</td>\n",
       "      <td>46GP8-899</td>\n",
       "      <td>46GP8</td>\n",
       "      <td>46GP8</td>\n",
       "      <td>46GP8-899</td>\n",
       "      <td>none</td>\n",
       "    </tr>\n",
       "    <tr>\n",
       "      <th>3</th>\n",
       "      <td>In the video, did they interact with a window?</td>\n",
       "      <td>Yes</td>\n",
       "      <td>46GP8-5</td>\n",
       "      <td>46GP8</td>\n",
       "      <td>46GP8</td>\n",
       "      <td>46GP8-5</td>\n",
       "      <td>none</td>\n",
       "    </tr>\n",
       "    <tr>\n",
       "      <th>4</th>\n",
       "      <td>Which object did the person interact with afte...</td>\n",
       "      <td>window</td>\n",
       "      <td>46GP8-388</td>\n",
       "      <td>46GP8</td>\n",
       "      <td>46GP8</td>\n",
       "      <td>46GP8-388</td>\n",
       "      <td>none</td>\n",
       "    </tr>\n",
       "    <tr>\n",
       "      <th>...</th>\n",
       "      <td>...</td>\n",
       "      <td>...</td>\n",
       "      <td>...</td>\n",
       "      <td>...</td>\n",
       "      <td>...</td>\n",
       "      <td>...</td>\n",
       "      <td>...</td>\n",
       "    </tr>\n",
       "    <tr>\n",
       "      <th>89641</th>\n",
       "      <td>Was the person closing something before or aft...</td>\n",
       "      <td>after</td>\n",
       "      <td>F1LTO-3352</td>\n",
       "      <td>F1LTO</td>\n",
       "      <td>F1LTO</td>\n",
       "      <td>F1LTO-3352</td>\n",
       "      <td>none</td>\n",
       "    </tr>\n",
       "    <tr>\n",
       "      <th>89642</th>\n",
       "      <td>Was the person closing the last thing they tou...</td>\n",
       "      <td>after</td>\n",
       "      <td>F1LTO-3379</td>\n",
       "      <td>F1LTO</td>\n",
       "      <td>F1LTO</td>\n",
       "      <td>F1LTO-3379</td>\n",
       "      <td>none</td>\n",
       "    </tr>\n",
       "    <tr>\n",
       "      <th>89643</th>\n",
       "      <td>Were they interacting with a pillow while thro...</td>\n",
       "      <td>No</td>\n",
       "      <td>D8K7T-1383</td>\n",
       "      <td>D8K7T</td>\n",
       "      <td>D8K7T</td>\n",
       "      <td>D8K7T-1383</td>\n",
       "      <td>none</td>\n",
       "    </tr>\n",
       "    <tr>\n",
       "      <th>89644</th>\n",
       "      <td>While throwing the object they were carrying s...</td>\n",
       "      <td>No</td>\n",
       "      <td>D8K7T-1702</td>\n",
       "      <td>D8K7T</td>\n",
       "      <td>D8K7T</td>\n",
       "      <td>D8K7T-1702</td>\n",
       "      <td>none</td>\n",
       "    </tr>\n",
       "    <tr>\n",
       "      <th>89645</th>\n",
       "      <td>Was the person walking something before or aft...</td>\n",
       "      <td>after</td>\n",
       "      <td>LSKA2-2205</td>\n",
       "      <td>LSKA2</td>\n",
       "      <td>LSKA2</td>\n",
       "      <td>LSKA2-2205</td>\n",
       "      <td>none</td>\n",
       "    </tr>\n",
       "  </tbody>\n",
       "</table>\n",
       "<p>1492033 rows × 7 columns</p>\n",
       "</div>"
      ],
      "text/plain": [
       "                                                question  answer          id  \\\n",
       "0      Of all the items they touched, was the first o...    food   46GP8-893   \n",
       "1      Which were they behind last, some food or a wi...  window   46GP8-898   \n",
       "2      In the video, of all the items they went behin...  window   46GP8-899   \n",
       "3         In the video, did they interact with a window?     Yes     46GP8-5   \n",
       "4      Which object did the person interact with afte...  window   46GP8-388   \n",
       "...                                                  ...     ...         ...   \n",
       "89641  Was the person closing something before or aft...   after  F1LTO-3352   \n",
       "89642  Was the person closing the last thing they tou...   after  F1LTO-3379   \n",
       "89643  Were they interacting with a pillow while thro...      No  D8K7T-1383   \n",
       "89644  While throwing the object they were carrying s...      No  D8K7T-1702   \n",
       "89645  Was the person walking something before or aft...   after  LSKA2-2205   \n",
       "\n",
       "      vid_id gif_name         key description  \n",
       "0      46GP8    46GP8   46GP8-893        none  \n",
       "1      46GP8    46GP8   46GP8-898        none  \n",
       "2      46GP8    46GP8   46GP8-899        none  \n",
       "3      46GP8    46GP8     46GP8-5        none  \n",
       "4      46GP8    46GP8   46GP8-388        none  \n",
       "...      ...      ...         ...         ...  \n",
       "89641  F1LTO    F1LTO  F1LTO-3352        none  \n",
       "89642  F1LTO    F1LTO  F1LTO-3379        none  \n",
       "89643  D8K7T    D8K7T  D8K7T-1383        none  \n",
       "89644  D8K7T    D8K7T  D8K7T-1702        none  \n",
       "89645  LSKA2    LSKA2  LSKA2-2205        none  \n",
       "\n",
       "[1492033 rows x 7 columns]"
      ]
     },
     "execution_count": 29,
     "metadata": {},
     "output_type": "execute_result"
    }
   ],
   "source": [
    "total = pd.concat([training, testing])\n",
    "total"
   ]
  },
  {
   "cell_type": "code",
   "execution_count": 30,
   "metadata": {},
   "outputs": [],
   "source": [
    "total.to_csv('../../exports/%s/other_formats/Total-question-steps_templ.csv' % d_path, index = None)"
   ]
  },
  {
   "cell_type": "code",
   "execution_count": null,
   "metadata": {},
   "outputs": [],
   "source": []
  },
  {
   "cell_type": "code",
   "execution_count": 11,
   "metadata": {},
   "outputs": [],
   "source": [
    "# Testing to CSV\n",
    "#46GP8, N11GT, KRF68, MJO7C, S6MPZ\n",
    "\n",
    "def toDataframeLength(v_id, QA):\n",
    "    df = pd.DataFrame.from_dict(QA, orient=\"index\")\n",
    "    df['vid_id'] = v_id\n",
    "    #df.index = v_id\n",
    "    df['gif_name'] = v_id\n",
    "    df = df.drop(columns=['attributes', 'global', 'local', 'steps', 'metrics'])\n",
    "    df = df.rename(columns={'id': 'key'})\n",
    "    \n",
    "    return df\n",
    "\n",
    "\n",
    "def toTGIFLength(d_path, group, bal_txt, title, length):\n",
    "    dataframes = []\n",
    "    if group == 'train':\n",
    "        our_data = train_stsgs\n",
    "    if group == 'test':\n",
    "        our_data = test_stsgs\n",
    "        \n",
    "    cnt = 0\n",
    "    for v_id in our_data:\n",
    "        if cnt % 1000 == 0:\n",
    "            print(cnt)\n",
    "        cnt = cnt + 1\n",
    "        if v_id in length:\n",
    "            continue\n",
    "        QA = getQA(d_path, group, bal_txt, v_id)\n",
    "        #print('len QA', len(QA))\n",
    "        df = toDataframeLength(v_id, QA)\n",
    "        dataframes.append(df)\n",
    "    total = pd.concat(dataframes)\n",
    "    total.to_csv('../exports/%s/other_formats/%s-%s-tgif-%s.csv' % (d_path, group, bal_txt, title), index = None)\n",
    "    return total\n"
   ]
  },
  {
   "cell_type": "code",
   "execution_count": null,
   "metadata": {},
   "outputs": [],
   "source": []
  },
  {
   "cell_type": "code",
   "execution_count": null,
   "metadata": {},
   "outputs": [],
   "source": [
    "train_length = pickleLoad('../exports/dataset/metrics/balanced/train/lengths.pkl')\n",
    "test_length = pickleLoad('../exports/dataset/metrics/balanced/test/lengths.pkl')"
   ]
  },
  {
   "cell_type": "code",
   "execution_count": null,
   "metadata": {
    "scrolled": false
   },
   "outputs": [],
   "source": [
    "lengths_tr = toTGIFLength(d_path, 'train', 'balanced', 'lengths', train_length['more'])\n",
    "lengths_te = toTGIFLength(d_path, 'test', 'balanced', 'lengths', test_length['less'])"
   ]
  },
  {
   "cell_type": "markdown",
   "metadata": {},
   "source": [
    "# Reduce test set b/c hme is a baby"
   ]
  },
  {
   "cell_type": "code",
   "execution_count": 6,
   "metadata": {},
   "outputs": [],
   "source": [
    "d_path = 'dataset'\n",
    "\n",
    "\n",
    "# attach together\n",
    "training = pd.read_csv('../exports/%s/other_formats/train-balanced-tgif.csv' % d_path)\n",
    "testing = pd.read_csv('../exports/%s/other_formats/test-balanced-tgif.csv' % d_path)"
   ]
  },
  {
   "cell_type": "code",
   "execution_count": 7,
   "metadata": {},
   "outputs": [],
   "source": [
    "compo_test = pd.read_csv('../exports/%s/other_formats/test-balanced-tgif-compo.csv' % d_path)\n",
    "#lengths_test = pd.read_csv('../exports/%s/other_formats/test-balanced-tgif-lengths.csv' % d_path)\n",
    "steps_test = pd.read_csv('../exports/%s/other_formats/test-balanced-tgif-steps_templ.csv' % d_path)"
   ]
  },
  {
   "cell_type": "code",
   "execution_count": null,
   "metadata": {},
   "outputs": [],
   "source": []
  },
  {
   "cell_type": "code",
   "execution_count": null,
   "metadata": {},
   "outputs": [],
   "source": [
    "steps_sample = steps_test.sample(n=200000).sort_index()"
   ]
  },
  {
   "cell_type": "code",
   "execution_count": null,
   "metadata": {},
   "outputs": [],
   "source": [
    "len(steps_sample)"
   ]
  },
  {
   "cell_type": "code",
   "execution_count": null,
   "metadata": {},
   "outputs": [],
   "source": [
    "len(steps_sample)\n",
    "steps_sample.to_csv('../exports/%s/other_formats/%s-%s-tgif-steps_sample.csv' % ('dataset', 'test', 'balanced'), index = None)"
   ]
  },
  {
   "cell_type": "code",
   "execution_count": null,
   "metadata": {},
   "outputs": [],
   "source": [
    "to_keep"
   ]
  },
  {
   "cell_type": "code",
   "execution_count": null,
   "metadata": {},
   "outputs": [],
   "source": [
    "with open('../data/relactindir.txt', 'rb') as f:\n",
    "    to_keep = json.load(f)"
   ]
  },
  {
   "cell_type": "code",
   "execution_count": null,
   "metadata": {},
   "outputs": [],
   "source": [
    "to_keep_df = testing.loc[testing['key'].isin(to_keep)]"
   ]
  },
  {
   "cell_type": "code",
   "execution_count": null,
   "metadata": {},
   "outputs": [],
   "source": [
    "len(to_keep_df)"
   ]
  },
  {
   "cell_type": "code",
   "execution_count": null,
   "metadata": {},
   "outputs": [],
   "source": [
    "\n",
    "to_keep_df.to_csv('../exports/%s/other_formats/%s-%s-tgif-rel_act.csv' % ('dataset', 'test', 'balanced'), index = None)\n",
    "\n",
    "\n"
   ]
  },
  {
   "cell_type": "code",
   "execution_count": null,
   "metadata": {},
   "outputs": [],
   "source": []
  },
  {
   "cell_type": "code",
   "execution_count": null,
   "metadata": {},
   "outputs": [],
   "source": []
  },
  {
   "cell_type": "code",
   "execution_count": null,
   "metadata": {},
   "outputs": [],
   "source": []
  },
  {
   "cell_type": "code",
   "execution_count": null,
   "metadata": {},
   "outputs": [],
   "source": [
    "lengths_sample = lengths_test.sample(n=100000).sort_index()"
   ]
  },
  {
   "cell_type": "code",
   "execution_count": null,
   "metadata": {},
   "outputs": [],
   "source": [
    "len(lengths_sample)\n",
    "lengths_sample.to_csv('../exports/%s/other_formats/%s-%s-tgif-lengths_sample.csv' % ('dataset', 'test', 'balanced'), index = None)"
   ]
  },
  {
   "cell_type": "code",
   "execution_count": 9,
   "metadata": {},
   "outputs": [],
   "source": [
    "#testing_no_relact = testing[testing['']]\n",
    "\n",
    "test_sample = testing.sample(n=100000).sort_index()"
   ]
  },
  {
   "cell_type": "code",
   "execution_count": 15,
   "metadata": {},
   "outputs": [],
   "source": [
    "def getAllCat():\n",
    "    # so here, initalize all the categories that matter\n",
    "    1+1\n",
    "\n",
    "def splitByVideo(df):\n",
    "    by_v = {}\n",
    "    for q_id in df['key']:\n",
    "        v = q_id[:5]\n",
    "        if v not in by_v:\n",
    "            by_v[v] = []\n",
    "        by_v[v].append(q_id)\n",
    "        \n",
    "    return by_v\n",
    "    \n",
    "def containsAllCat(by_v):\n",
    "    globs = getGlobDict()\n",
    "    sems = getSemDict()\n",
    "    structs = getStructDict()\n",
    "    \n",
    "    steps = {\n",
    "        1: 0, 2: 0, 3: 0, 4: 0, 5: 0, 6: 0, 7: 0, 8: 0, 9: 0, 10: 0, \n",
    "    }\n",
    "    \n",
    "    for v_id in by_v:\n",
    "        QA = getQA('dataset', 'test', 'balanced', v_id)\n",
    "        \n",
    "        for q_id in QA:\n",
    "            q = QA[q_id]\n",
    "            glob = getGlob(q)\n",
    "            sem = getSemantic(q)\n",
    "            struct = getStructural(q)\n",
    "            step = q['steps']\n",
    "            tp = getType(q)\n",
    "            \n",
    "            for g in glob:\n",
    "                globs[g][tp] += 1\n",
    "            sems[sem][tp] += 1\n",
    "            structs[struct][tp] += 1\n",
    "            \n",
    "            steps[step] += 1\n",
    "            \n",
    "    \n",
    "    return globs, sems, structs, steps\n",
    "\n",
    "by_v = splitByVideo(test_sample)\n",
    "\n",
    "\n",
    "glob, sem, struct, steps = containsAllCat(by_v)\n",
    "\n"
   ]
  },
  {
   "cell_type": "code",
   "execution_count": 16,
   "metadata": {},
   "outputs": [
    {
     "data": {
      "text/plain": [
       "{'obj-rel': {'binary': 174462, 'open': 292951},\n",
       " 'superlative': {'binary': 93081, 'open': 63530},\n",
       " 'exists': {'binary': 89139, 'open': 0},\n",
       " 'count': {'binary': 0, 'open': 0},\n",
       " 'duration-comparison': {'binary': 13007, 'open': 358},\n",
       " 'obj-act': {'binary': 63, 'open': 0},\n",
       " 'rel-act': {'binary': 38053, 'open': 0},\n",
       " 'sequencing': {'binary': 39039, 'open': 416},\n",
       " 'action-recognition': {'binary': 0, 'open': 1106}}"
      ]
     },
     "execution_count": 16,
     "metadata": {},
     "output_type": "execute_result"
    }
   ],
   "source": [
    "glob"
   ]
  },
  {
   "cell_type": "code",
   "execution_count": 17,
   "metadata": {},
   "outputs": [
    {
     "data": {
      "text/plain": [
       "{'object': {'binary': 144809, 'open': 295525},\n",
       " 'relation': {'binary': 97481, 'open': 0},\n",
       " 'action': {'binary': 66903, 'open': 1464}}"
      ]
     },
     "execution_count": 17,
     "metadata": {},
     "output_type": "execute_result"
    }
   ],
   "source": [
    "sem"
   ]
  },
  {
   "cell_type": "code",
   "execution_count": 18,
   "metadata": {},
   "outputs": [
    {
     "data": {
      "text/plain": [
       "{'query': {'binary': 0, 'open': 296989},\n",
       " 'compare': {'binary': 90162, 'open': 0},\n",
       " 'choose': {'binary': 94435, 'open': 0},\n",
       " 'verify': {'binary': 94883, 'open': 0},\n",
       " 'logic': {'binary': 29713, 'open': 0}}"
      ]
     },
     "execution_count": 18,
     "metadata": {},
     "output_type": "execute_result"
    }
   ],
   "source": [
    "struct"
   ]
  },
  {
   "cell_type": "code",
   "execution_count": 19,
   "metadata": {},
   "outputs": [
    {
     "data": {
      "text/plain": [
       "{1: 249,\n",
       " 2: 15460,\n",
       " 3: 14686,\n",
       " 4: 149959,\n",
       " 5: 269348,\n",
       " 6: 95124,\n",
       " 7: 51320,\n",
       " 8: 10026,\n",
       " 9: 10,\n",
       " 10: 0}"
      ]
     },
     "execution_count": 19,
     "metadata": {},
     "output_type": "execute_result"
    }
   ],
   "source": [
    "steps"
   ]
  },
  {
   "cell_type": "code",
   "execution_count": 10,
   "metadata": {},
   "outputs": [],
   "source": [
    "test_sample.to_csv('../exports/%s/other_formats/%s-%s-tgif-all_sample.csv' % ('dataset', 'test', 'balanced'), index = None)"
   ]
  },
  {
   "cell_type": "markdown",
   "metadata": {},
   "source": [
    "# stuff to initalize for splitting test set"
   ]
  },
  {
   "cell_type": "code",
   "execution_count": 12,
   "metadata": {},
   "outputs": [],
   "source": [
    "templ2global = {\n",
    "    'objExists': ['exists'],\n",
    "    'objRelExists': ['exists', 'obj-rel'],\n",
    "    'relExists': ['exists'],\n",
    "    'actExists': ['exists'],\n",
    "    'andObjRelExists': ['exists', 'obj-rel'],\n",
    "    'xorObjRelExists': ['exists', 'obj-rel'],\n",
    "    'objWhatGeneral': [],\n",
    "    'objWhat': ['obj-rel'],\n",
    "    'objWhatChoose': ['obj-rel'],\n",
    "    'actWhatAfterAll': ['sequencing', 'action-recognition'],\n",
    "    'actWhatBefore': ['sequencing', 'action-recognition'],\n",
    "    'objFirst': ['superlative', 'obj-rel'],\n",
    "    'objFirstChoose': ['superlative', 'obj-rel'],\n",
    "    'objFirstVerify': ['superlative', 'obj-rel'],\n",
    "    'relFirst': ['superlative', 'obj-rel'],\n",
    "    'actFirst': ['superlative', 'action-recognition'],\n",
    "    'objLast': ['superlative', 'obj-rel'],\n",
    "    'objLastChoose': ['superlative', 'obj-rel'],\n",
    "    'objLastVerify': ['superlative', 'obj-rel'],\n",
    "    'relLast': ['superlative', 'obj-rel'],\n",
    "    'actLast': ['superlative', 'action-recognition'],\n",
    "    'actCount': ['count'],\n",
    "    'actCountChooseMore': ['count'],\n",
    "    'actCountChooseFewer': ['count'],\n",
    "    'actLengthLongerChoose': ['duration-comparison'],\n",
    "    'actLengthShorterChoose': ['duration-comparison'],\n",
    "    'actLengthLongerVerify': ['duration-comparison'],\n",
    "    'actLengthShorterVerify': ['duration-comparison'],\n",
    "    'actLongest': ['superlative', 'duration-comparison'],\n",
    "    'actShortest': ['superlative', 'duration-comparison'],\n",
    "    'actTime': ['sequencing'],\n",
    "    'relTime': ['rel-act'],\n",
    "    'objTime': ['obj-act'],\n",
    "}"
   ]
  },
  {
   "cell_type": "code",
   "execution_count": 13,
   "metadata": {},
   "outputs": [],
   "source": [
    "def getType(q):\n",
    "    tp = q['attributes']['structural']\n",
    "    if tp != 'query':\n",
    "        return 'binary'\n",
    "    else:\n",
    "        return 'open'\n",
    "    \n",
    "def getStructural(q):\n",
    "    tp = q['attributes']['structural']\n",
    "    \n",
    "    return tp\n",
    "    \n",
    "def getSemantic(q):\n",
    "    tp = q['attributes']['semantic']\n",
    "    if tp == 'objrel':\n",
    "        return 'relation'\n",
    "    elif tp in ['object', 'relation', 'action']:\n",
    "        return tp\n",
    "    else:\n",
    "        return 'none'\n",
    "    \n",
    "def getGlob(q):\n",
    "    tp = q['attributes']['type']\n",
    "    return templ2global[tp]"
   ]
  },
  {
   "cell_type": "code",
   "execution_count": 14,
   "metadata": {},
   "outputs": [],
   "source": [
    "def getSemDict():\n",
    "    sem = {'object': {'binary': 0, 'open': 0},\n",
    "           'relation': {'binary': 0, 'open': 0},\n",
    "           'action': {'binary': 0, 'open': 0},}\n",
    "    return sem\n",
    "    \n",
    "def getGlobDict():\n",
    "    #glob = {'obj-rel': 209,\n",
    "        #     'superlative': 51,\n",
    "       #      'exists': 206,\n",
    "      #       'count': 20,\n",
    "     #        'duration-comparison': 7,\n",
    "     #        'obj-act': 10,\n",
    "     #        'rel-act': 11,\n",
    "     #        'sequencing': 3,\n",
    "    #         'action-recognition': 1}\n",
    "    glob = {'obj-rel': {'binary': 0, 'open': 0},\n",
    "             'superlative': {'binary': 0, 'open': 0},\n",
    "             'exists': {'binary': 0, 'open': 0},\n",
    "             'count':{'binary': 0, 'open': 0},\n",
    "             'duration-comparison': {'binary': 0, 'open': 0},\n",
    "             'obj-act': {'binary': 0, 'open': 0},\n",
    "             'rel-act': {'binary': 0, 'open': 0},\n",
    "             'sequencing': {'binary': 0, 'open': 0},\n",
    "             'action-recognition': {'binary': 0, 'open': 0},}\n",
    "    return glob\n",
    "    \n",
    "def getStructDict():\n",
    "    struct = {'query': {'binary': 0, 'open': 0},\n",
    "              'compare': {'binary': 0, 'open': 0},\n",
    "              'choose': {'binary': 0, 'open': 0},\n",
    "              'verify': {'binary': 0, 'open': 0},\n",
    "              'logic': {'binary': 0, 'open': 0},}\n",
    "    #struct = {'query': 316, 'compare': 266, 'choose': 55, 'verify': 107, 'logic': 53}\n",
    "    return struct\n"
   ]
  },
  {
   "cell_type": "code",
   "execution_count": null,
   "metadata": {},
   "outputs": [],
   "source": []
  },
  {
   "cell_type": "code",
   "execution_count": null,
   "metadata": {},
   "outputs": [],
   "source": []
  },
  {
   "cell_type": "code",
   "execution_count": null,
   "metadata": {},
   "outputs": [],
   "source": []
  },
  {
   "cell_type": "code",
   "execution_count": null,
   "metadata": {},
   "outputs": [],
   "source": []
  },
  {
   "cell_type": "code",
   "execution_count": null,
   "metadata": {},
   "outputs": [],
   "source": []
  },
  {
   "cell_type": "code",
   "execution_count": null,
   "metadata": {},
   "outputs": [],
   "source": []
  },
  {
   "cell_type": "code",
   "execution_count": null,
   "metadata": {},
   "outputs": [],
   "source": []
  },
  {
   "cell_type": "code",
   "execution_count": null,
   "metadata": {},
   "outputs": [],
   "source": []
  },
  {
   "cell_type": "markdown",
   "metadata": {},
   "source": [
    "#  Old stuff"
   ]
  },
  {
   "cell_type": "code",
   "execution_count": null,
   "metadata": {},
   "outputs": [],
   "source": [
    "# Note, putting all in the same category\n",
    "# [{\"answer\":\"man\",\"category_id\":9,\"id\":0,\"question\":\"who drives down the road in an audi?\",\"video_id\":0}, {...}, ...]\n",
    "def toMSVDQA(our_data):\n",
    "    questions = []\n",
    "    \n",
    "    for v_id in our_data:\n",
    "        for q_id in QA[v_id]:\n",
    "            q = our_data[v_id][q_id]\n",
    "            \n",
    "            new_q = {\n",
    "                'answer': q['answer'],\n",
    "                'category_id':9, # TODO: not sure what this is\n",
    "                'id': q_id,\n",
    "                'question': q['question'],\n",
    "                'video_id': v_id\n",
    "            }\n",
    "            \n",
    "            questions.append(new_q)\n",
    "    return questions\n",
    "    "
   ]
  },
  {
   "cell_type": "code",
   "execution_count": null,
   "metadata": {},
   "outputs": [],
   "source": [
    "# [{\"answer\":\"animal\",\"id\":0,\"question\":\"what is chewing on a nut?\",\"video_id\":1},\n",
    "def toMSRVTTQA(our_data):\n",
    "    questions = []\n",
    "    \n",
    "    for v_id in our_data:\n",
    "        for q_id in QA[v_id]:\n",
    "            q = our_data[v_id][q_id]\n",
    "            \n",
    "            new_q = {\n",
    "                'answer': q['answer'],\n",
    "                'id': q_id,\n",
    "                'question': q['question'],\n",
    "                'video_id': v_id\n",
    "            }\n",
    "            \n",
    "            questions.append(new_q)\n",
    "    return questions\n",
    "    "
   ]
  },
  {
   "cell_type": "code",
   "execution_count": null,
   "metadata": {},
   "outputs": [],
   "source": [
    "def toDataframe(our_data):\n",
    "    dataframes = []\n",
    "    count = 0\n",
    "    for v_id in our_data:\n",
    "        count = count + 1\n",
    "        if count > 5: \n",
    "            break\n",
    "        print(v_id)\n",
    "        print(\"making a dataframe\")\n",
    "        df = pd.DataFrame.from_dict(our_data, orient=\"index\")\n",
    "        #df.to_csv(r'../exports/all_videos_200-300_tgif_format.csv', index = None)\n",
    "        print(\"adding vid id\")\n",
    "        df['vid_id'] = v_id\n",
    "        print(\"appending\")\n",
    "        dataframes.append(df),\n",
    "    total = pd.concat(dataframes)\n",
    "    return total\n",
    "    \n",
    "\n",
    "def toTGIFQA(df):\n",
    "    #df = toDataframe(our_data)\n",
    "    # drop everything not important\n",
    "    df['gif_name'] = df['vid_id']\n",
    "    df.rename(columns={'id': 'key'})\n",
    "    df.drop(columns=['attributes', 'global', 'local', 'steps', 'metrics'])\n",
    "    print(\"AFTER DROP\")\n",
    "    print(df)\n",
    "    return df\n",
    "    "
   ]
  },
  {
   "cell_type": "markdown",
   "metadata": {},
   "source": [
    "# Get templ balancd"
   ]
  },
  {
   "cell_type": "code",
   "execution_count": null,
   "metadata": {},
   "outputs": [],
   "source": [
    "\n",
    "def toTGIFTemplBalanced(d_path, group, bal_txt):\n",
    "    dataframes = []\n",
    "    if group == 'train':\n",
    "        our_data = train_stsgs\n",
    "    if group == 'test':\n",
    "        our_data = test_stsgs\n",
    "        \n",
    "    #if balanced: \n",
    "    #    bal_txt = 'balanced'\n",
    "    #else:\n",
    "    #    bal_txt = 'all'\n",
    "        \n",
    "    # for templ balanced\n",
    "    #bal_txt = \"templ_balanced\"\n",
    "        \n",
    "    cnt = 0\n",
    "    for v_id in our_data:\n",
    "        if cnt % 100 == 0:\n",
    "            print(cnt)\n",
    "        cnt = cnt + 1\n",
    "        QA = getQA(d_path, group, bal_txt, v_id)\n",
    "        df = toDataframe(v_id, QA)\n",
    "        dataframes.append(df)\n",
    "    total = pd.concat(dataframes)\n",
    "    total.to_csv('../exports/%s/other_formats/%s-%s-tgif.csv' % (d_path, group, bal_txt), index = None)\n",
    "    return total\n"
   ]
  },
  {
   "cell_type": "code",
   "execution_count": null,
   "metadata": {},
   "outputs": [],
   "source": [
    "toTGIFTemplBalanced('dataset-before-11-4', 'test', 'templ_balanced')"
   ]
  },
  {
   "cell_type": "code",
   "execution_count": null,
   "metadata": {},
   "outputs": [],
   "source": [
    "toTGIFTemplBalanced('dataset-before-11-4', 'train', 'templ_balanced')"
   ]
  },
  {
   "cell_type": "markdown",
   "metadata": {},
   "source": [
    "# Length"
   ]
  },
  {
   "cell_type": "markdown",
   "metadata": {},
   "source": [
    "# Start Query Questions"
   ]
  },
  {
   "cell_type": "code",
   "execution_count": null,
   "metadata": {},
   "outputs": [],
   "source": [
    "# Testing to CSV\n",
    "#46GP8, N11GT, KRF68, MJO7C, S6MPZ\n",
    "\n",
    "def toDataframeQuery(v_id, QA):\n",
    "    df = pd.DataFrame.from_dict(QA, orient=\"index\")\n",
    "    df['vid_id'] = v_id\n",
    "    #df.index = v_id\n",
    "    df['gif_name'] = v_id\n",
    "    df = df.drop(columns=['attributes', 'global', 'local', 'steps', 'metrics'])\n",
    "    df = df.rename(columns={'id': 'key'})\n",
    "    \n",
    "    #df.set_index(\"key\", inplace=True)\n",
    "    # delete ones in compo\n",
    "    #if v_id not in compo:\n",
    "   #     return df\n",
    "   # to_del = list(set(compo[v_id]))\n",
    "    \n",
    "    to_del = []\n",
    "    query = ['objWhat', 'objFirst', 'objLast', 'relLast']\n",
    "    for q_id in QA:\n",
    "        t = QA[q_id]['attributes']['type']\n",
    "        #print(t)\n",
    "        if t in query:\n",
    "            continue\n",
    "            \n",
    "        to_del.append(q_id)\n",
    "    \n",
    "    #print()\n",
    "    #print(df.shape)\n",
    "    #print(len(to_del))\n",
    "    df.drop(to_del, inplace=True)\n",
    "    #print(df.shape)\n",
    "    #if (df.shape[0] > 0):\n",
    "    #    print(df.shape)\n",
    "    return df\n",
    "\n",
    "\n",
    "def toTGIFQuery(d_path, group, balanced):\n",
    "    dataframes = []\n",
    "    if group == 'train':\n",
    "        our_data = train_stsgs\n",
    "        compo = train_novel_comp\n",
    "    if group == 'test':\n",
    "        our_data = test_stsgs\n",
    "        compo = test_novel_comp\n",
    "        \n",
    "    if balanced: \n",
    "        bal_txt = 'balanced'\n",
    "    else:\n",
    "        bal_txt = 'all'\n",
    "        \n",
    "    cnt = 0\n",
    "    for v_id in our_data:\n",
    "        if cnt % 100 == 0:\n",
    "            print(cnt)\n",
    "        cnt = cnt + 1\n",
    "        QA = getQA(d_path, group, bal_txt, v_id)\n",
    "        #print('len QA', len(QA))\n",
    "        df = toDataframeQuery(v_id, QA)\n",
    "        dataframes.append(df)\n",
    "    total = pd.concat(dataframes)\n",
    "    total.to_csv('../exports/%s/other_formats/%s-%s-tgif-query.csv' % (d_path, group, bal_txt), index = None)\n",
    "    return total\n"
   ]
  },
  {
   "cell_type": "code",
   "execution_count": null,
   "metadata": {},
   "outputs": [],
   "source": [
    "test_query = toTGIFQuery('dataset', 'test', True)"
   ]
  },
  {
   "cell_type": "code",
   "execution_count": null,
   "metadata": {
    "scrolled": true
   },
   "outputs": [],
   "source": [
    "test_query = toTGIFQuery('dataset', 'train', True)"
   ]
  },
  {
   "cell_type": "markdown",
   "metadata": {},
   "source": [
    "607120 +  1647710"
   ]
  },
  {
   "cell_type": "markdown",
   "metadata": {},
   "source": [
    "# Get TOTAL"
   ]
  },
  {
   "cell_type": "code",
   "execution_count": null,
   "metadata": {},
   "outputs": [],
   "source": [
    "#training_edited = training.drop(columns=['question', 'answer'])\n",
    "training_edited = training"
   ]
  },
  {
   "cell_type": "code",
   "execution_count": null,
   "metadata": {},
   "outputs": [],
   "source": [
    "#testing_edited = testing.drop(columns=['question', 'answer'])\n",
    "testing_edited = testing"
   ]
  },
  {
   "cell_type": "code",
   "execution_count": null,
   "metadata": {},
   "outputs": [],
   "source": [
    "total = pd.read_csv('../exports/dataset/other_formats/Total-question.csv')"
   ]
  },
  {
   "cell_type": "code",
   "execution_count": null,
   "metadata": {},
   "outputs": [],
   "source": [
    "total.columns"
   ]
  },
  {
   "cell_type": "code",
   "execution_count": null,
   "metadata": {},
   "outputs": [],
   "source": [
    "total = pd.read_csv('../exports/dataset/other_formats/Total-question.csv')"
   ]
  },
  {
   "cell_type": "code",
   "execution_count": null,
   "metadata": {},
   "outputs": [],
   "source": [
    "def getVIDMapping(videos):\n",
    "    str2num = {}\n",
    "    num2str = {}\n",
    "    \n",
    "    str_ids = set(videos['gif_name'])\n",
    "    \n",
    "    count = 0\n",
    "    for str_id in str_ids:\n",
    "        str2num[str_id] = count\n",
    "        num2str[count] = str_id\n",
    "        \n",
    "        count = count + 1\n",
    "        \n",
    "    return str2num, num2str\n",
    "    \n",
    "str2num, num2str = getVIDMapping(total)"
   ]
  },
  {
   "cell_type": "code",
   "execution_count": null,
   "metadata": {},
   "outputs": [],
   "source": [
    "# do json not pickle\n",
    "\n",
    "with open('../data/strID2numID.json', 'w+') as json_file: #CHANGED\n",
    "    json.dump(str2num, json_file)\n",
    "    \n",
    "with open('../data/numID2strID.json', 'w+') as json_file: #CHANGED\n",
    "    json.dump(num2str, json_file)\n",
    "#pickleDump(str2num, '../data/strID2numID')\n",
    "#pickleDum(num2str, '../data/strID2numID')"
   ]
  },
  {
   "cell_type": "code",
   "execution_count": null,
   "metadata": {},
   "outputs": [],
   "source": [
    "toTGIF('dataset', 'test', False)"
   ]
  },
  {
   "cell_type": "code",
   "execution_count": null,
   "metadata": {},
   "outputs": [],
   "source": [
    "b_test = toTGIF('dataset', 'test', True)"
   ]
  },
  {
   "cell_type": "code",
   "execution_count": null,
   "metadata": {},
   "outputs": [],
   "source": [
    "QA = getQA('dataset', 'test', 'balanced', 'YSKX3')\n",
    "print(len(QA))\n",
    "\n",
    "inQA = 0\n",
    "notinQA = 0\n",
    "for i in test_novel_comp['YSKX3']:\n",
    "    if i in QA:\n",
    "        inQA = inQA + 1\n",
    "    else:\n",
    "        notinQA = notinQA + 1\n",
    "\n",
    "inQA, notinQA, len(set(test_novel_comp['YSKX3']))"
   ]
  },
  {
   "cell_type": "code",
   "execution_count": null,
   "metadata": {
    "scrolled": true
   },
   "outputs": [],
   "source": [
    "train_novel_comp['46GP8']"
   ]
  },
  {
   "cell_type": "code",
   "execution_count": null,
   "metadata": {},
   "outputs": [],
   "source": [
    "for i in test_compo['question']:\n",
    "    print(i)"
   ]
  },
  {
   "cell_type": "code",
   "execution_count": null,
   "metadata": {
    "scrolled": true
   },
   "outputs": [],
   "source": [
    "print(len(test_steps_templ['less']))"
   ]
  },
  {
   "cell_type": "code",
   "execution_count": null,
   "metadata": {},
   "outputs": [],
   "source": [
    "for question in templ_split_te['question']:\n",
    "    print(question)"
   ]
  },
  {
   "cell_type": "code",
   "execution_count": null,
   "metadata": {},
   "outputs": [],
   "source": []
  },
  {
   "cell_type": "markdown",
   "metadata": {},
   "source": [
    "# end query questions"
   ]
  },
  {
   "cell_type": "code",
   "execution_count": null,
   "metadata": {},
   "outputs": [],
   "source": [
    "import numpy as np\n",
    "b_test_perm = b_test.iloc[np.random.permutation(len(b_test))]"
   ]
  },
  {
   "cell_type": "code",
   "execution_count": null,
   "metadata": {},
   "outputs": [],
   "source": [
    "questions = list(b_test_perm['question'])"
   ]
  },
  {
   "cell_type": "code",
   "execution_count": null,
   "metadata": {},
   "outputs": [],
   "source": [
    "questions[0]"
   ]
  },
  {
   "cell_type": "code",
   "execution_count": null,
   "metadata": {},
   "outputs": [],
   "source": [
    "b_test2 = pd.read_csv('../exports/dataset/other_formats/train-balanced-tgif.csv')"
   ]
  },
  {
   "cell_type": "code",
   "execution_count": null,
   "metadata": {},
   "outputs": [],
   "source": [
    "b_test2_perm = b_test2.iloc[np.random.permutation(len(b_test2))]"
   ]
  },
  {
   "cell_type": "code",
   "execution_count": null,
   "metadata": {},
   "outputs": [],
   "source": [
    "questions2 = list(b_test2_perm['question'])"
   ]
  },
  {
   "cell_type": "code",
   "execution_count": null,
   "metadata": {
    "scrolled": true
   },
   "outputs": [],
   "source": [
    "toTGIF('dataset', 'test', True)"
   ]
  },
  {
   "cell_type": "code",
   "execution_count": null,
   "metadata": {
    "scrolled": true
   },
   "outputs": [],
   "source": [
    "toTGIF('dataset', 'train', True)"
   ]
  },
  {
   "cell_type": "code",
   "execution_count": null,
   "metadata": {},
   "outputs": [],
   "source": [
    "msvd_translation = toMSVDQA(QA)"
   ]
  },
  {
   "cell_type": "code",
   "execution_count": null,
   "metadata": {},
   "outputs": [],
   "source": [
    "len(msvd_translation) * 100"
   ]
  },
  {
   "cell_type": "code",
   "execution_count": null,
   "metadata": {},
   "outputs": [],
   "source": [
    "msrvtt_translation = toMSRVTTQA(QA)"
   ]
  },
  {
   "cell_type": "code",
   "execution_count": null,
   "metadata": {},
   "outputs": [],
   "source": [
    "len(msvd_translation) * 100"
   ]
  },
  {
   "cell_type": "code",
   "execution_count": null,
   "metadata": {},
   "outputs": [],
   "source": [
    "dataframe = toDataframe(QA['46GP8'])\n",
    "dataframe = toTGIFQA(dataframe)\n",
    "dataframe"
   ]
  },
  {
   "cell_type": "code",
   "execution_count": null,
   "metadata": {},
   "outputs": [],
   "source": [
    "for i in QA:\n",
    "    print(i)\n",
    "    break"
   ]
  },
  {
   "cell_type": "code",
   "execution_count": null,
   "metadata": {},
   "outputs": [],
   "source": [
    "# Need to add in v_id column with the v_id for all of them\n",
    "# gif_name, = v_id (idk what the difference is with this and vid_id, so im going to do both the same)\n",
    "# question, answer, vid_id, \n",
    "# key = ?"
   ]
  },
  {
   "cell_type": "code",
   "execution_count": null,
   "metadata": {},
   "outputs": [],
   "source": [
    "len(QA['3CPVF']), len(QA['QIQXR'])"
   ]
  },
  {
   "cell_type": "code",
   "execution_count": null,
   "metadata": {},
   "outputs": [],
   "source": [
    "#'3CPVF': 23415, 'QIQXR': 7186, 'SXYLN': 30109, 'I6B5D': 874, 'MJX48': 15637"
   ]
  },
  {
   "cell_type": "code",
   "execution_count": null,
   "metadata": {},
   "outputs": [],
   "source": [
    "false = False\n",
    "true = True"
   ]
  },
  {
   "cell_type": "code",
   "execution_count": null,
   "metadata": {},
   "outputs": [],
   "source": [
    "a = {\"46GP8-321\": {\"question\": \"Was the person closing anything while cooking something?\", \"answer\": \"No\", \"attributes\": {\"type\": \"relExists\", \"structural\": \"verify\", \"semantic\": \"relation\", \"ans_type\": \"binary\", \"video_id\": \"46GP8\"}, \"global\": \"exists\", \"local\": \"v001\", \"steps\": 3, \"id\": \"46GP8-321\", \"metrics\": {\"novel_comp\": [false, false, false, false, false], \"indirects\": [false, false, false, true], \"direct_args\": \"v001\", \"direct_time\": [\"while\", \"c147\"]}}, \"46GP8-564\": {\"question\": \"Which object did the person touch after cooking something?\", \"answer\": \"window\", \"attributes\": {\"type\": \"objWhat\", \"structural\": \"query\", \"semantic\": \"object\", \"ans_type\": \"open\", \"video_id\": \"46GP8\"}, \"global\": \"what\", \"local\": \"r22\", \"steps\": 4, \"id\": \"46GP8-564\", \"metrics\": {\"novel_comp\": [false, false, false, false, false], \"indirects\": [false, false, false, true], \"direct_args\": \"r22\", \"direct_time\": [\"after\", \"c147\"]}}, \"46GP8-565\": {\"question\": \"In the video, what was the person touching?\", \"answer\": \"window\", \"attributes\": {\"type\": \"objWhat\", \"structural\": \"query\", \"semantic\": \"object\", \"ans_type\": \"open\", \"video_id\": \"46GP8\"}, \"global\": \"what\", \"local\": \"r22\", \"steps\": 2, \"id\": \"46GP8-565\", \"metrics\": {\"novel_comp\": [false, false, false, false, false], \"indirects\": [false, false, false, false], \"direct_args\": \"r22\", \"direct_time\": [\"all\", \"\"]}}, \"46GP8-566\": {\"question\": \"What was the person behind after cooking something?\", \"answer\": \"window\", \"attributes\": {\"type\": \"objWhat\", \"structural\": \"query\", \"semantic\": \"object\", \"ans_type\": \"open\", \"video_id\": \"46GP8\"}, \"global\": \"what\", \"local\": \"r7\", \"steps\": 4, \"id\": \"46GP8-566\", \"metrics\": {\"novel_comp\": [false, false, false, false, false], \"indirects\": [false, false, false, true], \"direct_args\": \"r7\", \"direct_time\": [\"after\", \"c147\"]}}, \"46GP8-567\": {\"question\": \"Which object did the person go above?\", \"answer\": \"food\", \"attributes\": {\"type\": \"objWhat\", \"structural\": \"query\", \"semantic\": \"object\", \"ans_type\": \"open\", \"video_id\": \"46GP8\"}, \"global\": \"what\", \"local\": \"r4\", \"steps\": 2, \"id\": \"46GP8-567\", \"metrics\": {\"novel_comp\": [false, false, false, false, false], \"indirects\": [false, false, false, false], \"direct_args\": \"r4\", \"direct_time\": [\"all\", \"\"]}}, \"46GP8-568\": {\"question\": \"Which object were they on the side of after cooking something?\", \"answer\": \"window\", \"attributes\": {\"type\": \"objWhat\", \"structural\": \"query\", \"semantic\": \"object\", \"ans_type\": \"open\", \"video_id\": \"46GP8\"}, \"global\": \"what\", \"local\": \"r8\", \"steps\": 4, \"id\": \"46GP8-568\", \"metrics\": {\"novel_comp\": [false, false, false, false, false], \"indirects\": [false, false, false, true], \"direct_args\": \"r8\", \"direct_time\": [\"after\", \"c147\"]}}, \"46GP8-569\": {\"question\": \"In the video, what was the person on the side of?\", \"answer\": \"window\", \"attributes\": {\"type\": \"objWhat\", \"structural\": \"query\", \"semantic\": \"object\", \"ans_type\": \"open\", \"video_id\": \"46GP8\"}, \"global\": \"what\", \"local\": \"r8\", \"steps\": 2, \"id\": \"46GP8-569\", \"metrics\": {\"novel_comp\": [false, false, false, false, false], \"indirects\": [false, false, false, false], \"direct_args\": \"r8\", \"direct_time\": [\"all\", \"\"]}}, \"46GP8-571\": {\"question\": \"After cooking something, which object were they watching?\", \"answer\": \"window\", \"attributes\": {\"type\": \"objWhat\", \"structural\": \"query\", \"semantic\": \"object\", \"ans_type\": \"open\", \"video_id\": \"46GP8\"}, \"global\": \"what\", \"local\": \"v031\", \"steps\": 4, \"id\": \"46GP8-571\", \"metrics\": {\"novel_comp\": [false, false, false, false, false], \"indirects\": [false, false, false, true], \"direct_args\": \"v031\", \"direct_time\": [\"after\", \"c147\"]}}, \"46GP8-572\": {\"question\": \"In the video, which object did the person watch?\", \"answer\": \"window\", \"attributes\": {\"type\": \"objWhat\", \"structural\": \"query\", \"semantic\": \"object\", \"ans_type\": \"open\", \"video_id\": \"46GP8\"}, \"global\": \"what\", \"local\": \"v031\", \"steps\": 2, \"id\": \"46GP8-572\", \"metrics\": {\"novel_comp\": [false, false, false, false, false], \"indirects\": [false, false, false, false], \"direct_args\": \"v031\", \"direct_time\": [\"all\", \"\"]}}, \"46GP8-577\": {\"question\": \"Which did they go on the side of, some food or a window?\", \"answer\": \"window\", \"attributes\": {\"type\": \"objWhatChoose\", \"structural\": \"choose\", \"semantic\": \"object\", \"ans_type\": \"open\", \"video_id\": \"46GP8\"}, \"global\": \"what\", \"local\": \"r8\", \"steps\": 3, \"id\": \"46GP8-577\", \"metrics\": {\"novel_comp\": [false, false, false, false, false], \"indirects\": [false, false, false, false], \"direct_args\": \"r8-o17-o36\", \"direct_time\": [\"all\", \"\"]}}, \"46GP8-579\": {\"question\": \"In the video, of everything they went behind, what was the person behind first?\", \"answer\": \"food\", \"attributes\": {\"type\": \"objFirst\", \"structural\": \"query\", \"semantic\": \"object\", \"ans_type\": \"open\", \"video_id\": \"46GP8\"}, \"global\": \"first\", \"local\": \"r7\", \"steps\": 2, \"id\": \"46GP8-579\", \"metrics\": {\"novel_comp\": [false, true, false, false, false], \"indirects\": [false, false, false, false], \"direct_args\": \"r7\", \"direct_time\": [\"all\", \"\"]}}, \"46GP8-583\": {\"question\": \"Which object were they behind last?\", \"answer\": \"window\", \"attributes\": {\"type\": \"objLast\", \"structural\": \"query\", \"semantic\": \"object\", \"ans_type\": \"open\", \"video_id\": \"46GP8\"}, \"global\": \"last\", \"local\": \"r7\", \"steps\": 2, \"id\": \"46GP8-583\", \"metrics\": {\"novel_comp\": [false, false, false, false, false], \"indirects\": [false, false, false, false], \"direct_args\": \"r7\", \"direct_time\": [\"all\", \"\"]}}, \"46GP8-588\": {\"question\": \"What was the last thing the person was doing to some food?\", \"answer\": \"cooking\", \"attributes\": {\"type\": \"relLast\", \"structural\": \"query\", \"semantic\": \"relation\", \"ans_type\": \"open\", \"video_id\": \"46GP8\"}, \"global\": \"last\", \"local\": \"o17\", \"steps\": 2, \"id\": \"46GP8-588\", \"metrics\": {\"novel_comp\": [false, false, false, false, false], \"indirects\": [false, false, false, false], \"direct_args\": \"o17\", \"direct_time\": [\"all\", \"\"]}}, \"46GP8-595\": {\"question\": \"Did they cook anything before they watched outside of a window, or after they watched outside of a window?\", \"answer\": \"before\", \"attributes\": {\"type\": \"relTime\", \"structural\": \"compare\", \"semantic\": \"relation\", \"ans_type\": \"binary\", \"video_id\": \"46GP8\"}, \"global\": \"time\", \"local\": \"v002-c092\", \"steps\": 5, \"id\": \"46GP8-595\", \"metrics\": {\"novel_comp\": [false, false, false, false, false], \"indirects\": [false, false, false, false], \"direct_args\": \"v002-c092\", \"direct_time\": [\"all\", \"\"]}}, \"46GP8-599\": {\"question\": \"Were they touching the first thing they went behind before or after they watched outside of a window?\", \"answer\": \"before\", \"attributes\": {\"type\": \"objTime\", \"structural\": \"compare\", \"semantic\": \"object\", \"ans_type\": \"binary\", \"video_id\": \"46GP8\"}, \"global\": \"time\", \"local\": \"o17-c092\", \"steps\": 6, \"id\": \"46GP8-599\", \"metrics\": {\"novel_comp\": [false, true, false, false, false], \"indirects\": [true, false, false, false], \"direct_args\": \"o17-c092\", \"direct_time\": [\"all\", \"\"]}}, \"46GP8-602\": {\"question\": \"Were they touching the object they were touching before or after they cooked something?\", \"answer\": \"after\", \"attributes\": {\"type\": \"objTime\", \"structural\": \"compare\", \"semantic\": \"object\", \"ans_type\": \"binary\", \"video_id\": \"46GP8\"}, \"global\": \"time\", \"local\": \"o36-c147\", \"steps\": 6, \"id\": \"46GP8-602\", \"metrics\": {\"novel_comp\": [false, false, false, false, false], \"indirects\": [true, false, false, false], \"direct_args\": \"o36-c147\", \"direct_time\": [\"all\", \"\"]}}, \"46GP8-605\": {\"question\": \"What was the person interacting with after cooking something?\", \"answer\": \"window\", \"attributes\": {\"type\": \"objWhatGeneral\", \"structural\": \"query\", \"semantic\": \"object\", \"ans_type\": \"open\", \"video_id\": \"46GP8\"}, \"global\": \"what\", \"local\": \"object\", \"steps\": 3, \"id\": \"46GP8-605\", \"metrics\": {\"novel_comp\": [false, false, false, false, false], \"indirects\": [false, false, false, true], \"direct_args\": \"\", \"direct_time\": [\"after\", \"c147\"]}}, \"46GP8-607\": {\"question\": \"How many times did they watch outside of a window while cooking something?\", \"answer\": 0, \"attributes\": {\"type\": \"actCount\", \"structural\": \"query\", \"semantic\": \"action\", \"ans_type\": \"open\", \"video_id\": \"46GP8\"}, \"global\": \"count\", \"local\": \"c092\", \"steps\": 3, \"id\": \"46GP8-607\", \"metrics\": {\"novel_comp\": [false, false, false, false, false], \"indirects\": [false, false, false, true], \"direct_args\": \"c092\", \"direct_time\": [\"while\", \"c147\"]}}, \"46GP8-608\": {\"question\": \"While watching outside of a window, how many times were they cooking something?\", \"answer\": 0, \"attributes\": {\"type\": \"actCount\", \"structural\": \"query\", \"semantic\": \"action\", \"ans_type\": \"open\", \"video_id\": \"46GP8\"}, \"global\": \"count\", \"local\": \"c147\", \"steps\": 3, \"id\": \"46GP8-608\", \"metrics\": {\"novel_comp\": [false, false, false, false, false], \"indirects\": [false, false, false, true], \"direct_args\": \"c147\", \"direct_time\": [\"while\", \"c092\"]}}}"
   ]
  },
  {
   "cell_type": "code",
   "execution_count": null,
   "metadata": {},
   "outputs": [],
   "source": [
    "len(a)"
   ]
  },
  {
   "cell_type": "code",
   "execution_count": null,
   "metadata": {},
   "outputs": [],
   "source": []
  },
  {
   "cell_type": "code",
   "execution_count": null,
   "metadata": {},
   "outputs": [],
   "source": []
  },
  {
   "cell_type": "markdown",
   "metadata": {},
   "source": [
    "# Get the sizes of each"
   ]
  },
  {
   "cell_type": "code",
   "execution_count": null,
   "metadata": {},
   "outputs": [],
   "source": [
    "d_path = 'dataset'\n",
    "training_b = pd.read_csv('../exports/%s/other_formats/train-balanced-tgif.csv' % d_path)\n",
    "testing_b = pd.read_csv('../exports/%s/other_formats/test-balanced-tgif.csv' % d_path)"
   ]
  },
  {
   "cell_type": "code",
   "execution_count": null,
   "metadata": {},
   "outputs": [],
   "source": [
    "\n",
    "training_c = pd.read_csv('../exports/%s/other_formats/train-balanced-tgif-compo.csv' % d_path)\n",
    "testing_c = pd.read_csv('../exports/%s/other_formats/test-balanced-tgif-compo.csv' % d_path)"
   ]
  },
  {
   "cell_type": "code",
   "execution_count": null,
   "metadata": {},
   "outputs": [],
   "source": [
    "\n",
    "training_s = pd.read_csv('../exports/%s/other_formats/train-balanced-tgif-steps_templ.csv' % d_path)\n",
    "testing_s = pd.read_csv('../exports/%s/other_formats/test-balanced-tgif-steps_templ.csv' % d_path)"
   ]
  },
  {
   "cell_type": "code",
   "execution_count": null,
   "metadata": {},
   "outputs": [],
   "source": [
    "print('Training set: ', training_b.shape[0])\n",
    "print('Testing set: ', testing_b.shape[0])\n",
    "\n",
    "print('Training set compo: ', training_c.shape[0])\n",
    "print('Testing set compo: ', testing_c.shape[0])\n",
    "\n",
    "print('Training set steps: ', training_s.shape[0])\n",
    "print('Testing set steps: ', testing_s.shape[0])"
   ]
  },
  {
   "cell_type": "code",
   "execution_count": null,
   "metadata": {},
   "outputs": [],
   "source": []
  },
  {
   "cell_type": "markdown",
   "metadata": {},
   "source": [
    "# Why did test randomly generate wrogn keys"
   ]
  },
  {
   "cell_type": "code",
   "execution_count": null,
   "metadata": {},
   "outputs": [],
   "source": []
  },
  {
   "cell_type": "code",
   "execution_count": 37,
   "metadata": {},
   "outputs": [],
   "source": [
    "d_path = 'dataset_fixed'"
   ]
  },
  {
   "cell_type": "code",
   "execution_count": 38,
   "metadata": {},
   "outputs": [],
   "source": [
    "# Testing to CSV\n",
    "#46GP8, N11GT, KRF68, MJO7C, S6MPZ\n",
    "\n",
    "def toDataframe(v_id, QA):\n",
    "    df = pd.DataFrame.from_dict(QA, orient=\"index\")\n",
    "    df['vid_id'] = v_id\n",
    "    #df.index = v_id\n",
    "    df['gif_name'] = v_id\n",
    "    df = df.drop(columns=['attributes', 'global', 'id', 'local', 'steps', 'metrics', 'program', 'sg_grounding'])\n",
    "    df = df.reset_index()\n",
    "    df = df.rename(columns={'index': 'key'})\n",
    "    df['description'] = \"none\"\n",
    "    return df\n",
    "\n",
    "\n",
    "def toTGIF(d_path, group, bal_txt):\n",
    "    dataframes = []\n",
    "    if group == 'train':\n",
    "        our_data = train_stsgs\n",
    "    if group == 'test':\n",
    "        our_data = test_stsgs\n",
    "        \n",
    "    cnt = 0\n",
    "    for v_id in our_data:\n",
    "        if cnt % 1000 == 0:\n",
    "            print(cnt)\n",
    "        cnt = cnt + 1\n",
    "        QA = getQA(d_path, group, bal_txt, v_id)\n",
    "        if len(QA) == 0: \n",
    "            continue\n",
    "        df = toDataframe(v_id, QA)\n",
    "        dataframes.append(df)\n",
    "    total = pd.concat(dataframes)\n",
    "    total.to_csv('../exports/%s/other_formats/%s-%s-tgif-updated.csv' % (d_path, group, bal_txt), index = None)\n",
    "    return total\n"
   ]
  },
  {
   "cell_type": "code",
   "execution_count": 39,
   "metadata": {},
   "outputs": [
    {
     "name": "stdout",
     "output_type": "stream",
     "text": [
      "0\n",
      "1000\n",
      "2000\n",
      "3000\n",
      "4000\n",
      "5000\n",
      "6000\n",
      "7000\n"
     ]
    }
   ],
   "source": [
    "\n",
    "train = toTGIF(d_path, 'train', bal_txt)"
   ]
  },
  {
   "cell_type": "code",
   "execution_count": 41,
   "metadata": {},
   "outputs": [
    {
     "name": "stdout",
     "output_type": "stream",
     "text": [
      "0\n",
      "1000\n"
     ]
    }
   ],
   "source": [
    "test = toTGIF(d_path, 'test', bal_txt)"
   ]
  },
  {
   "cell_type": "code",
   "execution_count": 42,
   "metadata": {},
   "outputs": [
    {
     "data": {
      "text/html": [
       "<div>\n",
       "<style scoped>\n",
       "    .dataframe tbody tr th:only-of-type {\n",
       "        vertical-align: middle;\n",
       "    }\n",
       "\n",
       "    .dataframe tbody tr th {\n",
       "        vertical-align: top;\n",
       "    }\n",
       "\n",
       "    .dataframe thead th {\n",
       "        text-align: right;\n",
       "    }\n",
       "</style>\n",
       "<table border=\"1\" class=\"dataframe\">\n",
       "  <thead>\n",
       "    <tr style=\"text-align: right;\">\n",
       "      <th></th>\n",
       "      <th>key</th>\n",
       "      <th>question</th>\n",
       "      <th>answer</th>\n",
       "      <th>vid_id</th>\n",
       "      <th>gif_name</th>\n",
       "      <th>description</th>\n",
       "    </tr>\n",
       "  </thead>\n",
       "  <tbody>\n",
       "    <tr>\n",
       "      <th>0</th>\n",
       "      <td>46GP8-2</td>\n",
       "      <td>Is there some food the person contacts?</td>\n",
       "      <td>Yes</td>\n",
       "      <td>46GP8</td>\n",
       "      <td>46GP8</td>\n",
       "      <td>none</td>\n",
       "    </tr>\n",
       "    <tr>\n",
       "      <th>1</th>\n",
       "      <td>46GP8-6</td>\n",
       "      <td>Were they touching a window?</td>\n",
       "      <td>Yes</td>\n",
       "      <td>46GP8</td>\n",
       "      <td>46GP8</td>\n",
       "      <td>none</td>\n",
       "    </tr>\n",
       "    <tr>\n",
       "      <th>2</th>\n",
       "      <td>46GP8-36</td>\n",
       "      <td>Is there a table the person contacts?</td>\n",
       "      <td>No</td>\n",
       "      <td>46GP8</td>\n",
       "      <td>46GP8</td>\n",
       "      <td>none</td>\n",
       "    </tr>\n",
       "    <tr>\n",
       "      <th>3</th>\n",
       "      <td>46GP8-54</td>\n",
       "      <td>In the video, did they touch a broom?</td>\n",
       "      <td>No</td>\n",
       "      <td>46GP8</td>\n",
       "      <td>46GP8</td>\n",
       "      <td>none</td>\n",
       "    </tr>\n",
       "    <tr>\n",
       "      <th>4</th>\n",
       "      <td>46GP8-60</td>\n",
       "      <td>Was a blanket one of the things they were cont...</td>\n",
       "      <td>No</td>\n",
       "      <td>46GP8</td>\n",
       "      <td>46GP8</td>\n",
       "      <td>none</td>\n",
       "    </tr>\n",
       "    <tr>\n",
       "      <th>...</th>\n",
       "      <td>...</td>\n",
       "      <td>...</td>\n",
       "      <td>...</td>\n",
       "      <td>...</td>\n",
       "      <td>...</td>\n",
       "      <td>...</td>\n",
       "    </tr>\n",
       "    <tr>\n",
       "      <th>1042306</th>\n",
       "      <td>LSKA2-5391</td>\n",
       "      <td>Was the person walking through a doorway befor...</td>\n",
       "      <td>after</td>\n",
       "      <td>LSKA2</td>\n",
       "      <td>LSKA2</td>\n",
       "      <td>none</td>\n",
       "    </tr>\n",
       "    <tr>\n",
       "      <th>1042307</th>\n",
       "      <td>LSKA2-5394</td>\n",
       "      <td>Were they walking through a doorway before or ...</td>\n",
       "      <td>after</td>\n",
       "      <td>LSKA2</td>\n",
       "      <td>LSKA2</td>\n",
       "      <td>none</td>\n",
       "    </tr>\n",
       "    <tr>\n",
       "      <th>1042308</th>\n",
       "      <td>LSKA2-5395</td>\n",
       "      <td>Were they walking through a doorway before or ...</td>\n",
       "      <td>after</td>\n",
       "      <td>LSKA2</td>\n",
       "      <td>LSKA2</td>\n",
       "      <td>none</td>\n",
       "    </tr>\n",
       "    <tr>\n",
       "      <th>1042309</th>\n",
       "      <td>LSKA2-5393</td>\n",
       "      <td>Was the person walking through a doorway befor...</td>\n",
       "      <td>after</td>\n",
       "      <td>LSKA2</td>\n",
       "      <td>LSKA2</td>\n",
       "      <td>none</td>\n",
       "    </tr>\n",
       "    <tr>\n",
       "      <th>1042310</th>\n",
       "      <td>LSKA2-5392</td>\n",
       "      <td>Were they walking through a doorway before or ...</td>\n",
       "      <td>after</td>\n",
       "      <td>LSKA2</td>\n",
       "      <td>LSKA2</td>\n",
       "      <td>none</td>\n",
       "    </tr>\n",
       "  </tbody>\n",
       "</table>\n",
       "<p>3590505 rows × 6 columns</p>\n",
       "</div>"
      ],
      "text/plain": [
       "                key                                           question answer  \\\n",
       "0           46GP8-2            Is there some food the person contacts?    Yes   \n",
       "1           46GP8-6                       Were they touching a window?    Yes   \n",
       "2          46GP8-36              Is there a table the person contacts?     No   \n",
       "3          46GP8-54              In the video, did they touch a broom?     No   \n",
       "4          46GP8-60  Was a blanket one of the things they were cont...     No   \n",
       "...             ...                                                ...    ...   \n",
       "1042306  LSKA2-5391  Was the person walking through a doorway befor...  after   \n",
       "1042307  LSKA2-5394  Were they walking through a doorway before or ...  after   \n",
       "1042308  LSKA2-5395  Were they walking through a doorway before or ...  after   \n",
       "1042309  LSKA2-5393  Was the person walking through a doorway befor...  after   \n",
       "1042310  LSKA2-5392  Were they walking through a doorway before or ...  after   \n",
       "\n",
       "        vid_id gif_name description  \n",
       "0        46GP8    46GP8        none  \n",
       "1        46GP8    46GP8        none  \n",
       "2        46GP8    46GP8        none  \n",
       "3        46GP8    46GP8        none  \n",
       "4        46GP8    46GP8        none  \n",
       "...        ...      ...         ...  \n",
       "1042306  LSKA2    LSKA2        none  \n",
       "1042307  LSKA2    LSKA2        none  \n",
       "1042308  LSKA2    LSKA2        none  \n",
       "1042309  LSKA2    LSKA2        none  \n",
       "1042310  LSKA2    LSKA2        none  \n",
       "\n",
       "[3590505 rows x 6 columns]"
      ]
     },
     "execution_count": 42,
     "metadata": {},
     "output_type": "execute_result"
    }
   ],
   "source": [
    "# load the pickles\n",
    "# drop other columns\n",
    "# attach together\n",
    "training = pd.read_csv('../exports/%s/other_formats/train-balanced-tgif-updated.csv' % d_path)\n",
    "testing = pd.read_csv('../exports/%s/other_formats/test-balanced-tgif-updated.csv' % d_path)\n",
    "total = pd.concat([training, testing])\n",
    "total"
   ]
  },
  {
   "cell_type": "code",
   "execution_count": 43,
   "metadata": {},
   "outputs": [],
   "source": [
    "total.to_csv('../exports/%s/other_formats/Total-question-updated.csv' % d_path, index = None)"
   ]
  },
  {
   "cell_type": "code",
   "execution_count": 33,
   "metadata": {},
   "outputs": [
    {
     "data": {
      "text/html": [
       "<div>\n",
       "<style scoped>\n",
       "    .dataframe tbody tr th:only-of-type {\n",
       "        vertical-align: middle;\n",
       "    }\n",
       "\n",
       "    .dataframe tbody tr th {\n",
       "        vertical-align: top;\n",
       "    }\n",
       "\n",
       "    .dataframe thead th {\n",
       "        text-align: right;\n",
       "    }\n",
       "</style>\n",
       "<table border=\"1\" class=\"dataframe\">\n",
       "  <thead>\n",
       "    <tr style=\"text-align: right;\">\n",
       "      <th></th>\n",
       "      <th>key</th>\n",
       "      <th>question</th>\n",
       "      <th>answer</th>\n",
       "      <th>vid_id</th>\n",
       "      <th>gif_name</th>\n",
       "      <th>description</th>\n",
       "    </tr>\n",
       "  </thead>\n",
       "  <tbody>\n",
       "  </tbody>\n",
       "</table>\n",
       "</div>"
      ],
      "text/plain": [
       "Empty DataFrame\n",
       "Columns: [key, question, answer, vid_id, gif_name, description]\n",
       "Index: []"
      ]
     },
     "execution_count": 33,
     "metadata": {},
     "output_type": "execute_result"
    }
   ],
   "source": [
    "test[test['key'] == 'YSKX3-1']"
   ]
  },
  {
   "cell_type": "code",
   "execution_count": 29,
   "metadata": {},
   "outputs": [
    {
     "data": {
      "text/html": [
       "<div>\n",
       "<style scoped>\n",
       "    .dataframe tbody tr th:only-of-type {\n",
       "        vertical-align: middle;\n",
       "    }\n",
       "\n",
       "    .dataframe tbody tr th {\n",
       "        vertical-align: top;\n",
       "    }\n",
       "\n",
       "    .dataframe thead th {\n",
       "        text-align: right;\n",
       "    }\n",
       "</style>\n",
       "<table border=\"1\" class=\"dataframe\">\n",
       "  <thead>\n",
       "    <tr style=\"text-align: right;\">\n",
       "      <th></th>\n",
       "      <th>index</th>\n",
       "      <th>question</th>\n",
       "      <th>answer</th>\n",
       "      <th>key</th>\n",
       "      <th>vid_id</th>\n",
       "      <th>gif_name</th>\n",
       "      <th>description</th>\n",
       "    </tr>\n",
       "  </thead>\n",
       "  <tbody>\n",
       "  </tbody>\n",
       "</table>\n",
       "</div>"
      ],
      "text/plain": [
       "Empty DataFrame\n",
       "Columns: [index, question, answer, key, vid_id, gif_name, description]\n",
       "Index: []"
      ]
     },
     "execution_count": 29,
     "metadata": {},
     "output_type": "execute_result"
    }
   ],
   "source": [
    "mismatch"
   ]
  },
  {
   "cell_type": "code",
   "execution_count": 23,
   "metadata": {},
   "outputs": [],
   "source": [
    "templs = {}\n",
    "for v_id in test_stsgs:\n",
    "    with open('../exports/dataset_fixed/balanced/test/%s.txt' % v_id, 'rb') as f:\n",
    "        QA = json.load(f)\n",
    "        \n",
    "    for q_id in QA:\n",
    "        inside = QA[q_id]['id']\n",
    "        if inside != q_id:\n",
    "            t = QA[q_id]['attributes']['type']\n",
    "            if t not in templs:\n",
    "                templs[t] = 0\n",
    "            templs[t] += 1 "
   ]
  },
  {
   "cell_type": "code",
   "execution_count": 24,
   "metadata": {},
   "outputs": [
    {
     "data": {
      "text/plain": [
       "{'andObjRelExists': 13877,\n",
       " 'actTime': 39395,\n",
       " 'xorObjRelExists': 17043,\n",
       " 'objWhat': 86612,\n",
       " 'relExists': 2761,\n",
       " 'actExists': 861,\n",
       " 'objFirst': 5428,\n",
       " 'objFirstVerify': 3320,\n",
       " 'objLast': 8225,\n",
       " 'objExists': 1483,\n",
       " 'objWhatChoose': 9546,\n",
       " 'objRelExists': 3401,\n",
       " 'objFirstChoose': 3626,\n",
       " 'objLastChoose': 3433,\n",
       " 'objLastVerify': 3005,\n",
       " 'objWhatGeneral': 501}"
      ]
     },
     "execution_count": 24,
     "metadata": {},
     "output_type": "execute_result"
    }
   ],
   "source": [
    "templs"
   ]
  },
  {
   "cell_type": "code",
   "execution_count": null,
   "metadata": {},
   "outputs": [],
   "source": []
  }
 ],
 "metadata": {
  "kernelspec": {
   "display_name": "Python 3",
   "language": "python",
   "name": "python3"
  },
  "language_info": {
   "codemirror_mode": {
    "name": "ipython",
    "version": 3
   },
   "file_extension": ".py",
   "mimetype": "text/x-python",
   "name": "python",
   "nbconvert_exporter": "python",
   "pygments_lexer": "ipython3",
   "version": "3.7.6"
  }
 },
 "nbformat": 4,
 "nbformat_minor": 4
}
