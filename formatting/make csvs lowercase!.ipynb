{
 "cells": [
  {
   "cell_type": "code",
   "execution_count": 6,
   "metadata": {},
   "outputs": [],
   "source": [
    "import pandas as pd"
   ]
  },
  {
   "cell_type": "code",
   "execution_count": 7,
   "metadata": {},
   "outputs": [],
   "source": [
    "d_path = 'dataset'"
   ]
  },
  {
   "cell_type": "code",
   "execution_count": 8,
   "metadata": {},
   "outputs": [],
   "source": [
    "def getCSV(source_dir, group, metric):\n",
    "    return pd.read_csv('../../exports/%s/%s/%s-%s.csv' % (d_path, source_dir, group, metric))\n",
    "\n",
    "def saveCSV(source_dir, group, metric, df):\n",
    "    df.to_csv('../../exports/%s/%s/%s-%s.csv' % (d_path, source_dir, group, metric))"
   ]
  },
  {
   "cell_type": "code",
   "execution_count": 9,
   "metadata": {},
   "outputs": [],
   "source": [
    "def lowerAnswer(df):\n",
    "    df['answer'] = df['answer'].apply(lambda x: x.lower())\n",
    "    \n",
    "    return df\n",
    "\n",
    "def formatForSaving(df):\n",
    "    return df[['key', 'question', 'answer', 'vid_id', 'gif_name', 'description']]\n",
    "\n",
    "def fails(df):\n",
    "    \n",
    "    if 'Yes' in df['answer'].unique():\n",
    "        print(\"Still uppercase\")\n",
    "        return True\n",
    "    if 'No' in df['answer'].unique():\n",
    "        print(\"Still uppercase\")\n",
    "        return True\n",
    "    return False"
   ]
  },
  {
   "cell_type": "code",
   "execution_count": 10,
   "metadata": {},
   "outputs": [],
   "source": [
    "def process(metric):\n",
    "    #train, val, test = getCSV(x)\n",
    "    dfs = []\n",
    "    \n",
    "    for group in ['train', 'valid', 'test', 'total']:\n",
    "        df = getCSV('final_csvs_upper', group, metric)\n",
    "        df = lowerAnswer(df)\n",
    "        df = formatForSaving(df)\n",
    "        \n",
    "        if fails(df):\n",
    "            return False\n",
    "        dfs.append(df)\n",
    "        saveCSV('final_csvs', group, metric, df)\n",
    "        \n",
    "    return dfs\n",
    "    \n",
    "    train_up = lowerAnswer(train)\n",
    "    \n",
    "    test_up = lowerAnswer(test)\n",
    "    \n",
    "    if fails(train_up):\n",
    "        return False\n",
    "    if fails(test_up):\n",
    "        return False\n",
    "    \n",
    "    \n",
    "    train_up = formatForSaving(train)\n",
    "    test_up = formatForSaving(test)\n",
    "    \n",
    "    return train_up, test_up\n",
    "    "
   ]
  },
  {
   "cell_type": "markdown",
   "metadata": {},
   "source": [
    "# Code to run"
   ]
  },
  {
   "cell_type": "code",
   "execution_count": 12,
   "metadata": {},
   "outputs": [
    {
     "name": "stdout",
     "output_type": "stream",
     "text": [
      "steps\n"
     ]
    }
   ],
   "source": [
    "for metric in ['steps']: #'balanced', , 'steps'\n",
    "    print(metric)\n",
    "    train, val, test, total = process(metric)"
   ]
  },
  {
   "cell_type": "markdown",
   "metadata": {},
   "source": [
    "# TODO\n",
    "- [x] Copy over all the compo and balanced into final_csvs uppercase\n",
    "- [x] change all the answers to lowercase\n",
    "- do the csv_sanity checks (make the overarching function)\n",
    "- [x] do 9_SANITY CHECKS\n",
    "- send mona sanity checks\n",
    "- make unbalanced subset\n",
    "- update website\n",
    "- upload to arxiv :)"
   ]
  }
 ],
 "metadata": {
  "kernelspec": {
   "display_name": "Python 3",
   "language": "python",
   "name": "python3"
  },
  "language_info": {
   "codemirror_mode": {
    "name": "ipython",
    "version": 3
   },
   "file_extension": ".py",
   "mimetype": "text/x-python",
   "name": "python",
   "nbconvert_exporter": "python",
   "pygments_lexer": "ipython3",
   "version": "3.7.6"
  }
 },
 "nbformat": 4,
 "nbformat_minor": 4
}
