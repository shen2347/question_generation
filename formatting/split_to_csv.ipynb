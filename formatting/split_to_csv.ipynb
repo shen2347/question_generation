{
 "cells": [
  {
   "cell_type": "code",
   "execution_count": 1,
   "metadata": {},
   "outputs": [],
   "source": [
    "import pandas as pd"
   ]
  },
  {
   "cell_type": "code",
   "execution_count": 6,
   "metadata": {},
   "outputs": [],
   "source": [
    "metric = 'steps'"
   ]
  },
  {
   "cell_type": "code",
   "execution_count": 7,
   "metadata": {},
   "outputs": [],
   "source": [
    "\n",
    "# Determine split index\n",
    "df = pd.read_csv('../../exports/dataset/final_csvs_upper/train-%s.csv' % metric) # TODO: PATH\n",
    "split = int(0.9 * df.shape[0])\n",
    "\n",
    "# Ensure video data is not split\n",
    "while df.loc[split-1, 'vid_id'][:5] == df.loc[split, 'vid_id'][:5]:\n",
    "    split += 1\n",
    "\n",
    "# Split\n",
    "df_tr = df.loc[:split-1, :]\n",
    "df_tr.to_csv('../../exports/dataset/final_csvs_upper/train-%s.csv' % metric) # TODO: PATH\n",
    "df_val = df.loc[split:, :]\n",
    "df_val.to_csv('../../exports/dataset/final_csvs_upper/valid-%s.csv' % metric) # TODO: PATH"
   ]
  },
  {
   "cell_type": "code",
   "execution_count": null,
   "metadata": {},
   "outputs": [],
   "source": []
  },
  {
   "cell_type": "code",
   "execution_count": null,
   "metadata": {},
   "outputs": [],
   "source": []
  },
  {
   "cell_type": "markdown",
   "metadata": {},
   "source": [
    "# Combine"
   ]
  },
  {
   "cell_type": "code",
   "execution_count": 23,
   "metadata": {},
   "outputs": [],
   "source": [
    "metric = 'balanced'\n",
    "folder = 'balanced'"
   ]
  },
  {
   "cell_type": "code",
   "execution_count": 24,
   "metadata": {},
   "outputs": [],
   "source": [
    "df_tr = pd.read_csv('../../ALL FINAL DATA/agqa_2.0/csvs/%s/Train_frameqa_question-%s.csv' % (folder, metric)) # TODO: PATH\n",
    "df_val = pd.read_csv('../../ALL FINAL DATA/agqa_2.0/csvs/%s/Valid_frameqa_question-%s.csv' % (folder, metric)) # TODO: PATH\n",
    "\n",
    "df = pd.concat([df_tr, df_val])\n"
   ]
  },
  {
   "cell_type": "code",
   "execution_count": 25,
   "metadata": {},
   "outputs": [
    {
     "data": {
      "text/html": [
       "<div>\n",
       "<style scoped>\n",
       "    .dataframe tbody tr th:only-of-type {\n",
       "        vertical-align: middle;\n",
       "    }\n",
       "\n",
       "    .dataframe tbody tr th {\n",
       "        vertical-align: top;\n",
       "    }\n",
       "\n",
       "    .dataframe thead th {\n",
       "        text-align: right;\n",
       "    }\n",
       "</style>\n",
       "<table border=\"1\" class=\"dataframe\">\n",
       "  <thead>\n",
       "    <tr style=\"text-align: right;\">\n",
       "      <th></th>\n",
       "      <th>Unnamed: 0</th>\n",
       "      <th>key</th>\n",
       "      <th>question</th>\n",
       "      <th>answer</th>\n",
       "      <th>vid_id</th>\n",
       "      <th>gif_name</th>\n",
       "      <th>description</th>\n",
       "    </tr>\n",
       "  </thead>\n",
       "  <tbody>\n",
       "    <tr>\n",
       "      <th>0</th>\n",
       "      <td>0</td>\n",
       "      <td>001YG-2501</td>\n",
       "      <td>What did they take while sitting in the thing ...</td>\n",
       "      <td>bag</td>\n",
       "      <td>001YG</td>\n",
       "      <td>001YG</td>\n",
       "      <td>none</td>\n",
       "    </tr>\n",
       "    <tr>\n",
       "      <th>1</th>\n",
       "      <td>1</td>\n",
       "      <td>001YG-1635</td>\n",
       "      <td>Which object did the person take while sitting...</td>\n",
       "      <td>bag</td>\n",
       "      <td>001YG</td>\n",
       "      <td>001YG</td>\n",
       "      <td>none</td>\n",
       "    </tr>\n",
       "    <tr>\n",
       "      <th>2</th>\n",
       "      <td>2</td>\n",
       "      <td>001YG-2549</td>\n",
       "      <td>Was taking a bag from somewhere something they...</td>\n",
       "      <td>before</td>\n",
       "      <td>001YG</td>\n",
       "      <td>001YG</td>\n",
       "      <td>none</td>\n",
       "    </tr>\n",
       "    <tr>\n",
       "      <th>3</th>\n",
       "      <td>3</td>\n",
       "      <td>001YG-1634</td>\n",
       "      <td>In the video, which object were they taking?</td>\n",
       "      <td>bag</td>\n",
       "      <td>001YG</td>\n",
       "      <td>001YG</td>\n",
       "      <td>none</td>\n",
       "    </tr>\n",
       "    <tr>\n",
       "      <th>4</th>\n",
       "      <td>4</td>\n",
       "      <td>001YG-1633</td>\n",
       "      <td>What did they take before starting to stand up?</td>\n",
       "      <td>bag</td>\n",
       "      <td>001YG</td>\n",
       "      <td>001YG</td>\n",
       "      <td>none</td>\n",
       "    </tr>\n",
       "    <tr>\n",
       "      <th>...</th>\n",
       "      <td>...</td>\n",
       "      <td>...</td>\n",
       "      <td>...</td>\n",
       "      <td>...</td>\n",
       "      <td>...</td>\n",
       "      <td>...</td>\n",
       "      <td>...</td>\n",
       "    </tr>\n",
       "    <tr>\n",
       "      <th>159837</th>\n",
       "      <td>159837</td>\n",
       "      <td>ZZXQF-672</td>\n",
       "      <td>Before consuming some medicine, did they awake...</td>\n",
       "      <td>no</td>\n",
       "      <td>ZZXQF</td>\n",
       "      <td>ZZXQF</td>\n",
       "      <td>none</td>\n",
       "    </tr>\n",
       "    <tr>\n",
       "      <th>159838</th>\n",
       "      <td>159838</td>\n",
       "      <td>ZZXQF-573</td>\n",
       "      <td>Was the person wiping anything?</td>\n",
       "      <td>no</td>\n",
       "      <td>ZZXQF</td>\n",
       "      <td>ZZXQF</td>\n",
       "      <td>none</td>\n",
       "    </tr>\n",
       "    <tr>\n",
       "      <th>159839</th>\n",
       "      <td>159839</td>\n",
       "      <td>ZZXQF-199</td>\n",
       "      <td>Were they interacting with a vacuum after cons...</td>\n",
       "      <td>no</td>\n",
       "      <td>ZZXQF</td>\n",
       "      <td>ZZXQF</td>\n",
       "      <td>none</td>\n",
       "    </tr>\n",
       "    <tr>\n",
       "      <th>159840</th>\n",
       "      <td>159840</td>\n",
       "      <td>ZZXQF-957</td>\n",
       "      <td>After holding some medicine, which object did ...</td>\n",
       "      <td>mirror</td>\n",
       "      <td>ZZXQF</td>\n",
       "      <td>ZZXQF</td>\n",
       "      <td>none</td>\n",
       "    </tr>\n",
       "    <tr>\n",
       "      <th>159841</th>\n",
       "      <td>159841</td>\n",
       "      <td>ZZXQF-994</td>\n",
       "      <td>Was the person watching something in a mirror ...</td>\n",
       "      <td>eating some food</td>\n",
       "      <td>ZZXQF</td>\n",
       "      <td>ZZXQF</td>\n",
       "      <td>none</td>\n",
       "    </tr>\n",
       "  </tbody>\n",
       "</table>\n",
       "<p>1600894 rows × 7 columns</p>\n",
       "</div>"
      ],
      "text/plain": [
       "        Unnamed: 0         key  \\\n",
       "0                0  001YG-2501   \n",
       "1                1  001YG-1635   \n",
       "2                2  001YG-2549   \n",
       "3                3  001YG-1634   \n",
       "4                4  001YG-1633   \n",
       "...            ...         ...   \n",
       "159837      159837   ZZXQF-672   \n",
       "159838      159838   ZZXQF-573   \n",
       "159839      159839   ZZXQF-199   \n",
       "159840      159840   ZZXQF-957   \n",
       "159841      159841   ZZXQF-994   \n",
       "\n",
       "                                                 question            answer  \\\n",
       "0       What did they take while sitting in the thing ...               bag   \n",
       "1       Which object did the person take while sitting...               bag   \n",
       "2       Was taking a bag from somewhere something they...            before   \n",
       "3            In the video, which object were they taking?               bag   \n",
       "4         What did they take before starting to stand up?               bag   \n",
       "...                                                   ...               ...   \n",
       "159837  Before consuming some medicine, did they awake...                no   \n",
       "159838                    Was the person wiping anything?                no   \n",
       "159839  Were they interacting with a vacuum after cons...                no   \n",
       "159840  After holding some medicine, which object did ...            mirror   \n",
       "159841  Was the person watching something in a mirror ...  eating some food   \n",
       "\n",
       "       vid_id gif_name description  \n",
       "0       001YG    001YG        none  \n",
       "1       001YG    001YG        none  \n",
       "2       001YG    001YG        none  \n",
       "3       001YG    001YG        none  \n",
       "4       001YG    001YG        none  \n",
       "...       ...      ...         ...  \n",
       "159837  ZZXQF    ZZXQF        none  \n",
       "159838  ZZXQF    ZZXQF        none  \n",
       "159839  ZZXQF    ZZXQF        none  \n",
       "159840  ZZXQF    ZZXQF        none  \n",
       "159841  ZZXQF    ZZXQF        none  \n",
       "\n",
       "[1600894 rows x 7 columns]"
      ]
     },
     "execution_count": 25,
     "metadata": {},
     "output_type": "execute_result"
    }
   ],
   "source": [
    "df"
   ]
  },
  {
   "cell_type": "code",
   "execution_count": 26,
   "metadata": {},
   "outputs": [
    {
     "data": {
      "text/plain": [
       "True"
      ]
     },
     "execution_count": 26,
     "metadata": {},
     "output_type": "execute_result"
    }
   ],
   "source": [
    "df_tr.shape[0] + df_val.shape[0] == df.shape[0]\n"
   ]
  },
  {
   "cell_type": "code",
   "execution_count": 27,
   "metadata": {},
   "outputs": [],
   "source": [
    "df.to_csv('../../ALL FINAL DATA/agqa_2.0/csvs/%s/Train_frameqa_question-%s.csv' % (folder, metric))"
   ]
  },
  {
   "cell_type": "code",
   "execution_count": null,
   "metadata": {},
   "outputs": [],
   "source": []
  }
 ],
 "metadata": {
  "kernelspec": {
   "display_name": "Python 3",
   "language": "python",
   "name": "python3"
  },
  "language_info": {
   "codemirror_mode": {
    "name": "ipython",
    "version": 3
   },
   "file_extension": ".py",
   "mimetype": "text/x-python",
   "name": "python",
   "nbconvert_exporter": "python",
   "pygments_lexer": "ipython3",
   "version": "3.7.6"
  }
 },
 "nbformat": 4,
 "nbformat_minor": 4
}
