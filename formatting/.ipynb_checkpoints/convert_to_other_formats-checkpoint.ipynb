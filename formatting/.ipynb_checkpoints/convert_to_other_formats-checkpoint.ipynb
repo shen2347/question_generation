{
 "cells": [
  {
   "cell_type": "code",
   "execution_count": 1,
   "metadata": {},
   "outputs": [],
   "source": [
    "import json\n",
    "import pickle\n",
    "import csv\n",
    "import pandas as pd"
   ]
  },
  {
   "cell_type": "code",
   "execution_count": 22,
   "metadata": {},
   "outputs": [],
   "source": [
    "def pickleLoad(path):\n",
    "    file = open(path, 'rb')\n",
    "    info = pickle.load(file)\n",
    "    file.close()\n",
    "    return info\n",
    "\n",
    "def pickleDump(var, destination):\n",
    "    f = open(destination,\"wb\")\n",
    "    pickle.dump(var,f)\n",
    "    f.close() \n",
    "\n",
    "def getQA(d_path, group, bal_txt, v_id):\n",
    "    path = '../../exports/%s/%s/%s/%s.txt' % (d_path, bal_txt, group, v_id)\n",
    "    try:\n",
    "        with open(path) as json_file: #CHANGED\n",
    "            QA = json.load(json_file)\n",
    "        return QA\n",
    "    except:\n",
    "        return {}"
   ]
  },
  {
   "cell_type": "code",
   "execution_count": 5,
   "metadata": {},
   "outputs": [],
   "source": [
    "with open('../../data/templ2global.txt', 'r') as f:\n",
    "    templ2global = json.load(f)"
   ]
  },
  {
   "cell_type": "code",
   "execution_count": 6,
   "metadata": {},
   "outputs": [],
   "source": [
    "train_stsgs = pickleLoad('../../data/stsgs/train_stsgs.pkl')\n",
    "test_stsgs = pickleLoad('../../data/stsgs/test_stsgs.pkl')"
   ]
  },
  {
   "cell_type": "code",
   "execution_count": 23,
   "metadata": {},
   "outputs": [],
   "source": [
    "# Testing to CSV\n",
    "#46GP8, N11GT, KRF68, MJO7C, S6MPZ\n",
    "\n",
    "def toDataframe(v_id, QA):\n",
    "    df = pd.DataFrame.from_dict(QA, orient=\"index\")\n",
    "    df['vid_id'] = v_id\n",
    "    #df.index = v_id\n",
    "    df['gif_name'] = v_id\n",
    "    df = df.drop(columns=['attributes', 'global', 'id', 'local', 'steps', 'metrics', 'program', 'sg_grounding'])\n",
    "    df = df.reset_index()\n",
    "    df = df.rename(columns={'index': 'key'})\n",
    "    df['description'] = \"none\"\n",
    "    return df\n",
    "\n",
    "\n",
    "def toTGIF(d_path, group, bal_txt):\n",
    "    dataframes = []\n",
    "    if group == 'train':\n",
    "        our_data = train_stsgs\n",
    "    if group == 'test':\n",
    "        our_data = test_stsgs\n",
    "        \n",
    "    cnt = 0\n",
    "    for v_id in our_data:\n",
    "        if cnt % 1000 == 0:\n",
    "            print(cnt)\n",
    "        cnt = cnt + 1\n",
    "        QA = getQA(d_path, group, bal_txt, v_id)\n",
    "        \n",
    "        # Add the following lines\n",
    "        for q_id in QA:\n",
    "            QA[q_id]['type'] = QA[q_id]['attributes']['type']\n",
    "        if len(QA) == 0: \n",
    "            continue\n",
    "        df = toDataframe(v_id, QA)\n",
    "        dataframes.append(df)\n",
    "    total = pd.concat(dataframes)\n",
    "    total.to_csv('../../exports/%s/other_formats/%s-%s-tgif.csv' % (d_path, group, bal_txt), index = None)\n",
    "    return total\n"
   ]
  },
  {
   "cell_type": "markdown",
   "metadata": {},
   "source": [
    "# Build CSV files"
   ]
  },
  {
   "cell_type": "code",
   "execution_count": 32,
   "metadata": {},
   "outputs": [],
   "source": [
    "d_path = 'dataset'\n",
    "bal_txt = 'balanced - main dataset'"
   ]
  },
  {
   "cell_type": "code",
   "execution_count": null,
   "metadata": {
    "scrolled": true
   },
   "outputs": [
    {
     "name": "stdout",
     "output_type": "stream",
     "text": [
      "0\n"
     ]
    }
   ],
   "source": [
    "train = toTGIF(d_path, 'train', bal_txt)"
   ]
  },
  {
   "cell_type": "code",
   "execution_count": 26,
   "metadata": {},
   "outputs": [
    {
     "name": "stdout",
     "output_type": "stream",
     "text": [
      "0\n",
      "1000\n"
     ]
    },
    {
     "data": {
      "text/html": [
       "<div>\n",
       "<style scoped>\n",
       "    .dataframe tbody tr th:only-of-type {\n",
       "        vertical-align: middle;\n",
       "    }\n",
       "\n",
       "    .dataframe tbody tr th {\n",
       "        vertical-align: top;\n",
       "    }\n",
       "\n",
       "    .dataframe thead th {\n",
       "        text-align: right;\n",
       "    }\n",
       "</style>\n",
       "<table border=\"1\" class=\"dataframe\">\n",
       "  <thead>\n",
       "    <tr style=\"text-align: right;\">\n",
       "      <th></th>\n",
       "      <th>key</th>\n",
       "      <th>question</th>\n",
       "      <th>answer</th>\n",
       "      <th>type</th>\n",
       "      <th>vid_id</th>\n",
       "      <th>gif_name</th>\n",
       "      <th>description</th>\n",
       "    </tr>\n",
       "  </thead>\n",
       "  <tbody>\n",
       "    <tr>\n",
       "      <th>0</th>\n",
       "      <td>YSKX3-3304</td>\n",
       "      <td>Was tidying an object something they did befor...</td>\n",
       "      <td>before</td>\n",
       "      <td>relTime</td>\n",
       "      <td>YSKX3</td>\n",
       "      <td>YSKX3</td>\n",
       "      <td>none</td>\n",
       "    </tr>\n",
       "    <tr>\n",
       "      <th>1</th>\n",
       "      <td>YSKX3-3305</td>\n",
       "      <td>Was the person taking something before or afte...</td>\n",
       "      <td>before</td>\n",
       "      <td>relTime</td>\n",
       "      <td>YSKX3</td>\n",
       "      <td>YSKX3</td>\n",
       "      <td>none</td>\n",
       "    </tr>\n",
       "    <tr>\n",
       "      <th>2</th>\n",
       "      <td>YSKX3-3311</td>\n",
       "      <td>Was the person tidying something before or aft...</td>\n",
       "      <td>before</td>\n",
       "      <td>relTime</td>\n",
       "      <td>YSKX3</td>\n",
       "      <td>YSKX3</td>\n",
       "      <td>none</td>\n",
       "    </tr>\n",
       "    <tr>\n",
       "      <th>3</th>\n",
       "      <td>YSKX3-3316</td>\n",
       "      <td>Did they take anything before or after holding...</td>\n",
       "      <td>before</td>\n",
       "      <td>relTime</td>\n",
       "      <td>YSKX3</td>\n",
       "      <td>YSKX3</td>\n",
       "      <td>none</td>\n",
       "    </tr>\n",
       "    <tr>\n",
       "      <th>0</th>\n",
       "      <td>T5ECU-16315</td>\n",
       "      <td>After going from standing to sitting, which wa...</td>\n",
       "      <td>dish</td>\n",
       "      <td>objFirstChoose</td>\n",
       "      <td>T5ECU</td>\n",
       "      <td>T5ECU</td>\n",
       "      <td>none</td>\n",
       "    </tr>\n",
       "    <tr>\n",
       "      <th>...</th>\n",
       "      <td>...</td>\n",
       "      <td>...</td>\n",
       "      <td>...</td>\n",
       "      <td>...</td>\n",
       "      <td>...</td>\n",
       "      <td>...</td>\n",
       "      <td>...</td>\n",
       "    </tr>\n",
       "    <tr>\n",
       "      <th>7</th>\n",
       "      <td>F1LTO-3379</td>\n",
       "      <td>Was the person closing the last thing they tou...</td>\n",
       "      <td>after</td>\n",
       "      <td>actTime</td>\n",
       "      <td>F1LTO</td>\n",
       "      <td>F1LTO</td>\n",
       "      <td>none</td>\n",
       "    </tr>\n",
       "    <tr>\n",
       "      <th>0</th>\n",
       "      <td>D8K7T-2087</td>\n",
       "      <td>Did they hold something before or after they t...</td>\n",
       "      <td>before</td>\n",
       "      <td>relTime</td>\n",
       "      <td>D8K7T</td>\n",
       "      <td>D8K7T</td>\n",
       "      <td>none</td>\n",
       "    </tr>\n",
       "    <tr>\n",
       "      <th>0</th>\n",
       "      <td>LSKA2-2191</td>\n",
       "      <td>In the video, which was the person behind firs...</td>\n",
       "      <td>food</td>\n",
       "      <td>objFirstChoose</td>\n",
       "      <td>LSKA2</td>\n",
       "      <td>LSKA2</td>\n",
       "      <td>none</td>\n",
       "    </tr>\n",
       "    <tr>\n",
       "      <th>1</th>\n",
       "      <td>LSKA2-2192</td>\n",
       "      <td>Of all the items they went on the side of, was...</td>\n",
       "      <td>food</td>\n",
       "      <td>objFirstChoose</td>\n",
       "      <td>LSKA2</td>\n",
       "      <td>LSKA2</td>\n",
       "      <td>none</td>\n",
       "    </tr>\n",
       "    <tr>\n",
       "      <th>2</th>\n",
       "      <td>LSKA2-2205</td>\n",
       "      <td>Was the person walking something before or aft...</td>\n",
       "      <td>after</td>\n",
       "      <td>relTime</td>\n",
       "      <td>LSKA2</td>\n",
       "      <td>LSKA2</td>\n",
       "      <td>none</td>\n",
       "    </tr>\n",
       "  </tbody>\n",
       "</table>\n",
       "<p>49859 rows × 7 columns</p>\n",
       "</div>"
      ],
      "text/plain": [
       "            key                                           question  answer  \\\n",
       "0    YSKX3-3304  Was tidying an object something they did befor...  before   \n",
       "1    YSKX3-3305  Was the person taking something before or afte...  before   \n",
       "2    YSKX3-3311  Was the person tidying something before or aft...  before   \n",
       "3    YSKX3-3316  Did they take anything before or after holding...  before   \n",
       "0   T5ECU-16315  After going from standing to sitting, which wa...    dish   \n",
       "..          ...                                                ...     ...   \n",
       "7    F1LTO-3379  Was the person closing the last thing they tou...   after   \n",
       "0    D8K7T-2087  Did they hold something before or after they t...  before   \n",
       "0    LSKA2-2191  In the video, which was the person behind firs...    food   \n",
       "1    LSKA2-2192  Of all the items they went on the side of, was...    food   \n",
       "2    LSKA2-2205  Was the person walking something before or aft...   after   \n",
       "\n",
       "              type vid_id gif_name description  \n",
       "0          relTime  YSKX3    YSKX3        none  \n",
       "1          relTime  YSKX3    YSKX3        none  \n",
       "2          relTime  YSKX3    YSKX3        none  \n",
       "3          relTime  YSKX3    YSKX3        none  \n",
       "0   objFirstChoose  T5ECU    T5ECU        none  \n",
       "..             ...    ...      ...         ...  \n",
       "7          actTime  F1LTO    F1LTO        none  \n",
       "0          relTime  D8K7T    D8K7T        none  \n",
       "0   objFirstChoose  LSKA2    LSKA2        none  \n",
       "1   objFirstChoose  LSKA2    LSKA2        none  \n",
       "2          relTime  LSKA2    LSKA2        none  \n",
       "\n",
       "[49859 rows x 7 columns]"
      ]
     },
     "execution_count": 26,
     "metadata": {},
     "output_type": "execute_result"
    }
   ],
   "source": [
    "toTGIF(d_path, 'test', bal_txt)"
   ]
  },
  {
   "cell_type": "code",
   "execution_count": 28,
   "metadata": {},
   "outputs": [],
   "source": [
    "# load the pickles\n",
    "# drop other columns\n",
    "# attach together\n",
    "training = pd.read_csv('../../exports/%s/other_formats/train-balanced-tgif.csv' % d_path)\n",
    "testing = pd.read_csv('../../exports/%s/other_formats/test-balanced-tgif.csv' % d_path)"
   ]
  },
  {
   "cell_type": "code",
   "execution_count": 29,
   "metadata": {
    "scrolled": true
   },
   "outputs": [
    {
     "data": {
      "text/html": [
       "<div>\n",
       "<style scoped>\n",
       "    .dataframe tbody tr th:only-of-type {\n",
       "        vertical-align: middle;\n",
       "    }\n",
       "\n",
       "    .dataframe tbody tr th {\n",
       "        vertical-align: top;\n",
       "    }\n",
       "\n",
       "    .dataframe thead th {\n",
       "        text-align: right;\n",
       "    }\n",
       "</style>\n",
       "<table border=\"1\" class=\"dataframe\">\n",
       "  <thead>\n",
       "    <tr style=\"text-align: right;\">\n",
       "      <th></th>\n",
       "      <th>key</th>\n",
       "      <th>question</th>\n",
       "      <th>answer</th>\n",
       "      <th>type</th>\n",
       "      <th>vid_id</th>\n",
       "      <th>gif_name</th>\n",
       "      <th>description</th>\n",
       "    </tr>\n",
       "  </thead>\n",
       "  <tbody>\n",
       "    <tr>\n",
       "      <th>0</th>\n",
       "      <td>46GP8-893</td>\n",
       "      <td>Of all the items they touched, was the first o...</td>\n",
       "      <td>food</td>\n",
       "      <td>objFirstChoose</td>\n",
       "      <td>46GP8</td>\n",
       "      <td>46GP8</td>\n",
       "      <td>none</td>\n",
       "    </tr>\n",
       "    <tr>\n",
       "      <th>1</th>\n",
       "      <td>46GP8-898</td>\n",
       "      <td>Which were they behind last, some food or a wi...</td>\n",
       "      <td>window</td>\n",
       "      <td>objLastChoose</td>\n",
       "      <td>46GP8</td>\n",
       "      <td>46GP8</td>\n",
       "      <td>none</td>\n",
       "    </tr>\n",
       "    <tr>\n",
       "      <th>2</th>\n",
       "      <td>46GP8-899</td>\n",
       "      <td>In the video, of all the items they went behin...</td>\n",
       "      <td>window</td>\n",
       "      <td>objLastChoose</td>\n",
       "      <td>46GP8</td>\n",
       "      <td>46GP8</td>\n",
       "      <td>none</td>\n",
       "    </tr>\n",
       "    <tr>\n",
       "      <th>3</th>\n",
       "      <td>N11GT-3293</td>\n",
       "      <td>Did they stand on something before or after th...</td>\n",
       "      <td>before</td>\n",
       "      <td>relTime</td>\n",
       "      <td>N11GT</td>\n",
       "      <td>N11GT</td>\n",
       "      <td>none</td>\n",
       "    </tr>\n",
       "    <tr>\n",
       "      <th>4</th>\n",
       "      <td>N11GT-3299</td>\n",
       "      <td>Did they tidy up a blanket before or after the...</td>\n",
       "      <td>before</td>\n",
       "      <td>actTime</td>\n",
       "      <td>N11GT</td>\n",
       "      <td>N11GT</td>\n",
       "      <td>none</td>\n",
       "    </tr>\n",
       "    <tr>\n",
       "      <th>...</th>\n",
       "      <td>...</td>\n",
       "      <td>...</td>\n",
       "      <td>...</td>\n",
       "      <td>...</td>\n",
       "      <td>...</td>\n",
       "      <td>...</td>\n",
       "      <td>...</td>\n",
       "    </tr>\n",
       "    <tr>\n",
       "      <th>49854</th>\n",
       "      <td>F1LTO-3379</td>\n",
       "      <td>Was the person closing the last thing they tou...</td>\n",
       "      <td>after</td>\n",
       "      <td>actTime</td>\n",
       "      <td>F1LTO</td>\n",
       "      <td>F1LTO</td>\n",
       "      <td>none</td>\n",
       "    </tr>\n",
       "    <tr>\n",
       "      <th>49855</th>\n",
       "      <td>D8K7T-2087</td>\n",
       "      <td>Did they hold something before or after they t...</td>\n",
       "      <td>before</td>\n",
       "      <td>relTime</td>\n",
       "      <td>D8K7T</td>\n",
       "      <td>D8K7T</td>\n",
       "      <td>none</td>\n",
       "    </tr>\n",
       "    <tr>\n",
       "      <th>49856</th>\n",
       "      <td>LSKA2-2191</td>\n",
       "      <td>In the video, which was the person behind firs...</td>\n",
       "      <td>food</td>\n",
       "      <td>objFirstChoose</td>\n",
       "      <td>LSKA2</td>\n",
       "      <td>LSKA2</td>\n",
       "      <td>none</td>\n",
       "    </tr>\n",
       "    <tr>\n",
       "      <th>49857</th>\n",
       "      <td>LSKA2-2192</td>\n",
       "      <td>Of all the items they went on the side of, was...</td>\n",
       "      <td>food</td>\n",
       "      <td>objFirstChoose</td>\n",
       "      <td>LSKA2</td>\n",
       "      <td>LSKA2</td>\n",
       "      <td>none</td>\n",
       "    </tr>\n",
       "    <tr>\n",
       "      <th>49858</th>\n",
       "      <td>LSKA2-2205</td>\n",
       "      <td>Was the person walking something before or aft...</td>\n",
       "      <td>after</td>\n",
       "      <td>relTime</td>\n",
       "      <td>LSKA2</td>\n",
       "      <td>LSKA2</td>\n",
       "      <td>none</td>\n",
       "    </tr>\n",
       "  </tbody>\n",
       "</table>\n",
       "<p>128922 rows × 7 columns</p>\n",
       "</div>"
      ],
      "text/plain": [
       "              key                                           question  answer  \\\n",
       "0       46GP8-893  Of all the items they touched, was the first o...    food   \n",
       "1       46GP8-898  Which were they behind last, some food or a wi...  window   \n",
       "2       46GP8-899  In the video, of all the items they went behin...  window   \n",
       "3      N11GT-3293  Did they stand on something before or after th...  before   \n",
       "4      N11GT-3299  Did they tidy up a blanket before or after the...  before   \n",
       "...           ...                                                ...     ...   \n",
       "49854  F1LTO-3379  Was the person closing the last thing they tou...   after   \n",
       "49855  D8K7T-2087  Did they hold something before or after they t...  before   \n",
       "49856  LSKA2-2191  In the video, which was the person behind firs...    food   \n",
       "49857  LSKA2-2192  Of all the items they went on the side of, was...    food   \n",
       "49858  LSKA2-2205  Was the person walking something before or aft...   after   \n",
       "\n",
       "                 type vid_id gif_name description  \n",
       "0      objFirstChoose  46GP8    46GP8        none  \n",
       "1       objLastChoose  46GP8    46GP8        none  \n",
       "2       objLastChoose  46GP8    46GP8        none  \n",
       "3             relTime  N11GT    N11GT        none  \n",
       "4             actTime  N11GT    N11GT        none  \n",
       "...               ...    ...      ...         ...  \n",
       "49854         actTime  F1LTO    F1LTO        none  \n",
       "49855         relTime  D8K7T    D8K7T        none  \n",
       "49856  objFirstChoose  LSKA2    LSKA2        none  \n",
       "49857  objFirstChoose  LSKA2    LSKA2        none  \n",
       "49858         relTime  LSKA2    LSKA2        none  \n",
       "\n",
       "[128922 rows x 7 columns]"
      ]
     },
     "execution_count": 29,
     "metadata": {},
     "output_type": "execute_result"
    }
   ],
   "source": [
    "\n",
    "total = pd.concat([training, testing])\n",
    "total"
   ]
  },
  {
   "cell_type": "code",
   "execution_count": 30,
   "metadata": {},
   "outputs": [],
   "source": [
    "total.to_csv('../../exports/%s/other_formats/Total-question.csv' % d_path, index = None)"
   ]
  },
  {
   "cell_type": "code",
   "execution_count": 31,
   "metadata": {},
   "outputs": [
    {
     "data": {
      "text/html": [
       "<div>\n",
       "<style scoped>\n",
       "    .dataframe tbody tr th:only-of-type {\n",
       "        vertical-align: middle;\n",
       "    }\n",
       "\n",
       "    .dataframe tbody tr th {\n",
       "        vertical-align: top;\n",
       "    }\n",
       "\n",
       "    .dataframe thead th {\n",
       "        text-align: right;\n",
       "    }\n",
       "</style>\n",
       "<table border=\"1\" class=\"dataframe\">\n",
       "  <thead>\n",
       "    <tr style=\"text-align: right;\">\n",
       "      <th></th>\n",
       "      <th>key</th>\n",
       "      <th>question</th>\n",
       "      <th>answer</th>\n",
       "      <th>type</th>\n",
       "      <th>vid_id</th>\n",
       "      <th>gif_name</th>\n",
       "      <th>description</th>\n",
       "    </tr>\n",
       "  </thead>\n",
       "  <tbody>\n",
       "    <tr>\n",
       "      <th>0</th>\n",
       "      <td>46GP8-893</td>\n",
       "      <td>Of all the items they touched, was the first o...</td>\n",
       "      <td>food</td>\n",
       "      <td>objFirstChoose</td>\n",
       "      <td>46GP8</td>\n",
       "      <td>46GP8</td>\n",
       "      <td>none</td>\n",
       "    </tr>\n",
       "    <tr>\n",
       "      <th>1</th>\n",
       "      <td>46GP8-898</td>\n",
       "      <td>Which were they behind last, some food or a wi...</td>\n",
       "      <td>window</td>\n",
       "      <td>objLastChoose</td>\n",
       "      <td>46GP8</td>\n",
       "      <td>46GP8</td>\n",
       "      <td>none</td>\n",
       "    </tr>\n",
       "    <tr>\n",
       "      <th>2</th>\n",
       "      <td>46GP8-899</td>\n",
       "      <td>In the video, of all the items they went behin...</td>\n",
       "      <td>window</td>\n",
       "      <td>objLastChoose</td>\n",
       "      <td>46GP8</td>\n",
       "      <td>46GP8</td>\n",
       "      <td>none</td>\n",
       "    </tr>\n",
       "    <tr>\n",
       "      <th>3</th>\n",
       "      <td>N11GT-3293</td>\n",
       "      <td>Did they stand on something before or after th...</td>\n",
       "      <td>before</td>\n",
       "      <td>relTime</td>\n",
       "      <td>N11GT</td>\n",
       "      <td>N11GT</td>\n",
       "      <td>none</td>\n",
       "    </tr>\n",
       "    <tr>\n",
       "      <th>4</th>\n",
       "      <td>N11GT-3299</td>\n",
       "      <td>Did they tidy up a blanket before or after the...</td>\n",
       "      <td>before</td>\n",
       "      <td>actTime</td>\n",
       "      <td>N11GT</td>\n",
       "      <td>N11GT</td>\n",
       "      <td>none</td>\n",
       "    </tr>\n",
       "    <tr>\n",
       "      <th>...</th>\n",
       "      <td>...</td>\n",
       "      <td>...</td>\n",
       "      <td>...</td>\n",
       "      <td>...</td>\n",
       "      <td>...</td>\n",
       "      <td>...</td>\n",
       "      <td>...</td>\n",
       "    </tr>\n",
       "    <tr>\n",
       "      <th>79058</th>\n",
       "      <td>2MJ72-6203</td>\n",
       "      <td>Did they take something before or after they w...</td>\n",
       "      <td>after</td>\n",
       "      <td>relTime</td>\n",
       "      <td>2MJ72</td>\n",
       "      <td>2MJ72</td>\n",
       "      <td>none</td>\n",
       "    </tr>\n",
       "    <tr>\n",
       "      <th>79059</th>\n",
       "      <td>2MJ72-6219</td>\n",
       "      <td>Was the person watching something before or af...</td>\n",
       "      <td>before</td>\n",
       "      <td>relTime</td>\n",
       "      <td>2MJ72</td>\n",
       "      <td>2MJ72</td>\n",
       "      <td>none</td>\n",
       "    </tr>\n",
       "    <tr>\n",
       "      <th>79060</th>\n",
       "      <td>2MJ72-6225</td>\n",
       "      <td>Was the person closing something before or aft...</td>\n",
       "      <td>after</td>\n",
       "      <td>relTime</td>\n",
       "      <td>2MJ72</td>\n",
       "      <td>2MJ72</td>\n",
       "      <td>none</td>\n",
       "    </tr>\n",
       "    <tr>\n",
       "      <th>79061</th>\n",
       "      <td>2MJ72-6247</td>\n",
       "      <td>Was the person watching outside of a window be...</td>\n",
       "      <td>before</td>\n",
       "      <td>actTime</td>\n",
       "      <td>2MJ72</td>\n",
       "      <td>2MJ72</td>\n",
       "      <td>none</td>\n",
       "    </tr>\n",
       "    <tr>\n",
       "      <th>79062</th>\n",
       "      <td>2MJ72-6279</td>\n",
       "      <td>Was the person watching outside of the first t...</td>\n",
       "      <td>before</td>\n",
       "      <td>actTime</td>\n",
       "      <td>2MJ72</td>\n",
       "      <td>2MJ72</td>\n",
       "      <td>none</td>\n",
       "    </tr>\n",
       "  </tbody>\n",
       "</table>\n",
       "<p>79063 rows × 7 columns</p>\n",
       "</div>"
      ],
      "text/plain": [
       "              key                                           question  answer  \\\n",
       "0       46GP8-893  Of all the items they touched, was the first o...    food   \n",
       "1       46GP8-898  Which were they behind last, some food or a wi...  window   \n",
       "2       46GP8-899  In the video, of all the items they went behin...  window   \n",
       "3      N11GT-3293  Did they stand on something before or after th...  before   \n",
       "4      N11GT-3299  Did they tidy up a blanket before or after the...  before   \n",
       "...           ...                                                ...     ...   \n",
       "79058  2MJ72-6203  Did they take something before or after they w...   after   \n",
       "79059  2MJ72-6219  Was the person watching something before or af...  before   \n",
       "79060  2MJ72-6225  Was the person closing something before or aft...   after   \n",
       "79061  2MJ72-6247  Was the person watching outside of a window be...  before   \n",
       "79062  2MJ72-6279  Was the person watching outside of the first t...  before   \n",
       "\n",
       "                 type vid_id gif_name description  \n",
       "0      objFirstChoose  46GP8    46GP8        none  \n",
       "1       objLastChoose  46GP8    46GP8        none  \n",
       "2       objLastChoose  46GP8    46GP8        none  \n",
       "3             relTime  N11GT    N11GT        none  \n",
       "4             actTime  N11GT    N11GT        none  \n",
       "...               ...    ...      ...         ...  \n",
       "79058         relTime  2MJ72    2MJ72        none  \n",
       "79059         relTime  2MJ72    2MJ72        none  \n",
       "79060         relTime  2MJ72    2MJ72        none  \n",
       "79061         actTime  2MJ72    2MJ72        none  \n",
       "79062         actTime  2MJ72    2MJ72        none  \n",
       "\n",
       "[79063 rows x 7 columns]"
      ]
     },
     "execution_count": 31,
     "metadata": {},
     "output_type": "execute_result"
    }
   ],
   "source": [
    "training"
   ]
  },
  {
   "cell_type": "code",
   "execution_count": null,
   "metadata": {},
   "outputs": [],
   "source": []
  },
  {
   "cell_type": "markdown",
   "metadata": {},
   "source": [
    "# novel compo"
   ]
  },
  {
   "cell_type": "code",
   "execution_count": null,
   "metadata": {},
   "outputs": [],
   "source": []
  },
  {
   "cell_type": "code",
   "execution_count": 9,
   "metadata": {
    "scrolled": true
   },
   "outputs": [],
   "source": [
    "train_novel_comp = pickleLoad('../exports/dataset/metrics/balanced/train/illegal_comp.pkl')\n",
    "test_novel_comp = pickleLoad('../exports/dataset/metrics/balanced/test/illegal_comp.pkl')"
   ]
  },
  {
   "cell_type": "code",
   "execution_count": 10,
   "metadata": {},
   "outputs": [],
   "source": [
    "# Testing to CSV\n",
    "#46GP8, N11GT, KRF68, MJO7C, S6MPZ\n",
    "\n",
    "def toDataframeCompo(v_id, QA, compo):\n",
    "    df = pd.DataFrame.from_dict(QA, orient=\"index\")\n",
    "    df['vid_id'] = v_id\n",
    "    #df.index = v_id\n",
    "    df['gif_name'] = v_id\n",
    "    #df = df.drop(columns=['attributes', 'global', 'local', 'steps', 'metrics'])\n",
    "    \n",
    "    # NEW!\n",
    "    #df = df.drop(columns=['attributes', 'global', 'id', 'local', 'steps', 'metrics', 'program', 'sg_grounding'])\n",
    "    #df = df.reset_index()\n",
    "    df['index'] = df.index\n",
    "    df = df.rename(columns={'index': 'key'})\n",
    "    #df = df.rename(columns={'id': 'key'})\n",
    "    \n",
    "    #df.set_index(\"key\", inplace=True)\n",
    "    # delete ones in compo\n",
    "    if v_id in compo:\n",
    "        to_del = list(set(compo[v_id]))\n",
    "        df.drop(to_del, inplace=True)\n",
    "        #for i in to_del:\n",
    "        #    print(i)\n",
    "        #    print('YSKX3-11210' in df.key.values)\n",
    "        #    df.drop(i, inplace=True)\n",
    "\n",
    "    #print()\n",
    "    #print(df.shape)\n",
    "    #print(len(to_del))\n",
    "    #print(df.shape)\n",
    "    #if (df.shape[0] > 0):\n",
    "    #    print(df.shape)\n",
    "    return df\n",
    "\n",
    "\n",
    "def toTGIFCompo(d_path, group, bal_txt):\n",
    "    dataframes = []\n",
    "    if group == 'train':\n",
    "        our_data = train_stsgs\n",
    "        compo = train_novel_comp\n",
    "    if group == 'test':\n",
    "        our_data = test_stsgs\n",
    "        compo = test_novel_comp\n",
    "        \n",
    "    cnt = 0\n",
    "    for v_id in our_data:\n",
    "        if cnt % 100 == 0:\n",
    "            print(cnt)\n",
    "        cnt = cnt + 1\n",
    "        QA = getQA(d_path, group, bal_txt, v_id)\n",
    "        #print('len QA', len(QA))\n",
    "        df = toDataframeCompo(v_id, QA, compo)\n",
    "        #print(df.columns)\n",
    "        # if it's empty continue\n",
    "        if 'attributes' not in df.columns:\n",
    "            continue\n",
    "        df = df.drop(columns=['attributes', 'global', 'local', 'steps', 'metrics', 'program', 'sg_grounding'])\n",
    "        df['description'] = \"none\"\n",
    "        dataframes.append(df)\n",
    "    total = pd.concat(dataframes)\n",
    "    print('saving to ', '../exports/%s/other_formats/%s-%s-tgif-compo.csv' % (d_path, group, bal_txt))\n",
    "    total.to_csv('../exports/%s/other_formats/%s-%s-tgif-compo.csv' % (d_path, group, bal_txt), index = None)\n",
    "    return total\n"
   ]
  },
  {
   "cell_type": "code",
   "execution_count": 11,
   "metadata": {},
   "outputs": [
    {
     "name": "stdout",
     "output_type": "stream",
     "text": [
      "0\n",
      "100\n",
      "200\n",
      "300\n",
      "400\n",
      "500\n",
      "600\n",
      "700\n",
      "800\n",
      "900\n",
      "1000\n",
      "1100\n",
      "1200\n",
      "1300\n",
      "1400\n",
      "1500\n",
      "1600\n",
      "1700\n",
      "1800\n",
      "saving to  ../exports/dataset/other_formats/test-balanced-tgif-compo.csv\n"
     ]
    }
   ],
   "source": [
    "test_compo = toTGIFCompo('dataset', 'test', 'balanced')"
   ]
  },
  {
   "cell_type": "code",
   "execution_count": 12,
   "metadata": {},
   "outputs": [
    {
     "name": "stdout",
     "output_type": "stream",
     "text": [
      "0\n",
      "100\n",
      "200\n",
      "300\n",
      "400\n",
      "500\n",
      "600\n",
      "700\n",
      "800\n",
      "900\n",
      "1000\n",
      "1100\n",
      "1200\n",
      "1300\n",
      "1400\n",
      "1500\n",
      "1600\n",
      "1700\n",
      "1800\n",
      "1900\n",
      "2000\n",
      "2100\n",
      "2200\n",
      "2300\n",
      "2400\n",
      "2500\n",
      "2600\n",
      "2700\n",
      "2800\n",
      "2900\n",
      "3000\n",
      "3100\n",
      "3200\n",
      "3300\n",
      "3400\n",
      "3500\n",
      "3600\n",
      "3700\n",
      "3800\n",
      "3900\n",
      "4000\n",
      "4100\n",
      "4200\n",
      "4300\n",
      "4400\n",
      "4500\n",
      "4600\n",
      "4700\n",
      "4800\n",
      "4900\n",
      "5000\n",
      "5100\n",
      "5200\n",
      "5300\n",
      "5400\n",
      "5500\n",
      "5600\n",
      "5700\n",
      "5800\n",
      "5900\n",
      "6000\n",
      "6100\n",
      "6200\n",
      "6300\n",
      "6400\n",
      "6500\n",
      "6600\n",
      "6700\n",
      "6800\n",
      "6900\n",
      "7000\n",
      "7100\n",
      "7200\n",
      "7300\n",
      "7400\n",
      "7500\n",
      "7600\n",
      "7700\n",
      "saving to  ../exports/dataset/other_formats/train-balanced-tgif-compo.csv\n"
     ]
    }
   ],
   "source": [
    "train_compo = toTGIFCompo('dataset', 'train', 'balanced')"
   ]
  },
  {
   "cell_type": "code",
   "execution_count": 11,
   "metadata": {},
   "outputs": [],
   "source": [
    "# load the pickles\n",
    "# drop other columns\n",
    "# attach together\n",
    "\n",
    "d_path = 'dataset'\n",
    "training = pd.read_csv('../exports/%s/other_formats/train-balanced-tgif-compo.csv' % d_path)\n",
    "testing = pd.read_csv('../exports/%s/other_formats/test-balanced-tgif-compo.csv' % d_path)"
   ]
  },
  {
   "cell_type": "code",
   "execution_count": 12,
   "metadata": {},
   "outputs": [
    {
     "data": {
      "text/html": [
       "<div>\n",
       "<style scoped>\n",
       "    .dataframe tbody tr th:only-of-type {\n",
       "        vertical-align: middle;\n",
       "    }\n",
       "\n",
       "    .dataframe tbody tr th {\n",
       "        vertical-align: top;\n",
       "    }\n",
       "\n",
       "    .dataframe thead th {\n",
       "        text-align: right;\n",
       "    }\n",
       "</style>\n",
       "<table border=\"1\" class=\"dataframe\">\n",
       "  <thead>\n",
       "    <tr style=\"text-align: right;\">\n",
       "      <th></th>\n",
       "      <th>question</th>\n",
       "      <th>answer</th>\n",
       "      <th>id</th>\n",
       "      <th>vid_id</th>\n",
       "      <th>gif_name</th>\n",
       "      <th>key</th>\n",
       "      <th>description</th>\n",
       "    </tr>\n",
       "  </thead>\n",
       "  <tbody>\n",
       "    <tr>\n",
       "      <th>0</th>\n",
       "      <td>In the video, did they interact with a window?</td>\n",
       "      <td>Yes</td>\n",
       "      <td>46GP8-5</td>\n",
       "      <td>46GP8</td>\n",
       "      <td>46GP8</td>\n",
       "      <td>46GP8-5</td>\n",
       "      <td>none</td>\n",
       "    </tr>\n",
       "    <tr>\n",
       "      <th>1</th>\n",
       "      <td>Were they interacting with a table?</td>\n",
       "      <td>No</td>\n",
       "      <td>46GP8-40</td>\n",
       "      <td>46GP8</td>\n",
       "      <td>46GP8</td>\n",
       "      <td>46GP8-40</td>\n",
       "      <td>none</td>\n",
       "    </tr>\n",
       "    <tr>\n",
       "      <th>2</th>\n",
       "      <td>Which object did the person interact with afte...</td>\n",
       "      <td>window</td>\n",
       "      <td>46GP8-388</td>\n",
       "      <td>46GP8</td>\n",
       "      <td>46GP8</td>\n",
       "      <td>46GP8-388</td>\n",
       "      <td>none</td>\n",
       "    </tr>\n",
       "    <tr>\n",
       "      <th>3</th>\n",
       "      <td>Before watching outside of a window, what was ...</td>\n",
       "      <td>food</td>\n",
       "      <td>46GP8-389</td>\n",
       "      <td>46GP8</td>\n",
       "      <td>46GP8</td>\n",
       "      <td>46GP8-389</td>\n",
       "      <td>none</td>\n",
       "    </tr>\n",
       "    <tr>\n",
       "      <th>4</th>\n",
       "      <td>In the video, which object were they holding?</td>\n",
       "      <td>food</td>\n",
       "      <td>46GP8-390</td>\n",
       "      <td>46GP8</td>\n",
       "      <td>46GP8</td>\n",
       "      <td>46GP8-390</td>\n",
       "      <td>none</td>\n",
       "    </tr>\n",
       "    <tr>\n",
       "      <th>...</th>\n",
       "      <td>...</td>\n",
       "      <td>...</td>\n",
       "      <td>...</td>\n",
       "      <td>...</td>\n",
       "      <td>...</td>\n",
       "      <td>...</td>\n",
       "      <td>...</td>\n",
       "    </tr>\n",
       "    <tr>\n",
       "      <th>80999</th>\n",
       "      <td>While walking through a doorway, of all the th...</td>\n",
       "      <td>Yes</td>\n",
       "      <td>LSKA2-776</td>\n",
       "      <td>LSKA2</td>\n",
       "      <td>LSKA2</td>\n",
       "      <td>LSKA2-776</td>\n",
       "      <td>none</td>\n",
       "    </tr>\n",
       "    <tr>\n",
       "      <th>81000</th>\n",
       "      <td>In the video, was some food the first thing th...</td>\n",
       "      <td>Yes</td>\n",
       "      <td>LSKA2-784</td>\n",
       "      <td>LSKA2</td>\n",
       "      <td>LSKA2</td>\n",
       "      <td>LSKA2-784</td>\n",
       "      <td>none</td>\n",
       "    </tr>\n",
       "    <tr>\n",
       "      <th>81001</th>\n",
       "      <td>Of everything they went in, was the first the ...</td>\n",
       "      <td>Yes</td>\n",
       "      <td>LSKA2-795</td>\n",
       "      <td>LSKA2</td>\n",
       "      <td>LSKA2</td>\n",
       "      <td>LSKA2-795</td>\n",
       "      <td>none</td>\n",
       "    </tr>\n",
       "    <tr>\n",
       "      <th>81002</th>\n",
       "      <td>Was the first thing they went on the side of t...</td>\n",
       "      <td>Yes</td>\n",
       "      <td>LSKA2-813</td>\n",
       "      <td>LSKA2</td>\n",
       "      <td>LSKA2</td>\n",
       "      <td>LSKA2-813</td>\n",
       "      <td>none</td>\n",
       "    </tr>\n",
       "    <tr>\n",
       "      <th>81003</th>\n",
       "      <td>In the video, was the object they were behind ...</td>\n",
       "      <td>Yes</td>\n",
       "      <td>LSKA2-832</td>\n",
       "      <td>LSKA2</td>\n",
       "      <td>LSKA2</td>\n",
       "      <td>LSKA2-832</td>\n",
       "      <td>none</td>\n",
       "    </tr>\n",
       "  </tbody>\n",
       "</table>\n",
       "<p>1543429 rows × 7 columns</p>\n",
       "</div>"
      ],
      "text/plain": [
       "                                                question  answer         id  \\\n",
       "0         In the video, did they interact with a window?     Yes    46GP8-5   \n",
       "1                    Were they interacting with a table?      No   46GP8-40   \n",
       "2      Which object did the person interact with afte...  window  46GP8-388   \n",
       "3      Before watching outside of a window, what was ...    food  46GP8-389   \n",
       "4          In the video, which object were they holding?    food  46GP8-390   \n",
       "...                                                  ...     ...        ...   \n",
       "80999  While walking through a doorway, of all the th...     Yes  LSKA2-776   \n",
       "81000  In the video, was some food the first thing th...     Yes  LSKA2-784   \n",
       "81001  Of everything they went in, was the first the ...     Yes  LSKA2-795   \n",
       "81002  Was the first thing they went on the side of t...     Yes  LSKA2-813   \n",
       "81003  In the video, was the object they were behind ...     Yes  LSKA2-832   \n",
       "\n",
       "      vid_id gif_name        key description  \n",
       "0      46GP8    46GP8    46GP8-5        none  \n",
       "1      46GP8    46GP8   46GP8-40        none  \n",
       "2      46GP8    46GP8  46GP8-388        none  \n",
       "3      46GP8    46GP8  46GP8-389        none  \n",
       "4      46GP8    46GP8  46GP8-390        none  \n",
       "...      ...      ...        ...         ...  \n",
       "80999  LSKA2    LSKA2  LSKA2-776        none  \n",
       "81000  LSKA2    LSKA2  LSKA2-784        none  \n",
       "81001  LSKA2    LSKA2  LSKA2-795        none  \n",
       "81002  LSKA2    LSKA2  LSKA2-813        none  \n",
       "81003  LSKA2    LSKA2  LSKA2-832        none  \n",
       "\n",
       "[1543429 rows x 7 columns]"
      ]
     },
     "execution_count": 12,
     "metadata": {},
     "output_type": "execute_result"
    }
   ],
   "source": [
    "total = pd.concat([training, testing])\n",
    "total"
   ]
  },
  {
   "cell_type": "code",
   "execution_count": 15,
   "metadata": {},
   "outputs": [],
   "source": [
    "total.to_csv('../exports/%s/other_formats/Total-question-compo.csv' % d_path, index = None)"
   ]
  },
  {
   "cell_type": "markdown",
   "metadata": {},
   "source": [
    "# By Compositional Steps"
   ]
  },
  {
   "cell_type": "code",
   "execution_count": 13,
   "metadata": {},
   "outputs": [],
   "source": [
    "# Testing to CSV\n",
    "#46GP8, N11GT, KRF68, MJO7C, S6MPZ\n",
    "\n",
    "def toDataframeSteps(v_id, QA, steps):\n",
    "    df = pd.DataFrame.from_dict(QA, orient=\"index\")\n",
    "    df['vid_id'] = v_id\n",
    "    #df.index = v_id\n",
    "    df['gif_name'] = v_id\n",
    "    #df = df.drop(columns=['attributes', 'global', 'local', 'steps', 'metrics'])\n",
    "    \n",
    "    # new!\n",
    "   # df = df.drop(columns=['attributes', 'global', 'id', 'local', 'steps', 'metrics', 'program', 'sg_grounding'])\n",
    "    df['index'] = df.index\n",
    "    df = df.rename(columns={'index': 'key'})\n",
    "    \n",
    "    #df = df.rename(columns={'id': 'key'})\n",
    "    df['description'] = \"none\"\n",
    "    \n",
    "    if v_id in steps:\n",
    "        to_del = list(set(steps[v_id]))\n",
    "        df.drop(to_del, inplace=True)\n",
    "    \n",
    "    return df\n",
    "\n",
    "\n",
    "def toTGIFSteps(d_path, group, bal_txt, title, steps):\n",
    "    dataframes = []\n",
    "    if group == 'train':\n",
    "        our_data = train_stsgs\n",
    "    if group == 'test':\n",
    "        our_data = test_stsgs\n",
    "        \n",
    "    cnt = 0\n",
    "    for v_id in our_data:\n",
    "        if cnt % 1000 == 0:\n",
    "            print(cnt)\n",
    "        cnt = cnt + 1\n",
    "        QA = getQA(d_path, group, bal_txt, v_id)\n",
    "        #print('len QA', len(QA))\n",
    "        df = toDataframeSteps(v_id, QA, steps)\n",
    "        if 'attributes' not in df.columns:\n",
    "            continue\n",
    "        df = df.drop(columns=['attributes', 'global', 'local', 'steps', 'metrics', 'program', 'sg_grounding'])\n",
    "        dataframes.append(df)\n",
    "    total = pd.concat(dataframes)\n",
    "    total.to_csv('../exports/%s/other_formats/%s-%s-tgif-%s.csv' % (d_path, group, bal_txt, title), index = None)\n",
    "    return total\n"
   ]
  },
  {
   "cell_type": "code",
   "execution_count": 14,
   "metadata": {},
   "outputs": [],
   "source": [
    "#train_steps_glob = pickleLoad('../exports/dataset/metrics/templ_balanced/train/steps_by_glob.pkl')\n",
    "#test_steps_glob = pickleLoad('../exports/dataset/metrics/balanced/test/steps_by_glob.pkl')\n",
    "train_steps_templ = pickleLoad('../exports/dataset/metrics/balanced/train/steps_by_templ.pkl')\n",
    "test_steps_templ = pickleLoad('../exports/dataset/metrics/balanced/test/steps_by_templ.pkl')"
   ]
  },
  {
   "cell_type": "code",
   "execution_count": null,
   "metadata": {},
   "outputs": [],
   "source": []
  },
  {
   "cell_type": "code",
   "execution_count": null,
   "metadata": {},
   "outputs": [],
   "source": [
    "for i in train_steps_templ:\n",
    "    print(i, len(train_steps_templ[i]))\n",
    "    j = train_steps_templ[i]\n",
    "    for k in j:\n",
    "        print(k)\n",
    "        for l in j[k]:\n",
    "            print(l)\n",
    "            break\n",
    "        break"
   ]
  },
  {
   "cell_type": "code",
   "execution_count": null,
   "metadata": {},
   "outputs": [],
   "source": []
  },
  {
   "cell_type": "code",
   "execution_count": 15,
   "metadata": {},
   "outputs": [],
   "source": [
    "# so note to self - want to pass in the part of global to delete\n",
    "d_path = 'dataset'\n",
    "#glob_split_tr = toTGIFSteps(d_path, 'train', 'balanced', 'steps_glob', train_steps_glob['more'])\n"
   ]
  },
  {
   "cell_type": "code",
   "execution_count": 23,
   "metadata": {
    "scrolled": false
   },
   "outputs": [],
   "source": [
    "#glob_split_te = toTGIFSteps(d_path, 'test', 'balanced', 'steps_glob', test_steps_glob['less'])"
   ]
  },
  {
   "cell_type": "code",
   "execution_count": 24,
   "metadata": {},
   "outputs": [
    {
     "name": "stdout",
     "output_type": "stream",
     "text": [
      "less\n",
      "more\n"
     ]
    }
   ],
   "source": [
    "for i in train_steps_templ:\n",
    "    print(i)"
   ]
  },
  {
   "cell_type": "code",
   "execution_count": 16,
   "metadata": {},
   "outputs": [
    {
     "name": "stdout",
     "output_type": "stream",
     "text": [
      "0\n",
      "1000\n",
      "2000\n",
      "3000\n",
      "4000\n",
      "5000\n",
      "6000\n",
      "7000\n"
     ]
    },
    {
     "data": {
      "text/html": [
       "<div>\n",
       "<style scoped>\n",
       "    .dataframe tbody tr th:only-of-type {\n",
       "        vertical-align: middle;\n",
       "    }\n",
       "\n",
       "    .dataframe tbody tr th {\n",
       "        vertical-align: top;\n",
       "    }\n",
       "\n",
       "    .dataframe thead th {\n",
       "        text-align: right;\n",
       "    }\n",
       "</style>\n",
       "<table border=\"1\" class=\"dataframe\">\n",
       "  <thead>\n",
       "    <tr style=\"text-align: right;\">\n",
       "      <th></th>\n",
       "      <th>question</th>\n",
       "      <th>answer</th>\n",
       "      <th>id</th>\n",
       "      <th>vid_id</th>\n",
       "      <th>gif_name</th>\n",
       "      <th>key</th>\n",
       "      <th>description</th>\n",
       "    </tr>\n",
       "  </thead>\n",
       "  <tbody>\n",
       "    <tr>\n",
       "      <th>46GP8-5</th>\n",
       "      <td>In the video, did they interact with a window?</td>\n",
       "      <td>Yes</td>\n",
       "      <td>46GP8-5</td>\n",
       "      <td>46GP8</td>\n",
       "      <td>46GP8</td>\n",
       "      <td>46GP8-5</td>\n",
       "      <td>none</td>\n",
       "    </tr>\n",
       "    <tr>\n",
       "      <th>46GP8-40</th>\n",
       "      <td>Were they interacting with a table?</td>\n",
       "      <td>No</td>\n",
       "      <td>46GP8-40</td>\n",
       "      <td>46GP8</td>\n",
       "      <td>46GP8</td>\n",
       "      <td>46GP8-40</td>\n",
       "      <td>none</td>\n",
       "    </tr>\n",
       "    <tr>\n",
       "      <th>46GP8-388</th>\n",
       "      <td>Which object did the person interact with afte...</td>\n",
       "      <td>window</td>\n",
       "      <td>46GP8-388</td>\n",
       "      <td>46GP8</td>\n",
       "      <td>46GP8</td>\n",
       "      <td>46GP8-388</td>\n",
       "      <td>none</td>\n",
       "    </tr>\n",
       "    <tr>\n",
       "      <th>46GP8-389</th>\n",
       "      <td>Before watching outside of a window, what was ...</td>\n",
       "      <td>food</td>\n",
       "      <td>46GP8-389</td>\n",
       "      <td>46GP8</td>\n",
       "      <td>46GP8</td>\n",
       "      <td>46GP8-389</td>\n",
       "      <td>none</td>\n",
       "    </tr>\n",
       "    <tr>\n",
       "      <th>46GP8-390</th>\n",
       "      <td>In the video, which object were they holding?</td>\n",
       "      <td>food</td>\n",
       "      <td>46GP8-390</td>\n",
       "      <td>46GP8</td>\n",
       "      <td>46GP8</td>\n",
       "      <td>46GP8-390</td>\n",
       "      <td>none</td>\n",
       "    </tr>\n",
       "    <tr>\n",
       "      <th>...</th>\n",
       "      <td>...</td>\n",
       "      <td>...</td>\n",
       "      <td>...</td>\n",
       "      <td>...</td>\n",
       "      <td>...</td>\n",
       "      <td>...</td>\n",
       "      <td>...</td>\n",
       "    </tr>\n",
       "    <tr>\n",
       "      <th>PG1ID-1789</th>\n",
       "      <td>Which object did the person watch while taking...</td>\n",
       "      <td>laptop</td>\n",
       "      <td>PG1ID-1789</td>\n",
       "      <td>PG1ID</td>\n",
       "      <td>PG1ID</td>\n",
       "      <td>PG1ID-1789</td>\n",
       "      <td>none</td>\n",
       "    </tr>\n",
       "    <tr>\n",
       "      <th>PG1ID-1790</th>\n",
       "      <td>What did they watch while holding the thing th...</td>\n",
       "      <td>laptop</td>\n",
       "      <td>PG1ID-1790</td>\n",
       "      <td>PG1ID</td>\n",
       "      <td>PG1ID</td>\n",
       "      <td>PG1ID-1790</td>\n",
       "      <td>none</td>\n",
       "    </tr>\n",
       "    <tr>\n",
       "      <th>PG1ID-1791</th>\n",
       "      <td>What did they watch while holding the object t...</td>\n",
       "      <td>laptop</td>\n",
       "      <td>PG1ID-1791</td>\n",
       "      <td>PG1ID</td>\n",
       "      <td>PG1ID</td>\n",
       "      <td>PG1ID-1791</td>\n",
       "      <td>none</td>\n",
       "    </tr>\n",
       "    <tr>\n",
       "      <th>PG1ID-1792</th>\n",
       "      <td>While holding the thing they took, what did th...</td>\n",
       "      <td>laptop</td>\n",
       "      <td>PG1ID-1792</td>\n",
       "      <td>PG1ID</td>\n",
       "      <td>PG1ID</td>\n",
       "      <td>PG1ID-1792</td>\n",
       "      <td>none</td>\n",
       "    </tr>\n",
       "    <tr>\n",
       "      <th>PG1ID-1793</th>\n",
       "      <td>While holding the thing they watched, which ob...</td>\n",
       "      <td>broom</td>\n",
       "      <td>PG1ID-1793</td>\n",
       "      <td>PG1ID</td>\n",
       "      <td>PG1ID</td>\n",
       "      <td>PG1ID-1793</td>\n",
       "      <td>none</td>\n",
       "    </tr>\n",
       "  </tbody>\n",
       "</table>\n",
       "<p>1412569 rows × 7 columns</p>\n",
       "</div>"
      ],
      "text/plain": [
       "                                                     question  answer  \\\n",
       "46GP8-5        In the video, did they interact with a window?     Yes   \n",
       "46GP8-40                  Were they interacting with a table?      No   \n",
       "46GP8-388   Which object did the person interact with afte...  window   \n",
       "46GP8-389   Before watching outside of a window, what was ...    food   \n",
       "46GP8-390       In the video, which object were they holding?    food   \n",
       "...                                                       ...     ...   \n",
       "PG1ID-1789  Which object did the person watch while taking...  laptop   \n",
       "PG1ID-1790  What did they watch while holding the thing th...  laptop   \n",
       "PG1ID-1791  What did they watch while holding the object t...  laptop   \n",
       "PG1ID-1792  While holding the thing they took, what did th...  laptop   \n",
       "PG1ID-1793  While holding the thing they watched, which ob...   broom   \n",
       "\n",
       "                    id vid_id gif_name         key description  \n",
       "46GP8-5        46GP8-5  46GP8    46GP8     46GP8-5        none  \n",
       "46GP8-40      46GP8-40  46GP8    46GP8    46GP8-40        none  \n",
       "46GP8-388    46GP8-388  46GP8    46GP8   46GP8-388        none  \n",
       "46GP8-389    46GP8-389  46GP8    46GP8   46GP8-389        none  \n",
       "46GP8-390    46GP8-390  46GP8    46GP8   46GP8-390        none  \n",
       "...                ...    ...      ...         ...         ...  \n",
       "PG1ID-1789  PG1ID-1789  PG1ID    PG1ID  PG1ID-1789        none  \n",
       "PG1ID-1790  PG1ID-1790  PG1ID    PG1ID  PG1ID-1790        none  \n",
       "PG1ID-1791  PG1ID-1791  PG1ID    PG1ID  PG1ID-1791        none  \n",
       "PG1ID-1792  PG1ID-1792  PG1ID    PG1ID  PG1ID-1792        none  \n",
       "PG1ID-1793  PG1ID-1793  PG1ID    PG1ID  PG1ID-1793        none  \n",
       "\n",
       "[1412569 rows x 7 columns]"
      ]
     },
     "execution_count": 16,
     "metadata": {},
     "output_type": "execute_result"
    }
   ],
   "source": [
    "templ_split_tr = 0\n",
    "toTGIFSteps(d_path, 'train', 'balanced', 'steps_templ', train_steps_templ['more'])"
   ]
  },
  {
   "cell_type": "code",
   "execution_count": 17,
   "metadata": {
    "scrolled": true
   },
   "outputs": [
    {
     "name": "stdout",
     "output_type": "stream",
     "text": [
      "0\n",
      "1000\n"
     ]
    },
    {
     "data": {
      "text/html": [
       "<div>\n",
       "<style scoped>\n",
       "    .dataframe tbody tr th:only-of-type {\n",
       "        vertical-align: middle;\n",
       "    }\n",
       "\n",
       "    .dataframe tbody tr th {\n",
       "        vertical-align: top;\n",
       "    }\n",
       "\n",
       "    .dataframe thead th {\n",
       "        text-align: right;\n",
       "    }\n",
       "</style>\n",
       "<table border=\"1\" class=\"dataframe\">\n",
       "  <thead>\n",
       "    <tr style=\"text-align: right;\">\n",
       "      <th></th>\n",
       "      <th>question</th>\n",
       "      <th>answer</th>\n",
       "      <th>id</th>\n",
       "      <th>vid_id</th>\n",
       "      <th>gif_name</th>\n",
       "      <th>key</th>\n",
       "      <th>description</th>\n",
       "    </tr>\n",
       "  </thead>\n",
       "  <tbody>\n",
       "    <tr>\n",
       "      <th>YSKX3-1690</th>\n",
       "      <td>After tidying up the object they were in front...</td>\n",
       "      <td>No</td>\n",
       "      <td>YSKX3-1690</td>\n",
       "      <td>YSKX3</td>\n",
       "      <td>YSKX3</td>\n",
       "      <td>YSKX3-1690</td>\n",
       "      <td>none</td>\n",
       "    </tr>\n",
       "    <tr>\n",
       "      <th>YSKX3-2547</th>\n",
       "      <td>Was the person touching something while throwi...</td>\n",
       "      <td>Yes</td>\n",
       "      <td>YSKX3-2547</td>\n",
       "      <td>YSKX3</td>\n",
       "      <td>YSKX3</td>\n",
       "      <td>YSKX3-2547</td>\n",
       "      <td>none</td>\n",
       "    </tr>\n",
       "    <tr>\n",
       "      <th>YSKX3-2826</th>\n",
       "      <td>Did they tidy anything before taking the thing...</td>\n",
       "      <td>Yes</td>\n",
       "      <td>YSKX3-2826</td>\n",
       "      <td>YSKX3</td>\n",
       "      <td>YSKX3</td>\n",
       "      <td>YSKX3-2826</td>\n",
       "      <td>none</td>\n",
       "    </tr>\n",
       "    <tr>\n",
       "      <th>YSKX3-2849</th>\n",
       "      <td>Before holding the thing they put down, was th...</td>\n",
       "      <td>Yes</td>\n",
       "      <td>YSKX3-2849</td>\n",
       "      <td>YSKX3</td>\n",
       "      <td>YSKX3</td>\n",
       "      <td>YSKX3-2849</td>\n",
       "      <td>none</td>\n",
       "    </tr>\n",
       "    <tr>\n",
       "      <th>YSKX3-2876</th>\n",
       "      <td>While taking the thing they put down from some...</td>\n",
       "      <td>Yes</td>\n",
       "      <td>YSKX3-2876</td>\n",
       "      <td>YSKX3</td>\n",
       "      <td>YSKX3</td>\n",
       "      <td>YSKX3-2876</td>\n",
       "      <td>none</td>\n",
       "    </tr>\n",
       "    <tr>\n",
       "      <th>...</th>\n",
       "      <td>...</td>\n",
       "      <td>...</td>\n",
       "      <td>...</td>\n",
       "      <td>...</td>\n",
       "      <td>...</td>\n",
       "      <td>...</td>\n",
       "      <td>...</td>\n",
       "    </tr>\n",
       "    <tr>\n",
       "      <th>F1LTO-2790</th>\n",
       "      <td>Was the person awakening something while laugh...</td>\n",
       "      <td>No</td>\n",
       "      <td>F1LTO-2790</td>\n",
       "      <td>F1LTO</td>\n",
       "      <td>F1LTO</td>\n",
       "      <td>F1LTO-2790</td>\n",
       "      <td>none</td>\n",
       "    </tr>\n",
       "    <tr>\n",
       "      <th>F1LTO-3214</th>\n",
       "      <td>What did they do after watching the object the...</td>\n",
       "      <td>closing a closet</td>\n",
       "      <td>F1LTO-3214</td>\n",
       "      <td>F1LTO</td>\n",
       "      <td>F1LTO</td>\n",
       "      <td>F1LTO-3214</td>\n",
       "      <td>none</td>\n",
       "    </tr>\n",
       "    <tr>\n",
       "      <th>F1LTO-3244</th>\n",
       "      <td>After watching the object they were laughing, ...</td>\n",
       "      <td>Yes</td>\n",
       "      <td>F1LTO-3244</td>\n",
       "      <td>F1LTO</td>\n",
       "      <td>F1LTO</td>\n",
       "      <td>F1LTO-3244</td>\n",
       "      <td>none</td>\n",
       "    </tr>\n",
       "    <tr>\n",
       "      <th>D8K7T-1383</th>\n",
       "      <td>Were they interacting with a pillow while thro...</td>\n",
       "      <td>No</td>\n",
       "      <td>D8K7T-1383</td>\n",
       "      <td>D8K7T</td>\n",
       "      <td>D8K7T</td>\n",
       "      <td>D8K7T-1383</td>\n",
       "      <td>none</td>\n",
       "    </tr>\n",
       "    <tr>\n",
       "      <th>D8K7T-1702</th>\n",
       "      <td>While throwing the object they were carrying s...</td>\n",
       "      <td>No</td>\n",
       "      <td>D8K7T-1702</td>\n",
       "      <td>D8K7T</td>\n",
       "      <td>D8K7T</td>\n",
       "      <td>D8K7T-1702</td>\n",
       "      <td>none</td>\n",
       "    </tr>\n",
       "  </tbody>\n",
       "</table>\n",
       "<p>73372 rows × 7 columns</p>\n",
       "</div>"
      ],
      "text/plain": [
       "                                                     question  \\\n",
       "YSKX3-1690  After tidying up the object they were in front...   \n",
       "YSKX3-2547  Was the person touching something while throwi...   \n",
       "YSKX3-2826  Did they tidy anything before taking the thing...   \n",
       "YSKX3-2849  Before holding the thing they put down, was th...   \n",
       "YSKX3-2876  While taking the thing they put down from some...   \n",
       "...                                                       ...   \n",
       "F1LTO-2790  Was the person awakening something while laugh...   \n",
       "F1LTO-3214  What did they do after watching the object the...   \n",
       "F1LTO-3244  After watching the object they were laughing, ...   \n",
       "D8K7T-1383  Were they interacting with a pillow while thro...   \n",
       "D8K7T-1702  While throwing the object they were carrying s...   \n",
       "\n",
       "                      answer          id vid_id gif_name         key  \\\n",
       "YSKX3-1690                No  YSKX3-1690  YSKX3    YSKX3  YSKX3-1690   \n",
       "YSKX3-2547               Yes  YSKX3-2547  YSKX3    YSKX3  YSKX3-2547   \n",
       "YSKX3-2826               Yes  YSKX3-2826  YSKX3    YSKX3  YSKX3-2826   \n",
       "YSKX3-2849               Yes  YSKX3-2849  YSKX3    YSKX3  YSKX3-2849   \n",
       "YSKX3-2876               Yes  YSKX3-2876  YSKX3    YSKX3  YSKX3-2876   \n",
       "...                      ...         ...    ...      ...         ...   \n",
       "F1LTO-2790                No  F1LTO-2790  F1LTO    F1LTO  F1LTO-2790   \n",
       "F1LTO-3214  closing a closet  F1LTO-3214  F1LTO    F1LTO  F1LTO-3214   \n",
       "F1LTO-3244               Yes  F1LTO-3244  F1LTO    F1LTO  F1LTO-3244   \n",
       "D8K7T-1383                No  D8K7T-1383  D8K7T    D8K7T  D8K7T-1383   \n",
       "D8K7T-1702                No  D8K7T-1702  D8K7T    D8K7T  D8K7T-1702   \n",
       "\n",
       "           description  \n",
       "YSKX3-1690        none  \n",
       "YSKX3-2547        none  \n",
       "YSKX3-2826        none  \n",
       "YSKX3-2849        none  \n",
       "YSKX3-2876        none  \n",
       "...                ...  \n",
       "F1LTO-2790        none  \n",
       "F1LTO-3214        none  \n",
       "F1LTO-3244        none  \n",
       "D8K7T-1383        none  \n",
       "D8K7T-1702        none  \n",
       "\n",
       "[73372 rows x 7 columns]"
      ]
     },
     "execution_count": 17,
     "metadata": {},
     "output_type": "execute_result"
    }
   ],
   "source": [
    "templ_split_te = 0\n",
    "toTGIFSteps(d_path, 'test', 'balanced', 'steps_templ', test_steps_templ['less'])"
   ]
  },
  {
   "cell_type": "code",
   "execution_count": 110,
   "metadata": {},
   "outputs": [],
   "source": [
    "\n",
    "steps_tr = pd.read_csv('../exports/%s/other_formats/train-balanced-tgif-steps_templ.csv' % d_path)"
   ]
  },
  {
   "cell_type": "code",
   "execution_count": 28,
   "metadata": {},
   "outputs": [
    {
     "data": {
      "text/plain": [
       "Index(['question', 'answer', 'key', 'vid_id', 'gif_name', 'description'], dtype='object')"
      ]
     },
     "execution_count": 28,
     "metadata": {},
     "output_type": "execute_result"
    }
   ],
   "source": [
    "steps_tr.columns"
   ]
  },
  {
   "cell_type": "code",
   "execution_count": 29,
   "metadata": {},
   "outputs": [],
   "source": [
    "x = steps_tr['key'].values"
   ]
  },
  {
   "cell_type": "code",
   "execution_count": 18,
   "metadata": {},
   "outputs": [],
   "source": [
    "\n",
    "training = pd.read_csv('../exports/%s/other_formats/train-balanced-tgif-steps_templ.csv' % d_path)\n",
    "testing = pd.read_csv('../exports/%s/other_formats/test-balanced-tgif-steps_templ.csv' % d_path)"
   ]
  },
  {
   "cell_type": "code",
   "execution_count": 19,
   "metadata": {},
   "outputs": [
    {
     "data": {
      "text/html": [
       "<div>\n",
       "<style scoped>\n",
       "    .dataframe tbody tr th:only-of-type {\n",
       "        vertical-align: middle;\n",
       "    }\n",
       "\n",
       "    .dataframe tbody tr th {\n",
       "        vertical-align: top;\n",
       "    }\n",
       "\n",
       "    .dataframe thead th {\n",
       "        text-align: right;\n",
       "    }\n",
       "</style>\n",
       "<table border=\"1\" class=\"dataframe\">\n",
       "  <thead>\n",
       "    <tr style=\"text-align: right;\">\n",
       "      <th></th>\n",
       "      <th>question</th>\n",
       "      <th>answer</th>\n",
       "      <th>id</th>\n",
       "      <th>vid_id</th>\n",
       "      <th>gif_name</th>\n",
       "      <th>key</th>\n",
       "      <th>description</th>\n",
       "    </tr>\n",
       "  </thead>\n",
       "  <tbody>\n",
       "    <tr>\n",
       "      <th>0</th>\n",
       "      <td>In the video, did they interact with a window?</td>\n",
       "      <td>Yes</td>\n",
       "      <td>46GP8-5</td>\n",
       "      <td>46GP8</td>\n",
       "      <td>46GP8</td>\n",
       "      <td>46GP8-5</td>\n",
       "      <td>none</td>\n",
       "    </tr>\n",
       "    <tr>\n",
       "      <th>1</th>\n",
       "      <td>Were they interacting with a table?</td>\n",
       "      <td>No</td>\n",
       "      <td>46GP8-40</td>\n",
       "      <td>46GP8</td>\n",
       "      <td>46GP8</td>\n",
       "      <td>46GP8-40</td>\n",
       "      <td>none</td>\n",
       "    </tr>\n",
       "    <tr>\n",
       "      <th>2</th>\n",
       "      <td>Which object did the person interact with afte...</td>\n",
       "      <td>window</td>\n",
       "      <td>46GP8-388</td>\n",
       "      <td>46GP8</td>\n",
       "      <td>46GP8</td>\n",
       "      <td>46GP8-388</td>\n",
       "      <td>none</td>\n",
       "    </tr>\n",
       "    <tr>\n",
       "      <th>3</th>\n",
       "      <td>Before watching outside of a window, what was ...</td>\n",
       "      <td>food</td>\n",
       "      <td>46GP8-389</td>\n",
       "      <td>46GP8</td>\n",
       "      <td>46GP8</td>\n",
       "      <td>46GP8-389</td>\n",
       "      <td>none</td>\n",
       "    </tr>\n",
       "    <tr>\n",
       "      <th>4</th>\n",
       "      <td>In the video, which object were they holding?</td>\n",
       "      <td>food</td>\n",
       "      <td>46GP8-390</td>\n",
       "      <td>46GP8</td>\n",
       "      <td>46GP8</td>\n",
       "      <td>46GP8-390</td>\n",
       "      <td>none</td>\n",
       "    </tr>\n",
       "    <tr>\n",
       "      <th>...</th>\n",
       "      <td>...</td>\n",
       "      <td>...</td>\n",
       "      <td>...</td>\n",
       "      <td>...</td>\n",
       "      <td>...</td>\n",
       "      <td>...</td>\n",
       "      <td>...</td>\n",
       "    </tr>\n",
       "    <tr>\n",
       "      <th>73367</th>\n",
       "      <td>Was the person awakening something while laugh...</td>\n",
       "      <td>No</td>\n",
       "      <td>F1LTO-2790</td>\n",
       "      <td>F1LTO</td>\n",
       "      <td>F1LTO</td>\n",
       "      <td>F1LTO-2790</td>\n",
       "      <td>none</td>\n",
       "    </tr>\n",
       "    <tr>\n",
       "      <th>73368</th>\n",
       "      <td>What did they do after watching the object the...</td>\n",
       "      <td>closing a closet</td>\n",
       "      <td>F1LTO-3214</td>\n",
       "      <td>F1LTO</td>\n",
       "      <td>F1LTO</td>\n",
       "      <td>F1LTO-3214</td>\n",
       "      <td>none</td>\n",
       "    </tr>\n",
       "    <tr>\n",
       "      <th>73369</th>\n",
       "      <td>After watching the object they were laughing, ...</td>\n",
       "      <td>Yes</td>\n",
       "      <td>F1LTO-3244</td>\n",
       "      <td>F1LTO</td>\n",
       "      <td>F1LTO</td>\n",
       "      <td>F1LTO-3244</td>\n",
       "      <td>none</td>\n",
       "    </tr>\n",
       "    <tr>\n",
       "      <th>73370</th>\n",
       "      <td>Were they interacting with a pillow while thro...</td>\n",
       "      <td>No</td>\n",
       "      <td>D8K7T-1383</td>\n",
       "      <td>D8K7T</td>\n",
       "      <td>D8K7T</td>\n",
       "      <td>D8K7T-1383</td>\n",
       "      <td>none</td>\n",
       "    </tr>\n",
       "    <tr>\n",
       "      <th>73371</th>\n",
       "      <td>While throwing the object they were carrying s...</td>\n",
       "      <td>No</td>\n",
       "      <td>D8K7T-1702</td>\n",
       "      <td>D8K7T</td>\n",
       "      <td>D8K7T</td>\n",
       "      <td>D8K7T-1702</td>\n",
       "      <td>none</td>\n",
       "    </tr>\n",
       "  </tbody>\n",
       "</table>\n",
       "<p>1485941 rows × 7 columns</p>\n",
       "</div>"
      ],
      "text/plain": [
       "                                                question            answer  \\\n",
       "0         In the video, did they interact with a window?               Yes   \n",
       "1                    Were they interacting with a table?                No   \n",
       "2      Which object did the person interact with afte...            window   \n",
       "3      Before watching outside of a window, what was ...              food   \n",
       "4          In the video, which object were they holding?              food   \n",
       "...                                                  ...               ...   \n",
       "73367  Was the person awakening something while laugh...                No   \n",
       "73368  What did they do after watching the object the...  closing a closet   \n",
       "73369  After watching the object they were laughing, ...               Yes   \n",
       "73370  Were they interacting with a pillow while thro...                No   \n",
       "73371  While throwing the object they were carrying s...                No   \n",
       "\n",
       "               id vid_id gif_name         key description  \n",
       "0         46GP8-5  46GP8    46GP8     46GP8-5        none  \n",
       "1        46GP8-40  46GP8    46GP8    46GP8-40        none  \n",
       "2       46GP8-388  46GP8    46GP8   46GP8-388        none  \n",
       "3       46GP8-389  46GP8    46GP8   46GP8-389        none  \n",
       "4       46GP8-390  46GP8    46GP8   46GP8-390        none  \n",
       "...           ...    ...      ...         ...         ...  \n",
       "73367  F1LTO-2790  F1LTO    F1LTO  F1LTO-2790        none  \n",
       "73368  F1LTO-3214  F1LTO    F1LTO  F1LTO-3214        none  \n",
       "73369  F1LTO-3244  F1LTO    F1LTO  F1LTO-3244        none  \n",
       "73370  D8K7T-1383  D8K7T    D8K7T  D8K7T-1383        none  \n",
       "73371  D8K7T-1702  D8K7T    D8K7T  D8K7T-1702        none  \n",
       "\n",
       "[1485941 rows x 7 columns]"
      ]
     },
     "execution_count": 19,
     "metadata": {},
     "output_type": "execute_result"
    }
   ],
   "source": [
    "total = pd.concat([training, testing])\n",
    "total"
   ]
  },
  {
   "cell_type": "code",
   "execution_count": 20,
   "metadata": {},
   "outputs": [],
   "source": [
    "total.to_csv('../exports/%s/other_formats/Total-question-steps_templ.csv' % d_path, index = None)"
   ]
  },
  {
   "cell_type": "code",
   "execution_count": null,
   "metadata": {},
   "outputs": [],
   "source": []
  },
  {
   "cell_type": "code",
   "execution_count": null,
   "metadata": {},
   "outputs": [],
   "source": [
    "# Testing to CSV\n",
    "#46GP8, N11GT, KRF68, MJO7C, S6MPZ\n",
    "\n",
    "def toDataframeLength(v_id, QA):\n",
    "    df = pd.DataFrame.from_dict(QA, orient=\"index\")\n",
    "    df['vid_id'] = v_id\n",
    "    #df.index = v_id\n",
    "    df['gif_name'] = v_id\n",
    "    df = df.drop(columns=['attributes', 'global', 'local', 'steps', 'metrics'])\n",
    "    df = df.rename(columns={'id': 'key'})\n",
    "    \n",
    "    return df\n",
    "\n",
    "\n",
    "def toTGIFLength(d_path, group, bal_txt, title, length):\n",
    "    dataframes = []\n",
    "    if group == 'train':\n",
    "        our_data = train_stsgs\n",
    "    if group == 'test':\n",
    "        our_data = test_stsgs\n",
    "        \n",
    "    cnt = 0\n",
    "    for v_id in our_data:\n",
    "        if cnt % 1000 == 0:\n",
    "            print(cnt)\n",
    "        cnt = cnt + 1\n",
    "        if v_id in length:\n",
    "            continue\n",
    "        QA = getQA(d_path, group, bal_txt, v_id)\n",
    "        #print('len QA', len(QA))\n",
    "        df = toDataframeLength(v_id, QA)\n",
    "        dataframes.append(df)\n",
    "    total = pd.concat(dataframes)\n",
    "    total.to_csv('../exports/%s/other_formats/%s-%s-tgif-%s.csv' % (d_path, group, bal_txt, title), index = None)\n",
    "    return total\n"
   ]
  },
  {
   "cell_type": "code",
   "execution_count": null,
   "metadata": {},
   "outputs": [],
   "source": []
  },
  {
   "cell_type": "code",
   "execution_count": null,
   "metadata": {},
   "outputs": [],
   "source": [
    "train_length = pickleLoad('../exports/dataset/metrics/balanced/train/lengths.pkl')\n",
    "test_length = pickleLoad('../exports/dataset/metrics/balanced/test/lengths.pkl')"
   ]
  },
  {
   "cell_type": "code",
   "execution_count": null,
   "metadata": {
    "scrolled": false
   },
   "outputs": [],
   "source": [
    "lengths_tr = toTGIFLength(d_path, 'train', 'balanced', 'lengths', train_length['more'])\n",
    "lengths_te = toTGIFLength(d_path, 'test', 'balanced', 'lengths', test_length['less'])"
   ]
  },
  {
   "cell_type": "markdown",
   "metadata": {},
   "source": [
    "# Reduce test set b/c hme is a baby"
   ]
  },
  {
   "cell_type": "code",
   "execution_count": 6,
   "metadata": {},
   "outputs": [],
   "source": [
    "d_path = 'dataset'\n",
    "\n",
    "\n",
    "# attach together\n",
    "training = pd.read_csv('../exports/%s/other_formats/train-balanced-tgif.csv' % d_path)\n",
    "testing = pd.read_csv('../exports/%s/other_formats/test-balanced-tgif.csv' % d_path)"
   ]
  },
  {
   "cell_type": "code",
   "execution_count": 7,
   "metadata": {},
   "outputs": [],
   "source": [
    "compo_test = pd.read_csv('../exports/%s/other_formats/test-balanced-tgif-compo.csv' % d_path)\n",
    "#lengths_test = pd.read_csv('../exports/%s/other_formats/test-balanced-tgif-lengths.csv' % d_path)\n",
    "steps_test = pd.read_csv('../exports/%s/other_formats/test-balanced-tgif-steps_templ.csv' % d_path)"
   ]
  },
  {
   "cell_type": "code",
   "execution_count": null,
   "metadata": {},
   "outputs": [],
   "source": []
  },
  {
   "cell_type": "code",
   "execution_count": null,
   "metadata": {},
   "outputs": [],
   "source": [
    "steps_sample = steps_test.sample(n=200000).sort_index()"
   ]
  },
  {
   "cell_type": "code",
   "execution_count": null,
   "metadata": {},
   "outputs": [],
   "source": [
    "len(steps_sample)"
   ]
  },
  {
   "cell_type": "code",
   "execution_count": null,
   "metadata": {},
   "outputs": [],
   "source": [
    "len(steps_sample)\n",
    "steps_sample.to_csv('../exports/%s/other_formats/%s-%s-tgif-steps_sample.csv' % ('dataset', 'test', 'balanced'), index = None)"
   ]
  },
  {
   "cell_type": "code",
   "execution_count": null,
   "metadata": {},
   "outputs": [],
   "source": [
    "to_keep"
   ]
  },
  {
   "cell_type": "code",
   "execution_count": null,
   "metadata": {},
   "outputs": [],
   "source": [
    "with open('../data/relactindir.txt', 'rb') as f:\n",
    "    to_keep = json.load(f)"
   ]
  },
  {
   "cell_type": "code",
   "execution_count": null,
   "metadata": {},
   "outputs": [],
   "source": [
    "to_keep_df = testing.loc[testing['key'].isin(to_keep)]"
   ]
  },
  {
   "cell_type": "code",
   "execution_count": null,
   "metadata": {},
   "outputs": [],
   "source": [
    "len(to_keep_df)"
   ]
  },
  {
   "cell_type": "code",
   "execution_count": null,
   "metadata": {},
   "outputs": [],
   "source": [
    "\n",
    "to_keep_df.to_csv('../exports/%s/other_formats/%s-%s-tgif-rel_act.csv' % ('dataset', 'test', 'balanced'), index = None)\n",
    "\n",
    "\n"
   ]
  },
  {
   "cell_type": "code",
   "execution_count": null,
   "metadata": {},
   "outputs": [],
   "source": []
  },
  {
   "cell_type": "code",
   "execution_count": null,
   "metadata": {},
   "outputs": [],
   "source": []
  },
  {
   "cell_type": "code",
   "execution_count": null,
   "metadata": {},
   "outputs": [],
   "source": []
  },
  {
   "cell_type": "code",
   "execution_count": null,
   "metadata": {},
   "outputs": [],
   "source": [
    "lengths_sample = lengths_test.sample(n=100000).sort_index()"
   ]
  },
  {
   "cell_type": "code",
   "execution_count": null,
   "metadata": {},
   "outputs": [],
   "source": [
    "len(lengths_sample)\n",
    "lengths_sample.to_csv('../exports/%s/other_formats/%s-%s-tgif-lengths_sample.csv' % ('dataset', 'test', 'balanced'), index = None)"
   ]
  },
  {
   "cell_type": "code",
   "execution_count": 9,
   "metadata": {},
   "outputs": [],
   "source": [
    "#testing_no_relact = testing[testing['']]\n",
    "\n",
    "test_sample = testing.sample(n=100000).sort_index()"
   ]
  },
  {
   "cell_type": "code",
   "execution_count": 15,
   "metadata": {},
   "outputs": [],
   "source": [
    "def getAllCat():\n",
    "    # so here, initalize all the categories that matter\n",
    "    1+1\n",
    "\n",
    "def splitByVideo(df):\n",
    "    by_v = {}\n",
    "    for q_id in df['key']:\n",
    "        v = q_id[:5]\n",
    "        if v not in by_v:\n",
    "            by_v[v] = []\n",
    "        by_v[v].append(q_id)\n",
    "        \n",
    "    return by_v\n",
    "    \n",
    "def containsAllCat(by_v):\n",
    "    globs = getGlobDict()\n",
    "    sems = getSemDict()\n",
    "    structs = getStructDict()\n",
    "    \n",
    "    steps = {\n",
    "        1: 0, 2: 0, 3: 0, 4: 0, 5: 0, 6: 0, 7: 0, 8: 0, 9: 0, 10: 0, \n",
    "    }\n",
    "    \n",
    "    for v_id in by_v:\n",
    "        QA = getQA('dataset', 'test', 'balanced', v_id)\n",
    "        \n",
    "        for q_id in QA:\n",
    "            q = QA[q_id]\n",
    "            glob = getGlob(q)\n",
    "            sem = getSemantic(q)\n",
    "            struct = getStructural(q)\n",
    "            step = q['steps']\n",
    "            tp = getType(q)\n",
    "            \n",
    "            for g in glob:\n",
    "                globs[g][tp] += 1\n",
    "            sems[sem][tp] += 1\n",
    "            structs[struct][tp] += 1\n",
    "            \n",
    "            steps[step] += 1\n",
    "            \n",
    "    \n",
    "    return globs, sems, structs, steps\n",
    "\n",
    "by_v = splitByVideo(test_sample)\n",
    "\n",
    "\n",
    "glob, sem, struct, steps = containsAllCat(by_v)\n",
    "\n"
   ]
  },
  {
   "cell_type": "code",
   "execution_count": 16,
   "metadata": {},
   "outputs": [
    {
     "data": {
      "text/plain": [
       "{'obj-rel': {'binary': 174462, 'open': 292951},\n",
       " 'superlative': {'binary': 93081, 'open': 63530},\n",
       " 'exists': {'binary': 89139, 'open': 0},\n",
       " 'count': {'binary': 0, 'open': 0},\n",
       " 'duration-comparison': {'binary': 13007, 'open': 358},\n",
       " 'obj-act': {'binary': 63, 'open': 0},\n",
       " 'rel-act': {'binary': 38053, 'open': 0},\n",
       " 'sequencing': {'binary': 39039, 'open': 416},\n",
       " 'action-recognition': {'binary': 0, 'open': 1106}}"
      ]
     },
     "execution_count": 16,
     "metadata": {},
     "output_type": "execute_result"
    }
   ],
   "source": [
    "glob"
   ]
  },
  {
   "cell_type": "code",
   "execution_count": 17,
   "metadata": {},
   "outputs": [
    {
     "data": {
      "text/plain": [
       "{'object': {'binary': 144809, 'open': 295525},\n",
       " 'relation': {'binary': 97481, 'open': 0},\n",
       " 'action': {'binary': 66903, 'open': 1464}}"
      ]
     },
     "execution_count": 17,
     "metadata": {},
     "output_type": "execute_result"
    }
   ],
   "source": [
    "sem"
   ]
  },
  {
   "cell_type": "code",
   "execution_count": 18,
   "metadata": {},
   "outputs": [
    {
     "data": {
      "text/plain": [
       "{'query': {'binary': 0, 'open': 296989},\n",
       " 'compare': {'binary': 90162, 'open': 0},\n",
       " 'choose': {'binary': 94435, 'open': 0},\n",
       " 'verify': {'binary': 94883, 'open': 0},\n",
       " 'logic': {'binary': 29713, 'open': 0}}"
      ]
     },
     "execution_count": 18,
     "metadata": {},
     "output_type": "execute_result"
    }
   ],
   "source": [
    "struct"
   ]
  },
  {
   "cell_type": "code",
   "execution_count": 19,
   "metadata": {},
   "outputs": [
    {
     "data": {
      "text/plain": [
       "{1: 249,\n",
       " 2: 15460,\n",
       " 3: 14686,\n",
       " 4: 149959,\n",
       " 5: 269348,\n",
       " 6: 95124,\n",
       " 7: 51320,\n",
       " 8: 10026,\n",
       " 9: 10,\n",
       " 10: 0}"
      ]
     },
     "execution_count": 19,
     "metadata": {},
     "output_type": "execute_result"
    }
   ],
   "source": [
    "steps"
   ]
  },
  {
   "cell_type": "code",
   "execution_count": 10,
   "metadata": {},
   "outputs": [],
   "source": [
    "test_sample.to_csv('../exports/%s/other_formats/%s-%s-tgif-all_sample.csv' % ('dataset', 'test', 'balanced'), index = None)"
   ]
  },
  {
   "cell_type": "markdown",
   "metadata": {},
   "source": [
    "# stuff to initalize for splitting test set"
   ]
  },
  {
   "cell_type": "code",
   "execution_count": 12,
   "metadata": {},
   "outputs": [],
   "source": [
    "templ2global = {\n",
    "    'objExists': ['exists'],\n",
    "    'objRelExists': ['exists', 'obj-rel'],\n",
    "    'relExists': ['exists'],\n",
    "    'actExists': ['exists'],\n",
    "    'andObjRelExists': ['exists', 'obj-rel'],\n",
    "    'xorObjRelExists': ['exists', 'obj-rel'],\n",
    "    'objWhatGeneral': [],\n",
    "    'objWhat': ['obj-rel'],\n",
    "    'objWhatChoose': ['obj-rel'],\n",
    "    'actWhatAfterAll': ['sequencing', 'action-recognition'],\n",
    "    'actWhatBefore': ['sequencing', 'action-recognition'],\n",
    "    'objFirst': ['superlative', 'obj-rel'],\n",
    "    'objFirstChoose': ['superlative', 'obj-rel'],\n",
    "    'objFirstVerify': ['superlative', 'obj-rel'],\n",
    "    'relFirst': ['superlative', 'obj-rel'],\n",
    "    'actFirst': ['superlative', 'action-recognition'],\n",
    "    'objLast': ['superlative', 'obj-rel'],\n",
    "    'objLastChoose': ['superlative', 'obj-rel'],\n",
    "    'objLastVerify': ['superlative', 'obj-rel'],\n",
    "    'relLast': ['superlative', 'obj-rel'],\n",
    "    'actLast': ['superlative', 'action-recognition'],\n",
    "    'actCount': ['count'],\n",
    "    'actCountChooseMore': ['count'],\n",
    "    'actCountChooseFewer': ['count'],\n",
    "    'actLengthLongerChoose': ['duration-comparison'],\n",
    "    'actLengthShorterChoose': ['duration-comparison'],\n",
    "    'actLengthLongerVerify': ['duration-comparison'],\n",
    "    'actLengthShorterVerify': ['duration-comparison'],\n",
    "    'actLongest': ['superlative', 'duration-comparison'],\n",
    "    'actShortest': ['superlative', 'duration-comparison'],\n",
    "    'actTime': ['sequencing'],\n",
    "    'relTime': ['rel-act'],\n",
    "    'objTime': ['obj-act'],\n",
    "}"
   ]
  },
  {
   "cell_type": "code",
   "execution_count": 13,
   "metadata": {},
   "outputs": [],
   "source": [
    "def getType(q):\n",
    "    tp = q['attributes']['structural']\n",
    "    if tp != 'query':\n",
    "        return 'binary'\n",
    "    else:\n",
    "        return 'open'\n",
    "    \n",
    "def getStructural(q):\n",
    "    tp = q['attributes']['structural']\n",
    "    \n",
    "    return tp\n",
    "    \n",
    "def getSemantic(q):\n",
    "    tp = q['attributes']['semantic']\n",
    "    if tp == 'objrel':\n",
    "        return 'relation'\n",
    "    elif tp in ['object', 'relation', 'action']:\n",
    "        return tp\n",
    "    else:\n",
    "        return 'none'\n",
    "    \n",
    "def getGlob(q):\n",
    "    tp = q['attributes']['type']\n",
    "    return templ2global[tp]"
   ]
  },
  {
   "cell_type": "code",
   "execution_count": 14,
   "metadata": {},
   "outputs": [],
   "source": [
    "def getSemDict():\n",
    "    sem = {'object': {'binary': 0, 'open': 0},\n",
    "           'relation': {'binary': 0, 'open': 0},\n",
    "           'action': {'binary': 0, 'open': 0},}\n",
    "    return sem\n",
    "    \n",
    "def getGlobDict():\n",
    "    #glob = {'obj-rel': 209,\n",
    "        #     'superlative': 51,\n",
    "       #      'exists': 206,\n",
    "      #       'count': 20,\n",
    "     #        'duration-comparison': 7,\n",
    "     #        'obj-act': 10,\n",
    "     #        'rel-act': 11,\n",
    "     #        'sequencing': 3,\n",
    "    #         'action-recognition': 1}\n",
    "    glob = {'obj-rel': {'binary': 0, 'open': 0},\n",
    "             'superlative': {'binary': 0, 'open': 0},\n",
    "             'exists': {'binary': 0, 'open': 0},\n",
    "             'count':{'binary': 0, 'open': 0},\n",
    "             'duration-comparison': {'binary': 0, 'open': 0},\n",
    "             'obj-act': {'binary': 0, 'open': 0},\n",
    "             'rel-act': {'binary': 0, 'open': 0},\n",
    "             'sequencing': {'binary': 0, 'open': 0},\n",
    "             'action-recognition': {'binary': 0, 'open': 0},}\n",
    "    return glob\n",
    "    \n",
    "def getStructDict():\n",
    "    struct = {'query': {'binary': 0, 'open': 0},\n",
    "              'compare': {'binary': 0, 'open': 0},\n",
    "              'choose': {'binary': 0, 'open': 0},\n",
    "              'verify': {'binary': 0, 'open': 0},\n",
    "              'logic': {'binary': 0, 'open': 0},}\n",
    "    #struct = {'query': 316, 'compare': 266, 'choose': 55, 'verify': 107, 'logic': 53}\n",
    "    return struct\n"
   ]
  },
  {
   "cell_type": "code",
   "execution_count": null,
   "metadata": {},
   "outputs": [],
   "source": []
  },
  {
   "cell_type": "code",
   "execution_count": null,
   "metadata": {},
   "outputs": [],
   "source": []
  },
  {
   "cell_type": "code",
   "execution_count": null,
   "metadata": {},
   "outputs": [],
   "source": []
  },
  {
   "cell_type": "code",
   "execution_count": null,
   "metadata": {},
   "outputs": [],
   "source": []
  },
  {
   "cell_type": "code",
   "execution_count": null,
   "metadata": {},
   "outputs": [],
   "source": []
  },
  {
   "cell_type": "code",
   "execution_count": null,
   "metadata": {},
   "outputs": [],
   "source": []
  },
  {
   "cell_type": "code",
   "execution_count": null,
   "metadata": {},
   "outputs": [],
   "source": []
  },
  {
   "cell_type": "code",
   "execution_count": null,
   "metadata": {},
   "outputs": [],
   "source": []
  },
  {
   "cell_type": "markdown",
   "metadata": {},
   "source": [
    "#  Old stuff"
   ]
  },
  {
   "cell_type": "code",
   "execution_count": null,
   "metadata": {},
   "outputs": [],
   "source": [
    "# Note, putting all in the same category\n",
    "# [{\"answer\":\"man\",\"category_id\":9,\"id\":0,\"question\":\"who drives down the road in an audi?\",\"video_id\":0}, {...}, ...]\n",
    "def toMSVDQA(our_data):\n",
    "    questions = []\n",
    "    \n",
    "    for v_id in our_data:\n",
    "        for q_id in QA[v_id]:\n",
    "            q = our_data[v_id][q_id]\n",
    "            \n",
    "            new_q = {\n",
    "                'answer': q['answer'],\n",
    "                'category_id':9, # TODO: not sure what this is\n",
    "                'id': q_id,\n",
    "                'question': q['question'],\n",
    "                'video_id': v_id\n",
    "            }\n",
    "            \n",
    "            questions.append(new_q)\n",
    "    return questions\n",
    "    "
   ]
  },
  {
   "cell_type": "code",
   "execution_count": null,
   "metadata": {},
   "outputs": [],
   "source": [
    "# [{\"answer\":\"animal\",\"id\":0,\"question\":\"what is chewing on a nut?\",\"video_id\":1},\n",
    "def toMSRVTTQA(our_data):\n",
    "    questions = []\n",
    "    \n",
    "    for v_id in our_data:\n",
    "        for q_id in QA[v_id]:\n",
    "            q = our_data[v_id][q_id]\n",
    "            \n",
    "            new_q = {\n",
    "                'answer': q['answer'],\n",
    "                'id': q_id,\n",
    "                'question': q['question'],\n",
    "                'video_id': v_id\n",
    "            }\n",
    "            \n",
    "            questions.append(new_q)\n",
    "    return questions\n",
    "    "
   ]
  },
  {
   "cell_type": "code",
   "execution_count": null,
   "metadata": {},
   "outputs": [],
   "source": [
    "def toDataframe(our_data):\n",
    "    dataframes = []\n",
    "    count = 0\n",
    "    for v_id in our_data:\n",
    "        count = count + 1\n",
    "        if count > 5: \n",
    "            break\n",
    "        print(v_id)\n",
    "        print(\"making a dataframe\")\n",
    "        df = pd.DataFrame.from_dict(our_data, orient=\"index\")\n",
    "        #df.to_csv(r'../exports/all_videos_200-300_tgif_format.csv', index = None)\n",
    "        print(\"adding vid id\")\n",
    "        df['vid_id'] = v_id\n",
    "        print(\"appending\")\n",
    "        dataframes.append(df),\n",
    "    total = pd.concat(dataframes)\n",
    "    return total\n",
    "    \n",
    "\n",
    "def toTGIFQA(df):\n",
    "    #df = toDataframe(our_data)\n",
    "    # drop everything not important\n",
    "    df['gif_name'] = df['vid_id']\n",
    "    df.rename(columns={'id': 'key'})\n",
    "    df.drop(columns=['attributes', 'global', 'local', 'steps', 'metrics'])\n",
    "    print(\"AFTER DROP\")\n",
    "    print(df)\n",
    "    return df\n",
    "    "
   ]
  },
  {
   "cell_type": "markdown",
   "metadata": {},
   "source": [
    "# Get templ balancd"
   ]
  },
  {
   "cell_type": "code",
   "execution_count": null,
   "metadata": {},
   "outputs": [],
   "source": [
    "\n",
    "def toTGIFTemplBalanced(d_path, group, bal_txt):\n",
    "    dataframes = []\n",
    "    if group == 'train':\n",
    "        our_data = train_stsgs\n",
    "    if group == 'test':\n",
    "        our_data = test_stsgs\n",
    "        \n",
    "    #if balanced: \n",
    "    #    bal_txt = 'balanced'\n",
    "    #else:\n",
    "    #    bal_txt = 'all'\n",
    "        \n",
    "    # for templ balanced\n",
    "    #bal_txt = \"templ_balanced\"\n",
    "        \n",
    "    cnt = 0\n",
    "    for v_id in our_data:\n",
    "        if cnt % 100 == 0:\n",
    "            print(cnt)\n",
    "        cnt = cnt + 1\n",
    "        QA = getQA(d_path, group, bal_txt, v_id)\n",
    "        df = toDataframe(v_id, QA)\n",
    "        dataframes.append(df)\n",
    "    total = pd.concat(dataframes)\n",
    "    total.to_csv('../exports/%s/other_formats/%s-%s-tgif.csv' % (d_path, group, bal_txt), index = None)\n",
    "    return total\n"
   ]
  },
  {
   "cell_type": "code",
   "execution_count": null,
   "metadata": {},
   "outputs": [],
   "source": [
    "toTGIFTemplBalanced('dataset-before-11-4', 'test', 'templ_balanced')"
   ]
  },
  {
   "cell_type": "code",
   "execution_count": null,
   "metadata": {},
   "outputs": [],
   "source": [
    "toTGIFTemplBalanced('dataset-before-11-4', 'train', 'templ_balanced')"
   ]
  },
  {
   "cell_type": "markdown",
   "metadata": {},
   "source": [
    "# Length"
   ]
  },
  {
   "cell_type": "markdown",
   "metadata": {},
   "source": [
    "# Start Query Questions"
   ]
  },
  {
   "cell_type": "code",
   "execution_count": null,
   "metadata": {},
   "outputs": [],
   "source": [
    "# Testing to CSV\n",
    "#46GP8, N11GT, KRF68, MJO7C, S6MPZ\n",
    "\n",
    "def toDataframeQuery(v_id, QA):\n",
    "    df = pd.DataFrame.from_dict(QA, orient=\"index\")\n",
    "    df['vid_id'] = v_id\n",
    "    #df.index = v_id\n",
    "    df['gif_name'] = v_id\n",
    "    df = df.drop(columns=['attributes', 'global', 'local', 'steps', 'metrics'])\n",
    "    df = df.rename(columns={'id': 'key'})\n",
    "    \n",
    "    #df.set_index(\"key\", inplace=True)\n",
    "    # delete ones in compo\n",
    "    #if v_id not in compo:\n",
    "   #     return df\n",
    "   # to_del = list(set(compo[v_id]))\n",
    "    \n",
    "    to_del = []\n",
    "    query = ['objWhat', 'objFirst', 'objLast', 'relLast']\n",
    "    for q_id in QA:\n",
    "        t = QA[q_id]['attributes']['type']\n",
    "        #print(t)\n",
    "        if t in query:\n",
    "            continue\n",
    "            \n",
    "        to_del.append(q_id)\n",
    "    \n",
    "    #print()\n",
    "    #print(df.shape)\n",
    "    #print(len(to_del))\n",
    "    df.drop(to_del, inplace=True)\n",
    "    #print(df.shape)\n",
    "    #if (df.shape[0] > 0):\n",
    "    #    print(df.shape)\n",
    "    return df\n",
    "\n",
    "\n",
    "def toTGIFQuery(d_path, group, balanced):\n",
    "    dataframes = []\n",
    "    if group == 'train':\n",
    "        our_data = train_stsgs\n",
    "        compo = train_novel_comp\n",
    "    if group == 'test':\n",
    "        our_data = test_stsgs\n",
    "        compo = test_novel_comp\n",
    "        \n",
    "    if balanced: \n",
    "        bal_txt = 'balanced'\n",
    "    else:\n",
    "        bal_txt = 'all'\n",
    "        \n",
    "    cnt = 0\n",
    "    for v_id in our_data:\n",
    "        if cnt % 100 == 0:\n",
    "            print(cnt)\n",
    "        cnt = cnt + 1\n",
    "        QA = getQA(d_path, group, bal_txt, v_id)\n",
    "        #print('len QA', len(QA))\n",
    "        df = toDataframeQuery(v_id, QA)\n",
    "        dataframes.append(df)\n",
    "    total = pd.concat(dataframes)\n",
    "    total.to_csv('../exports/%s/other_formats/%s-%s-tgif-query.csv' % (d_path, group, bal_txt), index = None)\n",
    "    return total\n"
   ]
  },
  {
   "cell_type": "code",
   "execution_count": null,
   "metadata": {},
   "outputs": [],
   "source": [
    "test_query = toTGIFQuery('dataset', 'test', True)"
   ]
  },
  {
   "cell_type": "code",
   "execution_count": null,
   "metadata": {
    "scrolled": true
   },
   "outputs": [],
   "source": [
    "test_query = toTGIFQuery('dataset', 'train', True)"
   ]
  },
  {
   "cell_type": "markdown",
   "metadata": {},
   "source": [
    "607120 +  1647710"
   ]
  },
  {
   "cell_type": "markdown",
   "metadata": {},
   "source": [
    "# Get TOTAL"
   ]
  },
  {
   "cell_type": "code",
   "execution_count": null,
   "metadata": {},
   "outputs": [],
   "source": [
    "#training_edited = training.drop(columns=['question', 'answer'])\n",
    "training_edited = training"
   ]
  },
  {
   "cell_type": "code",
   "execution_count": null,
   "metadata": {},
   "outputs": [],
   "source": [
    "#testing_edited = testing.drop(columns=['question', 'answer'])\n",
    "testing_edited = testing"
   ]
  },
  {
   "cell_type": "code",
   "execution_count": null,
   "metadata": {},
   "outputs": [],
   "source": [
    "total = pd.read_csv('../exports/dataset/other_formats/Total-question.csv')"
   ]
  },
  {
   "cell_type": "code",
   "execution_count": null,
   "metadata": {},
   "outputs": [],
   "source": [
    "total.columns"
   ]
  },
  {
   "cell_type": "code",
   "execution_count": null,
   "metadata": {},
   "outputs": [],
   "source": [
    "total = pd.read_csv('../exports/dataset/other_formats/Total-question.csv')"
   ]
  },
  {
   "cell_type": "code",
   "execution_count": null,
   "metadata": {},
   "outputs": [],
   "source": [
    "def getVIDMapping(videos):\n",
    "    str2num = {}\n",
    "    num2str = {}\n",
    "    \n",
    "    str_ids = set(videos['gif_name'])\n",
    "    \n",
    "    count = 0\n",
    "    for str_id in str_ids:\n",
    "        str2num[str_id] = count\n",
    "        num2str[count] = str_id\n",
    "        \n",
    "        count = count + 1\n",
    "        \n",
    "    return str2num, num2str\n",
    "    \n",
    "str2num, num2str = getVIDMapping(total)"
   ]
  },
  {
   "cell_type": "code",
   "execution_count": null,
   "metadata": {},
   "outputs": [],
   "source": [
    "# do json not pickle\n",
    "\n",
    "with open('../data/strID2numID.json', 'w+') as json_file: #CHANGED\n",
    "    json.dump(str2num, json_file)\n",
    "    \n",
    "with open('../data/numID2strID.json', 'w+') as json_file: #CHANGED\n",
    "    json.dump(num2str, json_file)\n",
    "#pickleDump(str2num, '../data/strID2numID')\n",
    "#pickleDum(num2str, '../data/strID2numID')"
   ]
  },
  {
   "cell_type": "code",
   "execution_count": null,
   "metadata": {},
   "outputs": [],
   "source": [
    "toTGIF('dataset', 'test', False)"
   ]
  },
  {
   "cell_type": "code",
   "execution_count": null,
   "metadata": {},
   "outputs": [],
   "source": [
    "b_test = toTGIF('dataset', 'test', True)"
   ]
  },
  {
   "cell_type": "code",
   "execution_count": null,
   "metadata": {},
   "outputs": [],
   "source": [
    "QA = getQA('dataset', 'test', 'balanced', 'YSKX3')\n",
    "print(len(QA))\n",
    "\n",
    "inQA = 0\n",
    "notinQA = 0\n",
    "for i in test_novel_comp['YSKX3']:\n",
    "    if i in QA:\n",
    "        inQA = inQA + 1\n",
    "    else:\n",
    "        notinQA = notinQA + 1\n",
    "\n",
    "inQA, notinQA, len(set(test_novel_comp['YSKX3']))"
   ]
  },
  {
   "cell_type": "code",
   "execution_count": null,
   "metadata": {
    "scrolled": true
   },
   "outputs": [],
   "source": [
    "train_novel_comp['46GP8']"
   ]
  },
  {
   "cell_type": "code",
   "execution_count": null,
   "metadata": {},
   "outputs": [],
   "source": [
    "for i in test_compo['question']:\n",
    "    print(i)"
   ]
  },
  {
   "cell_type": "code",
   "execution_count": null,
   "metadata": {
    "scrolled": true
   },
   "outputs": [],
   "source": [
    "print(len(test_steps_templ['less']))"
   ]
  },
  {
   "cell_type": "code",
   "execution_count": null,
   "metadata": {},
   "outputs": [],
   "source": [
    "for question in templ_split_te['question']:\n",
    "    print(question)"
   ]
  },
  {
   "cell_type": "code",
   "execution_count": null,
   "metadata": {},
   "outputs": [],
   "source": []
  },
  {
   "cell_type": "markdown",
   "metadata": {},
   "source": [
    "# end query questions"
   ]
  },
  {
   "cell_type": "code",
   "execution_count": null,
   "metadata": {},
   "outputs": [],
   "source": [
    "import numpy as np\n",
    "b_test_perm = b_test.iloc[np.random.permutation(len(b_test))]"
   ]
  },
  {
   "cell_type": "code",
   "execution_count": null,
   "metadata": {},
   "outputs": [],
   "source": [
    "questions = list(b_test_perm['question'])"
   ]
  },
  {
   "cell_type": "code",
   "execution_count": null,
   "metadata": {},
   "outputs": [],
   "source": [
    "questions[0]"
   ]
  },
  {
   "cell_type": "code",
   "execution_count": null,
   "metadata": {},
   "outputs": [],
   "source": [
    "b_test2 = pd.read_csv('../exports/dataset/other_formats/train-balanced-tgif.csv')"
   ]
  },
  {
   "cell_type": "code",
   "execution_count": null,
   "metadata": {},
   "outputs": [],
   "source": [
    "b_test2_perm = b_test2.iloc[np.random.permutation(len(b_test2))]"
   ]
  },
  {
   "cell_type": "code",
   "execution_count": null,
   "metadata": {},
   "outputs": [],
   "source": [
    "questions2 = list(b_test2_perm['question'])"
   ]
  },
  {
   "cell_type": "code",
   "execution_count": null,
   "metadata": {
    "scrolled": true
   },
   "outputs": [],
   "source": [
    "toTGIF('dataset', 'test', True)"
   ]
  },
  {
   "cell_type": "code",
   "execution_count": null,
   "metadata": {
    "scrolled": true
   },
   "outputs": [],
   "source": [
    "toTGIF('dataset', 'train', True)"
   ]
  },
  {
   "cell_type": "code",
   "execution_count": null,
   "metadata": {},
   "outputs": [],
   "source": [
    "msvd_translation = toMSVDQA(QA)"
   ]
  },
  {
   "cell_type": "code",
   "execution_count": null,
   "metadata": {},
   "outputs": [],
   "source": [
    "len(msvd_translation) * 100"
   ]
  },
  {
   "cell_type": "code",
   "execution_count": null,
   "metadata": {},
   "outputs": [],
   "source": [
    "msrvtt_translation = toMSRVTTQA(QA)"
   ]
  },
  {
   "cell_type": "code",
   "execution_count": null,
   "metadata": {},
   "outputs": [],
   "source": [
    "len(msvd_translation) * 100"
   ]
  },
  {
   "cell_type": "code",
   "execution_count": null,
   "metadata": {},
   "outputs": [],
   "source": [
    "dataframe = toDataframe(QA['46GP8'])\n",
    "dataframe = toTGIFQA(dataframe)\n",
    "dataframe"
   ]
  },
  {
   "cell_type": "code",
   "execution_count": null,
   "metadata": {},
   "outputs": [],
   "source": [
    "for i in QA:\n",
    "    print(i)\n",
    "    break"
   ]
  },
  {
   "cell_type": "code",
   "execution_count": null,
   "metadata": {},
   "outputs": [],
   "source": [
    "# Need to add in v_id column with the v_id for all of them\n",
    "# gif_name, = v_id (idk what the difference is with this and vid_id, so im going to do both the same)\n",
    "# question, answer, vid_id, \n",
    "# key = ?"
   ]
  },
  {
   "cell_type": "code",
   "execution_count": null,
   "metadata": {},
   "outputs": [],
   "source": [
    "len(QA['3CPVF']), len(QA['QIQXR'])"
   ]
  },
  {
   "cell_type": "code",
   "execution_count": null,
   "metadata": {},
   "outputs": [],
   "source": [
    "#'3CPVF': 23415, 'QIQXR': 7186, 'SXYLN': 30109, 'I6B5D': 874, 'MJX48': 15637"
   ]
  },
  {
   "cell_type": "code",
   "execution_count": null,
   "metadata": {},
   "outputs": [],
   "source": [
    "false = False\n",
    "true = True"
   ]
  },
  {
   "cell_type": "code",
   "execution_count": null,
   "metadata": {},
   "outputs": [],
   "source": [
    "a = {\"46GP8-321\": {\"question\": \"Was the person closing anything while cooking something?\", \"answer\": \"No\", \"attributes\": {\"type\": \"relExists\", \"structural\": \"verify\", \"semantic\": \"relation\", \"ans_type\": \"binary\", \"video_id\": \"46GP8\"}, \"global\": \"exists\", \"local\": \"v001\", \"steps\": 3, \"id\": \"46GP8-321\", \"metrics\": {\"novel_comp\": [false, false, false, false, false], \"indirects\": [false, false, false, true], \"direct_args\": \"v001\", \"direct_time\": [\"while\", \"c147\"]}}, \"46GP8-564\": {\"question\": \"Which object did the person touch after cooking something?\", \"answer\": \"window\", \"attributes\": {\"type\": \"objWhat\", \"structural\": \"query\", \"semantic\": \"object\", \"ans_type\": \"open\", \"video_id\": \"46GP8\"}, \"global\": \"what\", \"local\": \"r22\", \"steps\": 4, \"id\": \"46GP8-564\", \"metrics\": {\"novel_comp\": [false, false, false, false, false], \"indirects\": [false, false, false, true], \"direct_args\": \"r22\", \"direct_time\": [\"after\", \"c147\"]}}, \"46GP8-565\": {\"question\": \"In the video, what was the person touching?\", \"answer\": \"window\", \"attributes\": {\"type\": \"objWhat\", \"structural\": \"query\", \"semantic\": \"object\", \"ans_type\": \"open\", \"video_id\": \"46GP8\"}, \"global\": \"what\", \"local\": \"r22\", \"steps\": 2, \"id\": \"46GP8-565\", \"metrics\": {\"novel_comp\": [false, false, false, false, false], \"indirects\": [false, false, false, false], \"direct_args\": \"r22\", \"direct_time\": [\"all\", \"\"]}}, \"46GP8-566\": {\"question\": \"What was the person behind after cooking something?\", \"answer\": \"window\", \"attributes\": {\"type\": \"objWhat\", \"structural\": \"query\", \"semantic\": \"object\", \"ans_type\": \"open\", \"video_id\": \"46GP8\"}, \"global\": \"what\", \"local\": \"r7\", \"steps\": 4, \"id\": \"46GP8-566\", \"metrics\": {\"novel_comp\": [false, false, false, false, false], \"indirects\": [false, false, false, true], \"direct_args\": \"r7\", \"direct_time\": [\"after\", \"c147\"]}}, \"46GP8-567\": {\"question\": \"Which object did the person go above?\", \"answer\": \"food\", \"attributes\": {\"type\": \"objWhat\", \"structural\": \"query\", \"semantic\": \"object\", \"ans_type\": \"open\", \"video_id\": \"46GP8\"}, \"global\": \"what\", \"local\": \"r4\", \"steps\": 2, \"id\": \"46GP8-567\", \"metrics\": {\"novel_comp\": [false, false, false, false, false], \"indirects\": [false, false, false, false], \"direct_args\": \"r4\", \"direct_time\": [\"all\", \"\"]}}, \"46GP8-568\": {\"question\": \"Which object were they on the side of after cooking something?\", \"answer\": \"window\", \"attributes\": {\"type\": \"objWhat\", \"structural\": \"query\", \"semantic\": \"object\", \"ans_type\": \"open\", \"video_id\": \"46GP8\"}, \"global\": \"what\", \"local\": \"r8\", \"steps\": 4, \"id\": \"46GP8-568\", \"metrics\": {\"novel_comp\": [false, false, false, false, false], \"indirects\": [false, false, false, true], \"direct_args\": \"r8\", \"direct_time\": [\"after\", \"c147\"]}}, \"46GP8-569\": {\"question\": \"In the video, what was the person on the side of?\", \"answer\": \"window\", \"attributes\": {\"type\": \"objWhat\", \"structural\": \"query\", \"semantic\": \"object\", \"ans_type\": \"open\", \"video_id\": \"46GP8\"}, \"global\": \"what\", \"local\": \"r8\", \"steps\": 2, \"id\": \"46GP8-569\", \"metrics\": {\"novel_comp\": [false, false, false, false, false], \"indirects\": [false, false, false, false], \"direct_args\": \"r8\", \"direct_time\": [\"all\", \"\"]}}, \"46GP8-571\": {\"question\": \"After cooking something, which object were they watching?\", \"answer\": \"window\", \"attributes\": {\"type\": \"objWhat\", \"structural\": \"query\", \"semantic\": \"object\", \"ans_type\": \"open\", \"video_id\": \"46GP8\"}, \"global\": \"what\", \"local\": \"v031\", \"steps\": 4, \"id\": \"46GP8-571\", \"metrics\": {\"novel_comp\": [false, false, false, false, false], \"indirects\": [false, false, false, true], \"direct_args\": \"v031\", \"direct_time\": [\"after\", \"c147\"]}}, \"46GP8-572\": {\"question\": \"In the video, which object did the person watch?\", \"answer\": \"window\", \"attributes\": {\"type\": \"objWhat\", \"structural\": \"query\", \"semantic\": \"object\", \"ans_type\": \"open\", \"video_id\": \"46GP8\"}, \"global\": \"what\", \"local\": \"v031\", \"steps\": 2, \"id\": \"46GP8-572\", \"metrics\": {\"novel_comp\": [false, false, false, false, false], \"indirects\": [false, false, false, false], \"direct_args\": \"v031\", \"direct_time\": [\"all\", \"\"]}}, \"46GP8-577\": {\"question\": \"Which did they go on the side of, some food or a window?\", \"answer\": \"window\", \"attributes\": {\"type\": \"objWhatChoose\", \"structural\": \"choose\", \"semantic\": \"object\", \"ans_type\": \"open\", \"video_id\": \"46GP8\"}, \"global\": \"what\", \"local\": \"r8\", \"steps\": 3, \"id\": \"46GP8-577\", \"metrics\": {\"novel_comp\": [false, false, false, false, false], \"indirects\": [false, false, false, false], \"direct_args\": \"r8-o17-o36\", \"direct_time\": [\"all\", \"\"]}}, \"46GP8-579\": {\"question\": \"In the video, of everything they went behind, what was the person behind first?\", \"answer\": \"food\", \"attributes\": {\"type\": \"objFirst\", \"structural\": \"query\", \"semantic\": \"object\", \"ans_type\": \"open\", \"video_id\": \"46GP8\"}, \"global\": \"first\", \"local\": \"r7\", \"steps\": 2, \"id\": \"46GP8-579\", \"metrics\": {\"novel_comp\": [false, true, false, false, false], \"indirects\": [false, false, false, false], \"direct_args\": \"r7\", \"direct_time\": [\"all\", \"\"]}}, \"46GP8-583\": {\"question\": \"Which object were they behind last?\", \"answer\": \"window\", \"attributes\": {\"type\": \"objLast\", \"structural\": \"query\", \"semantic\": \"object\", \"ans_type\": \"open\", \"video_id\": \"46GP8\"}, \"global\": \"last\", \"local\": \"r7\", \"steps\": 2, \"id\": \"46GP8-583\", \"metrics\": {\"novel_comp\": [false, false, false, false, false], \"indirects\": [false, false, false, false], \"direct_args\": \"r7\", \"direct_time\": [\"all\", \"\"]}}, \"46GP8-588\": {\"question\": \"What was the last thing the person was doing to some food?\", \"answer\": \"cooking\", \"attributes\": {\"type\": \"relLast\", \"structural\": \"query\", \"semantic\": \"relation\", \"ans_type\": \"open\", \"video_id\": \"46GP8\"}, \"global\": \"last\", \"local\": \"o17\", \"steps\": 2, \"id\": \"46GP8-588\", \"metrics\": {\"novel_comp\": [false, false, false, false, false], \"indirects\": [false, false, false, false], \"direct_args\": \"o17\", \"direct_time\": [\"all\", \"\"]}}, \"46GP8-595\": {\"question\": \"Did they cook anything before they watched outside of a window, or after they watched outside of a window?\", \"answer\": \"before\", \"attributes\": {\"type\": \"relTime\", \"structural\": \"compare\", \"semantic\": \"relation\", \"ans_type\": \"binary\", \"video_id\": \"46GP8\"}, \"global\": \"time\", \"local\": \"v002-c092\", \"steps\": 5, \"id\": \"46GP8-595\", \"metrics\": {\"novel_comp\": [false, false, false, false, false], \"indirects\": [false, false, false, false], \"direct_args\": \"v002-c092\", \"direct_time\": [\"all\", \"\"]}}, \"46GP8-599\": {\"question\": \"Were they touching the first thing they went behind before or after they watched outside of a window?\", \"answer\": \"before\", \"attributes\": {\"type\": \"objTime\", \"structural\": \"compare\", \"semantic\": \"object\", \"ans_type\": \"binary\", \"video_id\": \"46GP8\"}, \"global\": \"time\", \"local\": \"o17-c092\", \"steps\": 6, \"id\": \"46GP8-599\", \"metrics\": {\"novel_comp\": [false, true, false, false, false], \"indirects\": [true, false, false, false], \"direct_args\": \"o17-c092\", \"direct_time\": [\"all\", \"\"]}}, \"46GP8-602\": {\"question\": \"Were they touching the object they were touching before or after they cooked something?\", \"answer\": \"after\", \"attributes\": {\"type\": \"objTime\", \"structural\": \"compare\", \"semantic\": \"object\", \"ans_type\": \"binary\", \"video_id\": \"46GP8\"}, \"global\": \"time\", \"local\": \"o36-c147\", \"steps\": 6, \"id\": \"46GP8-602\", \"metrics\": {\"novel_comp\": [false, false, false, false, false], \"indirects\": [true, false, false, false], \"direct_args\": \"o36-c147\", \"direct_time\": [\"all\", \"\"]}}, \"46GP8-605\": {\"question\": \"What was the person interacting with after cooking something?\", \"answer\": \"window\", \"attributes\": {\"type\": \"objWhatGeneral\", \"structural\": \"query\", \"semantic\": \"object\", \"ans_type\": \"open\", \"video_id\": \"46GP8\"}, \"global\": \"what\", \"local\": \"object\", \"steps\": 3, \"id\": \"46GP8-605\", \"metrics\": {\"novel_comp\": [false, false, false, false, false], \"indirects\": [false, false, false, true], \"direct_args\": \"\", \"direct_time\": [\"after\", \"c147\"]}}, \"46GP8-607\": {\"question\": \"How many times did they watch outside of a window while cooking something?\", \"answer\": 0, \"attributes\": {\"type\": \"actCount\", \"structural\": \"query\", \"semantic\": \"action\", \"ans_type\": \"open\", \"video_id\": \"46GP8\"}, \"global\": \"count\", \"local\": \"c092\", \"steps\": 3, \"id\": \"46GP8-607\", \"metrics\": {\"novel_comp\": [false, false, false, false, false], \"indirects\": [false, false, false, true], \"direct_args\": \"c092\", \"direct_time\": [\"while\", \"c147\"]}}, \"46GP8-608\": {\"question\": \"While watching outside of a window, how many times were they cooking something?\", \"answer\": 0, \"attributes\": {\"type\": \"actCount\", \"structural\": \"query\", \"semantic\": \"action\", \"ans_type\": \"open\", \"video_id\": \"46GP8\"}, \"global\": \"count\", \"local\": \"c147\", \"steps\": 3, \"id\": \"46GP8-608\", \"metrics\": {\"novel_comp\": [false, false, false, false, false], \"indirects\": [false, false, false, true], \"direct_args\": \"c147\", \"direct_time\": [\"while\", \"c092\"]}}}"
   ]
  },
  {
   "cell_type": "code",
   "execution_count": null,
   "metadata": {},
   "outputs": [],
   "source": [
    "len(a)"
   ]
  },
  {
   "cell_type": "code",
   "execution_count": null,
   "metadata": {},
   "outputs": [],
   "source": []
  },
  {
   "cell_type": "code",
   "execution_count": null,
   "metadata": {},
   "outputs": [],
   "source": []
  },
  {
   "cell_type": "markdown",
   "metadata": {},
   "source": [
    "# Get the sizes of each"
   ]
  },
  {
   "cell_type": "code",
   "execution_count": null,
   "metadata": {},
   "outputs": [],
   "source": [
    "d_path = 'dataset'\n",
    "training_b = pd.read_csv('../exports/%s/other_formats/train-balanced-tgif.csv' % d_path)\n",
    "testing_b = pd.read_csv('../exports/%s/other_formats/test-balanced-tgif.csv' % d_path)"
   ]
  },
  {
   "cell_type": "code",
   "execution_count": null,
   "metadata": {},
   "outputs": [],
   "source": [
    "\n",
    "training_c = pd.read_csv('../exports/%s/other_formats/train-balanced-tgif-compo.csv' % d_path)\n",
    "testing_c = pd.read_csv('../exports/%s/other_formats/test-balanced-tgif-compo.csv' % d_path)"
   ]
  },
  {
   "cell_type": "code",
   "execution_count": null,
   "metadata": {},
   "outputs": [],
   "source": [
    "\n",
    "training_s = pd.read_csv('../exports/%s/other_formats/train-balanced-tgif-steps_templ.csv' % d_path)\n",
    "testing_s = pd.read_csv('../exports/%s/other_formats/test-balanced-tgif-steps_templ.csv' % d_path)"
   ]
  },
  {
   "cell_type": "code",
   "execution_count": null,
   "metadata": {},
   "outputs": [],
   "source": [
    "print('Training set: ', training_b.shape[0])\n",
    "print('Testing set: ', testing_b.shape[0])\n",
    "\n",
    "print('Training set compo: ', training_c.shape[0])\n",
    "print('Testing set compo: ', testing_c.shape[0])\n",
    "\n",
    "print('Training set steps: ', training_s.shape[0])\n",
    "print('Testing set steps: ', testing_s.shape[0])"
   ]
  },
  {
   "cell_type": "code",
   "execution_count": null,
   "metadata": {},
   "outputs": [],
   "source": []
  },
  {
   "cell_type": "markdown",
   "metadata": {},
   "source": [
    "# Why did test randomly generate wrogn keys"
   ]
  },
  {
   "cell_type": "code",
   "execution_count": null,
   "metadata": {},
   "outputs": [],
   "source": []
  },
  {
   "cell_type": "code",
   "execution_count": 37,
   "metadata": {},
   "outputs": [],
   "source": [
    "d_path = 'dataset_fixed'"
   ]
  },
  {
   "cell_type": "code",
   "execution_count": 38,
   "metadata": {},
   "outputs": [],
   "source": [
    "# Testing to CSV\n",
    "#46GP8, N11GT, KRF68, MJO7C, S6MPZ\n",
    "\n",
    "def toDataframe(v_id, QA):\n",
    "    df = pd.DataFrame.from_dict(QA, orient=\"index\")\n",
    "    df['vid_id'] = v_id\n",
    "    #df.index = v_id\n",
    "    df['gif_name'] = v_id\n",
    "    df = df.drop(columns=['attributes', 'global', 'id', 'local', 'steps', 'metrics', 'program', 'sg_grounding'])\n",
    "    df = df.reset_index()\n",
    "    df = df.rename(columns={'index': 'key'})\n",
    "    df['description'] = \"none\"\n",
    "    return df\n",
    "\n",
    "\n",
    "def toTGIF(d_path, group, bal_txt):\n",
    "    dataframes = []\n",
    "    if group == 'train':\n",
    "        our_data = train_stsgs\n",
    "    if group == 'test':\n",
    "        our_data = test_stsgs\n",
    "        \n",
    "    cnt = 0\n",
    "    for v_id in our_data:\n",
    "        if cnt % 1000 == 0:\n",
    "            print(cnt)\n",
    "        cnt = cnt + 1\n",
    "        QA = getQA(d_path, group, bal_txt, v_id)\n",
    "        if len(QA) == 0: \n",
    "            continue\n",
    "        df = toDataframe(v_id, QA)\n",
    "        dataframes.append(df)\n",
    "    total = pd.concat(dataframes)\n",
    "    total.to_csv('../exports/%s/other_formats/%s-%s-tgif-updated.csv' % (d_path, group, bal_txt), index = None)\n",
    "    return total\n"
   ]
  },
  {
   "cell_type": "code",
   "execution_count": 39,
   "metadata": {},
   "outputs": [
    {
     "name": "stdout",
     "output_type": "stream",
     "text": [
      "0\n",
      "1000\n",
      "2000\n",
      "3000\n",
      "4000\n",
      "5000\n",
      "6000\n",
      "7000\n"
     ]
    }
   ],
   "source": [
    "\n",
    "train = toTGIF(d_path, 'train', bal_txt)"
   ]
  },
  {
   "cell_type": "code",
   "execution_count": 41,
   "metadata": {},
   "outputs": [
    {
     "name": "stdout",
     "output_type": "stream",
     "text": [
      "0\n",
      "1000\n"
     ]
    }
   ],
   "source": [
    "test = toTGIF(d_path, 'test', bal_txt)"
   ]
  },
  {
   "cell_type": "code",
   "execution_count": 42,
   "metadata": {},
   "outputs": [
    {
     "data": {
      "text/html": [
       "<div>\n",
       "<style scoped>\n",
       "    .dataframe tbody tr th:only-of-type {\n",
       "        vertical-align: middle;\n",
       "    }\n",
       "\n",
       "    .dataframe tbody tr th {\n",
       "        vertical-align: top;\n",
       "    }\n",
       "\n",
       "    .dataframe thead th {\n",
       "        text-align: right;\n",
       "    }\n",
       "</style>\n",
       "<table border=\"1\" class=\"dataframe\">\n",
       "  <thead>\n",
       "    <tr style=\"text-align: right;\">\n",
       "      <th></th>\n",
       "      <th>key</th>\n",
       "      <th>question</th>\n",
       "      <th>answer</th>\n",
       "      <th>vid_id</th>\n",
       "      <th>gif_name</th>\n",
       "      <th>description</th>\n",
       "    </tr>\n",
       "  </thead>\n",
       "  <tbody>\n",
       "    <tr>\n",
       "      <th>0</th>\n",
       "      <td>46GP8-2</td>\n",
       "      <td>Is there some food the person contacts?</td>\n",
       "      <td>Yes</td>\n",
       "      <td>46GP8</td>\n",
       "      <td>46GP8</td>\n",
       "      <td>none</td>\n",
       "    </tr>\n",
       "    <tr>\n",
       "      <th>1</th>\n",
       "      <td>46GP8-6</td>\n",
       "      <td>Were they touching a window?</td>\n",
       "      <td>Yes</td>\n",
       "      <td>46GP8</td>\n",
       "      <td>46GP8</td>\n",
       "      <td>none</td>\n",
       "    </tr>\n",
       "    <tr>\n",
       "      <th>2</th>\n",
       "      <td>46GP8-36</td>\n",
       "      <td>Is there a table the person contacts?</td>\n",
       "      <td>No</td>\n",
       "      <td>46GP8</td>\n",
       "      <td>46GP8</td>\n",
       "      <td>none</td>\n",
       "    </tr>\n",
       "    <tr>\n",
       "      <th>3</th>\n",
       "      <td>46GP8-54</td>\n",
       "      <td>In the video, did they touch a broom?</td>\n",
       "      <td>No</td>\n",
       "      <td>46GP8</td>\n",
       "      <td>46GP8</td>\n",
       "      <td>none</td>\n",
       "    </tr>\n",
       "    <tr>\n",
       "      <th>4</th>\n",
       "      <td>46GP8-60</td>\n",
       "      <td>Was a blanket one of the things they were cont...</td>\n",
       "      <td>No</td>\n",
       "      <td>46GP8</td>\n",
       "      <td>46GP8</td>\n",
       "      <td>none</td>\n",
       "    </tr>\n",
       "    <tr>\n",
       "      <th>...</th>\n",
       "      <td>...</td>\n",
       "      <td>...</td>\n",
       "      <td>...</td>\n",
       "      <td>...</td>\n",
       "      <td>...</td>\n",
       "      <td>...</td>\n",
       "    </tr>\n",
       "    <tr>\n",
       "      <th>1042306</th>\n",
       "      <td>LSKA2-5391</td>\n",
       "      <td>Was the person walking through a doorway befor...</td>\n",
       "      <td>after</td>\n",
       "      <td>LSKA2</td>\n",
       "      <td>LSKA2</td>\n",
       "      <td>none</td>\n",
       "    </tr>\n",
       "    <tr>\n",
       "      <th>1042307</th>\n",
       "      <td>LSKA2-5394</td>\n",
       "      <td>Were they walking through a doorway before or ...</td>\n",
       "      <td>after</td>\n",
       "      <td>LSKA2</td>\n",
       "      <td>LSKA2</td>\n",
       "      <td>none</td>\n",
       "    </tr>\n",
       "    <tr>\n",
       "      <th>1042308</th>\n",
       "      <td>LSKA2-5395</td>\n",
       "      <td>Were they walking through a doorway before or ...</td>\n",
       "      <td>after</td>\n",
       "      <td>LSKA2</td>\n",
       "      <td>LSKA2</td>\n",
       "      <td>none</td>\n",
       "    </tr>\n",
       "    <tr>\n",
       "      <th>1042309</th>\n",
       "      <td>LSKA2-5393</td>\n",
       "      <td>Was the person walking through a doorway befor...</td>\n",
       "      <td>after</td>\n",
       "      <td>LSKA2</td>\n",
       "      <td>LSKA2</td>\n",
       "      <td>none</td>\n",
       "    </tr>\n",
       "    <tr>\n",
       "      <th>1042310</th>\n",
       "      <td>LSKA2-5392</td>\n",
       "      <td>Were they walking through a doorway before or ...</td>\n",
       "      <td>after</td>\n",
       "      <td>LSKA2</td>\n",
       "      <td>LSKA2</td>\n",
       "      <td>none</td>\n",
       "    </tr>\n",
       "  </tbody>\n",
       "</table>\n",
       "<p>3590505 rows × 6 columns</p>\n",
       "</div>"
      ],
      "text/plain": [
       "                key                                           question answer  \\\n",
       "0           46GP8-2            Is there some food the person contacts?    Yes   \n",
       "1           46GP8-6                       Were they touching a window?    Yes   \n",
       "2          46GP8-36              Is there a table the person contacts?     No   \n",
       "3          46GP8-54              In the video, did they touch a broom?     No   \n",
       "4          46GP8-60  Was a blanket one of the things they were cont...     No   \n",
       "...             ...                                                ...    ...   \n",
       "1042306  LSKA2-5391  Was the person walking through a doorway befor...  after   \n",
       "1042307  LSKA2-5394  Were they walking through a doorway before or ...  after   \n",
       "1042308  LSKA2-5395  Were they walking through a doorway before or ...  after   \n",
       "1042309  LSKA2-5393  Was the person walking through a doorway befor...  after   \n",
       "1042310  LSKA2-5392  Were they walking through a doorway before or ...  after   \n",
       "\n",
       "        vid_id gif_name description  \n",
       "0        46GP8    46GP8        none  \n",
       "1        46GP8    46GP8        none  \n",
       "2        46GP8    46GP8        none  \n",
       "3        46GP8    46GP8        none  \n",
       "4        46GP8    46GP8        none  \n",
       "...        ...      ...         ...  \n",
       "1042306  LSKA2    LSKA2        none  \n",
       "1042307  LSKA2    LSKA2        none  \n",
       "1042308  LSKA2    LSKA2        none  \n",
       "1042309  LSKA2    LSKA2        none  \n",
       "1042310  LSKA2    LSKA2        none  \n",
       "\n",
       "[3590505 rows x 6 columns]"
      ]
     },
     "execution_count": 42,
     "metadata": {},
     "output_type": "execute_result"
    }
   ],
   "source": [
    "# load the pickles\n",
    "# drop other columns\n",
    "# attach together\n",
    "training = pd.read_csv('../exports/%s/other_formats/train-balanced-tgif-updated.csv' % d_path)\n",
    "testing = pd.read_csv('../exports/%s/other_formats/test-balanced-tgif-updated.csv' % d_path)\n",
    "total = pd.concat([training, testing])\n",
    "total"
   ]
  },
  {
   "cell_type": "code",
   "execution_count": 43,
   "metadata": {},
   "outputs": [],
   "source": [
    "total.to_csv('../exports/%s/other_formats/Total-question-updated.csv' % d_path, index = None)"
   ]
  },
  {
   "cell_type": "code",
   "execution_count": 33,
   "metadata": {},
   "outputs": [
    {
     "data": {
      "text/html": [
       "<div>\n",
       "<style scoped>\n",
       "    .dataframe tbody tr th:only-of-type {\n",
       "        vertical-align: middle;\n",
       "    }\n",
       "\n",
       "    .dataframe tbody tr th {\n",
       "        vertical-align: top;\n",
       "    }\n",
       "\n",
       "    .dataframe thead th {\n",
       "        text-align: right;\n",
       "    }\n",
       "</style>\n",
       "<table border=\"1\" class=\"dataframe\">\n",
       "  <thead>\n",
       "    <tr style=\"text-align: right;\">\n",
       "      <th></th>\n",
       "      <th>key</th>\n",
       "      <th>question</th>\n",
       "      <th>answer</th>\n",
       "      <th>vid_id</th>\n",
       "      <th>gif_name</th>\n",
       "      <th>description</th>\n",
       "    </tr>\n",
       "  </thead>\n",
       "  <tbody>\n",
       "  </tbody>\n",
       "</table>\n",
       "</div>"
      ],
      "text/plain": [
       "Empty DataFrame\n",
       "Columns: [key, question, answer, vid_id, gif_name, description]\n",
       "Index: []"
      ]
     },
     "execution_count": 33,
     "metadata": {},
     "output_type": "execute_result"
    }
   ],
   "source": [
    "test[test['key'] == 'YSKX3-1']"
   ]
  },
  {
   "cell_type": "code",
   "execution_count": 29,
   "metadata": {},
   "outputs": [
    {
     "data": {
      "text/html": [
       "<div>\n",
       "<style scoped>\n",
       "    .dataframe tbody tr th:only-of-type {\n",
       "        vertical-align: middle;\n",
       "    }\n",
       "\n",
       "    .dataframe tbody tr th {\n",
       "        vertical-align: top;\n",
       "    }\n",
       "\n",
       "    .dataframe thead th {\n",
       "        text-align: right;\n",
       "    }\n",
       "</style>\n",
       "<table border=\"1\" class=\"dataframe\">\n",
       "  <thead>\n",
       "    <tr style=\"text-align: right;\">\n",
       "      <th></th>\n",
       "      <th>index</th>\n",
       "      <th>question</th>\n",
       "      <th>answer</th>\n",
       "      <th>key</th>\n",
       "      <th>vid_id</th>\n",
       "      <th>gif_name</th>\n",
       "      <th>description</th>\n",
       "    </tr>\n",
       "  </thead>\n",
       "  <tbody>\n",
       "  </tbody>\n",
       "</table>\n",
       "</div>"
      ],
      "text/plain": [
       "Empty DataFrame\n",
       "Columns: [index, question, answer, key, vid_id, gif_name, description]\n",
       "Index: []"
      ]
     },
     "execution_count": 29,
     "metadata": {},
     "output_type": "execute_result"
    }
   ],
   "source": [
    "mismatch"
   ]
  },
  {
   "cell_type": "code",
   "execution_count": 23,
   "metadata": {},
   "outputs": [],
   "source": [
    "templs = {}\n",
    "for v_id in test_stsgs:\n",
    "    with open('../exports/dataset_fixed/balanced/test/%s.txt' % v_id, 'rb') as f:\n",
    "        QA = json.load(f)\n",
    "        \n",
    "    for q_id in QA:\n",
    "        inside = QA[q_id]['id']\n",
    "        if inside != q_id:\n",
    "            t = QA[q_id]['attributes']['type']\n",
    "            if t not in templs:\n",
    "                templs[t] = 0\n",
    "            templs[t] += 1 "
   ]
  },
  {
   "cell_type": "code",
   "execution_count": 24,
   "metadata": {},
   "outputs": [
    {
     "data": {
      "text/plain": [
       "{'andObjRelExists': 13877,\n",
       " 'actTime': 39395,\n",
       " 'xorObjRelExists': 17043,\n",
       " 'objWhat': 86612,\n",
       " 'relExists': 2761,\n",
       " 'actExists': 861,\n",
       " 'objFirst': 5428,\n",
       " 'objFirstVerify': 3320,\n",
       " 'objLast': 8225,\n",
       " 'objExists': 1483,\n",
       " 'objWhatChoose': 9546,\n",
       " 'objRelExists': 3401,\n",
       " 'objFirstChoose': 3626,\n",
       " 'objLastChoose': 3433,\n",
       " 'objLastVerify': 3005,\n",
       " 'objWhatGeneral': 501}"
      ]
     },
     "execution_count": 24,
     "metadata": {},
     "output_type": "execute_result"
    }
   ],
   "source": [
    "templs"
   ]
  },
  {
   "cell_type": "code",
   "execution_count": null,
   "metadata": {},
   "outputs": [],
   "source": []
  }
 ],
 "metadata": {
  "kernelspec": {
   "display_name": "Python 3",
   "language": "python",
   "name": "python3"
  },
  "language_info": {
   "codemirror_mode": {
    "name": "ipython",
    "version": 3
   },
   "file_extension": ".py",
   "mimetype": "text/x-python",
   "name": "python",
   "nbconvert_exporter": "python",
   "pygments_lexer": "ipython3",
   "version": "3.7.6"
  }
 },
 "nbformat": 4,
 "nbformat_minor": 4
}
