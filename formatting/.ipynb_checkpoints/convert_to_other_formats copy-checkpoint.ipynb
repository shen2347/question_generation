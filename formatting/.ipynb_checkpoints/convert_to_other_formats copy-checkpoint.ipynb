{
 "cells": [
  {
   "cell_type": "code",
   "execution_count": 1,
   "metadata": {},
   "outputs": [],
   "source": [
    "import json\n",
    "import pickle\n",
    "import csv\n",
    "import pandas as pd"
   ]
  },
  {
   "cell_type": "code",
   "execution_count": 2,
   "metadata": {},
   "outputs": [],
   "source": [
    "def pickleLoad(path):\n",
    "    file = open(path, 'rb')\n",
    "    info = pickle.load(file)\n",
    "    file.close()\n",
    "    return info\n",
    "\n",
    "def pickleDump(var, destination):\n",
    "    f = open(destination,\"wb\")\n",
    "    pickle.dump(var,f)\n",
    "    f.close() \n",
    "\n",
    "def getQA(d_path, group, bal_txt, v_id):\n",
    "    with open('../exports/%s/%s/%s/%s.txt' % (d_path, bal_txt, group, v_id)) as json_file: #CHANGED\n",
    "        QA = json.load(json_file)\n",
    "    return QA"
   ]
  },
  {
   "cell_type": "code",
   "execution_count": 3,
   "metadata": {},
   "outputs": [],
   "source": [
    "\n",
    "with open('../data/templ2global.txt', 'rb') as f:\n",
    "    templ2global = json.load(f)"
   ]
  },
  {
   "cell_type": "code",
   "execution_count": 4,
   "metadata": {},
   "outputs": [],
   "source": [
    "train_stsgs = pickleLoad('../data/stsgs/train_stsgs.pkl')\n",
    "test_stsgs = pickleLoad('../data/stsgs/test_stsgs.pkl')"
   ]
  },
  {
   "cell_type": "code",
   "execution_count": 5,
   "metadata": {},
   "outputs": [],
   "source": [
    "# Testing to CSV\n",
    "#46GP8, N11GT, KRF68, MJO7C, S6MPZ\n",
    "\n",
    "def toDataframe(v_id, QA):\n",
    "    df = pd.DataFrame.from_dict(QA, orient=\"index\")\n",
    "    df['vid_id'] = v_id\n",
    "    #df.index = v_id\n",
    "    df['gif_name'] = v_id\n",
    "    df = df.drop(columns=['attributes', 'global', 'id', 'local', 'steps', 'metrics', 'program', 'sg_grounding'])\n",
    "    df = df.reset_index()\n",
    "    df = df.rename(columns={'index': 'key'})\n",
    "    df['description'] = \"none\"\n",
    "    return df\n",
    "\n",
    "\n",
    "def toTGIF(d_path, group, bal_txt):\n",
    "    dataframes = []\n",
    "    if group == 'train':\n",
    "        our_data = train_stsgs\n",
    "    if group == 'test':\n",
    "        our_data = test_stsgs\n",
    "        \n",
    "    cnt = 0\n",
    "    for v_id in our_data:\n",
    "        if cnt % 1000 == 0:\n",
    "            print(cnt)\n",
    "        cnt = cnt + 1\n",
    "        QA = getQA(d_path, group, bal_txt, v_id)\n",
    "        \n",
    "        # Add the following lines\n",
    "        for q_id in QA:\n",
    "            QA[q_id]['type'] = QA[q_id]['attributes']['type']\n",
    "        if len(QA) == 0: \n",
    "            continue\n",
    "        df = toDataframe(v_id, QA)\n",
    "        dataframes.append(df)\n",
    "    total = pd.concat(dataframes)\n",
    "    total.to_csv('../exports/%s/other_formats/%s-%s-tgif.csv' % (d_path, group, bal_txt), index = None)\n",
    "    return total\n"
   ]
  },
  {
   "cell_type": "markdown",
   "metadata": {},
   "source": [
    "# Build CSV files"
   ]
  },
  {
   "cell_type": "code",
   "execution_count": 6,
   "metadata": {},
   "outputs": [],
   "source": [
    "d_path = 'dataset'\n",
    "bal_txt = 'balanced'"
   ]
  },
  {
   "cell_type": "code",
   "execution_count": 7,
   "metadata": {
    "scrolled": false
   },
   "outputs": [
    {
     "name": "stdout",
     "output_type": "stream",
     "text": [
      "0\n",
      "1000\n",
      "2000\n",
      "3000\n",
      "4000\n",
      "5000\n",
      "6000\n",
      "7000\n"
     ]
    },
    {
     "data": {
      "text/html": [
       "<div>\n",
       "<style scoped>\n",
       "    .dataframe tbody tr th:only-of-type {\n",
       "        vertical-align: middle;\n",
       "    }\n",
       "\n",
       "    .dataframe tbody tr th {\n",
       "        vertical-align: top;\n",
       "    }\n",
       "\n",
       "    .dataframe thead th {\n",
       "        text-align: right;\n",
       "    }\n",
       "</style>\n",
       "<table border=\"1\" class=\"dataframe\">\n",
       "  <thead>\n",
       "    <tr style=\"text-align: right;\">\n",
       "      <th></th>\n",
       "      <th>key</th>\n",
       "      <th>question</th>\n",
       "      <th>answer</th>\n",
       "      <th>type</th>\n",
       "      <th>vid_id</th>\n",
       "      <th>gif_name</th>\n",
       "      <th>description</th>\n",
       "    </tr>\n",
       "  </thead>\n",
       "  <tbody>\n",
       "    <tr>\n",
       "      <th>0</th>\n",
       "      <td>46GP8-5</td>\n",
       "      <td>In the video, did they interact with a window?</td>\n",
       "      <td>Yes</td>\n",
       "      <td>objExists</td>\n",
       "      <td>46GP8</td>\n",
       "      <td>46GP8</td>\n",
       "      <td>none</td>\n",
       "    </tr>\n",
       "    <tr>\n",
       "      <th>1</th>\n",
       "      <td>46GP8-40</td>\n",
       "      <td>Were they interacting with a table?</td>\n",
       "      <td>No</td>\n",
       "      <td>objExists</td>\n",
       "      <td>46GP8</td>\n",
       "      <td>46GP8</td>\n",
       "      <td>none</td>\n",
       "    </tr>\n",
       "    <tr>\n",
       "      <th>2</th>\n",
       "      <td>46GP8-388</td>\n",
       "      <td>Which object did the person interact with afte...</td>\n",
       "      <td>window</td>\n",
       "      <td>objWhatGeneral</td>\n",
       "      <td>46GP8</td>\n",
       "      <td>46GP8</td>\n",
       "      <td>none</td>\n",
       "    </tr>\n",
       "    <tr>\n",
       "      <th>3</th>\n",
       "      <td>46GP8-389</td>\n",
       "      <td>Before watching outside of a window, what was ...</td>\n",
       "      <td>food</td>\n",
       "      <td>objWhat</td>\n",
       "      <td>46GP8</td>\n",
       "      <td>46GP8</td>\n",
       "      <td>none</td>\n",
       "    </tr>\n",
       "    <tr>\n",
       "      <th>4</th>\n",
       "      <td>46GP8-390</td>\n",
       "      <td>In the video, which object were they holding?</td>\n",
       "      <td>food</td>\n",
       "      <td>objWhat</td>\n",
       "      <td>46GP8</td>\n",
       "      <td>46GP8</td>\n",
       "      <td>none</td>\n",
       "    </tr>\n",
       "    <tr>\n",
       "      <th>...</th>\n",
       "      <td>...</td>\n",
       "      <td>...</td>\n",
       "      <td>...</td>\n",
       "      <td>...</td>\n",
       "      <td>...</td>\n",
       "      <td>...</td>\n",
       "      <td>...</td>\n",
       "    </tr>\n",
       "    <tr>\n",
       "      <th>61</th>\n",
       "      <td>PG1ID-1789</td>\n",
       "      <td>Which object did the person watch while taking...</td>\n",
       "      <td>laptop</td>\n",
       "      <td>objWhat</td>\n",
       "      <td>PG1ID</td>\n",
       "      <td>PG1ID</td>\n",
       "      <td>none</td>\n",
       "    </tr>\n",
       "    <tr>\n",
       "      <th>62</th>\n",
       "      <td>PG1ID-1790</td>\n",
       "      <td>What did they watch while holding the thing th...</td>\n",
       "      <td>laptop</td>\n",
       "      <td>objWhat</td>\n",
       "      <td>PG1ID</td>\n",
       "      <td>PG1ID</td>\n",
       "      <td>none</td>\n",
       "    </tr>\n",
       "    <tr>\n",
       "      <th>63</th>\n",
       "      <td>PG1ID-1791</td>\n",
       "      <td>What did they watch while holding the object t...</td>\n",
       "      <td>laptop</td>\n",
       "      <td>objWhat</td>\n",
       "      <td>PG1ID</td>\n",
       "      <td>PG1ID</td>\n",
       "      <td>none</td>\n",
       "    </tr>\n",
       "    <tr>\n",
       "      <th>64</th>\n",
       "      <td>PG1ID-1792</td>\n",
       "      <td>While holding the thing they took, what did th...</td>\n",
       "      <td>laptop</td>\n",
       "      <td>objWhat</td>\n",
       "      <td>PG1ID</td>\n",
       "      <td>PG1ID</td>\n",
       "      <td>none</td>\n",
       "    </tr>\n",
       "    <tr>\n",
       "      <th>65</th>\n",
       "      <td>PG1ID-1793</td>\n",
       "      <td>While holding the thing they watched, which ob...</td>\n",
       "      <td>broom</td>\n",
       "      <td>objWhat</td>\n",
       "      <td>PG1ID</td>\n",
       "      <td>PG1ID</td>\n",
       "      <td>none</td>\n",
       "    </tr>\n",
       "  </tbody>\n",
       "</table>\n",
       "<p>1639229 rows × 7 columns</p>\n",
       "</div>"
      ],
      "text/plain": [
       "           key                                           question  answer  \\\n",
       "0      46GP8-5     In the video, did they interact with a window?     Yes   \n",
       "1     46GP8-40                Were they interacting with a table?      No   \n",
       "2    46GP8-388  Which object did the person interact with afte...  window   \n",
       "3    46GP8-389  Before watching outside of a window, what was ...    food   \n",
       "4    46GP8-390      In the video, which object were they holding?    food   \n",
       "..         ...                                                ...     ...   \n",
       "61  PG1ID-1789  Which object did the person watch while taking...  laptop   \n",
       "62  PG1ID-1790  What did they watch while holding the thing th...  laptop   \n",
       "63  PG1ID-1791  What did they watch while holding the object t...  laptop   \n",
       "64  PG1ID-1792  While holding the thing they took, what did th...  laptop   \n",
       "65  PG1ID-1793  While holding the thing they watched, which ob...   broom   \n",
       "\n",
       "              type vid_id gif_name description  \n",
       "0        objExists  46GP8    46GP8        none  \n",
       "1        objExists  46GP8    46GP8        none  \n",
       "2   objWhatGeneral  46GP8    46GP8        none  \n",
       "3          objWhat  46GP8    46GP8        none  \n",
       "4          objWhat  46GP8    46GP8        none  \n",
       "..             ...    ...      ...         ...  \n",
       "61         objWhat  PG1ID    PG1ID        none  \n",
       "62         objWhat  PG1ID    PG1ID        none  \n",
       "63         objWhat  PG1ID    PG1ID        none  \n",
       "64         objWhat  PG1ID    PG1ID        none  \n",
       "65         objWhat  PG1ID    PG1ID        none  \n",
       "\n",
       "[1639229 rows x 7 columns]"
      ]
     },
     "execution_count": 7,
     "metadata": {},
     "output_type": "execute_result"
    }
   ],
   "source": [
    "toTGIF(d_path, 'train', bal_txt)"
   ]
  },
  {
   "cell_type": "code",
   "execution_count": 8,
   "metadata": {},
   "outputs": [
    {
     "name": "stdout",
     "output_type": "stream",
     "text": [
      "0\n",
      "1000\n"
     ]
    },
    {
     "data": {
      "text/html": [
       "<div>\n",
       "<style scoped>\n",
       "    .dataframe tbody tr th:only-of-type {\n",
       "        vertical-align: middle;\n",
       "    }\n",
       "\n",
       "    .dataframe tbody tr th {\n",
       "        vertical-align: top;\n",
       "    }\n",
       "\n",
       "    .dataframe thead th {\n",
       "        text-align: right;\n",
       "    }\n",
       "</style>\n",
       "<table border=\"1\" class=\"dataframe\">\n",
       "  <thead>\n",
       "    <tr style=\"text-align: right;\">\n",
       "      <th></th>\n",
       "      <th>key</th>\n",
       "      <th>question</th>\n",
       "      <th>answer</th>\n",
       "      <th>type</th>\n",
       "      <th>vid_id</th>\n",
       "      <th>gif_name</th>\n",
       "      <th>description</th>\n",
       "    </tr>\n",
       "  </thead>\n",
       "  <tbody>\n",
       "    <tr>\n",
       "      <th>0</th>\n",
       "      <td>YSKX3-8</td>\n",
       "      <td>Were they interacting with a blanket while hol...</td>\n",
       "      <td>No</td>\n",
       "      <td>objExists</td>\n",
       "      <td>YSKX3</td>\n",
       "      <td>YSKX3</td>\n",
       "      <td>none</td>\n",
       "    </tr>\n",
       "    <tr>\n",
       "      <th>1</th>\n",
       "      <td>YSKX3-9</td>\n",
       "      <td>Was a blanket one of the things they were inte...</td>\n",
       "      <td>Yes</td>\n",
       "      <td>objExists</td>\n",
       "      <td>YSKX3</td>\n",
       "      <td>YSKX3</td>\n",
       "      <td>none</td>\n",
       "    </tr>\n",
       "    <tr>\n",
       "      <th>2</th>\n",
       "      <td>YSKX3-11</td>\n",
       "      <td>Is there a pillow the person interacts with af...</td>\n",
       "      <td>Yes</td>\n",
       "      <td>objExists</td>\n",
       "      <td>YSKX3</td>\n",
       "      <td>YSKX3</td>\n",
       "      <td>none</td>\n",
       "    </tr>\n",
       "    <tr>\n",
       "      <th>3</th>\n",
       "      <td>YSKX3-13</td>\n",
       "      <td>Were they interacting with a pillow?</td>\n",
       "      <td>Yes</td>\n",
       "      <td>objExists</td>\n",
       "      <td>YSKX3</td>\n",
       "      <td>YSKX3</td>\n",
       "      <td>none</td>\n",
       "    </tr>\n",
       "    <tr>\n",
       "      <th>4</th>\n",
       "      <td>YSKX3-461</td>\n",
       "      <td>Was the person holding the first thing they to...</td>\n",
       "      <td>No</td>\n",
       "      <td>objRelExists</td>\n",
       "      <td>YSKX3</td>\n",
       "      <td>YSKX3</td>\n",
       "      <td>none</td>\n",
       "    </tr>\n",
       "    <tr>\n",
       "      <th>...</th>\n",
       "      <td>...</td>\n",
       "      <td>...</td>\n",
       "      <td>...</td>\n",
       "      <td>...</td>\n",
       "      <td>...</td>\n",
       "      <td>...</td>\n",
       "      <td>...</td>\n",
       "    </tr>\n",
       "    <tr>\n",
       "      <th>53</th>\n",
       "      <td>LSKA2-2097</td>\n",
       "      <td>Before holding the object they were behind fir...</td>\n",
       "      <td>taking food from somewhere</td>\n",
       "      <td>actWhatBefore</td>\n",
       "      <td>LSKA2</td>\n",
       "      <td>LSKA2</td>\n",
       "      <td>none</td>\n",
       "    </tr>\n",
       "    <tr>\n",
       "      <th>54</th>\n",
       "      <td>LSKA2-2098</td>\n",
       "      <td>What did they do before holding the first thin...</td>\n",
       "      <td>taking food from somewhere</td>\n",
       "      <td>actWhatBefore</td>\n",
       "      <td>LSKA2</td>\n",
       "      <td>LSKA2</td>\n",
       "      <td>none</td>\n",
       "    </tr>\n",
       "    <tr>\n",
       "      <th>55</th>\n",
       "      <td>LSKA2-2099</td>\n",
       "      <td>What was the person doing before holding the t...</td>\n",
       "      <td>taking food from somewhere</td>\n",
       "      <td>actWhatBefore</td>\n",
       "      <td>LSKA2</td>\n",
       "      <td>LSKA2</td>\n",
       "      <td>none</td>\n",
       "    </tr>\n",
       "    <tr>\n",
       "      <th>56</th>\n",
       "      <td>LSKA2-2100</td>\n",
       "      <td>What did the person do before holding the thin...</td>\n",
       "      <td>taking food from somewhere</td>\n",
       "      <td>actWhatBefore</td>\n",
       "      <td>LSKA2</td>\n",
       "      <td>LSKA2</td>\n",
       "      <td>none</td>\n",
       "    </tr>\n",
       "    <tr>\n",
       "      <th>57</th>\n",
       "      <td>LSKA2-2101</td>\n",
       "      <td>Before holding the object they were taking, wh...</td>\n",
       "      <td>taking food from somewhere</td>\n",
       "      <td>actWhatBefore</td>\n",
       "      <td>LSKA2</td>\n",
       "      <td>LSKA2</td>\n",
       "      <td>none</td>\n",
       "    </tr>\n",
       "  </tbody>\n",
       "</table>\n",
       "<p>619348 rows × 7 columns</p>\n",
       "</div>"
      ],
      "text/plain": [
       "           key                                           question  \\\n",
       "0      YSKX3-8  Were they interacting with a blanket while hol...   \n",
       "1      YSKX3-9  Was a blanket one of the things they were inte...   \n",
       "2     YSKX3-11  Is there a pillow the person interacts with af...   \n",
       "3     YSKX3-13               Were they interacting with a pillow?   \n",
       "4    YSKX3-461  Was the person holding the first thing they to...   \n",
       "..         ...                                                ...   \n",
       "53  LSKA2-2097  Before holding the object they were behind fir...   \n",
       "54  LSKA2-2098  What did they do before holding the first thin...   \n",
       "55  LSKA2-2099  What was the person doing before holding the t...   \n",
       "56  LSKA2-2100  What did the person do before holding the thin...   \n",
       "57  LSKA2-2101  Before holding the object they were taking, wh...   \n",
       "\n",
       "                        answer           type vid_id gif_name description  \n",
       "0                           No      objExists  YSKX3    YSKX3        none  \n",
       "1                          Yes      objExists  YSKX3    YSKX3        none  \n",
       "2                          Yes      objExists  YSKX3    YSKX3        none  \n",
       "3                          Yes      objExists  YSKX3    YSKX3        none  \n",
       "4                           No   objRelExists  YSKX3    YSKX3        none  \n",
       "..                         ...            ...    ...      ...         ...  \n",
       "53  taking food from somewhere  actWhatBefore  LSKA2    LSKA2        none  \n",
       "54  taking food from somewhere  actWhatBefore  LSKA2    LSKA2        none  \n",
       "55  taking food from somewhere  actWhatBefore  LSKA2    LSKA2        none  \n",
       "56  taking food from somewhere  actWhatBefore  LSKA2    LSKA2        none  \n",
       "57  taking food from somewhere  actWhatBefore  LSKA2    LSKA2        none  \n",
       "\n",
       "[619348 rows x 7 columns]"
      ]
     },
     "execution_count": 8,
     "metadata": {},
     "output_type": "execute_result"
    }
   ],
   "source": [
    "toTGIF(d_path, 'test', bal_txt)"
   ]
  },
  {
   "cell_type": "code",
   "execution_count": 9,
   "metadata": {},
   "outputs": [],
   "source": [
    "# load the pickles\n",
    "# drop other columns\n",
    "# attach together\n",
    "training = pd.read_csv('../exports/%s/other_formats/train-balanced-tgif.csv' % d_path)\n",
    "testing = pd.read_csv('../exports/%s/other_formats/test-balanced-tgif.csv' % d_path)"
   ]
  },
  {
   "cell_type": "code",
   "execution_count": 10,
   "metadata": {
    "scrolled": true
   },
   "outputs": [
    {
     "data": {
      "text/html": [
       "<div>\n",
       "<style scoped>\n",
       "    .dataframe tbody tr th:only-of-type {\n",
       "        vertical-align: middle;\n",
       "    }\n",
       "\n",
       "    .dataframe tbody tr th {\n",
       "        vertical-align: top;\n",
       "    }\n",
       "\n",
       "    .dataframe thead th {\n",
       "        text-align: right;\n",
       "    }\n",
       "</style>\n",
       "<table border=\"1\" class=\"dataframe\">\n",
       "  <thead>\n",
       "    <tr style=\"text-align: right;\">\n",
       "      <th></th>\n",
       "      <th>key</th>\n",
       "      <th>question</th>\n",
       "      <th>answer</th>\n",
       "      <th>type</th>\n",
       "      <th>vid_id</th>\n",
       "      <th>gif_name</th>\n",
       "      <th>description</th>\n",
       "    </tr>\n",
       "  </thead>\n",
       "  <tbody>\n",
       "    <tr>\n",
       "      <th>0</th>\n",
       "      <td>46GP8-5</td>\n",
       "      <td>In the video, did they interact with a window?</td>\n",
       "      <td>Yes</td>\n",
       "      <td>objExists</td>\n",
       "      <td>46GP8</td>\n",
       "      <td>46GP8</td>\n",
       "      <td>none</td>\n",
       "    </tr>\n",
       "    <tr>\n",
       "      <th>1</th>\n",
       "      <td>46GP8-40</td>\n",
       "      <td>Were they interacting with a table?</td>\n",
       "      <td>No</td>\n",
       "      <td>objExists</td>\n",
       "      <td>46GP8</td>\n",
       "      <td>46GP8</td>\n",
       "      <td>none</td>\n",
       "    </tr>\n",
       "    <tr>\n",
       "      <th>2</th>\n",
       "      <td>46GP8-388</td>\n",
       "      <td>Which object did the person interact with afte...</td>\n",
       "      <td>window</td>\n",
       "      <td>objWhatGeneral</td>\n",
       "      <td>46GP8</td>\n",
       "      <td>46GP8</td>\n",
       "      <td>none</td>\n",
       "    </tr>\n",
       "    <tr>\n",
       "      <th>3</th>\n",
       "      <td>46GP8-389</td>\n",
       "      <td>Before watching outside of a window, what was ...</td>\n",
       "      <td>food</td>\n",
       "      <td>objWhat</td>\n",
       "      <td>46GP8</td>\n",
       "      <td>46GP8</td>\n",
       "      <td>none</td>\n",
       "    </tr>\n",
       "    <tr>\n",
       "      <th>4</th>\n",
       "      <td>46GP8-390</td>\n",
       "      <td>In the video, which object were they holding?</td>\n",
       "      <td>food</td>\n",
       "      <td>objWhat</td>\n",
       "      <td>46GP8</td>\n",
       "      <td>46GP8</td>\n",
       "      <td>none</td>\n",
       "    </tr>\n",
       "    <tr>\n",
       "      <th>...</th>\n",
       "      <td>...</td>\n",
       "      <td>...</td>\n",
       "      <td>...</td>\n",
       "      <td>...</td>\n",
       "      <td>...</td>\n",
       "      <td>...</td>\n",
       "      <td>...</td>\n",
       "    </tr>\n",
       "    <tr>\n",
       "      <th>619343</th>\n",
       "      <td>LSKA2-2097</td>\n",
       "      <td>Before holding the object they were behind fir...</td>\n",
       "      <td>taking food from somewhere</td>\n",
       "      <td>actWhatBefore</td>\n",
       "      <td>LSKA2</td>\n",
       "      <td>LSKA2</td>\n",
       "      <td>none</td>\n",
       "    </tr>\n",
       "    <tr>\n",
       "      <th>619344</th>\n",
       "      <td>LSKA2-2098</td>\n",
       "      <td>What did they do before holding the first thin...</td>\n",
       "      <td>taking food from somewhere</td>\n",
       "      <td>actWhatBefore</td>\n",
       "      <td>LSKA2</td>\n",
       "      <td>LSKA2</td>\n",
       "      <td>none</td>\n",
       "    </tr>\n",
       "    <tr>\n",
       "      <th>619345</th>\n",
       "      <td>LSKA2-2099</td>\n",
       "      <td>What was the person doing before holding the t...</td>\n",
       "      <td>taking food from somewhere</td>\n",
       "      <td>actWhatBefore</td>\n",
       "      <td>LSKA2</td>\n",
       "      <td>LSKA2</td>\n",
       "      <td>none</td>\n",
       "    </tr>\n",
       "    <tr>\n",
       "      <th>619346</th>\n",
       "      <td>LSKA2-2100</td>\n",
       "      <td>What did the person do before holding the thin...</td>\n",
       "      <td>taking food from somewhere</td>\n",
       "      <td>actWhatBefore</td>\n",
       "      <td>LSKA2</td>\n",
       "      <td>LSKA2</td>\n",
       "      <td>none</td>\n",
       "    </tr>\n",
       "    <tr>\n",
       "      <th>619347</th>\n",
       "      <td>LSKA2-2101</td>\n",
       "      <td>Before holding the object they were taking, wh...</td>\n",
       "      <td>taking food from somewhere</td>\n",
       "      <td>actWhatBefore</td>\n",
       "      <td>LSKA2</td>\n",
       "      <td>LSKA2</td>\n",
       "      <td>none</td>\n",
       "    </tr>\n",
       "  </tbody>\n",
       "</table>\n",
       "<p>2258577 rows × 7 columns</p>\n",
       "</div>"
      ],
      "text/plain": [
       "               key                                           question  \\\n",
       "0          46GP8-5     In the video, did they interact with a window?   \n",
       "1         46GP8-40                Were they interacting with a table?   \n",
       "2        46GP8-388  Which object did the person interact with afte...   \n",
       "3        46GP8-389  Before watching outside of a window, what was ...   \n",
       "4        46GP8-390      In the video, which object were they holding?   \n",
       "...            ...                                                ...   \n",
       "619343  LSKA2-2097  Before holding the object they were behind fir...   \n",
       "619344  LSKA2-2098  What did they do before holding the first thin...   \n",
       "619345  LSKA2-2099  What was the person doing before holding the t...   \n",
       "619346  LSKA2-2100  What did the person do before holding the thin...   \n",
       "619347  LSKA2-2101  Before holding the object they were taking, wh...   \n",
       "\n",
       "                            answer            type vid_id gif_name description  \n",
       "0                              Yes       objExists  46GP8    46GP8        none  \n",
       "1                               No       objExists  46GP8    46GP8        none  \n",
       "2                           window  objWhatGeneral  46GP8    46GP8        none  \n",
       "3                             food         objWhat  46GP8    46GP8        none  \n",
       "4                             food         objWhat  46GP8    46GP8        none  \n",
       "...                            ...             ...    ...      ...         ...  \n",
       "619343  taking food from somewhere   actWhatBefore  LSKA2    LSKA2        none  \n",
       "619344  taking food from somewhere   actWhatBefore  LSKA2    LSKA2        none  \n",
       "619345  taking food from somewhere   actWhatBefore  LSKA2    LSKA2        none  \n",
       "619346  taking food from somewhere   actWhatBefore  LSKA2    LSKA2        none  \n",
       "619347  taking food from somewhere   actWhatBefore  LSKA2    LSKA2        none  \n",
       "\n",
       "[2258577 rows x 7 columns]"
      ]
     },
     "execution_count": 10,
     "metadata": {},
     "output_type": "execute_result"
    }
   ],
   "source": [
    "\n",
    "total = pd.concat([training, testing])\n",
    "total"
   ]
  },
  {
   "cell_type": "code",
   "execution_count": 11,
   "metadata": {},
   "outputs": [],
   "source": [
    "total.to_csv('../exports/%s/other_formats/Total-question.csv' % d_path, index = None)"
   ]
  },
  {
   "cell_type": "markdown",
   "metadata": {},
   "source": [
    "# novel compo"
   ]
  },
  {
   "cell_type": "code",
   "execution_count": 12,
   "metadata": {
    "scrolled": true
   },
   "outputs": [],
   "source": [
    "train_novel_comp = pickleLoad('../exports/dataset/metrics/balanced/train/illegal_comp.pkl')\n",
    "test_novel_comp = pickleLoad('../exports/dataset/metrics/balanced/test/illegal_comp.pkl')"
   ]
  },
  {
   "cell_type": "code",
   "execution_count": 98,
   "metadata": {},
   "outputs": [],
   "source": [
    "# Testing to CSV\n",
    "#46GP8, N11GT, KRF68, MJO7C, S6MPZ\n",
    "\n",
    "def toDataframeCompo(v_id, QA, compo):\n",
    "    df = pd.DataFrame.from_dict(QA, orient=\"index\")\n",
    "    df['vid_id'] = v_id\n",
    "    #df.index = v_id\n",
    "    df['gif_name'] = v_id\n",
    "    #df = df.drop(columns=['attributes', 'global', 'local', 'steps', 'metrics'])\n",
    "    \n",
    "    # NEW!\n",
    "    #df = df.drop(columns=['attributes', 'global', 'id', 'local', 'steps', 'metrics', 'program', 'sg_grounding'])\n",
    "    #df = df.reset_index()\n",
    "    df['index'] = df.index\n",
    "    df = df.rename(columns={'index': 'key'})\n",
    "    #df = df.rename(columns={'id': 'key'})\n",
    "    \n",
    "    #df.set_index(\"key\", inplace=True)\n",
    "    # delete ones in compo\n",
    "    if v_id in compo:\n",
    "        to_del = list(set(compo[v_id]))\n",
    "        df.drop(to_del, inplace=True)\n",
    "        #for i in to_del:\n",
    "        #    print(i)\n",
    "        #    print('YSKX3-11210' in df.key.values)\n",
    "        #    df.drop(i, inplace=True)\n",
    "\n",
    "    #print()\n",
    "    #print(df.shape)\n",
    "    #print(len(to_del))\n",
    "    #print(df.shape)\n",
    "    #if (df.shape[0] > 0):\n",
    "    #    print(df.shape)\n",
    "    return df\n",
    "\n",
    "\n",
    "def toTGIFCompo(d_path, group, bal_txt):\n",
    "    dataframes = []\n",
    "    if group == 'train':\n",
    "        our_data = train_stsgs\n",
    "        compo = train_novel_comp\n",
    "    if group == 'test':\n",
    "        our_data = test_stsgs\n",
    "        compo = test_novel_comp\n",
    "        \n",
    "    cnt = 0\n",
    "    for v_id in our_data:\n",
    "        if cnt % 100 == 0:\n",
    "            print(cnt)\n",
    "        cnt = cnt + 1\n",
    "        QA = getQA(d_path, group, bal_txt, v_id)\n",
    "        #print('len QA', len(QA))\n",
    "        df = toDataframeCompo(v_id, QA, compo)\n",
    "        #print(df.columns)\n",
    "        # if it's empty continue\n",
    "        if 'attributes' not in df.columns:\n",
    "            continue\n",
    "        df = df.drop(columns=['attributes', 'global', 'local', 'steps', 'metrics', 'program', 'sg_grounding'])\n",
    "        df['description'] = \"none\"\n",
    "        dataframes.append(df)\n",
    "    total = pd.concat(dataframes)\n",
    "    print('saving to ', '../exports/%s/other_formats/%s-%s-tgif-compo.csv' % (d_path, group, bal_txt))\n",
    "    total.to_csv('../exports/%s/other_formats/%s-%s-tgif-compo.csv' % (d_path, group, bal_txt), index = None)\n",
    "    return total\n"
   ]
  },
  {
   "cell_type": "code",
   "execution_count": 100,
   "metadata": {},
   "outputs": [
    {
     "name": "stdout",
     "output_type": "stream",
     "text": [
      "0\n",
      "100\n",
      "200\n",
      "300\n",
      "400\n",
      "500\n",
      "600\n",
      "700\n",
      "800\n",
      "900\n",
      "1000\n",
      "1100\n",
      "1200\n",
      "1300\n",
      "1400\n",
      "1500\n",
      "1600\n",
      "1700\n",
      "1800\n",
      "saving to  ../exports/dataset_fixed/other_formats/test-balanced-tgif-compo.csv\n"
     ]
    }
   ],
   "source": [
    "test_compo = toTGIFCompo('dataset_fixed', 'test', 'balanced')"
   ]
  },
  {
   "cell_type": "code",
   "execution_count": 101,
   "metadata": {},
   "outputs": [
    {
     "name": "stdout",
     "output_type": "stream",
     "text": [
      "0\n",
      "100\n",
      "200\n",
      "300\n",
      "400\n",
      "500\n",
      "600\n",
      "700\n",
      "800\n",
      "900\n",
      "1000\n",
      "1100\n",
      "1200\n",
      "1300\n",
      "1400\n",
      "1500\n",
      "1600\n",
      "1700\n",
      "1800\n",
      "1900\n",
      "2000\n",
      "2100\n",
      "2200\n",
      "2300\n",
      "2400\n",
      "2500\n",
      "2600\n",
      "2700\n",
      "2800\n",
      "2900\n",
      "3000\n",
      "3100\n",
      "3200\n",
      "3300\n",
      "3400\n",
      "3500\n",
      "3600\n",
      "3700\n",
      "3800\n",
      "3900\n",
      "4000\n",
      "4100\n",
      "4200\n",
      "4300\n",
      "4400\n",
      "4500\n",
      "4600\n",
      "4700\n",
      "4800\n",
      "4900\n",
      "5000\n",
      "5100\n",
      "5200\n",
      "5300\n",
      "5400\n",
      "5500\n",
      "5600\n",
      "5700\n",
      "5800\n",
      "5900\n",
      "6000\n",
      "6100\n",
      "6200\n",
      "6300\n",
      "6400\n",
      "6500\n",
      "6600\n",
      "6700\n",
      "6800\n",
      "6900\n",
      "7000\n",
      "7100\n",
      "7200\n",
      "7300\n",
      "7400\n",
      "7500\n",
      "7600\n",
      "7700\n",
      "saving to  ../exports/dataset_fixed/other_formats/train-balanced-tgif-compo.csv\n"
     ]
    }
   ],
   "source": [
    "train_compo = toTGIFCompo('dataset_fixed', 'train', 'balanced')"
   ]
  },
  {
   "cell_type": "code",
   "execution_count": 102,
   "metadata": {},
   "outputs": [],
   "source": [
    "# load the pickles\n",
    "# drop other columns\n",
    "# attach together\n",
    "\n",
    "d_path = 'dataset_fixed'\n",
    "training = pd.read_csv('../exports/%s/other_formats/train-balanced-tgif-compo.csv' % d_path)\n",
    "testing = pd.read_csv('../exports/%s/other_formats/test-balanced-tgif-compo.csv' % d_path)"
   ]
  },
  {
   "cell_type": "code",
   "execution_count": 103,
   "metadata": {},
   "outputs": [
    {
     "data": {
      "text/html": [
       "<div>\n",
       "<style scoped>\n",
       "    .dataframe tbody tr th:only-of-type {\n",
       "        vertical-align: middle;\n",
       "    }\n",
       "\n",
       "    .dataframe tbody tr th {\n",
       "        vertical-align: top;\n",
       "    }\n",
       "\n",
       "    .dataframe thead th {\n",
       "        text-align: right;\n",
       "    }\n",
       "</style>\n",
       "<table border=\"1\" class=\"dataframe\">\n",
       "  <thead>\n",
       "    <tr style=\"text-align: right;\">\n",
       "      <th></th>\n",
       "      <th>question</th>\n",
       "      <th>answer</th>\n",
       "      <th>id</th>\n",
       "      <th>vid_id</th>\n",
       "      <th>gif_name</th>\n",
       "      <th>key</th>\n",
       "      <th>description</th>\n",
       "    </tr>\n",
       "  </thead>\n",
       "  <tbody>\n",
       "    <tr>\n",
       "      <th>0</th>\n",
       "      <td>Is there some food the person contacts?</td>\n",
       "      <td>Yes</td>\n",
       "      <td>46GP8-2</td>\n",
       "      <td>46GP8</td>\n",
       "      <td>46GP8</td>\n",
       "      <td>46GP8-2</td>\n",
       "      <td>none</td>\n",
       "    </tr>\n",
       "    <tr>\n",
       "      <th>1</th>\n",
       "      <td>Were they touching a window?</td>\n",
       "      <td>Yes</td>\n",
       "      <td>46GP8-6</td>\n",
       "      <td>46GP8</td>\n",
       "      <td>46GP8</td>\n",
       "      <td>46GP8-6</td>\n",
       "      <td>none</td>\n",
       "    </tr>\n",
       "    <tr>\n",
       "      <th>2</th>\n",
       "      <td>Is there a table the person contacts?</td>\n",
       "      <td>No</td>\n",
       "      <td>46GP8-36</td>\n",
       "      <td>46GP8</td>\n",
       "      <td>46GP8</td>\n",
       "      <td>46GP8-36</td>\n",
       "      <td>none</td>\n",
       "    </tr>\n",
       "    <tr>\n",
       "      <th>3</th>\n",
       "      <td>In the video, did they touch a broom?</td>\n",
       "      <td>No</td>\n",
       "      <td>46GP8-54</td>\n",
       "      <td>46GP8</td>\n",
       "      <td>46GP8</td>\n",
       "      <td>46GP8-54</td>\n",
       "      <td>none</td>\n",
       "    </tr>\n",
       "    <tr>\n",
       "      <th>4</th>\n",
       "      <td>Was a blanket one of the things they were cont...</td>\n",
       "      <td>No</td>\n",
       "      <td>46GP8-60</td>\n",
       "      <td>46GP8</td>\n",
       "      <td>46GP8</td>\n",
       "      <td>46GP8-60</td>\n",
       "      <td>none</td>\n",
       "    </tr>\n",
       "    <tr>\n",
       "      <th>...</th>\n",
       "      <td>...</td>\n",
       "      <td>...</td>\n",
       "      <td>...</td>\n",
       "      <td>...</td>\n",
       "      <td>...</td>\n",
       "      <td>...</td>\n",
       "      <td>...</td>\n",
       "    </tr>\n",
       "    <tr>\n",
       "      <th>168382</th>\n",
       "      <td>Was the person walking through a doorway befor...</td>\n",
       "      <td>after</td>\n",
       "      <td>LSKA2-3</td>\n",
       "      <td>LSKA2</td>\n",
       "      <td>LSKA2</td>\n",
       "      <td>LSKA2-5391</td>\n",
       "      <td>none</td>\n",
       "    </tr>\n",
       "    <tr>\n",
       "      <th>168383</th>\n",
       "      <td>Were they walking through a doorway before or ...</td>\n",
       "      <td>after</td>\n",
       "      <td>LSKA2-4</td>\n",
       "      <td>LSKA2</td>\n",
       "      <td>LSKA2</td>\n",
       "      <td>LSKA2-5394</td>\n",
       "      <td>none</td>\n",
       "    </tr>\n",
       "    <tr>\n",
       "      <th>168384</th>\n",
       "      <td>Were they walking through a doorway before or ...</td>\n",
       "      <td>after</td>\n",
       "      <td>LSKA2-5</td>\n",
       "      <td>LSKA2</td>\n",
       "      <td>LSKA2</td>\n",
       "      <td>LSKA2-5395</td>\n",
       "      <td>none</td>\n",
       "    </tr>\n",
       "    <tr>\n",
       "      <th>168385</th>\n",
       "      <td>Was the person walking through a doorway befor...</td>\n",
       "      <td>after</td>\n",
       "      <td>LSKA2-3</td>\n",
       "      <td>LSKA2</td>\n",
       "      <td>LSKA2</td>\n",
       "      <td>LSKA2-5393</td>\n",
       "      <td>none</td>\n",
       "    </tr>\n",
       "    <tr>\n",
       "      <th>168386</th>\n",
       "      <td>Were they walking through a doorway before or ...</td>\n",
       "      <td>after</td>\n",
       "      <td>LSKA2-4</td>\n",
       "      <td>LSKA2</td>\n",
       "      <td>LSKA2</td>\n",
       "      <td>LSKA2-5392</td>\n",
       "      <td>none</td>\n",
       "    </tr>\n",
       "  </tbody>\n",
       "</table>\n",
       "<p>2319037 rows × 7 columns</p>\n",
       "</div>"
      ],
      "text/plain": [
       "                                                 question answer        id  \\\n",
       "0                 Is there some food the person contacts?    Yes   46GP8-2   \n",
       "1                            Were they touching a window?    Yes   46GP8-6   \n",
       "2                   Is there a table the person contacts?     No  46GP8-36   \n",
       "3                   In the video, did they touch a broom?     No  46GP8-54   \n",
       "4       Was a blanket one of the things they were cont...     No  46GP8-60   \n",
       "...                                                   ...    ...       ...   \n",
       "168382  Was the person walking through a doorway befor...  after   LSKA2-3   \n",
       "168383  Were they walking through a doorway before or ...  after   LSKA2-4   \n",
       "168384  Were they walking through a doorway before or ...  after   LSKA2-5   \n",
       "168385  Was the person walking through a doorway befor...  after   LSKA2-3   \n",
       "168386  Were they walking through a doorway before or ...  after   LSKA2-4   \n",
       "\n",
       "       vid_id gif_name         key description  \n",
       "0       46GP8    46GP8     46GP8-2        none  \n",
       "1       46GP8    46GP8     46GP8-6        none  \n",
       "2       46GP8    46GP8    46GP8-36        none  \n",
       "3       46GP8    46GP8    46GP8-54        none  \n",
       "4       46GP8    46GP8    46GP8-60        none  \n",
       "...       ...      ...         ...         ...  \n",
       "168382  LSKA2    LSKA2  LSKA2-5391        none  \n",
       "168383  LSKA2    LSKA2  LSKA2-5394        none  \n",
       "168384  LSKA2    LSKA2  LSKA2-5395        none  \n",
       "168385  LSKA2    LSKA2  LSKA2-5393        none  \n",
       "168386  LSKA2    LSKA2  LSKA2-5392        none  \n",
       "\n",
       "[2319037 rows x 7 columns]"
      ]
     },
     "execution_count": 103,
     "metadata": {},
     "output_type": "execute_result"
    }
   ],
   "source": [
    "total = pd.concat([training, testing])\n",
    "total"
   ]
  },
  {
   "cell_type": "code",
   "execution_count": 104,
   "metadata": {},
   "outputs": [],
   "source": [
    "total.to_csv('../exports/%s/other_formats/Total-question-compo.csv' % d_path, index = None)"
   ]
  },
  {
   "cell_type": "markdown",
   "metadata": {},
   "source": [
    "# By Compositional Steps"
   ]
  },
  {
   "cell_type": "code",
   "execution_count": 105,
   "metadata": {},
   "outputs": [],
   "source": [
    "# Testing to CSV\n",
    "#46GP8, N11GT, KRF68, MJO7C, S6MPZ\n",
    "\n",
    "def toDataframeSteps(v_id, QA, steps):\n",
    "    df = pd.DataFrame.from_dict(QA, orient=\"index\")\n",
    "    df['vid_id'] = v_id\n",
    "    #df.index = v_id\n",
    "    df['gif_name'] = v_id\n",
    "    #df = df.drop(columns=['attributes', 'global', 'local', 'steps', 'metrics'])\n",
    "    \n",
    "    # new!\n",
    "   # df = df.drop(columns=['attributes', 'global', 'id', 'local', 'steps', 'metrics', 'program', 'sg_grounding'])\n",
    "    df['index'] = df.index\n",
    "    df = df.rename(columns={'index': 'key'})\n",
    "    \n",
    "    #df = df.rename(columns={'id': 'key'})\n",
    "    df['description'] = \"none\"\n",
    "    \n",
    "    if v_id in steps:\n",
    "        to_del = list(set(steps[v_id]))\n",
    "        df.drop(to_del, inplace=True)\n",
    "    \n",
    "    return df\n",
    "\n",
    "\n",
    "def toTGIFSteps(d_path, group, bal_txt, title, steps):\n",
    "    dataframes = []\n",
    "    if group == 'train':\n",
    "        our_data = train_stsgs\n",
    "    if group == 'test':\n",
    "        our_data = test_stsgs\n",
    "        \n",
    "    cnt = 0\n",
    "    for v_id in our_data:\n",
    "        if cnt % 1000 == 0:\n",
    "            print(cnt)\n",
    "        cnt = cnt + 1\n",
    "        QA = getQA(d_path, group, bal_txt, v_id)\n",
    "        #print('len QA', len(QA))\n",
    "        df = toDataframeSteps(v_id, QA, steps)\n",
    "        if 'attributes' not in df.columns:\n",
    "            continue\n",
    "        df = df.drop(columns=['attributes', 'global', 'local', 'steps', 'metrics', 'program', 'sg_grounding'])\n",
    "        dataframes.append(df)\n",
    "    total = pd.concat(dataframes)\n",
    "    total.to_csv('../exports/%s/other_formats/%s-%s-tgif-%s.csv' % (d_path, group, bal_txt, title), index = None)\n",
    "    return total\n"
   ]
  },
  {
   "cell_type": "code",
   "execution_count": 106,
   "metadata": {},
   "outputs": [],
   "source": [
    "#train_steps_glob = pickleLoad('../exports/dataset/metrics/templ_balanced/train/steps_by_glob.pkl')\n",
    "#test_steps_glob = pickleLoad('../exports/dataset/metrics/balanced/test/steps_by_glob.pkl')\n",
    "train_steps_templ = pickleLoad('../exports/dataset_fixed/metrics/balanced/train/steps_by_templ.pkl')\n",
    "test_steps_templ = pickleLoad('../exports/dataset_fixed/metrics/balanced/test/steps_by_templ.pkl')"
   ]
  },
  {
   "cell_type": "code",
   "execution_count": null,
   "metadata": {},
   "outputs": [],
   "source": []
  },
  {
   "cell_type": "code",
   "execution_count": null,
   "metadata": {},
   "outputs": [],
   "source": [
    "for i in train_steps_templ:\n",
    "    print(i, len(train_steps_templ[i]))\n",
    "    j = train_steps_templ[i]\n",
    "    for k in j:\n",
    "        print(k)\n",
    "        for l in j[k]:\n",
    "            print(l)\n",
    "            break\n",
    "        break"
   ]
  },
  {
   "cell_type": "code",
   "execution_count": null,
   "metadata": {},
   "outputs": [],
   "source": []
  },
  {
   "cell_type": "code",
   "execution_count": 107,
   "metadata": {},
   "outputs": [],
   "source": [
    "# so note to self - want to pass in the part of global to delete\n",
    "d_path = 'dataset_fixed'\n",
    "#glob_split_tr = toTGIFSteps(d_path, 'train', 'balanced', 'steps_glob', train_steps_glob['more'])\n"
   ]
  },
  {
   "cell_type": "code",
   "execution_count": 23,
   "metadata": {
    "scrolled": false
   },
   "outputs": [],
   "source": [
    "#glob_split_te = toTGIFSteps(d_path, 'test', 'balanced', 'steps_glob', test_steps_glob['less'])"
   ]
  },
  {
   "cell_type": "code",
   "execution_count": 24,
   "metadata": {},
   "outputs": [
    {
     "name": "stdout",
     "output_type": "stream",
     "text": [
      "less\n",
      "more\n"
     ]
    }
   ],
   "source": [
    "for i in train_steps_templ:\n",
    "    print(i)"
   ]
  },
  {
   "cell_type": "code",
   "execution_count": 108,
   "metadata": {},
   "outputs": [
    {
     "name": "stdout",
     "output_type": "stream",
     "text": [
      "0\n",
      "1000\n",
      "2000\n",
      "3000\n",
      "4000\n",
      "5000\n",
      "6000\n",
      "7000\n"
     ]
    },
    {
     "data": {
      "text/html": [
       "<div>\n",
       "<style scoped>\n",
       "    .dataframe tbody tr th:only-of-type {\n",
       "        vertical-align: middle;\n",
       "    }\n",
       "\n",
       "    .dataframe tbody tr th {\n",
       "        vertical-align: top;\n",
       "    }\n",
       "\n",
       "    .dataframe thead th {\n",
       "        text-align: right;\n",
       "    }\n",
       "</style>\n",
       "<table border=\"1\" class=\"dataframe\">\n",
       "  <thead>\n",
       "    <tr style=\"text-align: right;\">\n",
       "      <th></th>\n",
       "      <th>question</th>\n",
       "      <th>answer</th>\n",
       "      <th>id</th>\n",
       "      <th>vid_id</th>\n",
       "      <th>gif_name</th>\n",
       "      <th>key</th>\n",
       "      <th>description</th>\n",
       "    </tr>\n",
       "  </thead>\n",
       "  <tbody>\n",
       "    <tr>\n",
       "      <th>46GP8-2</th>\n",
       "      <td>Is there some food the person contacts?</td>\n",
       "      <td>Yes</td>\n",
       "      <td>46GP8-2</td>\n",
       "      <td>46GP8</td>\n",
       "      <td>46GP8</td>\n",
       "      <td>46GP8-2</td>\n",
       "      <td>none</td>\n",
       "    </tr>\n",
       "    <tr>\n",
       "      <th>46GP8-6</th>\n",
       "      <td>Were they touching a window?</td>\n",
       "      <td>Yes</td>\n",
       "      <td>46GP8-6</td>\n",
       "      <td>46GP8</td>\n",
       "      <td>46GP8</td>\n",
       "      <td>46GP8-6</td>\n",
       "      <td>none</td>\n",
       "    </tr>\n",
       "    <tr>\n",
       "      <th>46GP8-36</th>\n",
       "      <td>Is there a table the person contacts?</td>\n",
       "      <td>No</td>\n",
       "      <td>46GP8-36</td>\n",
       "      <td>46GP8</td>\n",
       "      <td>46GP8</td>\n",
       "      <td>46GP8-36</td>\n",
       "      <td>none</td>\n",
       "    </tr>\n",
       "    <tr>\n",
       "      <th>46GP8-54</th>\n",
       "      <td>In the video, did they touch a broom?</td>\n",
       "      <td>No</td>\n",
       "      <td>46GP8-54</td>\n",
       "      <td>46GP8</td>\n",
       "      <td>46GP8</td>\n",
       "      <td>46GP8-54</td>\n",
       "      <td>none</td>\n",
       "    </tr>\n",
       "    <tr>\n",
       "      <th>46GP8-60</th>\n",
       "      <td>Was a blanket one of the things they were cont...</td>\n",
       "      <td>No</td>\n",
       "      <td>46GP8-60</td>\n",
       "      <td>46GP8</td>\n",
       "      <td>46GP8</td>\n",
       "      <td>46GP8-60</td>\n",
       "      <td>none</td>\n",
       "    </tr>\n",
       "    <tr>\n",
       "      <th>...</th>\n",
       "      <td>...</td>\n",
       "      <td>...</td>\n",
       "      <td>...</td>\n",
       "      <td>...</td>\n",
       "      <td>...</td>\n",
       "      <td>...</td>\n",
       "      <td>...</td>\n",
       "    </tr>\n",
       "    <tr>\n",
       "      <th>PG1ID-3422</th>\n",
       "      <td>Were they touching both a laptop and the thing...</td>\n",
       "      <td>Yes</td>\n",
       "      <td>PG1ID-39</td>\n",
       "      <td>PG1ID</td>\n",
       "      <td>PG1ID</td>\n",
       "      <td>PG1ID-3422</td>\n",
       "      <td>none</td>\n",
       "    </tr>\n",
       "    <tr>\n",
       "      <th>PG1ID-3429</th>\n",
       "      <td>Did the person touch both the thing they watch...</td>\n",
       "      <td>Yes</td>\n",
       "      <td>PG1ID-46</td>\n",
       "      <td>PG1ID</td>\n",
       "      <td>PG1ID</td>\n",
       "      <td>PG1ID-3429</td>\n",
       "      <td>none</td>\n",
       "    </tr>\n",
       "    <tr>\n",
       "      <th>PG1ID-3467</th>\n",
       "      <td>Was the person touching a laptop but not a broom?</td>\n",
       "      <td>No</td>\n",
       "      <td>PG1ID-84</td>\n",
       "      <td>PG1ID</td>\n",
       "      <td>PG1ID</td>\n",
       "      <td>PG1ID-3467</td>\n",
       "      <td>none</td>\n",
       "    </tr>\n",
       "    <tr>\n",
       "      <th>PG1ID-3469</th>\n",
       "      <td>Did they touch a laptop but not the thing they...</td>\n",
       "      <td>No</td>\n",
       "      <td>PG1ID-86</td>\n",
       "      <td>PG1ID</td>\n",
       "      <td>PG1ID</td>\n",
       "      <td>PG1ID-3469</td>\n",
       "      <td>none</td>\n",
       "    </tr>\n",
       "    <tr>\n",
       "      <th>PG1ID-3477</th>\n",
       "      <td>Did they touch the thing they watched but not ...</td>\n",
       "      <td>No</td>\n",
       "      <td>PG1ID-94</td>\n",
       "      <td>PG1ID</td>\n",
       "      <td>PG1ID</td>\n",
       "      <td>PG1ID-3477</td>\n",
       "      <td>none</td>\n",
       "    </tr>\n",
       "  </tbody>\n",
       "</table>\n",
       "<p>1698095 rows × 7 columns</p>\n",
       "</div>"
      ],
      "text/plain": [
       "                                                     question answer  \\\n",
       "46GP8-2               Is there some food the person contacts?    Yes   \n",
       "46GP8-6                          Were they touching a window?    Yes   \n",
       "46GP8-36                Is there a table the person contacts?     No   \n",
       "46GP8-54                In the video, did they touch a broom?     No   \n",
       "46GP8-60    Was a blanket one of the things they were cont...     No   \n",
       "...                                                       ...    ...   \n",
       "PG1ID-3422  Were they touching both a laptop and the thing...    Yes   \n",
       "PG1ID-3429  Did the person touch both the thing they watch...    Yes   \n",
       "PG1ID-3467  Was the person touching a laptop but not a broom?     No   \n",
       "PG1ID-3469  Did they touch a laptop but not the thing they...     No   \n",
       "PG1ID-3477  Did they touch the thing they watched but not ...     No   \n",
       "\n",
       "                  id vid_id gif_name         key description  \n",
       "46GP8-2      46GP8-2  46GP8    46GP8     46GP8-2        none  \n",
       "46GP8-6      46GP8-6  46GP8    46GP8     46GP8-6        none  \n",
       "46GP8-36    46GP8-36  46GP8    46GP8    46GP8-36        none  \n",
       "46GP8-54    46GP8-54  46GP8    46GP8    46GP8-54        none  \n",
       "46GP8-60    46GP8-60  46GP8    46GP8    46GP8-60        none  \n",
       "...              ...    ...      ...         ...         ...  \n",
       "PG1ID-3422  PG1ID-39  PG1ID    PG1ID  PG1ID-3422        none  \n",
       "PG1ID-3429  PG1ID-46  PG1ID    PG1ID  PG1ID-3429        none  \n",
       "PG1ID-3467  PG1ID-84  PG1ID    PG1ID  PG1ID-3467        none  \n",
       "PG1ID-3469  PG1ID-86  PG1ID    PG1ID  PG1ID-3469        none  \n",
       "PG1ID-3477  PG1ID-94  PG1ID    PG1ID  PG1ID-3477        none  \n",
       "\n",
       "[1698095 rows x 7 columns]"
      ]
     },
     "execution_count": 108,
     "metadata": {},
     "output_type": "execute_result"
    }
   ],
   "source": [
    "templ_split_tr = 0\n",
    "toTGIFSteps(d_path, 'train', 'balanced', 'steps_templ', train_steps_templ['more'])"
   ]
  },
  {
   "cell_type": "code",
   "execution_count": 109,
   "metadata": {
    "scrolled": true
   },
   "outputs": [
    {
     "name": "stdout",
     "output_type": "stream",
     "text": [
      "0\n",
      "1000\n"
     ]
    },
    {
     "data": {
      "text/html": [
       "<div>\n",
       "<style scoped>\n",
       "    .dataframe tbody tr th:only-of-type {\n",
       "        vertical-align: middle;\n",
       "    }\n",
       "\n",
       "    .dataframe tbody tr th {\n",
       "        vertical-align: top;\n",
       "    }\n",
       "\n",
       "    .dataframe thead th {\n",
       "        text-align: right;\n",
       "    }\n",
       "</style>\n",
       "<table border=\"1\" class=\"dataframe\">\n",
       "  <thead>\n",
       "    <tr style=\"text-align: right;\">\n",
       "      <th></th>\n",
       "      <th>question</th>\n",
       "      <th>answer</th>\n",
       "      <th>id</th>\n",
       "      <th>vid_id</th>\n",
       "      <th>gif_name</th>\n",
       "      <th>key</th>\n",
       "      <th>description</th>\n",
       "    </tr>\n",
       "  </thead>\n",
       "  <tbody>\n",
       "    <tr>\n",
       "      <th>YSKX3-2053</th>\n",
       "      <td>After tidying up a blanket, was there a point ...</td>\n",
       "      <td>Yes</td>\n",
       "      <td>YSKX3-2053</td>\n",
       "      <td>YSKX3</td>\n",
       "      <td>YSKX3</td>\n",
       "      <td>YSKX3-2053</td>\n",
       "      <td>none</td>\n",
       "    </tr>\n",
       "    <tr>\n",
       "      <th>YSKX3-2236</th>\n",
       "      <td>Is there a pillow the person contacts after ti...</td>\n",
       "      <td>Yes</td>\n",
       "      <td>YSKX3-2236</td>\n",
       "      <td>YSKX3</td>\n",
       "      <td>YSKX3</td>\n",
       "      <td>YSKX3-2236</td>\n",
       "      <td>none</td>\n",
       "    </tr>\n",
       "    <tr>\n",
       "      <th>YSKX3-5152</th>\n",
       "      <td>Before taking the object they were touching la...</td>\n",
       "      <td>Yes</td>\n",
       "      <td>YSKX3-5152</td>\n",
       "      <td>YSKX3</td>\n",
       "      <td>YSKX3</td>\n",
       "      <td>YSKX3-5152</td>\n",
       "      <td>none</td>\n",
       "    </tr>\n",
       "    <tr>\n",
       "      <th>YSKX3-5162</th>\n",
       "      <td>Was the person tidying something before holdin...</td>\n",
       "      <td>Yes</td>\n",
       "      <td>YSKX3-5162</td>\n",
       "      <td>YSKX3</td>\n",
       "      <td>YSKX3</td>\n",
       "      <td>YSKX3-5162</td>\n",
       "      <td>none</td>\n",
       "    </tr>\n",
       "    <tr>\n",
       "      <th>YSKX3-7179</th>\n",
       "      <td>Was the person tidying up a blanket before put...</td>\n",
       "      <td>Yes</td>\n",
       "      <td>YSKX3-7179</td>\n",
       "      <td>YSKX3</td>\n",
       "      <td>YSKX3</td>\n",
       "      <td>YSKX3-7179</td>\n",
       "      <td>none</td>\n",
       "    </tr>\n",
       "    <tr>\n",
       "      <th>...</th>\n",
       "      <td>...</td>\n",
       "      <td>...</td>\n",
       "      <td>...</td>\n",
       "      <td>...</td>\n",
       "      <td>...</td>\n",
       "      <td>...</td>\n",
       "      <td>...</td>\n",
       "    </tr>\n",
       "    <tr>\n",
       "      <th>D8K7T-3815</th>\n",
       "      <td>Between holding a pillow and throwing the firs...</td>\n",
       "      <td>floor</td>\n",
       "      <td>D8K7T-609</td>\n",
       "      <td>D8K7T</td>\n",
       "      <td>D8K7T</td>\n",
       "      <td>D8K7T-3815</td>\n",
       "      <td>none</td>\n",
       "    </tr>\n",
       "    <tr>\n",
       "      <th>D8K7T-3824</th>\n",
       "      <td>Between holding a pillow and throwing the firs...</td>\n",
       "      <td>doorway</td>\n",
       "      <td>D8K7T-612</td>\n",
       "      <td>D8K7T</td>\n",
       "      <td>D8K7T</td>\n",
       "      <td>D8K7T-3824</td>\n",
       "      <td>none</td>\n",
       "    </tr>\n",
       "    <tr>\n",
       "      <th>D8K7T-3826</th>\n",
       "      <td>What did they walk between holding a pillow an...</td>\n",
       "      <td>doorway</td>\n",
       "      <td>D8K7T-613</td>\n",
       "      <td>D8K7T</td>\n",
       "      <td>D8K7T</td>\n",
       "      <td>D8K7T-3826</td>\n",
       "      <td>none</td>\n",
       "    </tr>\n",
       "    <tr>\n",
       "      <th>LSKA2-5387</th>\n",
       "      <td>What was the person starting to do first after...</td>\n",
       "      <td>holding some food</td>\n",
       "      <td>LSKA2-5387</td>\n",
       "      <td>LSKA2</td>\n",
       "      <td>LSKA2</td>\n",
       "      <td>LSKA2-5387</td>\n",
       "      <td>none</td>\n",
       "    </tr>\n",
       "    <tr>\n",
       "      <th>LSKA2-5390</th>\n",
       "      <td>What did they start to do first after taking t...</td>\n",
       "      <td>holding some food</td>\n",
       "      <td>LSKA2-5390</td>\n",
       "      <td>LSKA2</td>\n",
       "      <td>LSKA2</td>\n",
       "      <td>LSKA2-5390</td>\n",
       "      <td>none</td>\n",
       "    </tr>\n",
       "  </tbody>\n",
       "</table>\n",
       "<p>371299 rows × 7 columns</p>\n",
       "</div>"
      ],
      "text/plain": [
       "                                                     question  \\\n",
       "YSKX3-2053  After tidying up a blanket, was there a point ...   \n",
       "YSKX3-2236  Is there a pillow the person contacts after ti...   \n",
       "YSKX3-5152  Before taking the object they were touching la...   \n",
       "YSKX3-5162  Was the person tidying something before holdin...   \n",
       "YSKX3-7179  Was the person tidying up a blanket before put...   \n",
       "...                                                       ...   \n",
       "D8K7T-3815  Between holding a pillow and throwing the firs...   \n",
       "D8K7T-3824  Between holding a pillow and throwing the firs...   \n",
       "D8K7T-3826  What did they walk between holding a pillow an...   \n",
       "LSKA2-5387  What was the person starting to do first after...   \n",
       "LSKA2-5390  What did they start to do first after taking t...   \n",
       "\n",
       "                       answer          id vid_id gif_name         key  \\\n",
       "YSKX3-2053                Yes  YSKX3-2053  YSKX3    YSKX3  YSKX3-2053   \n",
       "YSKX3-2236                Yes  YSKX3-2236  YSKX3    YSKX3  YSKX3-2236   \n",
       "YSKX3-5152                Yes  YSKX3-5152  YSKX3    YSKX3  YSKX3-5152   \n",
       "YSKX3-5162                Yes  YSKX3-5162  YSKX3    YSKX3  YSKX3-5162   \n",
       "YSKX3-7179                Yes  YSKX3-7179  YSKX3    YSKX3  YSKX3-7179   \n",
       "...                       ...         ...    ...      ...         ...   \n",
       "D8K7T-3815              floor   D8K7T-609  D8K7T    D8K7T  D8K7T-3815   \n",
       "D8K7T-3824            doorway   D8K7T-612  D8K7T    D8K7T  D8K7T-3824   \n",
       "D8K7T-3826            doorway   D8K7T-613  D8K7T    D8K7T  D8K7T-3826   \n",
       "LSKA2-5387  holding some food  LSKA2-5387  LSKA2    LSKA2  LSKA2-5387   \n",
       "LSKA2-5390  holding some food  LSKA2-5390  LSKA2    LSKA2  LSKA2-5390   \n",
       "\n",
       "           description  \n",
       "YSKX3-2053        none  \n",
       "YSKX3-2236        none  \n",
       "YSKX3-5152        none  \n",
       "YSKX3-5162        none  \n",
       "YSKX3-7179        none  \n",
       "...                ...  \n",
       "D8K7T-3815        none  \n",
       "D8K7T-3824        none  \n",
       "D8K7T-3826        none  \n",
       "LSKA2-5387        none  \n",
       "LSKA2-5390        none  \n",
       "\n",
       "[371299 rows x 7 columns]"
      ]
     },
     "execution_count": 109,
     "metadata": {},
     "output_type": "execute_result"
    }
   ],
   "source": [
    "templ_split_te = 0\n",
    "toTGIFSteps(d_path, 'test', 'balanced', 'steps_templ', test_steps_templ['less'])"
   ]
  },
  {
   "cell_type": "code",
   "execution_count": 110,
   "metadata": {},
   "outputs": [],
   "source": [
    "\n",
    "steps_tr = pd.read_csv('../exports/%s/other_formats/train-balanced-tgif-steps_templ.csv' % d_path)"
   ]
  },
  {
   "cell_type": "code",
   "execution_count": 28,
   "metadata": {},
   "outputs": [
    {
     "data": {
      "text/plain": [
       "Index(['question', 'answer', 'key', 'vid_id', 'gif_name', 'description'], dtype='object')"
      ]
     },
     "execution_count": 28,
     "metadata": {},
     "output_type": "execute_result"
    }
   ],
   "source": [
    "steps_tr.columns"
   ]
  },
  {
   "cell_type": "code",
   "execution_count": 29,
   "metadata": {},
   "outputs": [],
   "source": [
    "x = steps_tr['key'].values"
   ]
  },
  {
   "cell_type": "code",
   "execution_count": 111,
   "metadata": {},
   "outputs": [],
   "source": [
    "\n",
    "training = pd.read_csv('../exports/%s/other_formats/train-balanced-tgif-steps_templ.csv' % d_path)\n",
    "testing = pd.read_csv('../exports/%s/other_formats/test-balanced-tgif-steps_templ.csv' % d_path)"
   ]
  },
  {
   "cell_type": "code",
   "execution_count": 112,
   "metadata": {},
   "outputs": [
    {
     "data": {
      "text/html": [
       "<div>\n",
       "<style scoped>\n",
       "    .dataframe tbody tr th:only-of-type {\n",
       "        vertical-align: middle;\n",
       "    }\n",
       "\n",
       "    .dataframe tbody tr th {\n",
       "        vertical-align: top;\n",
       "    }\n",
       "\n",
       "    .dataframe thead th {\n",
       "        text-align: right;\n",
       "    }\n",
       "</style>\n",
       "<table border=\"1\" class=\"dataframe\">\n",
       "  <thead>\n",
       "    <tr style=\"text-align: right;\">\n",
       "      <th></th>\n",
       "      <th>question</th>\n",
       "      <th>answer</th>\n",
       "      <th>id</th>\n",
       "      <th>vid_id</th>\n",
       "      <th>gif_name</th>\n",
       "      <th>key</th>\n",
       "      <th>description</th>\n",
       "    </tr>\n",
       "  </thead>\n",
       "  <tbody>\n",
       "    <tr>\n",
       "      <th>0</th>\n",
       "      <td>Is there some food the person contacts?</td>\n",
       "      <td>Yes</td>\n",
       "      <td>46GP8-2</td>\n",
       "      <td>46GP8</td>\n",
       "      <td>46GP8</td>\n",
       "      <td>46GP8-2</td>\n",
       "      <td>none</td>\n",
       "    </tr>\n",
       "    <tr>\n",
       "      <th>1</th>\n",
       "      <td>Were they touching a window?</td>\n",
       "      <td>Yes</td>\n",
       "      <td>46GP8-6</td>\n",
       "      <td>46GP8</td>\n",
       "      <td>46GP8</td>\n",
       "      <td>46GP8-6</td>\n",
       "      <td>none</td>\n",
       "    </tr>\n",
       "    <tr>\n",
       "      <th>2</th>\n",
       "      <td>Is there a table the person contacts?</td>\n",
       "      <td>No</td>\n",
       "      <td>46GP8-36</td>\n",
       "      <td>46GP8</td>\n",
       "      <td>46GP8</td>\n",
       "      <td>46GP8-36</td>\n",
       "      <td>none</td>\n",
       "    </tr>\n",
       "    <tr>\n",
       "      <th>3</th>\n",
       "      <td>In the video, did they touch a broom?</td>\n",
       "      <td>No</td>\n",
       "      <td>46GP8-54</td>\n",
       "      <td>46GP8</td>\n",
       "      <td>46GP8</td>\n",
       "      <td>46GP8-54</td>\n",
       "      <td>none</td>\n",
       "    </tr>\n",
       "    <tr>\n",
       "      <th>4</th>\n",
       "      <td>Was a blanket one of the things they were cont...</td>\n",
       "      <td>No</td>\n",
       "      <td>46GP8-60</td>\n",
       "      <td>46GP8</td>\n",
       "      <td>46GP8</td>\n",
       "      <td>46GP8-60</td>\n",
       "      <td>none</td>\n",
       "    </tr>\n",
       "    <tr>\n",
       "      <th>...</th>\n",
       "      <td>...</td>\n",
       "      <td>...</td>\n",
       "      <td>...</td>\n",
       "      <td>...</td>\n",
       "      <td>...</td>\n",
       "      <td>...</td>\n",
       "      <td>...</td>\n",
       "    </tr>\n",
       "    <tr>\n",
       "      <th>371294</th>\n",
       "      <td>Between holding a pillow and throwing the firs...</td>\n",
       "      <td>floor</td>\n",
       "      <td>D8K7T-609</td>\n",
       "      <td>D8K7T</td>\n",
       "      <td>D8K7T</td>\n",
       "      <td>D8K7T-3815</td>\n",
       "      <td>none</td>\n",
       "    </tr>\n",
       "    <tr>\n",
       "      <th>371295</th>\n",
       "      <td>Between holding a pillow and throwing the firs...</td>\n",
       "      <td>doorway</td>\n",
       "      <td>D8K7T-612</td>\n",
       "      <td>D8K7T</td>\n",
       "      <td>D8K7T</td>\n",
       "      <td>D8K7T-3824</td>\n",
       "      <td>none</td>\n",
       "    </tr>\n",
       "    <tr>\n",
       "      <th>371296</th>\n",
       "      <td>What did they walk between holding a pillow an...</td>\n",
       "      <td>doorway</td>\n",
       "      <td>D8K7T-613</td>\n",
       "      <td>D8K7T</td>\n",
       "      <td>D8K7T</td>\n",
       "      <td>D8K7T-3826</td>\n",
       "      <td>none</td>\n",
       "    </tr>\n",
       "    <tr>\n",
       "      <th>371297</th>\n",
       "      <td>What was the person starting to do first after...</td>\n",
       "      <td>holding some food</td>\n",
       "      <td>LSKA2-5387</td>\n",
       "      <td>LSKA2</td>\n",
       "      <td>LSKA2</td>\n",
       "      <td>LSKA2-5387</td>\n",
       "      <td>none</td>\n",
       "    </tr>\n",
       "    <tr>\n",
       "      <th>371298</th>\n",
       "      <td>What did they start to do first after taking t...</td>\n",
       "      <td>holding some food</td>\n",
       "      <td>LSKA2-5390</td>\n",
       "      <td>LSKA2</td>\n",
       "      <td>LSKA2</td>\n",
       "      <td>LSKA2-5390</td>\n",
       "      <td>none</td>\n",
       "    </tr>\n",
       "  </tbody>\n",
       "</table>\n",
       "<p>2069394 rows × 7 columns</p>\n",
       "</div>"
      ],
      "text/plain": [
       "                                                 question             answer  \\\n",
       "0                 Is there some food the person contacts?                Yes   \n",
       "1                            Were they touching a window?                Yes   \n",
       "2                   Is there a table the person contacts?                 No   \n",
       "3                   In the video, did they touch a broom?                 No   \n",
       "4       Was a blanket one of the things they were cont...                 No   \n",
       "...                                                   ...                ...   \n",
       "371294  Between holding a pillow and throwing the firs...              floor   \n",
       "371295  Between holding a pillow and throwing the firs...            doorway   \n",
       "371296  What did they walk between holding a pillow an...            doorway   \n",
       "371297  What was the person starting to do first after...  holding some food   \n",
       "371298  What did they start to do first after taking t...  holding some food   \n",
       "\n",
       "                id vid_id gif_name         key description  \n",
       "0          46GP8-2  46GP8    46GP8     46GP8-2        none  \n",
       "1          46GP8-6  46GP8    46GP8     46GP8-6        none  \n",
       "2         46GP8-36  46GP8    46GP8    46GP8-36        none  \n",
       "3         46GP8-54  46GP8    46GP8    46GP8-54        none  \n",
       "4         46GP8-60  46GP8    46GP8    46GP8-60        none  \n",
       "...            ...    ...      ...         ...         ...  \n",
       "371294   D8K7T-609  D8K7T    D8K7T  D8K7T-3815        none  \n",
       "371295   D8K7T-612  D8K7T    D8K7T  D8K7T-3824        none  \n",
       "371296   D8K7T-613  D8K7T    D8K7T  D8K7T-3826        none  \n",
       "371297  LSKA2-5387  LSKA2    LSKA2  LSKA2-5387        none  \n",
       "371298  LSKA2-5390  LSKA2    LSKA2  LSKA2-5390        none  \n",
       "\n",
       "[2069394 rows x 7 columns]"
      ]
     },
     "execution_count": 112,
     "metadata": {},
     "output_type": "execute_result"
    }
   ],
   "source": [
    "total = pd.concat([training, testing])\n",
    "total"
   ]
  },
  {
   "cell_type": "code",
   "execution_count": 113,
   "metadata": {},
   "outputs": [],
   "source": [
    "total.to_csv('../exports/%s/other_formats/Total-question-steps_templ.csv' % d_path, index = None)"
   ]
  },
  {
   "cell_type": "code",
   "execution_count": null,
   "metadata": {},
   "outputs": [],
   "source": []
  },
  {
   "cell_type": "code",
   "execution_count": null,
   "metadata": {},
   "outputs": [],
   "source": [
    "# Testing to CSV\n",
    "#46GP8, N11GT, KRF68, MJO7C, S6MPZ\n",
    "\n",
    "def toDataframeLength(v_id, QA):\n",
    "    df = pd.DataFrame.from_dict(QA, orient=\"index\")\n",
    "    df['vid_id'] = v_id\n",
    "    #df.index = v_id\n",
    "    df['gif_name'] = v_id\n",
    "    df = df.drop(columns=['attributes', 'global', 'local', 'steps', 'metrics'])\n",
    "    df = df.rename(columns={'id': 'key'})\n",
    "    \n",
    "    return df\n",
    "\n",
    "\n",
    "def toTGIFLength(d_path, group, bal_txt, title, length):\n",
    "    dataframes = []\n",
    "    if group == 'train':\n",
    "        our_data = train_stsgs\n",
    "    if group == 'test':\n",
    "        our_data = test_stsgs\n",
    "        \n",
    "    cnt = 0\n",
    "    for v_id in our_data:\n",
    "        if cnt % 1000 == 0:\n",
    "            print(cnt)\n",
    "        cnt = cnt + 1\n",
    "        if v_id in length:\n",
    "            continue\n",
    "        QA = getQA(d_path, group, bal_txt, v_id)\n",
    "        #print('len QA', len(QA))\n",
    "        df = toDataframeLength(v_id, QA)\n",
    "        dataframes.append(df)\n",
    "    total = pd.concat(dataframes)\n",
    "    total.to_csv('../exports/%s/other_formats/%s-%s-tgif-%s.csv' % (d_path, group, bal_txt, title), index = None)\n",
    "    return total\n"
   ]
  },
  {
   "cell_type": "code",
   "execution_count": null,
   "metadata": {},
   "outputs": [],
   "source": []
  },
  {
   "cell_type": "code",
   "execution_count": null,
   "metadata": {},
   "outputs": [],
   "source": [
    "train_length = pickleLoad('../exports/dataset/metrics/balanced/train/lengths.pkl')\n",
    "test_length = pickleLoad('../exports/dataset/metrics/balanced/test/lengths.pkl')"
   ]
  },
  {
   "cell_type": "code",
   "execution_count": null,
   "metadata": {
    "scrolled": false
   },
   "outputs": [],
   "source": [
    "lengths_tr = toTGIFLength(d_path, 'train', 'balanced', 'lengths', train_length['more'])\n",
    "lengths_te = toTGIFLength(d_path, 'test', 'balanced', 'lengths', test_length['less'])"
   ]
  },
  {
   "cell_type": "markdown",
   "metadata": {},
   "source": [
    "# Reduce test set b/c hme is a baby"
   ]
  },
  {
   "cell_type": "code",
   "execution_count": 6,
   "metadata": {},
   "outputs": [],
   "source": [
    "d_path = 'dataset'\n",
    "\n",
    "\n",
    "# attach together\n",
    "training = pd.read_csv('../exports/%s/other_formats/train-balanced-tgif.csv' % d_path)\n",
    "testing = pd.read_csv('../exports/%s/other_formats/test-balanced-tgif.csv' % d_path)"
   ]
  },
  {
   "cell_type": "code",
   "execution_count": 7,
   "metadata": {},
   "outputs": [],
   "source": [
    "compo_test = pd.read_csv('../exports/%s/other_formats/test-balanced-tgif-compo.csv' % d_path)\n",
    "#lengths_test = pd.read_csv('../exports/%s/other_formats/test-balanced-tgif-lengths.csv' % d_path)\n",
    "steps_test = pd.read_csv('../exports/%s/other_formats/test-balanced-tgif-steps_templ.csv' % d_path)"
   ]
  },
  {
   "cell_type": "code",
   "execution_count": null,
   "metadata": {},
   "outputs": [],
   "source": []
  },
  {
   "cell_type": "code",
   "execution_count": null,
   "metadata": {},
   "outputs": [],
   "source": [
    "steps_sample = steps_test.sample(n=200000).sort_index()"
   ]
  },
  {
   "cell_type": "code",
   "execution_count": null,
   "metadata": {},
   "outputs": [],
   "source": [
    "len(steps_sample)"
   ]
  },
  {
   "cell_type": "code",
   "execution_count": null,
   "metadata": {},
   "outputs": [],
   "source": [
    "len(steps_sample)\n",
    "steps_sample.to_csv('../exports/%s/other_formats/%s-%s-tgif-steps_sample.csv' % ('dataset', 'test', 'balanced'), index = None)"
   ]
  },
  {
   "cell_type": "code",
   "execution_count": null,
   "metadata": {},
   "outputs": [],
   "source": [
    "to_keep"
   ]
  },
  {
   "cell_type": "code",
   "execution_count": null,
   "metadata": {},
   "outputs": [],
   "source": [
    "with open('../data/relactindir.txt', 'rb') as f:\n",
    "    to_keep = json.load(f)"
   ]
  },
  {
   "cell_type": "code",
   "execution_count": null,
   "metadata": {},
   "outputs": [],
   "source": [
    "to_keep_df = testing.loc[testing['key'].isin(to_keep)]"
   ]
  },
  {
   "cell_type": "code",
   "execution_count": null,
   "metadata": {},
   "outputs": [],
   "source": [
    "len(to_keep_df)"
   ]
  },
  {
   "cell_type": "code",
   "execution_count": null,
   "metadata": {},
   "outputs": [],
   "source": [
    "\n",
    "to_keep_df.to_csv('../exports/%s/other_formats/%s-%s-tgif-rel_act.csv' % ('dataset', 'test', 'balanced'), index = None)\n",
    "\n",
    "\n"
   ]
  },
  {
   "cell_type": "code",
   "execution_count": null,
   "metadata": {},
   "outputs": [],
   "source": []
  },
  {
   "cell_type": "code",
   "execution_count": null,
   "metadata": {},
   "outputs": [],
   "source": []
  },
  {
   "cell_type": "code",
   "execution_count": null,
   "metadata": {},
   "outputs": [],
   "source": []
  },
  {
   "cell_type": "code",
   "execution_count": null,
   "metadata": {},
   "outputs": [],
   "source": [
    "lengths_sample = lengths_test.sample(n=100000).sort_index()"
   ]
  },
  {
   "cell_type": "code",
   "execution_count": null,
   "metadata": {},
   "outputs": [],
   "source": [
    "len(lengths_sample)\n",
    "lengths_sample.to_csv('../exports/%s/other_formats/%s-%s-tgif-lengths_sample.csv' % ('dataset', 'test', 'balanced'), index = None)"
   ]
  },
  {
   "cell_type": "code",
   "execution_count": 9,
   "metadata": {},
   "outputs": [],
   "source": [
    "#testing_no_relact = testing[testing['']]\n",
    "\n",
    "test_sample = testing.sample(n=100000).sort_index()"
   ]
  },
  {
   "cell_type": "code",
   "execution_count": 15,
   "metadata": {},
   "outputs": [],
   "source": [
    "def getAllCat():\n",
    "    # so here, initalize all the categories that matter\n",
    "    1+1\n",
    "\n",
    "def splitByVideo(df):\n",
    "    by_v = {}\n",
    "    for q_id in df['key']:\n",
    "        v = q_id[:5]\n",
    "        if v not in by_v:\n",
    "            by_v[v] = []\n",
    "        by_v[v].append(q_id)\n",
    "        \n",
    "    return by_v\n",
    "    \n",
    "def containsAllCat(by_v):\n",
    "    globs = getGlobDict()\n",
    "    sems = getSemDict()\n",
    "    structs = getStructDict()\n",
    "    \n",
    "    steps = {\n",
    "        1: 0, 2: 0, 3: 0, 4: 0, 5: 0, 6: 0, 7: 0, 8: 0, 9: 0, 10: 0, \n",
    "    }\n",
    "    \n",
    "    for v_id in by_v:\n",
    "        QA = getQA('dataset', 'test', 'balanced', v_id)\n",
    "        \n",
    "        for q_id in QA:\n",
    "            q = QA[q_id]\n",
    "            glob = getGlob(q)\n",
    "            sem = getSemantic(q)\n",
    "            struct = getStructural(q)\n",
    "            step = q['steps']\n",
    "            tp = getType(q)\n",
    "            \n",
    "            for g in glob:\n",
    "                globs[g][tp] += 1\n",
    "            sems[sem][tp] += 1\n",
    "            structs[struct][tp] += 1\n",
    "            \n",
    "            steps[step] += 1\n",
    "            \n",
    "    \n",
    "    return globs, sems, structs, steps\n",
    "\n",
    "by_v = splitByVideo(test_sample)\n",
    "\n",
    "\n",
    "glob, sem, struct, steps = containsAllCat(by_v)\n",
    "\n"
   ]
  },
  {
   "cell_type": "code",
   "execution_count": 16,
   "metadata": {},
   "outputs": [
    {
     "data": {
      "text/plain": [
       "{'obj-rel': {'binary': 174462, 'open': 292951},\n",
       " 'superlative': {'binary': 93081, 'open': 63530},\n",
       " 'exists': {'binary': 89139, 'open': 0},\n",
       " 'count': {'binary': 0, 'open': 0},\n",
       " 'duration-comparison': {'binary': 13007, 'open': 358},\n",
       " 'obj-act': {'binary': 63, 'open': 0},\n",
       " 'rel-act': {'binary': 38053, 'open': 0},\n",
       " 'sequencing': {'binary': 39039, 'open': 416},\n",
       " 'action-recognition': {'binary': 0, 'open': 1106}}"
      ]
     },
     "execution_count": 16,
     "metadata": {},
     "output_type": "execute_result"
    }
   ],
   "source": [
    "glob"
   ]
  },
  {
   "cell_type": "code",
   "execution_count": 17,
   "metadata": {},
   "outputs": [
    {
     "data": {
      "text/plain": [
       "{'object': {'binary': 144809, 'open': 295525},\n",
       " 'relation': {'binary': 97481, 'open': 0},\n",
       " 'action': {'binary': 66903, 'open': 1464}}"
      ]
     },
     "execution_count": 17,
     "metadata": {},
     "output_type": "execute_result"
    }
   ],
   "source": [
    "sem"
   ]
  },
  {
   "cell_type": "code",
   "execution_count": 18,
   "metadata": {},
   "outputs": [
    {
     "data": {
      "text/plain": [
       "{'query': {'binary': 0, 'open': 296989},\n",
       " 'compare': {'binary': 90162, 'open': 0},\n",
       " 'choose': {'binary': 94435, 'open': 0},\n",
       " 'verify': {'binary': 94883, 'open': 0},\n",
       " 'logic': {'binary': 29713, 'open': 0}}"
      ]
     },
     "execution_count": 18,
     "metadata": {},
     "output_type": "execute_result"
    }
   ],
   "source": [
    "struct"
   ]
  },
  {
   "cell_type": "code",
   "execution_count": 19,
   "metadata": {},
   "outputs": [
    {
     "data": {
      "text/plain": [
       "{1: 249,\n",
       " 2: 15460,\n",
       " 3: 14686,\n",
       " 4: 149959,\n",
       " 5: 269348,\n",
       " 6: 95124,\n",
       " 7: 51320,\n",
       " 8: 10026,\n",
       " 9: 10,\n",
       " 10: 0}"
      ]
     },
     "execution_count": 19,
     "metadata": {},
     "output_type": "execute_result"
    }
   ],
   "source": [
    "steps"
   ]
  },
  {
   "cell_type": "code",
   "execution_count": 10,
   "metadata": {},
   "outputs": [],
   "source": [
    "test_sample.to_csv('../exports/%s/other_formats/%s-%s-tgif-all_sample.csv' % ('dataset', 'test', 'balanced'), index = None)"
   ]
  },
  {
   "cell_type": "markdown",
   "metadata": {},
   "source": [
    "# stuff to initalize for splitting test set"
   ]
  },
  {
   "cell_type": "code",
   "execution_count": 12,
   "metadata": {},
   "outputs": [],
   "source": [
    "templ2global = {\n",
    "    'objExists': ['exists'],\n",
    "    'objRelExists': ['exists', 'obj-rel'],\n",
    "    'relExists': ['exists'],\n",
    "    'actExists': ['exists'],\n",
    "    'andObjRelExists': ['exists', 'obj-rel'],\n",
    "    'xorObjRelExists': ['exists', 'obj-rel'],\n",
    "    'objWhatGeneral': [],\n",
    "    'objWhat': ['obj-rel'],\n",
    "    'objWhatChoose': ['obj-rel'],\n",
    "    'actWhatAfterAll': ['sequencing', 'action-recognition'],\n",
    "    'actWhatBefore': ['sequencing', 'action-recognition'],\n",
    "    'objFirst': ['superlative', 'obj-rel'],\n",
    "    'objFirstChoose': ['superlative', 'obj-rel'],\n",
    "    'objFirstVerify': ['superlative', 'obj-rel'],\n",
    "    'relFirst': ['superlative', 'obj-rel'],\n",
    "    'actFirst': ['superlative', 'action-recognition'],\n",
    "    'objLast': ['superlative', 'obj-rel'],\n",
    "    'objLastChoose': ['superlative', 'obj-rel'],\n",
    "    'objLastVerify': ['superlative', 'obj-rel'],\n",
    "    'relLast': ['superlative', 'obj-rel'],\n",
    "    'actLast': ['superlative', 'action-recognition'],\n",
    "    'actCount': ['count'],\n",
    "    'actCountChooseMore': ['count'],\n",
    "    'actCountChooseFewer': ['count'],\n",
    "    'actLengthLongerChoose': ['duration-comparison'],\n",
    "    'actLengthShorterChoose': ['duration-comparison'],\n",
    "    'actLengthLongerVerify': ['duration-comparison'],\n",
    "    'actLengthShorterVerify': ['duration-comparison'],\n",
    "    'actLongest': ['superlative', 'duration-comparison'],\n",
    "    'actShortest': ['superlative', 'duration-comparison'],\n",
    "    'actTime': ['sequencing'],\n",
    "    'relTime': ['rel-act'],\n",
    "    'objTime': ['obj-act'],\n",
    "}"
   ]
  },
  {
   "cell_type": "code",
   "execution_count": 13,
   "metadata": {},
   "outputs": [],
   "source": [
    "def getType(q):\n",
    "    tp = q['attributes']['structural']\n",
    "    if tp != 'query':\n",
    "        return 'binary'\n",
    "    else:\n",
    "        return 'open'\n",
    "    \n",
    "def getStructural(q):\n",
    "    tp = q['attributes']['structural']\n",
    "    \n",
    "    return tp\n",
    "    \n",
    "def getSemantic(q):\n",
    "    tp = q['attributes']['semantic']\n",
    "    if tp == 'objrel':\n",
    "        return 'relation'\n",
    "    elif tp in ['object', 'relation', 'action']:\n",
    "        return tp\n",
    "    else:\n",
    "        return 'none'\n",
    "    \n",
    "def getGlob(q):\n",
    "    tp = q['attributes']['type']\n",
    "    return templ2global[tp]"
   ]
  },
  {
   "cell_type": "code",
   "execution_count": 14,
   "metadata": {},
   "outputs": [],
   "source": [
    "def getSemDict():\n",
    "    sem = {'object': {'binary': 0, 'open': 0},\n",
    "           'relation': {'binary': 0, 'open': 0},\n",
    "           'action': {'binary': 0, 'open': 0},}\n",
    "    return sem\n",
    "    \n",
    "def getGlobDict():\n",
    "    #glob = {'obj-rel': 209,\n",
    "        #     'superlative': 51,\n",
    "       #      'exists': 206,\n",
    "      #       'count': 20,\n",
    "     #        'duration-comparison': 7,\n",
    "     #        'obj-act': 10,\n",
    "     #        'rel-act': 11,\n",
    "     #        'sequencing': 3,\n",
    "    #         'action-recognition': 1}\n",
    "    glob = {'obj-rel': {'binary': 0, 'open': 0},\n",
    "             'superlative': {'binary': 0, 'open': 0},\n",
    "             'exists': {'binary': 0, 'open': 0},\n",
    "             'count':{'binary': 0, 'open': 0},\n",
    "             'duration-comparison': {'binary': 0, 'open': 0},\n",
    "             'obj-act': {'binary': 0, 'open': 0},\n",
    "             'rel-act': {'binary': 0, 'open': 0},\n",
    "             'sequencing': {'binary': 0, 'open': 0},\n",
    "             'action-recognition': {'binary': 0, 'open': 0},}\n",
    "    return glob\n",
    "    \n",
    "def getStructDict():\n",
    "    struct = {'query': {'binary': 0, 'open': 0},\n",
    "              'compare': {'binary': 0, 'open': 0},\n",
    "              'choose': {'binary': 0, 'open': 0},\n",
    "              'verify': {'binary': 0, 'open': 0},\n",
    "              'logic': {'binary': 0, 'open': 0},}\n",
    "    #struct = {'query': 316, 'compare': 266, 'choose': 55, 'verify': 107, 'logic': 53}\n",
    "    return struct\n"
   ]
  },
  {
   "cell_type": "code",
   "execution_count": null,
   "metadata": {},
   "outputs": [],
   "source": []
  },
  {
   "cell_type": "code",
   "execution_count": null,
   "metadata": {},
   "outputs": [],
   "source": []
  },
  {
   "cell_type": "code",
   "execution_count": null,
   "metadata": {},
   "outputs": [],
   "source": []
  },
  {
   "cell_type": "code",
   "execution_count": null,
   "metadata": {},
   "outputs": [],
   "source": []
  },
  {
   "cell_type": "code",
   "execution_count": null,
   "metadata": {},
   "outputs": [],
   "source": []
  },
  {
   "cell_type": "code",
   "execution_count": null,
   "metadata": {},
   "outputs": [],
   "source": []
  },
  {
   "cell_type": "code",
   "execution_count": null,
   "metadata": {},
   "outputs": [],
   "source": []
  },
  {
   "cell_type": "code",
   "execution_count": null,
   "metadata": {},
   "outputs": [],
   "source": []
  },
  {
   "cell_type": "markdown",
   "metadata": {},
   "source": [
    "#  Old stuff"
   ]
  },
  {
   "cell_type": "code",
   "execution_count": null,
   "metadata": {},
   "outputs": [],
   "source": [
    "# Note, putting all in the same category\n",
    "# [{\"answer\":\"man\",\"category_id\":9,\"id\":0,\"question\":\"who drives down the road in an audi?\",\"video_id\":0}, {...}, ...]\n",
    "def toMSVDQA(our_data):\n",
    "    questions = []\n",
    "    \n",
    "    for v_id in our_data:\n",
    "        for q_id in QA[v_id]:\n",
    "            q = our_data[v_id][q_id]\n",
    "            \n",
    "            new_q = {\n",
    "                'answer': q['answer'],\n",
    "                'category_id':9, # TODO: not sure what this is\n",
    "                'id': q_id,\n",
    "                'question': q['question'],\n",
    "                'video_id': v_id\n",
    "            }\n",
    "            \n",
    "            questions.append(new_q)\n",
    "    return questions\n",
    "    "
   ]
  },
  {
   "cell_type": "code",
   "execution_count": null,
   "metadata": {},
   "outputs": [],
   "source": [
    "# [{\"answer\":\"animal\",\"id\":0,\"question\":\"what is chewing on a nut?\",\"video_id\":1},\n",
    "def toMSRVTTQA(our_data):\n",
    "    questions = []\n",
    "    \n",
    "    for v_id in our_data:\n",
    "        for q_id in QA[v_id]:\n",
    "            q = our_data[v_id][q_id]\n",
    "            \n",
    "            new_q = {\n",
    "                'answer': q['answer'],\n",
    "                'id': q_id,\n",
    "                'question': q['question'],\n",
    "                'video_id': v_id\n",
    "            }\n",
    "            \n",
    "            questions.append(new_q)\n",
    "    return questions\n",
    "    "
   ]
  },
  {
   "cell_type": "code",
   "execution_count": null,
   "metadata": {},
   "outputs": [],
   "source": [
    "def toDataframe(our_data):\n",
    "    dataframes = []\n",
    "    count = 0\n",
    "    for v_id in our_data:\n",
    "        count = count + 1\n",
    "        if count > 5: \n",
    "            break\n",
    "        print(v_id)\n",
    "        print(\"making a dataframe\")\n",
    "        df = pd.DataFrame.from_dict(our_data, orient=\"index\")\n",
    "        #df.to_csv(r'../exports/all_videos_200-300_tgif_format.csv', index = None)\n",
    "        print(\"adding vid id\")\n",
    "        df['vid_id'] = v_id\n",
    "        print(\"appending\")\n",
    "        dataframes.append(df),\n",
    "    total = pd.concat(dataframes)\n",
    "    return total\n",
    "    \n",
    "\n",
    "def toTGIFQA(df):\n",
    "    #df = toDataframe(our_data)\n",
    "    # drop everything not important\n",
    "    df['gif_name'] = df['vid_id']\n",
    "    df.rename(columns={'id': 'key'})\n",
    "    df.drop(columns=['attributes', 'global', 'local', 'steps', 'metrics'])\n",
    "    print(\"AFTER DROP\")\n",
    "    print(df)\n",
    "    return df\n",
    "    "
   ]
  },
  {
   "cell_type": "markdown",
   "metadata": {},
   "source": [
    "# Get templ balancd"
   ]
  },
  {
   "cell_type": "code",
   "execution_count": null,
   "metadata": {},
   "outputs": [],
   "source": [
    "\n",
    "def toTGIFTemplBalanced(d_path, group, bal_txt):\n",
    "    dataframes = []\n",
    "    if group == 'train':\n",
    "        our_data = train_stsgs\n",
    "    if group == 'test':\n",
    "        our_data = test_stsgs\n",
    "        \n",
    "    #if balanced: \n",
    "    #    bal_txt = 'balanced'\n",
    "    #else:\n",
    "    #    bal_txt = 'all'\n",
    "        \n",
    "    # for templ balanced\n",
    "    #bal_txt = \"templ_balanced\"\n",
    "        \n",
    "    cnt = 0\n",
    "    for v_id in our_data:\n",
    "        if cnt % 100 == 0:\n",
    "            print(cnt)\n",
    "        cnt = cnt + 1\n",
    "        QA = getQA(d_path, group, bal_txt, v_id)\n",
    "        df = toDataframe(v_id, QA)\n",
    "        dataframes.append(df)\n",
    "    total = pd.concat(dataframes)\n",
    "    total.to_csv('../exports/%s/other_formats/%s-%s-tgif.csv' % (d_path, group, bal_txt), index = None)\n",
    "    return total\n"
   ]
  },
  {
   "cell_type": "code",
   "execution_count": null,
   "metadata": {},
   "outputs": [],
   "source": [
    "toTGIFTemplBalanced('dataset-before-11-4', 'test', 'templ_balanced')"
   ]
  },
  {
   "cell_type": "code",
   "execution_count": null,
   "metadata": {},
   "outputs": [],
   "source": [
    "toTGIFTemplBalanced('dataset-before-11-4', 'train', 'templ_balanced')"
   ]
  },
  {
   "cell_type": "markdown",
   "metadata": {},
   "source": [
    "# Length"
   ]
  },
  {
   "cell_type": "markdown",
   "metadata": {},
   "source": [
    "# Start Query Questions"
   ]
  },
  {
   "cell_type": "code",
   "execution_count": null,
   "metadata": {},
   "outputs": [],
   "source": [
    "# Testing to CSV\n",
    "#46GP8, N11GT, KRF68, MJO7C, S6MPZ\n",
    "\n",
    "def toDataframeQuery(v_id, QA):\n",
    "    df = pd.DataFrame.from_dict(QA, orient=\"index\")\n",
    "    df['vid_id'] = v_id\n",
    "    #df.index = v_id\n",
    "    df['gif_name'] = v_id\n",
    "    df = df.drop(columns=['attributes', 'global', 'local', 'steps', 'metrics'])\n",
    "    df = df.rename(columns={'id': 'key'})\n",
    "    \n",
    "    #df.set_index(\"key\", inplace=True)\n",
    "    # delete ones in compo\n",
    "    #if v_id not in compo:\n",
    "   #     return df\n",
    "   # to_del = list(set(compo[v_id]))\n",
    "    \n",
    "    to_del = []\n",
    "    query = ['objWhat', 'objFirst', 'objLast', 'relLast']\n",
    "    for q_id in QA:\n",
    "        t = QA[q_id]['attributes']['type']\n",
    "        #print(t)\n",
    "        if t in query:\n",
    "            continue\n",
    "            \n",
    "        to_del.append(q_id)\n",
    "    \n",
    "    #print()\n",
    "    #print(df.shape)\n",
    "    #print(len(to_del))\n",
    "    df.drop(to_del, inplace=True)\n",
    "    #print(df.shape)\n",
    "    #if (df.shape[0] > 0):\n",
    "    #    print(df.shape)\n",
    "    return df\n",
    "\n",
    "\n",
    "def toTGIFQuery(d_path, group, balanced):\n",
    "    dataframes = []\n",
    "    if group == 'train':\n",
    "        our_data = train_stsgs\n",
    "        compo = train_novel_comp\n",
    "    if group == 'test':\n",
    "        our_data = test_stsgs\n",
    "        compo = test_novel_comp\n",
    "        \n",
    "    if balanced: \n",
    "        bal_txt = 'balanced'\n",
    "    else:\n",
    "        bal_txt = 'all'\n",
    "        \n",
    "    cnt = 0\n",
    "    for v_id in our_data:\n",
    "        if cnt % 100 == 0:\n",
    "            print(cnt)\n",
    "        cnt = cnt + 1\n",
    "        QA = getQA(d_path, group, bal_txt, v_id)\n",
    "        #print('len QA', len(QA))\n",
    "        df = toDataframeQuery(v_id, QA)\n",
    "        dataframes.append(df)\n",
    "    total = pd.concat(dataframes)\n",
    "    total.to_csv('../exports/%s/other_formats/%s-%s-tgif-query.csv' % (d_path, group, bal_txt), index = None)\n",
    "    return total\n"
   ]
  },
  {
   "cell_type": "code",
   "execution_count": null,
   "metadata": {},
   "outputs": [],
   "source": [
    "test_query = toTGIFQuery('dataset', 'test', True)"
   ]
  },
  {
   "cell_type": "code",
   "execution_count": null,
   "metadata": {
    "scrolled": true
   },
   "outputs": [],
   "source": [
    "test_query = toTGIFQuery('dataset', 'train', True)"
   ]
  },
  {
   "cell_type": "markdown",
   "metadata": {},
   "source": [
    "607120 +  1647710"
   ]
  },
  {
   "cell_type": "markdown",
   "metadata": {},
   "source": [
    "# Get TOTAL"
   ]
  },
  {
   "cell_type": "code",
   "execution_count": null,
   "metadata": {},
   "outputs": [],
   "source": [
    "#training_edited = training.drop(columns=['question', 'answer'])\n",
    "training_edited = training"
   ]
  },
  {
   "cell_type": "code",
   "execution_count": null,
   "metadata": {},
   "outputs": [],
   "source": [
    "#testing_edited = testing.drop(columns=['question', 'answer'])\n",
    "testing_edited = testing"
   ]
  },
  {
   "cell_type": "code",
   "execution_count": null,
   "metadata": {},
   "outputs": [],
   "source": [
    "total = pd.read_csv('../exports/dataset/other_formats/Total-question.csv')"
   ]
  },
  {
   "cell_type": "code",
   "execution_count": null,
   "metadata": {},
   "outputs": [],
   "source": [
    "total.columns"
   ]
  },
  {
   "cell_type": "code",
   "execution_count": null,
   "metadata": {},
   "outputs": [],
   "source": [
    "total = pd.read_csv('../exports/dataset/other_formats/Total-question.csv')"
   ]
  },
  {
   "cell_type": "code",
   "execution_count": null,
   "metadata": {},
   "outputs": [],
   "source": [
    "def getVIDMapping(videos):\n",
    "    str2num = {}\n",
    "    num2str = {}\n",
    "    \n",
    "    str_ids = set(videos['gif_name'])\n",
    "    \n",
    "    count = 0\n",
    "    for str_id in str_ids:\n",
    "        str2num[str_id] = count\n",
    "        num2str[count] = str_id\n",
    "        \n",
    "        count = count + 1\n",
    "        \n",
    "    return str2num, num2str\n",
    "    \n",
    "str2num, num2str = getVIDMapping(total)"
   ]
  },
  {
   "cell_type": "code",
   "execution_count": null,
   "metadata": {},
   "outputs": [],
   "source": [
    "# do json not pickle\n",
    "\n",
    "with open('../data/strID2numID.json', 'w+') as json_file: #CHANGED\n",
    "    json.dump(str2num, json_file)\n",
    "    \n",
    "with open('../data/numID2strID.json', 'w+') as json_file: #CHANGED\n",
    "    json.dump(num2str, json_file)\n",
    "#pickleDump(str2num, '../data/strID2numID')\n",
    "#pickleDum(num2str, '../data/strID2numID')"
   ]
  },
  {
   "cell_type": "code",
   "execution_count": null,
   "metadata": {},
   "outputs": [],
   "source": [
    "toTGIF('dataset', 'test', False)"
   ]
  },
  {
   "cell_type": "code",
   "execution_count": null,
   "metadata": {},
   "outputs": [],
   "source": [
    "b_test = toTGIF('dataset', 'test', True)"
   ]
  },
  {
   "cell_type": "code",
   "execution_count": null,
   "metadata": {},
   "outputs": [],
   "source": [
    "QA = getQA('dataset', 'test', 'balanced', 'YSKX3')\n",
    "print(len(QA))\n",
    "\n",
    "inQA = 0\n",
    "notinQA = 0\n",
    "for i in test_novel_comp['YSKX3']:\n",
    "    if i in QA:\n",
    "        inQA = inQA + 1\n",
    "    else:\n",
    "        notinQA = notinQA + 1\n",
    "\n",
    "inQA, notinQA, len(set(test_novel_comp['YSKX3']))"
   ]
  },
  {
   "cell_type": "code",
   "execution_count": null,
   "metadata": {
    "scrolled": true
   },
   "outputs": [],
   "source": [
    "train_novel_comp['46GP8']"
   ]
  },
  {
   "cell_type": "code",
   "execution_count": null,
   "metadata": {},
   "outputs": [],
   "source": [
    "for i in test_compo['question']:\n",
    "    print(i)"
   ]
  },
  {
   "cell_type": "code",
   "execution_count": null,
   "metadata": {
    "scrolled": true
   },
   "outputs": [],
   "source": [
    "print(len(test_steps_templ['less']))"
   ]
  },
  {
   "cell_type": "code",
   "execution_count": null,
   "metadata": {},
   "outputs": [],
   "source": [
    "for question in templ_split_te['question']:\n",
    "    print(question)"
   ]
  },
  {
   "cell_type": "code",
   "execution_count": null,
   "metadata": {},
   "outputs": [],
   "source": []
  },
  {
   "cell_type": "markdown",
   "metadata": {},
   "source": [
    "# end query questions"
   ]
  },
  {
   "cell_type": "code",
   "execution_count": null,
   "metadata": {},
   "outputs": [],
   "source": [
    "import numpy as np\n",
    "b_test_perm = b_test.iloc[np.random.permutation(len(b_test))]"
   ]
  },
  {
   "cell_type": "code",
   "execution_count": null,
   "metadata": {},
   "outputs": [],
   "source": [
    "questions = list(b_test_perm['question'])"
   ]
  },
  {
   "cell_type": "code",
   "execution_count": null,
   "metadata": {},
   "outputs": [],
   "source": [
    "questions[0]"
   ]
  },
  {
   "cell_type": "code",
   "execution_count": null,
   "metadata": {},
   "outputs": [],
   "source": [
    "b_test2 = pd.read_csv('../exports/dataset/other_formats/train-balanced-tgif.csv')"
   ]
  },
  {
   "cell_type": "code",
   "execution_count": null,
   "metadata": {},
   "outputs": [],
   "source": [
    "b_test2_perm = b_test2.iloc[np.random.permutation(len(b_test2))]"
   ]
  },
  {
   "cell_type": "code",
   "execution_count": null,
   "metadata": {},
   "outputs": [],
   "source": [
    "questions2 = list(b_test2_perm['question'])"
   ]
  },
  {
   "cell_type": "code",
   "execution_count": null,
   "metadata": {
    "scrolled": true
   },
   "outputs": [],
   "source": [
    "toTGIF('dataset', 'test', True)"
   ]
  },
  {
   "cell_type": "code",
   "execution_count": null,
   "metadata": {
    "scrolled": true
   },
   "outputs": [],
   "source": [
    "toTGIF('dataset', 'train', True)"
   ]
  },
  {
   "cell_type": "code",
   "execution_count": null,
   "metadata": {},
   "outputs": [],
   "source": [
    "msvd_translation = toMSVDQA(QA)"
   ]
  },
  {
   "cell_type": "code",
   "execution_count": null,
   "metadata": {},
   "outputs": [],
   "source": [
    "len(msvd_translation) * 100"
   ]
  },
  {
   "cell_type": "code",
   "execution_count": null,
   "metadata": {},
   "outputs": [],
   "source": [
    "msrvtt_translation = toMSRVTTQA(QA)"
   ]
  },
  {
   "cell_type": "code",
   "execution_count": null,
   "metadata": {},
   "outputs": [],
   "source": [
    "len(msvd_translation) * 100"
   ]
  },
  {
   "cell_type": "code",
   "execution_count": null,
   "metadata": {},
   "outputs": [],
   "source": [
    "dataframe = toDataframe(QA['46GP8'])\n",
    "dataframe = toTGIFQA(dataframe)\n",
    "dataframe"
   ]
  },
  {
   "cell_type": "code",
   "execution_count": null,
   "metadata": {},
   "outputs": [],
   "source": [
    "for i in QA:\n",
    "    print(i)\n",
    "    break"
   ]
  },
  {
   "cell_type": "code",
   "execution_count": null,
   "metadata": {},
   "outputs": [],
   "source": [
    "# Need to add in v_id column with the v_id for all of them\n",
    "# gif_name, = v_id (idk what the difference is with this and vid_id, so im going to do both the same)\n",
    "# question, answer, vid_id, \n",
    "# key = ?"
   ]
  },
  {
   "cell_type": "code",
   "execution_count": null,
   "metadata": {},
   "outputs": [],
   "source": [
    "len(QA['3CPVF']), len(QA['QIQXR'])"
   ]
  },
  {
   "cell_type": "code",
   "execution_count": null,
   "metadata": {},
   "outputs": [],
   "source": [
    "#'3CPVF': 23415, 'QIQXR': 7186, 'SXYLN': 30109, 'I6B5D': 874, 'MJX48': 15637"
   ]
  },
  {
   "cell_type": "code",
   "execution_count": null,
   "metadata": {},
   "outputs": [],
   "source": [
    "false = False\n",
    "true = True"
   ]
  },
  {
   "cell_type": "code",
   "execution_count": null,
   "metadata": {},
   "outputs": [],
   "source": [
    "a = {\"46GP8-321\": {\"question\": \"Was the person closing anything while cooking something?\", \"answer\": \"No\", \"attributes\": {\"type\": \"relExists\", \"structural\": \"verify\", \"semantic\": \"relation\", \"ans_type\": \"binary\", \"video_id\": \"46GP8\"}, \"global\": \"exists\", \"local\": \"v001\", \"steps\": 3, \"id\": \"46GP8-321\", \"metrics\": {\"novel_comp\": [false, false, false, false, false], \"indirects\": [false, false, false, true], \"direct_args\": \"v001\", \"direct_time\": [\"while\", \"c147\"]}}, \"46GP8-564\": {\"question\": \"Which object did the person touch after cooking something?\", \"answer\": \"window\", \"attributes\": {\"type\": \"objWhat\", \"structural\": \"query\", \"semantic\": \"object\", \"ans_type\": \"open\", \"video_id\": \"46GP8\"}, \"global\": \"what\", \"local\": \"r22\", \"steps\": 4, \"id\": \"46GP8-564\", \"metrics\": {\"novel_comp\": [false, false, false, false, false], \"indirects\": [false, false, false, true], \"direct_args\": \"r22\", \"direct_time\": [\"after\", \"c147\"]}}, \"46GP8-565\": {\"question\": \"In the video, what was the person touching?\", \"answer\": \"window\", \"attributes\": {\"type\": \"objWhat\", \"structural\": \"query\", \"semantic\": \"object\", \"ans_type\": \"open\", \"video_id\": \"46GP8\"}, \"global\": \"what\", \"local\": \"r22\", \"steps\": 2, \"id\": \"46GP8-565\", \"metrics\": {\"novel_comp\": [false, false, false, false, false], \"indirects\": [false, false, false, false], \"direct_args\": \"r22\", \"direct_time\": [\"all\", \"\"]}}, \"46GP8-566\": {\"question\": \"What was the person behind after cooking something?\", \"answer\": \"window\", \"attributes\": {\"type\": \"objWhat\", \"structural\": \"query\", \"semantic\": \"object\", \"ans_type\": \"open\", \"video_id\": \"46GP8\"}, \"global\": \"what\", \"local\": \"r7\", \"steps\": 4, \"id\": \"46GP8-566\", \"metrics\": {\"novel_comp\": [false, false, false, false, false], \"indirects\": [false, false, false, true], \"direct_args\": \"r7\", \"direct_time\": [\"after\", \"c147\"]}}, \"46GP8-567\": {\"question\": \"Which object did the person go above?\", \"answer\": \"food\", \"attributes\": {\"type\": \"objWhat\", \"structural\": \"query\", \"semantic\": \"object\", \"ans_type\": \"open\", \"video_id\": \"46GP8\"}, \"global\": \"what\", \"local\": \"r4\", \"steps\": 2, \"id\": \"46GP8-567\", \"metrics\": {\"novel_comp\": [false, false, false, false, false], \"indirects\": [false, false, false, false], \"direct_args\": \"r4\", \"direct_time\": [\"all\", \"\"]}}, \"46GP8-568\": {\"question\": \"Which object were they on the side of after cooking something?\", \"answer\": \"window\", \"attributes\": {\"type\": \"objWhat\", \"structural\": \"query\", \"semantic\": \"object\", \"ans_type\": \"open\", \"video_id\": \"46GP8\"}, \"global\": \"what\", \"local\": \"r8\", \"steps\": 4, \"id\": \"46GP8-568\", \"metrics\": {\"novel_comp\": [false, false, false, false, false], \"indirects\": [false, false, false, true], \"direct_args\": \"r8\", \"direct_time\": [\"after\", \"c147\"]}}, \"46GP8-569\": {\"question\": \"In the video, what was the person on the side of?\", \"answer\": \"window\", \"attributes\": {\"type\": \"objWhat\", \"structural\": \"query\", \"semantic\": \"object\", \"ans_type\": \"open\", \"video_id\": \"46GP8\"}, \"global\": \"what\", \"local\": \"r8\", \"steps\": 2, \"id\": \"46GP8-569\", \"metrics\": {\"novel_comp\": [false, false, false, false, false], \"indirects\": [false, false, false, false], \"direct_args\": \"r8\", \"direct_time\": [\"all\", \"\"]}}, \"46GP8-571\": {\"question\": \"After cooking something, which object were they watching?\", \"answer\": \"window\", \"attributes\": {\"type\": \"objWhat\", \"structural\": \"query\", \"semantic\": \"object\", \"ans_type\": \"open\", \"video_id\": \"46GP8\"}, \"global\": \"what\", \"local\": \"v031\", \"steps\": 4, \"id\": \"46GP8-571\", \"metrics\": {\"novel_comp\": [false, false, false, false, false], \"indirects\": [false, false, false, true], \"direct_args\": \"v031\", \"direct_time\": [\"after\", \"c147\"]}}, \"46GP8-572\": {\"question\": \"In the video, which object did the person watch?\", \"answer\": \"window\", \"attributes\": {\"type\": \"objWhat\", \"structural\": \"query\", \"semantic\": \"object\", \"ans_type\": \"open\", \"video_id\": \"46GP8\"}, \"global\": \"what\", \"local\": \"v031\", \"steps\": 2, \"id\": \"46GP8-572\", \"metrics\": {\"novel_comp\": [false, false, false, false, false], \"indirects\": [false, false, false, false], \"direct_args\": \"v031\", \"direct_time\": [\"all\", \"\"]}}, \"46GP8-577\": {\"question\": \"Which did they go on the side of, some food or a window?\", \"answer\": \"window\", \"attributes\": {\"type\": \"objWhatChoose\", \"structural\": \"choose\", \"semantic\": \"object\", \"ans_type\": \"open\", \"video_id\": \"46GP8\"}, \"global\": \"what\", \"local\": \"r8\", \"steps\": 3, \"id\": \"46GP8-577\", \"metrics\": {\"novel_comp\": [false, false, false, false, false], \"indirects\": [false, false, false, false], \"direct_args\": \"r8-o17-o36\", \"direct_time\": [\"all\", \"\"]}}, \"46GP8-579\": {\"question\": \"In the video, of everything they went behind, what was the person behind first?\", \"answer\": \"food\", \"attributes\": {\"type\": \"objFirst\", \"structural\": \"query\", \"semantic\": \"object\", \"ans_type\": \"open\", \"video_id\": \"46GP8\"}, \"global\": \"first\", \"local\": \"r7\", \"steps\": 2, \"id\": \"46GP8-579\", \"metrics\": {\"novel_comp\": [false, true, false, false, false], \"indirects\": [false, false, false, false], \"direct_args\": \"r7\", \"direct_time\": [\"all\", \"\"]}}, \"46GP8-583\": {\"question\": \"Which object were they behind last?\", \"answer\": \"window\", \"attributes\": {\"type\": \"objLast\", \"structural\": \"query\", \"semantic\": \"object\", \"ans_type\": \"open\", \"video_id\": \"46GP8\"}, \"global\": \"last\", \"local\": \"r7\", \"steps\": 2, \"id\": \"46GP8-583\", \"metrics\": {\"novel_comp\": [false, false, false, false, false], \"indirects\": [false, false, false, false], \"direct_args\": \"r7\", \"direct_time\": [\"all\", \"\"]}}, \"46GP8-588\": {\"question\": \"What was the last thing the person was doing to some food?\", \"answer\": \"cooking\", \"attributes\": {\"type\": \"relLast\", \"structural\": \"query\", \"semantic\": \"relation\", \"ans_type\": \"open\", \"video_id\": \"46GP8\"}, \"global\": \"last\", \"local\": \"o17\", \"steps\": 2, \"id\": \"46GP8-588\", \"metrics\": {\"novel_comp\": [false, false, false, false, false], \"indirects\": [false, false, false, false], \"direct_args\": \"o17\", \"direct_time\": [\"all\", \"\"]}}, \"46GP8-595\": {\"question\": \"Did they cook anything before they watched outside of a window, or after they watched outside of a window?\", \"answer\": \"before\", \"attributes\": {\"type\": \"relTime\", \"structural\": \"compare\", \"semantic\": \"relation\", \"ans_type\": \"binary\", \"video_id\": \"46GP8\"}, \"global\": \"time\", \"local\": \"v002-c092\", \"steps\": 5, \"id\": \"46GP8-595\", \"metrics\": {\"novel_comp\": [false, false, false, false, false], \"indirects\": [false, false, false, false], \"direct_args\": \"v002-c092\", \"direct_time\": [\"all\", \"\"]}}, \"46GP8-599\": {\"question\": \"Were they touching the first thing they went behind before or after they watched outside of a window?\", \"answer\": \"before\", \"attributes\": {\"type\": \"objTime\", \"structural\": \"compare\", \"semantic\": \"object\", \"ans_type\": \"binary\", \"video_id\": \"46GP8\"}, \"global\": \"time\", \"local\": \"o17-c092\", \"steps\": 6, \"id\": \"46GP8-599\", \"metrics\": {\"novel_comp\": [false, true, false, false, false], \"indirects\": [true, false, false, false], \"direct_args\": \"o17-c092\", \"direct_time\": [\"all\", \"\"]}}, \"46GP8-602\": {\"question\": \"Were they touching the object they were touching before or after they cooked something?\", \"answer\": \"after\", \"attributes\": {\"type\": \"objTime\", \"structural\": \"compare\", \"semantic\": \"object\", \"ans_type\": \"binary\", \"video_id\": \"46GP8\"}, \"global\": \"time\", \"local\": \"o36-c147\", \"steps\": 6, \"id\": \"46GP8-602\", \"metrics\": {\"novel_comp\": [false, false, false, false, false], \"indirects\": [true, false, false, false], \"direct_args\": \"o36-c147\", \"direct_time\": [\"all\", \"\"]}}, \"46GP8-605\": {\"question\": \"What was the person interacting with after cooking something?\", \"answer\": \"window\", \"attributes\": {\"type\": \"objWhatGeneral\", \"structural\": \"query\", \"semantic\": \"object\", \"ans_type\": \"open\", \"video_id\": \"46GP8\"}, \"global\": \"what\", \"local\": \"object\", \"steps\": 3, \"id\": \"46GP8-605\", \"metrics\": {\"novel_comp\": [false, false, false, false, false], \"indirects\": [false, false, false, true], \"direct_args\": \"\", \"direct_time\": [\"after\", \"c147\"]}}, \"46GP8-607\": {\"question\": \"How many times did they watch outside of a window while cooking something?\", \"answer\": 0, \"attributes\": {\"type\": \"actCount\", \"structural\": \"query\", \"semantic\": \"action\", \"ans_type\": \"open\", \"video_id\": \"46GP8\"}, \"global\": \"count\", \"local\": \"c092\", \"steps\": 3, \"id\": \"46GP8-607\", \"metrics\": {\"novel_comp\": [false, false, false, false, false], \"indirects\": [false, false, false, true], \"direct_args\": \"c092\", \"direct_time\": [\"while\", \"c147\"]}}, \"46GP8-608\": {\"question\": \"While watching outside of a window, how many times were they cooking something?\", \"answer\": 0, \"attributes\": {\"type\": \"actCount\", \"structural\": \"query\", \"semantic\": \"action\", \"ans_type\": \"open\", \"video_id\": \"46GP8\"}, \"global\": \"count\", \"local\": \"c147\", \"steps\": 3, \"id\": \"46GP8-608\", \"metrics\": {\"novel_comp\": [false, false, false, false, false], \"indirects\": [false, false, false, true], \"direct_args\": \"c147\", \"direct_time\": [\"while\", \"c092\"]}}}"
   ]
  },
  {
   "cell_type": "code",
   "execution_count": null,
   "metadata": {},
   "outputs": [],
   "source": [
    "len(a)"
   ]
  },
  {
   "cell_type": "code",
   "execution_count": null,
   "metadata": {},
   "outputs": [],
   "source": []
  },
  {
   "cell_type": "code",
   "execution_count": null,
   "metadata": {},
   "outputs": [],
   "source": []
  },
  {
   "cell_type": "markdown",
   "metadata": {},
   "source": [
    "# Get the sizes of each"
   ]
  },
  {
   "cell_type": "code",
   "execution_count": null,
   "metadata": {},
   "outputs": [],
   "source": [
    "d_path = 'dataset'\n",
    "training_b = pd.read_csv('../exports/%s/other_formats/train-balanced-tgif.csv' % d_path)\n",
    "testing_b = pd.read_csv('../exports/%s/other_formats/test-balanced-tgif.csv' % d_path)"
   ]
  },
  {
   "cell_type": "code",
   "execution_count": null,
   "metadata": {},
   "outputs": [],
   "source": [
    "\n",
    "training_c = pd.read_csv('../exports/%s/other_formats/train-balanced-tgif-compo.csv' % d_path)\n",
    "testing_c = pd.read_csv('../exports/%s/other_formats/test-balanced-tgif-compo.csv' % d_path)"
   ]
  },
  {
   "cell_type": "code",
   "execution_count": null,
   "metadata": {},
   "outputs": [],
   "source": [
    "\n",
    "training_s = pd.read_csv('../exports/%s/other_formats/train-balanced-tgif-steps_templ.csv' % d_path)\n",
    "testing_s = pd.read_csv('../exports/%s/other_formats/test-balanced-tgif-steps_templ.csv' % d_path)"
   ]
  },
  {
   "cell_type": "code",
   "execution_count": null,
   "metadata": {},
   "outputs": [],
   "source": [
    "print('Training set: ', training_b.shape[0])\n",
    "print('Testing set: ', testing_b.shape[0])\n",
    "\n",
    "print('Training set compo: ', training_c.shape[0])\n",
    "print('Testing set compo: ', testing_c.shape[0])\n",
    "\n",
    "print('Training set steps: ', training_s.shape[0])\n",
    "print('Testing set steps: ', testing_s.shape[0])"
   ]
  },
  {
   "cell_type": "code",
   "execution_count": null,
   "metadata": {},
   "outputs": [],
   "source": []
  },
  {
   "cell_type": "markdown",
   "metadata": {},
   "source": [
    "# Why did test randomly generate wrogn keys"
   ]
  },
  {
   "cell_type": "code",
   "execution_count": null,
   "metadata": {},
   "outputs": [],
   "source": []
  },
  {
   "cell_type": "code",
   "execution_count": 37,
   "metadata": {},
   "outputs": [],
   "source": [
    "d_path = 'dataset_fixed'"
   ]
  },
  {
   "cell_type": "code",
   "execution_count": 38,
   "metadata": {},
   "outputs": [],
   "source": [
    "# Testing to CSV\n",
    "#46GP8, N11GT, KRF68, MJO7C, S6MPZ\n",
    "\n",
    "def toDataframe(v_id, QA):\n",
    "    df = pd.DataFrame.from_dict(QA, orient=\"index\")\n",
    "    df['vid_id'] = v_id\n",
    "    #df.index = v_id\n",
    "    df['gif_name'] = v_id\n",
    "    df = df.drop(columns=['attributes', 'global', 'id', 'local', 'steps', 'metrics', 'program', 'sg_grounding'])\n",
    "    df = df.reset_index()\n",
    "    df = df.rename(columns={'index': 'key'})\n",
    "    df['description'] = \"none\"\n",
    "    return df\n",
    "\n",
    "\n",
    "def toTGIF(d_path, group, bal_txt):\n",
    "    dataframes = []\n",
    "    if group == 'train':\n",
    "        our_data = train_stsgs\n",
    "    if group == 'test':\n",
    "        our_data = test_stsgs\n",
    "        \n",
    "    cnt = 0\n",
    "    for v_id in our_data:\n",
    "        if cnt % 1000 == 0:\n",
    "            print(cnt)\n",
    "        cnt = cnt + 1\n",
    "        QA = getQA(d_path, group, bal_txt, v_id)\n",
    "        if len(QA) == 0: \n",
    "            continue\n",
    "        df = toDataframe(v_id, QA)\n",
    "        dataframes.append(df)\n",
    "    total = pd.concat(dataframes)\n",
    "    total.to_csv('../exports/%s/other_formats/%s-%s-tgif-updated.csv' % (d_path, group, bal_txt), index = None)\n",
    "    return total\n"
   ]
  },
  {
   "cell_type": "code",
   "execution_count": 39,
   "metadata": {},
   "outputs": [
    {
     "name": "stdout",
     "output_type": "stream",
     "text": [
      "0\n",
      "1000\n",
      "2000\n",
      "3000\n",
      "4000\n",
      "5000\n",
      "6000\n",
      "7000\n"
     ]
    }
   ],
   "source": [
    "\n",
    "train = toTGIF(d_path, 'train', bal_txt)"
   ]
  },
  {
   "cell_type": "code",
   "execution_count": 41,
   "metadata": {},
   "outputs": [
    {
     "name": "stdout",
     "output_type": "stream",
     "text": [
      "0\n",
      "1000\n"
     ]
    }
   ],
   "source": [
    "test = toTGIF(d_path, 'test', bal_txt)"
   ]
  },
  {
   "cell_type": "code",
   "execution_count": 42,
   "metadata": {},
   "outputs": [
    {
     "data": {
      "text/html": [
       "<div>\n",
       "<style scoped>\n",
       "    .dataframe tbody tr th:only-of-type {\n",
       "        vertical-align: middle;\n",
       "    }\n",
       "\n",
       "    .dataframe tbody tr th {\n",
       "        vertical-align: top;\n",
       "    }\n",
       "\n",
       "    .dataframe thead th {\n",
       "        text-align: right;\n",
       "    }\n",
       "</style>\n",
       "<table border=\"1\" class=\"dataframe\">\n",
       "  <thead>\n",
       "    <tr style=\"text-align: right;\">\n",
       "      <th></th>\n",
       "      <th>key</th>\n",
       "      <th>question</th>\n",
       "      <th>answer</th>\n",
       "      <th>vid_id</th>\n",
       "      <th>gif_name</th>\n",
       "      <th>description</th>\n",
       "    </tr>\n",
       "  </thead>\n",
       "  <tbody>\n",
       "    <tr>\n",
       "      <th>0</th>\n",
       "      <td>46GP8-2</td>\n",
       "      <td>Is there some food the person contacts?</td>\n",
       "      <td>Yes</td>\n",
       "      <td>46GP8</td>\n",
       "      <td>46GP8</td>\n",
       "      <td>none</td>\n",
       "    </tr>\n",
       "    <tr>\n",
       "      <th>1</th>\n",
       "      <td>46GP8-6</td>\n",
       "      <td>Were they touching a window?</td>\n",
       "      <td>Yes</td>\n",
       "      <td>46GP8</td>\n",
       "      <td>46GP8</td>\n",
       "      <td>none</td>\n",
       "    </tr>\n",
       "    <tr>\n",
       "      <th>2</th>\n",
       "      <td>46GP8-36</td>\n",
       "      <td>Is there a table the person contacts?</td>\n",
       "      <td>No</td>\n",
       "      <td>46GP8</td>\n",
       "      <td>46GP8</td>\n",
       "      <td>none</td>\n",
       "    </tr>\n",
       "    <tr>\n",
       "      <th>3</th>\n",
       "      <td>46GP8-54</td>\n",
       "      <td>In the video, did they touch a broom?</td>\n",
       "      <td>No</td>\n",
       "      <td>46GP8</td>\n",
       "      <td>46GP8</td>\n",
       "      <td>none</td>\n",
       "    </tr>\n",
       "    <tr>\n",
       "      <th>4</th>\n",
       "      <td>46GP8-60</td>\n",
       "      <td>Was a blanket one of the things they were cont...</td>\n",
       "      <td>No</td>\n",
       "      <td>46GP8</td>\n",
       "      <td>46GP8</td>\n",
       "      <td>none</td>\n",
       "    </tr>\n",
       "    <tr>\n",
       "      <th>...</th>\n",
       "      <td>...</td>\n",
       "      <td>...</td>\n",
       "      <td>...</td>\n",
       "      <td>...</td>\n",
       "      <td>...</td>\n",
       "      <td>...</td>\n",
       "    </tr>\n",
       "    <tr>\n",
       "      <th>1042306</th>\n",
       "      <td>LSKA2-5391</td>\n",
       "      <td>Was the person walking through a doorway befor...</td>\n",
       "      <td>after</td>\n",
       "      <td>LSKA2</td>\n",
       "      <td>LSKA2</td>\n",
       "      <td>none</td>\n",
       "    </tr>\n",
       "    <tr>\n",
       "      <th>1042307</th>\n",
       "      <td>LSKA2-5394</td>\n",
       "      <td>Were they walking through a doorway before or ...</td>\n",
       "      <td>after</td>\n",
       "      <td>LSKA2</td>\n",
       "      <td>LSKA2</td>\n",
       "      <td>none</td>\n",
       "    </tr>\n",
       "    <tr>\n",
       "      <th>1042308</th>\n",
       "      <td>LSKA2-5395</td>\n",
       "      <td>Were they walking through a doorway before or ...</td>\n",
       "      <td>after</td>\n",
       "      <td>LSKA2</td>\n",
       "      <td>LSKA2</td>\n",
       "      <td>none</td>\n",
       "    </tr>\n",
       "    <tr>\n",
       "      <th>1042309</th>\n",
       "      <td>LSKA2-5393</td>\n",
       "      <td>Was the person walking through a doorway befor...</td>\n",
       "      <td>after</td>\n",
       "      <td>LSKA2</td>\n",
       "      <td>LSKA2</td>\n",
       "      <td>none</td>\n",
       "    </tr>\n",
       "    <tr>\n",
       "      <th>1042310</th>\n",
       "      <td>LSKA2-5392</td>\n",
       "      <td>Were they walking through a doorway before or ...</td>\n",
       "      <td>after</td>\n",
       "      <td>LSKA2</td>\n",
       "      <td>LSKA2</td>\n",
       "      <td>none</td>\n",
       "    </tr>\n",
       "  </tbody>\n",
       "</table>\n",
       "<p>3590505 rows × 6 columns</p>\n",
       "</div>"
      ],
      "text/plain": [
       "                key                                           question answer  \\\n",
       "0           46GP8-2            Is there some food the person contacts?    Yes   \n",
       "1           46GP8-6                       Were they touching a window?    Yes   \n",
       "2          46GP8-36              Is there a table the person contacts?     No   \n",
       "3          46GP8-54              In the video, did they touch a broom?     No   \n",
       "4          46GP8-60  Was a blanket one of the things they were cont...     No   \n",
       "...             ...                                                ...    ...   \n",
       "1042306  LSKA2-5391  Was the person walking through a doorway befor...  after   \n",
       "1042307  LSKA2-5394  Were they walking through a doorway before or ...  after   \n",
       "1042308  LSKA2-5395  Were they walking through a doorway before or ...  after   \n",
       "1042309  LSKA2-5393  Was the person walking through a doorway befor...  after   \n",
       "1042310  LSKA2-5392  Were they walking through a doorway before or ...  after   \n",
       "\n",
       "        vid_id gif_name description  \n",
       "0        46GP8    46GP8        none  \n",
       "1        46GP8    46GP8        none  \n",
       "2        46GP8    46GP8        none  \n",
       "3        46GP8    46GP8        none  \n",
       "4        46GP8    46GP8        none  \n",
       "...        ...      ...         ...  \n",
       "1042306  LSKA2    LSKA2        none  \n",
       "1042307  LSKA2    LSKA2        none  \n",
       "1042308  LSKA2    LSKA2        none  \n",
       "1042309  LSKA2    LSKA2        none  \n",
       "1042310  LSKA2    LSKA2        none  \n",
       "\n",
       "[3590505 rows x 6 columns]"
      ]
     },
     "execution_count": 42,
     "metadata": {},
     "output_type": "execute_result"
    }
   ],
   "source": [
    "# load the pickles\n",
    "# drop other columns\n",
    "# attach together\n",
    "training = pd.read_csv('../exports/%s/other_formats/train-balanced-tgif-updated.csv' % d_path)\n",
    "testing = pd.read_csv('../exports/%s/other_formats/test-balanced-tgif-updated.csv' % d_path)\n",
    "total = pd.concat([training, testing])\n",
    "total"
   ]
  },
  {
   "cell_type": "code",
   "execution_count": 43,
   "metadata": {},
   "outputs": [],
   "source": [
    "total.to_csv('../exports/%s/other_formats/Total-question-updated.csv' % d_path, index = None)"
   ]
  },
  {
   "cell_type": "code",
   "execution_count": 33,
   "metadata": {},
   "outputs": [
    {
     "data": {
      "text/html": [
       "<div>\n",
       "<style scoped>\n",
       "    .dataframe tbody tr th:only-of-type {\n",
       "        vertical-align: middle;\n",
       "    }\n",
       "\n",
       "    .dataframe tbody tr th {\n",
       "        vertical-align: top;\n",
       "    }\n",
       "\n",
       "    .dataframe thead th {\n",
       "        text-align: right;\n",
       "    }\n",
       "</style>\n",
       "<table border=\"1\" class=\"dataframe\">\n",
       "  <thead>\n",
       "    <tr style=\"text-align: right;\">\n",
       "      <th></th>\n",
       "      <th>key</th>\n",
       "      <th>question</th>\n",
       "      <th>answer</th>\n",
       "      <th>vid_id</th>\n",
       "      <th>gif_name</th>\n",
       "      <th>description</th>\n",
       "    </tr>\n",
       "  </thead>\n",
       "  <tbody>\n",
       "  </tbody>\n",
       "</table>\n",
       "</div>"
      ],
      "text/plain": [
       "Empty DataFrame\n",
       "Columns: [key, question, answer, vid_id, gif_name, description]\n",
       "Index: []"
      ]
     },
     "execution_count": 33,
     "metadata": {},
     "output_type": "execute_result"
    }
   ],
   "source": [
    "test[test['key'] == 'YSKX3-1']"
   ]
  },
  {
   "cell_type": "code",
   "execution_count": 29,
   "metadata": {},
   "outputs": [
    {
     "data": {
      "text/html": [
       "<div>\n",
       "<style scoped>\n",
       "    .dataframe tbody tr th:only-of-type {\n",
       "        vertical-align: middle;\n",
       "    }\n",
       "\n",
       "    .dataframe tbody tr th {\n",
       "        vertical-align: top;\n",
       "    }\n",
       "\n",
       "    .dataframe thead th {\n",
       "        text-align: right;\n",
       "    }\n",
       "</style>\n",
       "<table border=\"1\" class=\"dataframe\">\n",
       "  <thead>\n",
       "    <tr style=\"text-align: right;\">\n",
       "      <th></th>\n",
       "      <th>index</th>\n",
       "      <th>question</th>\n",
       "      <th>answer</th>\n",
       "      <th>key</th>\n",
       "      <th>vid_id</th>\n",
       "      <th>gif_name</th>\n",
       "      <th>description</th>\n",
       "    </tr>\n",
       "  </thead>\n",
       "  <tbody>\n",
       "  </tbody>\n",
       "</table>\n",
       "</div>"
      ],
      "text/plain": [
       "Empty DataFrame\n",
       "Columns: [index, question, answer, key, vid_id, gif_name, description]\n",
       "Index: []"
      ]
     },
     "execution_count": 29,
     "metadata": {},
     "output_type": "execute_result"
    }
   ],
   "source": [
    "mismatch"
   ]
  },
  {
   "cell_type": "code",
   "execution_count": 23,
   "metadata": {},
   "outputs": [],
   "source": [
    "templs = {}\n",
    "for v_id in test_stsgs:\n",
    "    with open('../exports/dataset_fixed/balanced/test/%s.txt' % v_id, 'rb') as f:\n",
    "        QA = json.load(f)\n",
    "        \n",
    "    for q_id in QA:\n",
    "        inside = QA[q_id]['id']\n",
    "        if inside != q_id:\n",
    "            t = QA[q_id]['attributes']['type']\n",
    "            if t not in templs:\n",
    "                templs[t] = 0\n",
    "            templs[t] += 1 "
   ]
  },
  {
   "cell_type": "code",
   "execution_count": 24,
   "metadata": {},
   "outputs": [
    {
     "data": {
      "text/plain": [
       "{'andObjRelExists': 13877,\n",
       " 'actTime': 39395,\n",
       " 'xorObjRelExists': 17043,\n",
       " 'objWhat': 86612,\n",
       " 'relExists': 2761,\n",
       " 'actExists': 861,\n",
       " 'objFirst': 5428,\n",
       " 'objFirstVerify': 3320,\n",
       " 'objLast': 8225,\n",
       " 'objExists': 1483,\n",
       " 'objWhatChoose': 9546,\n",
       " 'objRelExists': 3401,\n",
       " 'objFirstChoose': 3626,\n",
       " 'objLastChoose': 3433,\n",
       " 'objLastVerify': 3005,\n",
       " 'objWhatGeneral': 501}"
      ]
     },
     "execution_count": 24,
     "metadata": {},
     "output_type": "execute_result"
    }
   ],
   "source": [
    "templs"
   ]
  },
  {
   "cell_type": "code",
   "execution_count": null,
   "metadata": {},
   "outputs": [],
   "source": []
  }
 ],
 "metadata": {
  "kernelspec": {
   "display_name": "Python 3",
   "language": "python",
   "name": "python3"
  },
  "language_info": {
   "codemirror_mode": {
    "name": "ipython",
    "version": 3
   },
   "file_extension": ".py",
   "mimetype": "text/x-python",
   "name": "python",
   "nbconvert_exporter": "python",
   "pygments_lexer": "ipython3",
   "version": "3.7.6"
  }
 },
 "nbformat": 4,
 "nbformat_minor": 4
}
