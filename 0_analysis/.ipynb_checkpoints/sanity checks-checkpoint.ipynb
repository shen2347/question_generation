{
 "cells": [
  {
   "cell_type": "code",
   "execution_count": 1,
   "metadata": {},
   "outputs": [],
   "source": [
    "import json\n",
    "import pickle\n",
    "import pandas as pd\n",
    "import random\n",
    "import matplotlib.pyplot as plt\n",
    "import seaborn as sns"
   ]
  },
  {
   "cell_type": "markdown",
   "metadata": {},
   "source": [
    "# Imports"
   ]
  },
  {
   "cell_type": "code",
   "execution_count": 2,
   "metadata": {},
   "outputs": [],
   "source": [
    "with open('../../data/train_video_names.txt', 'rb') as f:\n",
    "    train_stsgs = json.load(f)\n",
    "    \n",
    "    \n",
    "with open('../../data/test_video_names.txt', 'rb') as f:\n",
    "    test_stsgs = json.load(f)\n",
    "    "
   ]
  },
  {
   "cell_type": "code",
   "execution_count": 3,
   "metadata": {},
   "outputs": [],
   "source": [
    "\n",
    "with open('../../data/eng.pkl', 'rb') as f:\n",
    "    ENG = pickle.load(f)\n",
    "    \n",
    "\n",
    "with open('../../data/templ2global.txt', 'rb') as f:\n",
    "    templ2global = json.load(f)"
   ]
  },
  {
   "cell_type": "code",
   "execution_count": 5,
   "metadata": {},
   "outputs": [],
   "source": [
    "with open('../../data/stsgs/train_stsgs.pkl', 'rb') as f:\n",
    "    train_stsgs_complete= pickle.load(f)\n",
    "\n",
    "with open('../../data/stsgs/test_stsgs.pkl', 'rb') as f:\n",
    "    test_stsgs_complete = pickle.load(f)\n"
   ]
  },
  {
   "cell_type": "markdown",
   "metadata": {},
   "source": [
    "# Helper functions"
   ]
  },
  {
   "cell_type": "code",
   "execution_count": 6,
   "metadata": {},
   "outputs": [],
   "source": [
    "def getVideos(group, start=0, stop=99999):\n",
    "    if group == 'test':\n",
    "        return test_stsgs[start:stop]\n",
    "    elif group == 'train':\n",
    "        return train_stsgs[start:stop]\n",
    "    else:\n",
    "        print(\"Incorrect group %s\" % group)\n",
    "        \n",
    "def getQA(d_path, bal, group, v):\n",
    "    with open('../../exports/%s/%s/%s/%s.txt' % (d_path, bal, group, v), 'rb') as f:\n",
    "        QA = json.load(f)\n",
    "        \n",
    "    return QA\n",
    "\n",
    "def getTemp(q):\n",
    "    return q['attributes']['type']"
   ]
  },
  {
   "cell_type": "code",
   "execution_count": 7,
   "metadata": {},
   "outputs": [],
   "source": [
    "def getQuestions(d_path, bal, group, start=0, stop=99999):\n",
    "    videos = getVideos(group, start, stop)\n",
    "    #dfs = []\n",
    "    qs = []\n",
    "    \n",
    "    for v in videos:\n",
    "        QA = list(getQA(d_path, bal, group, v).values())\n",
    "        for q in QA:\n",
    "            q['video_id'] = q['id'][:5]\n",
    "            q['global'] = templ2global[getTemp(q)],            \n",
    "            \n",
    "            \n",
    "        qs += QA\n",
    "   #    df = pd.DataFrame(QA)\n",
    "        \n",
    "  #      dfs.append(df)\n",
    "        \n",
    "  #  df = pd.concat(dfs)\n",
    "        \n",
    "    return qs\n",
    "\n",
    "\n",
    "def add(dic, cat, item):\n",
    "    if cat not in dic:\n",
    "        dic[cat] = {}\n",
    "    \n",
    "    if item not in dic[cat]:\n",
    "        dic[cat][item] = 0\n",
    "        \n",
    "    dic[cat][item] += 1\n",
    "    "
   ]
  },
  {
   "cell_type": "markdown",
   "metadata": {},
   "source": [
    "# Unbalanced\n",
    "\n",
    "\n",
    "- No overlapping programs\n",
    "- All have equal number of internal and external parentheses\n",
    "    - Have mona make sure they all work\n",
    "- Manually go through scene graph grounding stuff\n",
    "- Get a lot of locals for each\n",
    "- Key matches internal key\n",
    "- Choose / verify / open have no inconsistencies\n",
    "- Double check that getting rid of stuff in isValidObjRel makes things ok!\n",
    "\n"
   ]
  },
  {
   "cell_type": "code",
   "execution_count": 9,
   "metadata": {},
   "outputs": [],
   "source": [
    "d_path = 'dataset'\n",
    "bal = 'all'\n",
    "group = 'test'\n",
    "\n",
    "all_qs = getQuestions(d_path, bal, group, start=0, stop=5)"
   ]
  },
  {
   "cell_type": "code",
   "execution_count": 36,
   "metadata": {},
   "outputs": [],
   "source": [
    "by_t = {}\n",
    "\n",
    "for q in all_qs:\n",
    "    t = getTemp(q)\n",
    "    if t not in by_t:\n",
    "        by_t[t] = []\n",
    "        \n",
    "        \n",
    "    by_t[t].append(q)"
   ]
  },
  {
   "cell_type": "markdown",
   "metadata": {},
   "source": [
    "### Programs are ok\n",
    "\n",
    "\n",
    "- Equal number of parentheses\n",
    "- No overlapping\n"
   ]
  },
  {
   "cell_type": "code",
   "execution_count": 37,
   "metadata": {},
   "outputs": [],
   "source": [
    "# separate by program\n",
    "by_p = {}\n",
    "\n",
    "for q in all_qs:\n",
    "    v_id = q['video_id']\n",
    "    p = q['program']\n",
    "    \n",
    "    if v_id not in by_p:\n",
    "        by_p[v_id] = {}\n",
    "        \n",
    "    if p not in by_p[v_id]:\n",
    "        by_p[v_id][p] = []\n",
    "    \n",
    "    by_p[v_id][p].append(q)\n",
    "    "
   ]
  },
  {
   "cell_type": "code",
   "execution_count": 38,
   "metadata": {},
   "outputs": [],
   "source": [
    "ts = {}\n",
    "\n",
    "for v_id in by_p:\n",
    "    #print('/'*20)\n",
    "    #print(v_id)\n",
    "    ps = by_p[v_id]\n",
    "    \n",
    "    for p in ps:\n",
    "        \n",
    "        \n",
    "        \n",
    "        if len(ps[p]) > 1:\n",
    "            print()\n",
    "            #print(p)\n",
    "            for i in ps[p]:\n",
    "                t = getTemp(i)\n",
    "                if t not in ts:\n",
    "                    ts[t] = 0\n",
    "                ts[t] += 1\n",
    "                print(t, i['id'], i['question'])\n",
    "            "
   ]
  },
  {
   "cell_type": "code",
   "execution_count": 39,
   "metadata": {},
   "outputs": [
    {
     "data": {
      "text/plain": [
       "{}"
      ]
     },
     "execution_count": 39,
     "metadata": {},
     "output_type": "execute_result"
    }
   ],
   "source": [
    "ts"
   ]
  },
  {
   "cell_type": "code",
   "execution_count": 55,
   "metadata": {},
   "outputs": [
    {
     "data": {
      "text/plain": [
       "58"
      ]
     },
     "execution_count": 55,
     "metadata": {},
     "output_type": "execute_result"
    }
   ],
   "source": [
    "test_stsgs.index('A7WU3')"
   ]
  },
  {
   "cell_type": "code",
   "execution_count": 18,
   "metadata": {},
   "outputs": [],
   "source": [
    "for v_id in by_p:\n",
    "    ps = by_p[v_id]\n",
    "    \n",
    "    for p in ps:\n",
    "        start_cnt = p.count('(')\n",
    "        end_cnt = p.count(')')\n",
    "        \n",
    "        if start_cnt != end_cnt:\n",
    "            print(start, end, p)\n",
    "        "
   ]
  },
  {
   "cell_type": "markdown",
   "metadata": {},
   "source": [
    "### Scene Graph Grounding\n",
    "\n",
    "Hadn't updated when made it \"interacts\"\n",
    "This effects objExists and objTime\n",
    "\n",
    "No negative indices or incices longer than the sentence"
   ]
  },
  {
   "cell_type": "code",
   "execution_count": 26,
   "metadata": {},
   "outputs": [
    {
     "name": "stdout",
     "output_type": "stream",
     "text": [
      "\n",
      "////////////////////\n",
      "objExists\n",
      "\n",
      "     Was a vacuum one of the things they were interacting with after putting the last thing they held somewhere?\n",
      "         a vacuum 4 12\n",
      "         the last thing they held 72 96\n",
      "         putting the last thing they held somewhere 64 106\n",
      "         after putting the last thing they held somewhere 58 106\n",
      "\n",
      "     Is there some groceries the person interacts with after taking the thing they got covered by from somewhere?\n",
      "         some groceries 9 23\n",
      "         the thing they got covered by 63 92\n",
      "         taking the thing they got covered by from somewhere 56 107\n",
      "         after taking the thing they got covered by from somewhere 50 107\n",
      "\n",
      "     After putting the object they were touching first somewhere, did they interact with a bed?\n",
      "         the object they were touching first  14 50\n",
      "         putting the object they were touching first somewhere 6 59\n",
      "         After putting the object they were touching first somewhere 0 59\n",
      "         a bed 84 89\n",
      "\n",
      "     Were they interacting with some groceries after standing up?\n",
      "         some groceries 27 41\n",
      "         standing up 48 59\n",
      "         after standing up 42 59\n",
      "\n",
      "     Was a table one of the things they were interacting with between holding some clothes and holding a shoe?\n",
      "         a table 4 11\n",
      "         holding some clothes 65 85\n",
      "         holding a shoe 90 104\n",
      "         between holding some clothes and holding a shoe 57 104\n"
     ]
    }
   ],
   "source": [
    "for t in ['objExists']: #by_t:\n",
    "    qs = by_t[t]\n",
    "    cnt = min(len(qs), 5)\n",
    "    qs = random.sample(qs, k=cnt)\n",
    "    \n",
    "    print()\n",
    "    print('/'*20)\n",
    "    print(t)\n",
    "    \n",
    "    for q in qs:\n",
    "        print()\n",
    "        print(' '*4, q['question'])\n",
    "        \n",
    "        sg = q['sg_grounding']\n",
    "        for x in sg:\n",
    "            st, sp = x.split('-')\n",
    "            print(' '*8, q['question'][int(st):int(sp)], st, sp, )#, sg[x])\n",
    "    "
   ]
  },
  {
   "cell_type": "markdown",
   "metadata": {},
   "source": [
    "###### No negative or large indices\n"
   ]
  },
  {
   "cell_type": "code",
   "execution_count": 53,
   "metadata": {},
   "outputs": [
    {
     "name": "stdout",
     "output_type": "stream",
     "text": [
      "\n",
      "Index larger than question 74\n",
      "6IL0C-23531 actLast What did the person do last before taking a vacuum from somewhere?\n",
      "\n",
      "Index larger than question 74\n",
      "6IL0C-23531 actLast What did the person do last before taking a vacuum from somewhere?\n",
      "\n",
      "Index larger than question 93\n",
      "6IL0C-34066 actLast What did the person do last before taking the last thing they touched from somewhere?\n",
      "\n",
      "Index larger than question 93\n",
      "6IL0C-34066 actLast What did the person do last before taking the last thing they touched from somewhere?\n",
      "\n",
      "Index larger than question 35\n",
      "CLAWJ-10774 actLast What did the person do last?\n",
      "\n",
      "Index larger than question 35\n",
      "CLAWJ-10774 actLast What did the person do last?\n"
     ]
    }
   ],
   "source": [
    "for q in all_qs:\n",
    "    sg = q['sg_grounding']\n",
    "    q_len = len(q['question'])\n",
    "    \n",
    "    for x in sg: \n",
    "        s, e = x.split('-')\n",
    "        \n",
    "        for i in [int(s), int(e)]:\n",
    "            if i < 0:\n",
    "                print('Negative index: ', i)\n",
    "                \n",
    "            if i >= q_len:\n",
    "                print()\n",
    "                print('Index larger than question', i)\n",
    "                print(q['id'], q['attributes']['type'], q['question'])\n",
    "            \n",
    "    "
   ]
  },
  {
   "cell_type": "code",
   "execution_count": 44,
   "metadata": {},
   "outputs": [],
   "source": [
    "\n",
    "def validSGVertices(args):\n",
    "    all_qs, group = args\n",
    "    invalid = {}\n",
    "    invalid_qs = []\n",
    "\n",
    "    if group == 'train':\n",
    "        all_stsgs = train_stsgs_complete\n",
    "    elif group == 'test':\n",
    "        all_stsgs = test_stsgs_complete\n",
    "    else:\n",
    "        print('invalid group: ', group)\n",
    "        return\n",
    "\n",
    "    stsgs = {}\n",
    "    for v_id in all_stsgs:\n",
    "        stsgs[v_id] = []\n",
    "        old_sg = all_stsgs[v_id]\n",
    "        new_sg = stsgs[v_id]\n",
    "\n",
    "        new_sg += old_sg['ordered_frames']\n",
    "        new_sg += list(old_sg['stsg']['actions'].keys())\n",
    "        new_sg += list(old_sg['stsg']['contact'].keys())\n",
    "        new_sg += list(old_sg['stsg']['spatial'].keys())\n",
    "        new_sg += list(old_sg['stsg']['verb'].keys())\n",
    "\n",
    "    for q in all_qs:\n",
    "        v_id = q['id'][:5]\n",
    "        grounding = q['sg_grounding']\n",
    "        sg = stsgs[v_id]\n",
    "        templ = q['metrics']['indirects'][0]#q['attributes']['type']\n",
    "        if v_id not in invalid:\n",
    "            invalid[v_id] = {}\n",
    "        if templ not in invalid[v_id]:\n",
    "            invalid[v_id][templ] = set()\n",
    "            \n",
    "        is_invalid = False\n",
    "        for x in grounding:\n",
    "            refs = grounding[x]\n",
    "            for r in refs:\n",
    "                if r not in sg:\n",
    "                    invalid[v_id][templ].add(r)\n",
    "                    is_invalid = True\n",
    "                    #tp = r[0]\n",
    "                   # if tp not in invalid[v_id][templ]:\n",
    "                    #    invalid[v_id][templ][tp] = set()\n",
    "                    #invalid[v_id][templ][tp].add(r)\n",
    "                    #print(r, q['id'])\n",
    "                    #print(q)\n",
    "                    #raise(Exception(\"References nonexistent vertex\"))\n",
    "                    \n",
    "        if is_invalid:\n",
    "            invalid_qs.append(q)\n",
    "                    \n",
    "                    \n",
    "    return invalid, invalid_qs\n",
    "\n"
   ]
  },
  {
   "cell_type": "code",
   "execution_count": 45,
   "metadata": {},
   "outputs": [],
   "source": [
    "invalid, invalid_qs = validSGVertices([all_qs, 'test'])\n",
    "\n"
   ]
  },
  {
   "cell_type": "code",
   "execution_count": 42,
   "metadata": {},
   "outputs": [
    {
     "data": {
      "text/plain": [
       "5"
      ]
     },
     "execution_count": 42,
     "metadata": {},
     "output_type": "execute_result"
    }
   ],
   "source": [
    "len(invalid)"
   ]
  },
  {
   "cell_type": "code",
   "execution_count": 43,
   "metadata": {},
   "outputs": [
    {
     "name": "stdout",
     "output_type": "stream",
     "text": [
      "YSKX3\n",
      "     False\n",
      "         o 25\n",
      "     True\n",
      "         o 25\n",
      "T5ECU\n",
      "     False\n",
      "         o 201\n",
      "     True\n",
      "         o 201\n",
      "AAH6R\n",
      "     False\n",
      "         o 35\n",
      "     True\n",
      "         o 35\n",
      "015XE\n",
      "     False\n",
      "         o 15\n",
      "     True\n",
      "         o 15\n",
      "TJZ0P\n",
      "     False\n",
      "         o 313\n",
      "     True\n",
      "         o 313\n"
     ]
    }
   ],
   "source": [
    "indent = 4\n",
    "for v_id in invalid:\n",
    "    print(v_id)\n",
    "    for t in invalid[v_id]:\n",
    "        print(' '*indent, t)\n",
    "        for tp in invalid[v_id][t]:\n",
    "            print(' '*(indent*2), tp, len(invalid[v_id][t][tp]))"
   ]
  },
  {
   "cell_type": "code",
   "execution_count": 47,
   "metadata": {},
   "outputs": [
    {
     "data": {
      "text/plain": [
       "45459"
      ]
     },
     "execution_count": 47,
     "metadata": {},
     "output_type": "execute_result"
    }
   ],
   "source": [
    "len(invalid_qs)"
   ]
  },
  {
   "cell_type": "code",
   "execution_count": 52,
   "metadata": {},
   "outputs": [
    {
     "name": "stdout",
     "output_type": "stream",
     "text": [
      "Is there a blanket the person interacts with?\n",
      "Were they interacting with a pillow?\n",
      "Were they interacting with a vacuum?\n",
      "In the video, did they interact with a window?\n",
      "In the video, did they interact with a chair?\n",
      "In the video, did they interact with a dish?\n",
      "Were they interacting with a chair?\n",
      "Was a phone one of the things they were interacting with?\n",
      "Was a table one of the things they were interacting with?\n",
      "Was a chair one of the things they were interacting with?\n",
      "In the video, did they interact with a paper?\n",
      "In the video, did they interact with some food?\n"
     ]
    }
   ],
   "source": [
    "simple = []\n",
    "\n",
    "for q in invalid_qs:\n",
    "    if q['metrics']['indirects'].count(True) == 0:\n",
    "        if q['attributes']['type'] == 'objExists':\n",
    "            print(q['question'])\n",
    "            \n",
    "            simple.append(q)"
   ]
  },
  {
   "cell_type": "code",
   "execution_count": 67,
   "metadata": {},
   "outputs": [
    {
     "name": "stdout",
     "output_type": "stream",
     "text": [
      "\n",
      "YSKX3-9\n",
      "9-18 Yes a blanket\n",
      "43-43 Yes \n",
      "\n",
      "YSKX3-13\n",
      "27-35 Yes a pillow\n",
      "34-34 Yes \n"
     ]
    }
   ],
   "source": [
    "for q in simple:\n",
    "    if q['id'][:5] != 'YSKX3':\n",
    "        continue\n",
    "    print()\n",
    "    print(q['id'])\n",
    "    for x in q['sg_grounding']:\n",
    "        refs = q['sg_grounding'][x]\n",
    "        s, e = x.split('-')\n",
    "        \n",
    "        print(x, q['answer'], q['question'][int(s):int(e)])\n",
    "        \n",
    "        for r in refs:\n",
    "            if r not in list(test_stsgs_complete['YSKX3']['stsg']['objects'].keys()):\n",
    "                if r not in test_stsgs_complete['YSKX3']['ordered_frames']:\n",
    "                    print(r)"
   ]
  },
  {
   "cell_type": "code",
   "execution_count": null,
   "metadata": {},
   "outputs": [],
   "source": []
  },
  {
   "cell_type": "code",
   "execution_count": null,
   "metadata": {},
   "outputs": [],
   "source": []
  },
  {
   "cell_type": "markdown",
   "metadata": {},
   "source": [
    "# Checking distributions"
   ]
  },
  {
   "cell_type": "code",
   "execution_count": 15,
   "metadata": {},
   "outputs": [
    {
     "name": "stdout",
     "output_type": "stream",
     "text": [
      "0\n",
      "500000\n"
     ]
    }
   ],
   "source": [
    "all_data = {}\n",
    "for cnt, q in enumerate(all_qs):\n",
    "    if cnt % 500000 == 0:\n",
    "        print(cnt)\n",
    "    \n",
    "    for i in q['attributes']:\n",
    "        #if i not in all_data:\n",
    "        #    all_data[i] = []\n",
    "        #dic = all_data[i]\n",
    "        att = q['attributes'][i]\n",
    "        add(all_data, i, att)\n",
    "        \n",
    "    \n",
    "    for i in q:\n",
    "        if i not in ['steps', 'local']:\n",
    "            continue\n",
    "            \n",
    "        \n",
    "        if i == 'global':\n",
    "            for g in q[i]:\n",
    "                add(dic, g)\n",
    "        else:\n",
    "            add(all_data, i, q[i])\n",
    "        "
   ]
  },
  {
   "cell_type": "code",
   "execution_count": 28,
   "metadata": {},
   "outputs": [
    {
     "name": "stdout",
     "output_type": "stream",
     "text": [
      "                      type     num\n",
      "0                objExists   40622\n",
      "1             objRelExists   70106\n",
      "2                relExists   45587\n",
      "3          andObjRelExists  152598\n",
      "4          xorObjRelExists  152598\n",
      "5           objWhatGeneral      31\n",
      "6                  objWhat    5855\n",
      "7            objWhatChoose   12243\n",
      "8                 objFirst     531\n",
      "9           objFirstVerify    9501\n",
      "10                actFirst      10\n",
      "11           objLastVerify    8929\n",
      "12                 actTime    2506\n",
      "13                 objLast     329\n",
      "14   actLengthLongerChoose     157\n",
      "15  actLengthShorterChoose     157\n",
      "16   actLengthLongerVerify     157\n",
      "17  actLengthShorterVerify     157\n",
      "18              actLongest       7\n",
      "19         actWhatAfterAll      10\n",
      "20                 objTime      14\n"
     ]
    },
    {
     "data": {
      "image/png": "[encoded data removed]",
      "text/plain": [
       "<Figure size 432x288 with 1 Axes>"
      ]
     },
     "metadata": {
      "needs_background": "light"
     },
     "output_type": "display_data"
    },
    {
     "name": "stdout",
     "output_type": "stream",
     "text": [
      "  structural     num\n",
      "0     verify  174745\n",
      "1      logic  305196\n",
      "2      query    6773\n",
      "3     choose   12243\n",
      "4    compare    3148\n"
     ]
    },
    {
     "data": {
      "image/png": "[encoded data removed]",
      "text/plain": [
       "<Figure size 432x288 with 1 Axes>"
      ]
     },
     "metadata": {
      "needs_background": "light"
     },
     "output_type": "display_data"
    },
    {
     "name": "stdout",
     "output_type": "stream",
     "text": [
      "   semantic     num\n",
      "0    object   78055\n",
      "1  relation  420889\n",
      "2    action    3161\n"
     ]
    },
    {
     "data": {
      "image/png": "[encoded data removed]",
      "text/plain": [
       "<Figure size 432x288 with 1 Axes>"
      ]
     },
     "metadata": {
      "needs_background": "light"
     },
     "output_type": "display_data"
    },
    {
     "name": "stdout",
     "output_type": "stream",
     "text": [
      "  ans_type     num\n",
      "0   binary  495332\n",
      "1     open    6773\n"
     ]
    },
    {
     "data": {
      "image/png": "[encoded data removed]",
      "text/plain": [
       "<Figure size 432x288 with 1 Axes>"
      ]
     },
     "metadata": {
      "needs_background": "light"
     },
     "output_type": "display_data"
    },
    {
     "name": "stdout",
     "output_type": "stream",
     "text": [
      "  steps     num\n",
      "0     3   35923\n",
      "1     1    1461\n",
      "2     4   91880\n",
      "3     2     804\n",
      "4     5   58883\n",
      "5     6   89627\n",
      "6     7  140436\n",
      "7     8   83091\n"
     ]
    },
    {
     "data": {
      "image/png": "[encoded data removed]",
      "text/plain": [
       "<Figure size 432x288 with 1 Axes>"
      ]
     },
     "metadata": {
      "needs_background": "light"
     },
     "output_type": "display_data"
    }
   ],
   "source": [
    "for i in all_data:\n",
    "    if i in ['local', 'answer','video_id']: \n",
    "        continue\n",
    "        \n",
    "    data = all_data[i]\n",
    "    \n",
    "    \n",
    "    frame = [{i: str(key), 'num': num} for key, num in data.items()]\n",
    "    df = pd.DataFrame(frame)\n",
    "        \n",
    "        \n",
    "    print(df)\n",
    "    plt.title(i)\n",
    "    sns.barplot(y=i, x='num', data=df.sort_values('num'), palette=\"Blues\")\n",
    "    plt.show()\n",
    "    plt.clf()"
   ]
  },
  {
   "cell_type": "markdown",
   "metadata": {},
   "source": [
    "### Make sure there are multiple locals per template"
   ]
  },
  {
   "cell_type": "code",
   "execution_count": 17,
   "metadata": {},
   "outputs": [
    {
     "data": {
      "text/plain": [
       "<Figure size 432x288 with 0 Axes>"
      ]
     },
     "metadata": {},
     "output_type": "display_data"
    }
   ],
   "source": [
    "loc_by_t = templ2global.copy()\n",
    "for i in loc_by_t:\n",
    "    loc_by_t[i] = {}\n",
    "\n",
    "for q in all_qs:\n",
    "    t = getTemp(q)\n",
    "    loc = q['local']\n",
    "    \n",
    "    if loc not in loc_by_t[t]:\n",
    "        loc_by_t[t][loc] = 0\n",
    "    \n",
    "    loc_by_t[t][loc] += 1"
   ]
  },
  {
   "cell_type": "code",
   "execution_count": 18,
   "metadata": {},
   "outputs": [
    {
     "name": "stdout",
     "output_type": "stream",
     "text": [
      "objExists 31\n",
      "objRelExists 129\n",
      "relExists 30\n",
      "andObjRelExists 440\n",
      "xorObjRelExists 440\n",
      "objWhatGeneral 1\n",
      "objWhat 38\n",
      "objWhatChoose 393\n",
      "actWhatAfterAll 5\n",
      "actWhatBefore 0\n",
      "objFirst 11\n",
      "objFirstChoose 0\n",
      "objFirstVerify 185\n",
      "actFirst 7\n",
      "objLast 11\n",
      "objLastChoose 0\n",
      "objLastVerify 168\n",
      "actLast 0\n",
      "actLengthLongerChoose 145\n",
      "actLengthShorterChoose 145\n",
      "actLengthLongerVerify 145\n",
      "actLengthShorterVerify 145\n",
      "actLongest 1\n",
      "actShortest 0\n",
      "actTime 686\n",
      "relTime 0\n",
      "objTime 2\n"
     ]
    }
   ],
   "source": [
    "for t in loc_by_t:\n",
    "    print(t, len(loc_by_t[t]))"
   ]
  },
  {
   "cell_type": "markdown",
   "metadata": {},
   "source": [
    "# Key matches internal key"
   ]
  },
  {
   "cell_type": "code",
   "execution_count": 52,
   "metadata": {},
   "outputs": [],
   "source": [
    "for v_id in getVideos(group, start=0, stop=3):\n",
    "    QA = getQA(d_path, bal, group, v_id)\n",
    "    \n",
    "    for q_id in QA:\n",
    "        i = QA[q_id]['id']\n",
    "        if i != q_id:\n",
    "            print(\"PROBLEM!\")\n"
   ]
  },
  {
   "cell_type": "markdown",
   "metadata": {},
   "source": [
    "# Exists questions follow distribution"
   ]
  },
  {
   "cell_type": "code",
   "execution_count": 20,
   "metadata": {},
   "outputs": [],
   "source": [
    "exists = {\n",
    "    'objExists': {},\n",
    "    'objRelExists': {},\n",
    "    'relExists': {},\n",
    "    'andObjRelExists': {},\n",
    "    'xorObjRelExists': {},\n",
    "}\n",
    "\n",
    "for v_id in getVideos(group, start=0, stop=3):\n",
    "    QA = getQA(d_path, bal, group, v_id)\n",
    "    \n",
    "    for q_id in QA:\n",
    "        q = QA[q_id]\n",
    "        g = q['global']\n",
    "        t = getTemp(q)\n",
    "        # see if is exists question\n",
    "        if g == 'exists':\n",
    "            if q['metrics']['indirects'].count(True) == 0:\n",
    "                loc = q['local']\n",
    "                if loc not in exists[t]:\n",
    "                    exists[t][loc] = 0\n",
    "                exists[t][loc] += 1\n"
   ]
  },
  {
   "cell_type": "code",
   "execution_count": 21,
   "metadata": {},
   "outputs": [],
   "source": [
    "def makeLocalEnglish(loc):\n",
    "    lst = loc.split('-')\n",
    "    new_lst = []\n",
    "    for i in lst:\n",
    "        if i in ['and', 'xor']:\n",
    "            new = i\n",
    "        else:\n",
    "            new = ENG[i]\n",
    "        new_lst.append(new)\n",
    "    new_loc = ''\n",
    "    for i in new_lst:\n",
    "        new_loc += i\n",
    "        new_loc += '-'\n",
    "        \n",
    "    return new_loc[:-1]"
   ]
  },
  {
   "cell_type": "code",
   "execution_count": 22,
   "metadata": {},
   "outputs": [
    {
     "name": "stdout",
     "output_type": "stream",
     "text": [
      "objExists\n",
      "     blanket 2\n",
      "     pillow 3\n",
      "     groceries 3\n",
      "     vacuum 3\n",
      "     mirror 3\n",
      "     television 3\n",
      "     paper 3\n",
      "     shelf 3\n",
      "     table 3\n",
      "     doorway 3\n",
      "     food 3\n",
      "     closet 3\n",
      "     picture 3\n",
      "     dish 3\n",
      "     sandwich 3\n",
      "     medicine 3\n",
      "     door 3\n",
      "     doorknob 3\n",
      "     window 3\n",
      "     chair 3\n",
      "     bag 3\n",
      "     broom 3\n",
      "     sofa 1\n",
      "     book 3\n",
      "     bed 1\n",
      "     box 3\n",
      "     cup 2\n",
      "     phone 3\n",
      "     laptop 3\n",
      "     refrigerator 3\n",
      "     towel 1\n",
      "objRelExists\n",
      "     touching-blanket 1\n",
      "     touching-pillow 1\n",
      "     holding-blanket 1\n",
      "     holding-pillow 1\n",
      "     tidying-blanket 1\n",
      "     taking-blanket 1\n",
      "     taking-pillow 1\n",
      "     throwing-blanket 1\n",
      "     throwing-pillow 1\n",
      "     putting down-blanket 1\n",
      "     putting down-pillow 1\n",
      "     holding-vacuum 1\n",
      "     holding-window 1\n",
      "     holding-chair 1\n",
      "     holding-dish 1\n",
      "     touching-vacuum 1\n",
      "     touching-window 1\n",
      "     touching-chair 2\n",
      "     touching-dish 1\n",
      "     leaning on-window 1\n",
      "     leaning on-chair 2\n",
      "     sitting on-window 1\n",
      "     sitting on-chair 2\n",
      "     standing on-chair 1\n",
      "     taking-vacuum 1\n",
      "     taking-dish 1\n",
      "     watching-window 1\n",
      "     touching-mirror 1\n",
      "     sitting on-clothes 1\n",
      "     watching-mirror 1\n",
      "     dressing-clothes 1\n",
      "     undressing-clothes 1\n",
      "relExists\n",
      "     touching 3\n",
      "     holding 3\n",
      "     sitting on 3\n",
      "     having it on the back 3\n",
      "     lying on 3\n",
      "     writing on 3\n",
      "     leaning on 3\n",
      "     twisting 3\n",
      "     covered by 3\n",
      "     carrying 3\n",
      "     drinking from 3\n",
      "     eating 3\n",
      "     wiping 3\n",
      "     tidying 3\n",
      "     taking 3\n",
      "     throwing 3\n",
      "     putting down 3\n",
      "     closing 3\n",
      "     working on 3\n",
      "     undressing 3\n",
      "     dressing 3\n",
      "     watching 3\n",
      "     fixing 3\n",
      "     playing on 3\n",
      "     washing 3\n",
      "     smiling 3\n",
      "     laughing 3\n",
      "     snuggling 3\n",
      "     awakening 3\n",
      "     opening 3\n",
      "andObjRelExists\n",
      "     and-touching-blanket-pillow 1\n",
      "     and-holding-blanket-pillow 1\n",
      "     and-taking-blanket-pillow 1\n",
      "     and-throwing-blanket-pillow 1\n",
      "     and-putting down-blanket-pillow 1\n",
      "     and-holding-vacuum-window 1\n",
      "     and-holding-vacuum-chair 1\n",
      "     and-holding-vacuum-dish 1\n",
      "     and-holding-window-chair 1\n",
      "     and-holding-window-dish 1\n",
      "     and-holding-chair-dish 1\n",
      "     and-touching-vacuum-window 1\n",
      "     and-touching-vacuum-chair 1\n",
      "     and-touching-vacuum-dish 1\n",
      "     and-touching-window-chair 1\n",
      "     and-touching-window-dish 1\n",
      "     and-touching-chair-dish 1\n",
      "     and-leaning on-window-chair 1\n",
      "     and-sitting on-window-chair 1\n",
      "     and-taking-vacuum-dish 1\n",
      "     and-touching-mirror-chair 1\n",
      "     and-sitting on-clothes-chair 1\n",
      "xorObjRelExists\n",
      "     xor-touching-blanket-pillow 1\n",
      "     xor-holding-blanket-pillow 1\n",
      "     xor-taking-blanket-pillow 1\n",
      "     xor-throwing-blanket-pillow 1\n",
      "     xor-putting down-blanket-pillow 1\n",
      "     xor-holding-vacuum-window 1\n",
      "     xor-holding-vacuum-chair 1\n",
      "     xor-holding-vacuum-dish 1\n",
      "     xor-holding-window-chair 1\n",
      "     xor-holding-window-dish 1\n",
      "     xor-holding-chair-dish 1\n",
      "     xor-touching-vacuum-window 1\n",
      "     xor-touching-vacuum-chair 1\n",
      "     xor-touching-vacuum-dish 1\n",
      "     xor-touching-window-chair 1\n",
      "     xor-touching-window-dish 1\n",
      "     xor-touching-chair-dish 1\n",
      "     xor-leaning on-window-chair 1\n",
      "     xor-sitting on-window-chair 1\n",
      "     xor-taking-vacuum-dish 1\n",
      "     xor-touching-mirror-chair 1\n",
      "     xor-sitting on-clothes-chair 1\n"
     ]
    }
   ],
   "source": [
    "for t in exists:\n",
    "    print(t)\n",
    "    for loc in exists[t]:\n",
    "        cnt = exists[t][loc]\n",
    "        loc = makeLocalEnglish(loc)\n",
    "        print(' '*4, loc, cnt)"
   ]
  },
  {
   "cell_type": "markdown",
   "metadata": {},
   "source": [
    "# TODO: Make sure choose is consistent"
   ]
  },
  {
   "cell_type": "code",
   "execution_count": 23,
   "metadata": {},
   "outputs": [],
   "source": [
    "exists = {\n",
    "    'objExists': {},\n",
    "    'objRelExists': {},\n",
    "    'relExists': {},\n",
    "    'andObjRelExists': {},\n",
    "    'xorObjRelExists': {},\n",
    "}\n",
    "\n",
    "for v_id in getVideos(group, start=1, stop=2):\n",
    "    QA = getQA(d_path, bal, group, v_id)\n",
    "    \n",
    "    for q_id in QA:\n",
    "        q = QA[q_id]\n",
    "        g = q['global']\n",
    "        t = getTemp(q)\n",
    "        # see if is exists question\n",
    "        if g == 'exists':\n",
    "            if q['metrics']['indirects'].count(True) == 0:\n",
    "                loc = q['local']\n",
    "                if loc not in exists[t]:\n",
    "                    exists[t][loc] = 0\n",
    "                exists[t][loc] += 1\n"
   ]
  },
  {
   "cell_type": "code",
   "execution_count": null,
   "metadata": {},
   "outputs": [],
   "source": []
  },
  {
   "cell_type": "markdown",
   "metadata": {},
   "source": [
    "# after action indirect, is it successfully adding?"
   ]
  },
  {
   "cell_type": "code",
   "execution_count": 24,
   "metadata": {},
   "outputs": [
    {
     "name": "stdout",
     "output_type": "stream",
     "text": [
      "last obj exists at YSKX3-406\n",
      "We good YSKX3-1385\n",
      "last obj exists at YSKX3-2081\n"
     ]
    }
   ],
   "source": [
    "for v_id in getVideos(group, start=0, stop=1):\n",
    "    QA = getQA(d_path, bal, group, v_id)\n",
    "    \n",
    "    objExists=True\n",
    "    for q_id in QA:\n",
    "        q = QA[q_id]\n",
    "        t = getTemp(q)\n",
    "        # see if is exists question\n",
    "        if objExists and t != 'objExists':\n",
    "            print(\"last obj exists at\", q_id)\n",
    "            objExists = False\n",
    "            \n",
    "        if not objExists and t == 'objExists':\n",
    "            print(\"We good\", q_id)\n",
    "            objExists = True"
   ]
  },
  {
   "cell_type": "markdown",
   "metadata": {},
   "source": [
    "# Make sure local and direct are the same thing"
   ]
  },
  {
   "cell_type": "code",
   "execution_count": 57,
   "metadata": {},
   "outputs": [
    {
     "name": "stdout",
     "output_type": "stream",
     "text": [
      "actWhatBefore\n",
      "actFirst\n",
      "actFirst\n",
      "actWhatBefore\n",
      "actWhatBefore\n",
      "actFirst\n",
      "actFirst\n",
      "actFirst\n",
      "actFirst\n",
      "actFirst\n",
      "actFirst\n",
      "actFirst\n",
      "actFirst\n"
     ]
    }
   ],
   "source": [
    "for v_id in getVideos(group, start=56, stop=60):\n",
    "    QA = getQA(d_path, bal, group, v_id)\n",
    "    \n",
    "    for q_id in QA:\n",
    "        q = QA[q_id]\n",
    "        \n",
    "        # objwhat general they're different but its ok\n",
    "        if getTemp(q) == 'objWhatGeneral':\n",
    "            continue\n",
    "        \n",
    "        loc = q['local']\n",
    "        direct = q['metrics']['direct_args']\n",
    "        \n",
    "        if loc != direct:\n",
    "            #print(loc, direct)\n",
    "            #print(q)\n",
    "            print(getTemp(q))"
   ]
  },
  {
   "cell_type": "code",
   "execution_count": null,
   "metadata": {},
   "outputs": [],
   "source": []
  },
  {
   "cell_type": "code",
   "execution_count": null,
   "metadata": {},
   "outputs": [],
   "source": []
  },
  {
   "cell_type": "code",
   "execution_count": null,
   "metadata": {},
   "outputs": [],
   "source": []
  }
 ],
 "metadata": {
  "kernelspec": {
   "display_name": "Python 3",
   "language": "python",
   "name": "python3"
  },
  "language_info": {
   "codemirror_mode": {
    "name": "ipython",
    "version": 3
   },
   "file_extension": ".py",
   "mimetype": "text/x-python",
   "name": "python",
   "nbconvert_exporter": "python",
   "pygments_lexer": "ipython3",
   "version": "3.7.6"
  }
 },
 "nbformat": 4,
 "nbformat_minor": 4
}
