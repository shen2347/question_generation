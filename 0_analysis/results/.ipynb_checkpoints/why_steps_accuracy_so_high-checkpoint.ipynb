{
 "cells": [
  {
   "cell_type": "code",
   "execution_count": 1,
   "metadata": {},
   "outputs": [],
   "source": [
    "import json"
   ]
  },
  {
   "cell_type": "code",
   "execution_count": 7,
   "metadata": {},
   "outputs": [],
   "source": [
    "with open('../../../exports/dataset/results/steps_agqa_preds/preds_psac.json', 'r') as f:\n",
    "    preds = json.load(f)\n"
   ]
  },
  {
   "cell_type": "code",
   "execution_count": 9,
   "metadata": {},
   "outputs": [
    {
     "data": {
      "text/plain": [
       "{'index': 0,\n",
       " 'csv_q_id': 'YSKX3-1690',\n",
       " 'id': 0,\n",
       " 'question': 'After tidying up the object they were in front of, did they interact with some food?',\n",
       " 'prediction': 'Yes',\n",
       " 'answer': 'No',\n",
       " 'prediction_success': False}"
      ]
     },
     "execution_count": 9,
     "metadata": {},
     "output_type": "execute_result"
    }
   ],
   "source": [
    "preds[0]"
   ]
  },
  {
   "cell_type": "code",
   "execution_count": 10,
   "metadata": {},
   "outputs": [],
   "source": [
    "# step 1: put into by video\n",
    "by_v = {}\n",
    "\n",
    "for p in preds:\n",
    "    v_id = p['csv_q_id'][:5]\n",
    "    if v_id not in by_v:\n",
    "        by_v[v_id] = []\n",
    "    by_v[v_id].append(p)"
   ]
  },
  {
   "cell_type": "code",
   "execution_count": 11,
   "metadata": {},
   "outputs": [],
   "source": [
    "# step 2: go through each videoqs and get the num steps per question also the template\n",
    "for v in by_v:\n",
    "    ps = by_v[v]\n",
    "    \n",
    "    with open('../../../exports/dataset/balanced/test/%s.txt' % v, 'r') as f:\n",
    "        QA = json.load(f)\n",
    "    \n",
    "    for p in ps:\n",
    "        q_id = p['csv_q_id']\n",
    "        q = QA[q_id]\n",
    "        \n",
    "        p['steps'] = q['steps']\n",
    "        p['type'] = q['attributes']['type']\n",
    "        \n",
    "\n"
   ]
  },
  {
   "cell_type": "code",
   "execution_count": null,
   "metadata": {},
   "outputs": [],
   "source": [
    "# step 3: sort by template, answer, and num steps etc\n",
    "sort = {}\n",
    "\n",
    "\n",
    "\n"
   ]
  }
 ],
 "metadata": {
  "kernelspec": {
   "display_name": "Python 3",
   "language": "python",
   "name": "python3"
  },
  "language_info": {
   "codemirror_mode": {
    "name": "ipython",
    "version": 3
   },
   "file_extension": ".py",
   "mimetype": "text/x-python",
   "name": "python",
   "nbconvert_exporter": "python",
   "pygments_lexer": "ipython3",
   "version": "3.7.6"
  }
 },
 "nbformat": 4,
 "nbformat_minor": 4
}
